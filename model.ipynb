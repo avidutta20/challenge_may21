{
  "nbformat": 4,
  "nbformat_minor": 0,
  "metadata": {
    "colab": {
      "name": "model.ipynb",
      "provenance": [],
      "authorship_tag": "ABX9TyNxdoXNreKpQV6JRL5o1ZpF"
    },
    "kernelspec": {
      "name": "python3",
      "display_name": "Python 3"
    },
    "language_info": {
      "name": "python"
    }
  },
  "cells": [
    {
      "cell_type": "code",
      "metadata": {
        "id": "nMZwLWfkdGJM"
      },
      "source": [
        "import pandas as pd\n",
        "import numpy as np\n",
        "from sklearn.model_selection import train_test_split\n",
        "from sklearn.ensemble import RandomForestClassifier\n",
        "import os, sys\n",
        "from collections import defaultdict\n",
        "from sklearn.metrics import accuracy_score, roc_auc_score, confusion_matrix, plot_roc_curve,plot_confusion_matrix\n",
        "import matplotlib\n",
        "from matplotlib import pyplot as plt\n",
        "import scipy"
      ],
      "execution_count": 135,
      "outputs": []
    },
    {
      "cell_type": "code",
      "metadata": {
        "id": "HcQMmj29dK9a",
        "colab": {
          "base_uri": "https://localhost:8080/"
        },
        "outputId": "a625ba6e-1ec9-4a1e-b674-131d3b554d01"
      },
      "source": [
        "!git clone https://github.com/avidutta20/challenge_may21"
      ],
      "execution_count": 100,
      "outputs": [
        {
          "output_type": "stream",
          "text": [
            "fatal: destination path 'challenge_may21' already exists and is not an empty directory.\n"
          ],
          "name": "stdout"
        }
      ]
    },
    {
      "cell_type": "code",
      "metadata": {
        "id": "haRwSb0mPy_G"
      },
      "source": [
        "os.chdir('/content/challenge_may21/')"
      ],
      "execution_count": 101,
      "outputs": []
    },
    {
      "cell_type": "code",
      "metadata": {
        "id": "plg9bXaRehuG"
      },
      "source": [
        "def load_data():\n",
        "    pass\n",
        "df = pd.read_csv('dataset/av_jobathon_may21_train.csv')\n",
        "\n",
        "# creating a list of all trainable features name\n",
        "feature_list = df.columns[1:10]\n",
        "target = df.columns[10]  # 'Is_Lead' column name\n",
        "\n",
        "# splitting into train & test\n",
        "x_train, x_test, y_train, y_test = train_test_split(df[feature_list], df[target], test_size=0.25, random_state=25)\n"
      ],
      "execution_count": 102,
      "outputs": []
    },
    {
      "cell_type": "code",
      "metadata": {
        "id": "99SYb_kcr7bo"
      },
      "source": [
        "def checking_dataset_balance(df,feature_name, target):\n",
        "  \n",
        "  class_labels = df[target].unique()\n",
        "  total_rows = df[target].count()\n",
        "  class_dict={}\n",
        "  for label in class_labels:\n",
        "    class_dict[label] = {'value': df[target].loc[df[target]==label].count()}\n",
        "    class_dict[label]['perc'] = (df[target].loc[df[target]==label].count())/total_rows\n",
        "  return class_dict\n"
      ],
      "execution_count": 56,
      "outputs": []
    },
    {
      "cell_type": "code",
      "metadata": {
        "id": "_MPUJSWXujh4",
        "outputId": "7514a044-07ff-4eca-cec1-ddc896668a7f",
        "colab": {
          "base_uri": "https://localhost:8080/"
        }
      },
      "source": [
        "checking_dataset_balance(df,feature_list,target)"
      ],
      "execution_count": 103,
      "outputs": [
        {
          "output_type": "execute_result",
          "data": {
            "text/plain": [
              "{0: {'perc': 0.7627917387323228, 'value': 187437},\n",
              " 1: {'perc': 0.23720826126767727, 'value': 58288}}"
            ]
          },
          "metadata": {
            "tags": []
          },
          "execution_count": 103
        }
      ]
    },
    {
      "cell_type": "code",
      "metadata": {
        "id": "GVv9GYdyvWJv",
        "outputId": "3cb4e4dd-e927-4dd6-fe29-8ec8d55a4cfb",
        "colab": {
          "base_uri": "https://localhost:8080/",
          "height": 419
        }
      },
      "source": [
        "x_train"
      ],
      "execution_count": 104,
      "outputs": [
        {
          "output_type": "execute_result",
          "data": {
            "text/html": [
              "<div>\n",
              "<style scoped>\n",
              "    .dataframe tbody tr th:only-of-type {\n",
              "        vertical-align: middle;\n",
              "    }\n",
              "\n",
              "    .dataframe tbody tr th {\n",
              "        vertical-align: top;\n",
              "    }\n",
              "\n",
              "    .dataframe thead th {\n",
              "        text-align: right;\n",
              "    }\n",
              "</style>\n",
              "<table border=\"1\" class=\"dataframe\">\n",
              "  <thead>\n",
              "    <tr style=\"text-align: right;\">\n",
              "      <th></th>\n",
              "      <th>Gender</th>\n",
              "      <th>Age</th>\n",
              "      <th>Region_Code</th>\n",
              "      <th>Occupation</th>\n",
              "      <th>Channel_Code</th>\n",
              "      <th>Vintage</th>\n",
              "      <th>Credit_Product</th>\n",
              "      <th>Avg_Account_Balance</th>\n",
              "      <th>Is_Active</th>\n",
              "    </tr>\n",
              "  </thead>\n",
              "  <tbody>\n",
              "    <tr>\n",
              "      <th>188708</th>\n",
              "      <td>Male</td>\n",
              "      <td>44</td>\n",
              "      <td>RG268</td>\n",
              "      <td>Self_Employed</td>\n",
              "      <td>X3</td>\n",
              "      <td>87</td>\n",
              "      <td>No</td>\n",
              "      <td>543460</td>\n",
              "      <td>No</td>\n",
              "    </tr>\n",
              "    <tr>\n",
              "      <th>17007</th>\n",
              "      <td>Female</td>\n",
              "      <td>50</td>\n",
              "      <td>RG252</td>\n",
              "      <td>Self_Employed</td>\n",
              "      <td>X2</td>\n",
              "      <td>69</td>\n",
              "      <td>No</td>\n",
              "      <td>891895</td>\n",
              "      <td>Yes</td>\n",
              "    </tr>\n",
              "    <tr>\n",
              "      <th>109929</th>\n",
              "      <td>Male</td>\n",
              "      <td>77</td>\n",
              "      <td>RG284</td>\n",
              "      <td>Other</td>\n",
              "      <td>X3</td>\n",
              "      <td>81</td>\n",
              "      <td>No</td>\n",
              "      <td>1163416</td>\n",
              "      <td>No</td>\n",
              "    </tr>\n",
              "    <tr>\n",
              "      <th>81455</th>\n",
              "      <td>Male</td>\n",
              "      <td>74</td>\n",
              "      <td>RG283</td>\n",
              "      <td>Other</td>\n",
              "      <td>X1</td>\n",
              "      <td>14</td>\n",
              "      <td>No</td>\n",
              "      <td>1720031</td>\n",
              "      <td>No</td>\n",
              "    </tr>\n",
              "    <tr>\n",
              "      <th>77866</th>\n",
              "      <td>Female</td>\n",
              "      <td>25</td>\n",
              "      <td>RG283</td>\n",
              "      <td>Other</td>\n",
              "      <td>X1</td>\n",
              "      <td>21</td>\n",
              "      <td>No</td>\n",
              "      <td>1489690</td>\n",
              "      <td>Yes</td>\n",
              "    </tr>\n",
              "    <tr>\n",
              "      <th>...</th>\n",
              "      <td>...</td>\n",
              "      <td>...</td>\n",
              "      <td>...</td>\n",
              "      <td>...</td>\n",
              "      <td>...</td>\n",
              "      <td>...</td>\n",
              "      <td>...</td>\n",
              "      <td>...</td>\n",
              "      <td>...</td>\n",
              "    </tr>\n",
              "    <tr>\n",
              "      <th>130365</th>\n",
              "      <td>Female</td>\n",
              "      <td>68</td>\n",
              "      <td>RG254</td>\n",
              "      <td>Other</td>\n",
              "      <td>X3</td>\n",
              "      <td>93</td>\n",
              "      <td>No</td>\n",
              "      <td>2039817</td>\n",
              "      <td>Yes</td>\n",
              "    </tr>\n",
              "    <tr>\n",
              "      <th>92303</th>\n",
              "      <td>Female</td>\n",
              "      <td>34</td>\n",
              "      <td>RG284</td>\n",
              "      <td>Salaried</td>\n",
              "      <td>X1</td>\n",
              "      <td>20</td>\n",
              "      <td>No</td>\n",
              "      <td>873268</td>\n",
              "      <td>Yes</td>\n",
              "    </tr>\n",
              "    <tr>\n",
              "      <th>6618</th>\n",
              "      <td>Male</td>\n",
              "      <td>28</td>\n",
              "      <td>RG253</td>\n",
              "      <td>Other</td>\n",
              "      <td>X1</td>\n",
              "      <td>26</td>\n",
              "      <td>No</td>\n",
              "      <td>1186040</td>\n",
              "      <td>Yes</td>\n",
              "    </tr>\n",
              "    <tr>\n",
              "      <th>90430</th>\n",
              "      <td>Female</td>\n",
              "      <td>50</td>\n",
              "      <td>RG284</td>\n",
              "      <td>Salaried</td>\n",
              "      <td>X2</td>\n",
              "      <td>55</td>\n",
              "      <td>NaN</td>\n",
              "      <td>1649000</td>\n",
              "      <td>Yes</td>\n",
              "    </tr>\n",
              "    <tr>\n",
              "      <th>29828</th>\n",
              "      <td>Female</td>\n",
              "      <td>31</td>\n",
              "      <td>RG255</td>\n",
              "      <td>Salaried</td>\n",
              "      <td>X1</td>\n",
              "      <td>25</td>\n",
              "      <td>No</td>\n",
              "      <td>1309430</td>\n",
              "      <td>No</td>\n",
              "    </tr>\n",
              "  </tbody>\n",
              "</table>\n",
              "<p>184293 rows × 9 columns</p>\n",
              "</div>"
            ],
            "text/plain": [
              "        Gender  Age Region_Code  ... Credit_Product Avg_Account_Balance  Is_Active\n",
              "188708    Male   44       RG268  ...             No              543460         No\n",
              "17007   Female   50       RG252  ...             No              891895        Yes\n",
              "109929    Male   77       RG284  ...             No             1163416         No\n",
              "81455     Male   74       RG283  ...             No             1720031         No\n",
              "77866   Female   25       RG283  ...             No             1489690        Yes\n",
              "...        ...  ...         ...  ...            ...                 ...        ...\n",
              "130365  Female   68       RG254  ...             No             2039817        Yes\n",
              "92303   Female   34       RG284  ...             No              873268        Yes\n",
              "6618      Male   28       RG253  ...             No             1186040        Yes\n",
              "90430   Female   50       RG284  ...            NaN             1649000        Yes\n",
              "29828   Female   31       RG255  ...             No             1309430         No\n",
              "\n",
              "[184293 rows x 9 columns]"
            ]
          },
          "metadata": {
            "tags": []
          },
          "execution_count": 104
        }
      ]
    },
    {
      "cell_type": "code",
      "metadata": {
        "id": "3fMBaZ_khDH5"
      },
      "source": [
        "def execute_process(dframe, colname,func,arg1):\n",
        "    dframe[colname] = dframe[colname].apply(lambda x: func(x,arg1))\n",
        "    return dframe\n",
        "def extract_process(value,index):\n",
        "    value = int(value[index:])\n",
        "    return value\n",
        "\n",
        "def replace_values(value, value_dic):\n",
        "    # replaces any value in the dframe colname with given dict\n",
        "    return value_dic[value]\n",
        "\n",
        "def default_value():\n",
        "    return 0"
      ],
      "execution_count": 105,
      "outputs": []
    },
    {
      "cell_type": "code",
      "metadata": {
        "id": "tQDpbNc7_zVe",
        "outputId": "ac67d9b1-b196-4b28-d92b-0aa7e578aa4a",
        "colab": {
          "base_uri": "https://localhost:8080/"
        }
      },
      "source": [
        "# checking skewness\n",
        "scipy.stats.skew(x_train['Avg_Account_Balance_std'])"
      ],
      "execution_count": 139,
      "outputs": [
        {
          "output_type": "execute_result",
          "data": {
            "text/plain": [
              "2.975740857052575"
            ]
          },
          "metadata": {
            "tags": []
          },
          "execution_count": 139
        }
      ]
    },
    {
      "cell_type": "code",
      "metadata": {
        "id": "o06JDt3LEKrp",
        "outputId": "423df138-0795-482c-aa25-b0584e84cd10",
        "colab": {
          "base_uri": "https://localhost:8080/",
          "height": 282
        }
      },
      "source": [
        "#log_transforming\n",
        "def log_transform(x):\n",
        "  result = 0.0\n",
        "  if x!=0:\n",
        "    result = np.log(x)\n",
        "  else:\n",
        "    result = np.log(0.00001)\n",
        "  return result\n",
        "\n",
        "x_train['Avg_Account_Balance_log'] = x_train['Avg_Account_Balance'].apply(lambda x: log_transform(x))\n",
        "x_train['Avg_Account_Balance_log'].plot.kde()"
      ],
      "execution_count": 144,
      "outputs": [
        {
          "output_type": "execute_result",
          "data": {
            "text/plain": [
              "<matplotlib.axes._subplots.AxesSubplot at 0x7fc58dc06a50>"
            ]
          },
          "metadata": {
            "tags": []
          },
          "execution_count": 144
        },
        {
          "output_type": "display_data",
          "data": {
            "image/png": "[encoded data removed]",
            "text/plain": [
              "<Figure size 432x288 with 1 Axes>"
            ]
          },
          "metadata": {
            "tags": [],
            "needs_background": "light"
          }
        }
      ]
    },
    {
      "cell_type": "code",
      "metadata": {
        "id": "V3Ol6u8qFfe5",
        "outputId": "97fc51b3-b5c2-4a5f-d94f-2d8d03013c2f",
        "colab": {
          "base_uri": "https://localhost:8080/"
        }
      },
      "source": [
        "scipy.stats.skew(x_train['Avg_Account_Balance_log'])"
      ],
      "execution_count": 145,
      "outputs": [
        {
          "output_type": "execute_result",
          "data": {
            "text/plain": [
              "0.23654555482098255"
            ]
          },
          "metadata": {
            "tags": []
          },
          "execution_count": 145
        }
      ]
    },
    {
      "cell_type": "code",
      "metadata": {
        "id": "rgfph7rACpM1",
        "outputId": "6e79595f-c68f-4f59-8512-1ed17bb2574d",
        "colab": {
          "base_uri": "https://localhost:8080/",
          "height": 282
        }
      },
      "source": [
        "# Age\n",
        "x_train['Age'].plot.kde()"
      ],
      "execution_count": 146,
      "outputs": [
        {
          "output_type": "execute_result",
          "data": {
            "text/plain": [
              "<matplotlib.axes._subplots.AxesSubplot at 0x7fc58d3a96d0>"
            ]
          },
          "metadata": {
            "tags": []
          },
          "execution_count": 146
        },
        {
          "output_type": "display_data",
          "data": {
            "image/png": "[encoded data removed]",
            "text/plain": [
              "<Figure size 432x288 with 1 Axes>"
            ]
          },
          "metadata": {
            "tags": [],
            "needs_background": "light"
          }
        }
      ]
    },
    {
      "cell_type": "code",
      "metadata": {
        "id": "dvhJBDRzGKex",
        "outputId": "434208e7-2724-4430-de38-9bcd0d6fa69c",
        "colab": {
          "base_uri": "https://localhost:8080/",
          "height": 284
        }
      },
      "source": [
        "x_train['Region_Code'].plot.kde()"
      ],
      "execution_count": 151,
      "outputs": [
        {
          "output_type": "execute_result",
          "data": {
            "text/plain": [
              "<matplotlib.axes._subplots.AxesSubplot at 0x7fc58db51f10>"
            ]
          },
          "metadata": {
            "tags": []
          },
          "execution_count": 151
        },
        {
          "output_type": "display_data",
          "data": {
            "image/png": "[encoded data removed]",
            "text/plain": [
              "<Figure size 432x288 with 1 Axes>"
            ]
          },
          "metadata": {
            "tags": [],
            "needs_background": "light"
          }
        }
      ]
    },
    {
      "cell_type": "code",
      "metadata": {
        "id": "Q4Ybx9XXG6zJ",
        "outputId": "1c7f9f93-5c9b-4e35-c2f9-7a2de0c4722e",
        "colab": {
          "base_uri": "https://localhost:8080/",
          "height": 282
        }
      },
      "source": [
        "x_train['Channel_Code'].plot.kde()"
      ],
      "execution_count": 152,
      "outputs": [
        {
          "output_type": "execute_result",
          "data": {
            "text/plain": [
              "<matplotlib.axes._subplots.AxesSubplot at 0x7fc58db13b50>"
            ]
          },
          "metadata": {
            "tags": []
          },
          "execution_count": 152
        },
        {
          "output_type": "display_data",
          "data": {
            "image/png": "[encoded data removed]",
            "text/plain": [
              "<Figure size 432x288 with 1 Axes>"
            ]
          },
          "metadata": {
            "tags": [],
            "needs_background": "light"
          }
        }
      ]
    },
    {
      "cell_type": "code",
      "metadata": {
        "id": "FgKt-MhI_NCB",
        "outputId": "e4790e7a-7d56-46a4-e5c8-bed9c81ffbde",
        "colab": {
          "base_uri": "https://localhost:8080/",
          "height": 306
        }
      },
      "source": [
        "x_train['Avg_Account_Balance'].plot.kde()"
      ],
      "execution_count": 132,
      "outputs": [
        {
          "output_type": "execute_result",
          "data": {
            "text/plain": [
              "<matplotlib.axes._subplots.AxesSubplot at 0x7fc58df75bd0>"
            ]
          },
          "metadata": {
            "tags": []
          },
          "execution_count": 132
        },
        {
          "output_type": "display_data",
          "data": {
            "image/png": "[encoded data removed]",
            "text/plain": [
              "<Figure size 432x288 with 1 Axes>"
            ]
          },
          "metadata": {
            "tags": [],
            "needs_background": "light"
          }
        }
      ]
    },
    {
      "cell_type": "code",
      "metadata": {
        "id": "ZJv4wUJ8_V13",
        "outputId": "a7e72366-9491-45ee-da08-aa31a4ef5087",
        "colab": {
          "base_uri": "https://localhost:8080/",
          "height": 282
        }
      },
      "source": [
        "x_train['Avg_Account_Balance_Norm'].plot.kde()"
      ],
      "execution_count": 134,
      "outputs": [
        {
          "output_type": "execute_result",
          "data": {
            "text/plain": [
              "<matplotlib.axes._subplots.AxesSubplot at 0x7fc58de5af50>"
            ]
          },
          "metadata": {
            "tags": []
          },
          "execution_count": 134
        },
        {
          "output_type": "display_data",
          "data": {
            "image/png": "[encoded data removed]",
            "text/plain": [
              "<Figure size 432x288 with 1 Axes>"
            ]
          },
          "metadata": {
            "tags": [],
            "needs_background": "light"
          }
        }
      ]
    },
    {
      "cell_type": "code",
      "metadata": {
        "id": "Wd2VFjE4_CaH",
        "outputId": "645f563f-bb4e-4b7e-bc15-2e26eef94eff",
        "colab": {
          "base_uri": "https://localhost:8080/",
          "height": 282
        }
      },
      "source": [
        "x_train['Avg_Account_Balance_std'].plot.kde()"
      ],
      "execution_count": 131,
      "outputs": [
        {
          "output_type": "execute_result",
          "data": {
            "text/plain": [
              "<matplotlib.axes._subplots.AxesSubplot at 0x7fc58e802750>"
            ]
          },
          "metadata": {
            "tags": []
          },
          "execution_count": 131
        },
        {
          "output_type": "display_data",
          "data": {
            "image/png": "[encoded data removed]",
            "text/plain": [
              "<Figure size 432x288 with 1 Axes>"
            ]
          },
          "metadata": {
            "tags": [],
            "needs_background": "light"
          }
        }
      ]
    },
    {
      "cell_type": "code",
      "metadata": {
        "id": "oVS2nwpw1DS4",
        "outputId": "2db9cb71-e609-49d5-de26-2748e8e9f3c9",
        "colab": {
          "base_uri": "https://localhost:8080/",
          "height": 979
        }
      },
      "source": [
        "plt.hist(x_train['Avg_Account_Balance_std'],bins=100,histtype='step')"
      ],
      "execution_count": 125,
      "outputs": [
        {
          "output_type": "execute_result",
          "data": {
            "text/plain": [
              "(array([1.4100e+02, 1.5170e+03, 5.4650e+03, 1.1525e+04, 1.6020e+04,\n",
              "        1.7707e+04, 1.7142e+04, 1.5881e+04, 1.3875e+04, 1.1983e+04,\n",
              "        1.0511e+04, 8.6650e+03, 7.4540e+03, 6.3250e+03, 5.3200e+03,\n",
              "        4.6770e+03, 3.7520e+03, 3.3490e+03, 2.9040e+03, 2.4720e+03,\n",
              "        2.0300e+03, 1.7570e+03, 1.3600e+03, 1.3150e+03, 1.1370e+03,\n",
              "        1.0430e+03, 8.5200e+02, 8.1000e+02, 6.7600e+02, 5.9000e+02,\n",
              "        5.5100e+02, 4.4900e+02, 4.0700e+02, 4.1500e+02, 3.4600e+02,\n",
              "        3.0600e+02, 3.1200e+02, 2.8500e+02, 3.2600e+02, 2.3600e+02,\n",
              "        1.9100e+02, 1.8200e+02, 1.5000e+02, 1.1700e+02, 1.2000e+02,\n",
              "        1.0100e+02, 9.3000e+01, 8.1000e+01, 7.6000e+01, 8.1000e+01,\n",
              "        7.0000e+01, 7.0000e+01, 5.5000e+01, 6.4000e+01, 5.2000e+01,\n",
              "        5.7000e+01, 7.1000e+01, 4.0000e+01, 4.1000e+01, 5.3000e+01,\n",
              "        4.0000e+01, 3.0000e+01, 3.6000e+01, 4.0000e+01, 2.4000e+01,\n",
              "        2.9000e+01, 2.7000e+01, 3.9000e+01, 2.4000e+01, 2.1000e+01,\n",
              "        3.3000e+01, 2.7000e+01, 1.5000e+01, 3.7000e+01, 1.9000e+01,\n",
              "        3.9000e+01, 2.5000e+01, 8.0000e+00, 1.3000e+01, 1.0000e+01,\n",
              "        1.3000e+01, 1.1000e+01, 1.6000e+01, 9.0000e+00, 1.3000e+01,\n",
              "        3.0000e+00, 9.0000e+00, 1.3000e+01, 4.0000e+00, 6.0000e+00,\n",
              "        2.0000e+00, 2.0000e+00, 2.0000e+00, 0.0000e+00, 0.0000e+00,\n",
              "        0.0000e+00, 0.0000e+00, 0.0000e+00, 0.0000e+00, 1.0000e+00]),\n",
              " array([-1.29551885, -1.17493768, -1.05435651, -0.93377534, -0.81319417,\n",
              "        -0.692613  , -0.57203183, -0.45145066, -0.33086949, -0.21028832,\n",
              "        -0.08970715,  0.03087402,  0.15145519,  0.27203636,  0.39261753,\n",
              "         0.5131987 ,  0.63377987,  0.75436104,  0.87494221,  0.99552338,\n",
              "         1.11610455,  1.23668572,  1.35726689,  1.47784806,  1.59842923,\n",
              "         1.7190104 ,  1.83959157,  1.96017274,  2.08075391,  2.20133508,\n",
              "         2.32191625,  2.44249742,  2.56307859,  2.68365976,  2.80424093,\n",
              "         2.9248221 ,  3.04540327,  3.16598444,  3.28656561,  3.40714678,\n",
              "         3.52772795,  3.64830912,  3.76889029,  3.88947146,  4.01005263,\n",
              "         4.1306338 ,  4.25121497,  4.37179614,  4.49237731,  4.61295848,\n",
              "         4.73353965,  4.85412082,  4.97470199,  5.09528316,  5.21586433,\n",
              "         5.3364455 ,  5.45702667,  5.57760784,  5.69818901,  5.81877018,\n",
              "         5.93935135,  6.05993252,  6.18051369,  6.30109486,  6.42167603,\n",
              "         6.5422572 ,  6.66283837,  6.78341954,  6.90400071,  7.02458188,\n",
              "         7.14516305,  7.26574422,  7.38632539,  7.50690656,  7.62748773,\n",
              "         7.7480689 ,  7.86865007,  7.98923124,  8.10981241,  8.23039358,\n",
              "         8.35097475,  8.47155592,  8.59213709,  8.71271826,  8.83329943,\n",
              "         8.9538806 ,  9.07446177,  9.19504294,  9.31562411,  9.43620528,\n",
              "         9.55678645,  9.67736762,  9.79794879,  9.91852996, 10.03911113,\n",
              "        10.1596923 , 10.28027347, 10.40085464, 10.52143581, 10.64201698,\n",
              "        10.76259815]),\n",
              " <a list of 1 Patch objects>)"
            ]
          },
          "metadata": {
            "tags": []
          },
          "execution_count": 125
        },
        {
          "output_type": "display_data",
          "data": {
            "image/png": "[encoded data removed]",
            "text/plain": [
              "<Figure size 432x288 with 1 Axes>"
            ]
          },
          "metadata": {
            "tags": [],
            "needs_background": "light"
          }
        }
      ]
    },
    {
      "cell_type": "code",
      "metadata": {
        "id": "eEWLgk2Y1tQY"
      },
      "source": [
        "from sklearn.preprocessing import StandardScaler, MinMaxScaler"
      ],
      "execution_count": 109,
      "outputs": []
    },
    {
      "cell_type": "code",
      "metadata": {
        "id": "DM-id2KV3VLT",
        "outputId": "b612b5eb-0c36-441a-a9e8-4707862a9367",
        "colab": {
          "base_uri": "https://localhost:8080/"
        }
      },
      "source": [
        "normalize = MinMaxScaler()\n",
        "array = np.asanyarray(x_train['Avg_Account_Balance'])\n",
        "array = array.reshape(-1,1)\n",
        "array_norm = normalize.fit_transform(array)\n",
        "std_scaler = StandardScaler()\n",
        "array_std = std_scaler.fit_transform(array)\n",
        "\n",
        "array_norm"
      ],
      "execution_count": 121,
      "outputs": [
        {
          "output_type": "execute_result",
          "data": {
            "text/plain": [
              "array([[0.05059132],\n",
              "       [0.08431774],\n",
              "       [0.11059934],\n",
              "       ...,\n",
              "       [0.11278921],\n",
              "       [0.15760096],\n",
              "       [0.12473262]])"
            ]
          },
          "metadata": {
            "tags": []
          },
          "execution_count": 121
        }
      ]
    },
    {
      "cell_type": "code",
      "metadata": {
        "id": "1ei4BlhT90cl"
      },
      "source": [
        ""
      ],
      "execution_count": null,
      "outputs": []
    },
    {
      "cell_type": "code",
      "metadata": {
        "id": "6lIQSzY18zRG"
      },
      "source": [
        "x_train['Avg_Account_Balance_Norm'] = array_norm\n",
        "x_train['Avg_Account_Balance_std'] = array_std"
      ],
      "execution_count": 122,
      "outputs": []
    },
    {
      "cell_type": "code",
      "metadata": {
        "id": "-ouAYzgG83wM",
        "outputId": "5293016b-949a-4097-b76d-99311052945f",
        "colab": {
          "base_uri": "https://localhost:8080/",
          "height": 439
        }
      },
      "source": [
        "x_train"
      ],
      "execution_count": 123,
      "outputs": [
        {
          "output_type": "execute_result",
          "data": {
            "text/html": [
              "<div>\n",
              "<style scoped>\n",
              "    .dataframe tbody tr th:only-of-type {\n",
              "        vertical-align: middle;\n",
              "    }\n",
              "\n",
              "    .dataframe tbody tr th {\n",
              "        vertical-align: top;\n",
              "    }\n",
              "\n",
              "    .dataframe thead th {\n",
              "        text-align: right;\n",
              "    }\n",
              "</style>\n",
              "<table border=\"1\" class=\"dataframe\">\n",
              "  <thead>\n",
              "    <tr style=\"text-align: right;\">\n",
              "      <th></th>\n",
              "      <th>Gender</th>\n",
              "      <th>Age</th>\n",
              "      <th>Region_Code</th>\n",
              "      <th>Occupation</th>\n",
              "      <th>Channel_Code</th>\n",
              "      <th>Vintage</th>\n",
              "      <th>Credit_Product</th>\n",
              "      <th>Avg_Account_Balance</th>\n",
              "      <th>Is_Active</th>\n",
              "      <th>Avg_Account_Balance_Norm</th>\n",
              "      <th>Avg_Account_Balance_std</th>\n",
              "    </tr>\n",
              "  </thead>\n",
              "  <tbody>\n",
              "    <tr>\n",
              "      <th>188708</th>\n",
              "      <td>Male</td>\n",
              "      <td>44</td>\n",
              "      <td>RG268</td>\n",
              "      <td>Self_Employed</td>\n",
              "      <td>X3</td>\n",
              "      <td>87</td>\n",
              "      <td>No</td>\n",
              "      <td>543460</td>\n",
              "      <td>No</td>\n",
              "      <td>0.050591</td>\n",
              "      <td>-0.685483</td>\n",
              "    </tr>\n",
              "    <tr>\n",
              "      <th>17007</th>\n",
              "      <td>Female</td>\n",
              "      <td>50</td>\n",
              "      <td>RG252</td>\n",
              "      <td>Self_Employed</td>\n",
              "      <td>X2</td>\n",
              "      <td>69</td>\n",
              "      <td>No</td>\n",
              "      <td>891895</td>\n",
              "      <td>Yes</td>\n",
              "      <td>0.084318</td>\n",
              "      <td>-0.278806</td>\n",
              "    </tr>\n",
              "    <tr>\n",
              "      <th>109929</th>\n",
              "      <td>Male</td>\n",
              "      <td>77</td>\n",
              "      <td>RG284</td>\n",
              "      <td>Other</td>\n",
              "      <td>X3</td>\n",
              "      <td>81</td>\n",
              "      <td>No</td>\n",
              "      <td>1163416</td>\n",
              "      <td>No</td>\n",
              "      <td>0.110599</td>\n",
              "      <td>0.038101</td>\n",
              "    </tr>\n",
              "    <tr>\n",
              "      <th>81455</th>\n",
              "      <td>Male</td>\n",
              "      <td>74</td>\n",
              "      <td>RG283</td>\n",
              "      <td>Other</td>\n",
              "      <td>X1</td>\n",
              "      <td>14</td>\n",
              "      <td>No</td>\n",
              "      <td>1720031</td>\n",
              "      <td>No</td>\n",
              "      <td>0.164476</td>\n",
              "      <td>0.687756</td>\n",
              "    </tr>\n",
              "    <tr>\n",
              "      <th>77866</th>\n",
              "      <td>Female</td>\n",
              "      <td>25</td>\n",
              "      <td>RG283</td>\n",
              "      <td>Other</td>\n",
              "      <td>X1</td>\n",
              "      <td>21</td>\n",
              "      <td>No</td>\n",
              "      <td>1489690</td>\n",
              "      <td>Yes</td>\n",
              "      <td>0.142181</td>\n",
              "      <td>0.418913</td>\n",
              "    </tr>\n",
              "    <tr>\n",
              "      <th>...</th>\n",
              "      <td>...</td>\n",
              "      <td>...</td>\n",
              "      <td>...</td>\n",
              "      <td>...</td>\n",
              "      <td>...</td>\n",
              "      <td>...</td>\n",
              "      <td>...</td>\n",
              "      <td>...</td>\n",
              "      <td>...</td>\n",
              "      <td>...</td>\n",
              "      <td>...</td>\n",
              "    </tr>\n",
              "    <tr>\n",
              "      <th>130365</th>\n",
              "      <td>Female</td>\n",
              "      <td>68</td>\n",
              "      <td>RG254</td>\n",
              "      <td>Other</td>\n",
              "      <td>X3</td>\n",
              "      <td>93</td>\n",
              "      <td>No</td>\n",
              "      <td>2039817</td>\n",
              "      <td>Yes</td>\n",
              "      <td>0.195430</td>\n",
              "      <td>1.060995</td>\n",
              "    </tr>\n",
              "    <tr>\n",
              "      <th>92303</th>\n",
              "      <td>Female</td>\n",
              "      <td>34</td>\n",
              "      <td>RG284</td>\n",
              "      <td>Salaried</td>\n",
              "      <td>X1</td>\n",
              "      <td>20</td>\n",
              "      <td>No</td>\n",
              "      <td>873268</td>\n",
              "      <td>Yes</td>\n",
              "      <td>0.082515</td>\n",
              "      <td>-0.300546</td>\n",
              "    </tr>\n",
              "    <tr>\n",
              "      <th>6618</th>\n",
              "      <td>Male</td>\n",
              "      <td>28</td>\n",
              "      <td>RG253</td>\n",
              "      <td>Other</td>\n",
              "      <td>X1</td>\n",
              "      <td>26</td>\n",
              "      <td>No</td>\n",
              "      <td>1186040</td>\n",
              "      <td>Yes</td>\n",
              "      <td>0.112789</td>\n",
              "      <td>0.064507</td>\n",
              "    </tr>\n",
              "    <tr>\n",
              "      <th>90430</th>\n",
              "      <td>Female</td>\n",
              "      <td>50</td>\n",
              "      <td>RG284</td>\n",
              "      <td>Salaried</td>\n",
              "      <td>X2</td>\n",
              "      <td>55</td>\n",
              "      <td>NaN</td>\n",
              "      <td>1649000</td>\n",
              "      <td>Yes</td>\n",
              "      <td>0.157601</td>\n",
              "      <td>0.604852</td>\n",
              "    </tr>\n",
              "    <tr>\n",
              "      <th>29828</th>\n",
              "      <td>Female</td>\n",
              "      <td>31</td>\n",
              "      <td>RG255</td>\n",
              "      <td>Salaried</td>\n",
              "      <td>X1</td>\n",
              "      <td>25</td>\n",
              "      <td>No</td>\n",
              "      <td>1309430</td>\n",
              "      <td>No</td>\n",
              "      <td>0.124733</td>\n",
              "      <td>0.208522</td>\n",
              "    </tr>\n",
              "  </tbody>\n",
              "</table>\n",
              "<p>184293 rows × 11 columns</p>\n",
              "</div>"
            ],
            "text/plain": [
              "        Gender  Age  ... Avg_Account_Balance_Norm Avg_Account_Balance_std\n",
              "188708    Male   44  ...                 0.050591               -0.685483\n",
              "17007   Female   50  ...                 0.084318               -0.278806\n",
              "109929    Male   77  ...                 0.110599                0.038101\n",
              "81455     Male   74  ...                 0.164476                0.687756\n",
              "77866   Female   25  ...                 0.142181                0.418913\n",
              "...        ...  ...  ...                      ...                     ...\n",
              "130365  Female   68  ...                 0.195430                1.060995\n",
              "92303   Female   34  ...                 0.082515               -0.300546\n",
              "6618      Male   28  ...                 0.112789                0.064507\n",
              "90430   Female   50  ...                 0.157601                0.604852\n",
              "29828   Female   31  ...                 0.124733                0.208522\n",
              "\n",
              "[184293 rows x 11 columns]"
            ]
          },
          "metadata": {
            "tags": []
          },
          "execution_count": 123
        }
      ]
    },
    {
      "cell_type": "code",
      "metadata": {
        "id": "xlJR4GjD7PKK"
      },
      "source": [
        ""
      ],
      "execution_count": null,
      "outputs": []
    },
    {
      "cell_type": "code",
      "metadata": {
        "id": "rYm1nJDjPReG"
      },
      "source": [
        "gender_dic = is_active_dic = occupation_dic = defaultdict(default_value)\n",
        "#%%\n",
        "gender_dic = {'Male': 0,\n",
        "                'Female': 1}\n",
        "is_active_dic = {'Yes': 1,\n",
        "                 'No': 0}\n",
        "\n",
        "occupation_dic = {'Self_Employed': 1,\n",
        "                     'Other': 2,\n",
        "                     'Salaried': 3,\n",
        "                     'Entrepreneur': 4}"
      ],
      "execution_count": 60,
      "outputs": []
    },
    {
      "cell_type": "code",
      "metadata": {
        "id": "lexy3zOyikaM"
      },
      "source": [
        "def process(dframe, default_func = default_value):\n",
        "\n",
        "  gender_dic = is_active_dic = occupation_dic = defaultdict(default_value)\n",
        "  \n",
        "  gender_dic = {'Male': 0,\n",
        "                  'Female': 1}\n",
        "  is_active_dic = {'Yes': 1,\n",
        "                  'No': 0}\n",
        "\n",
        "  occupation_dic = {'Self_Employed': 1,\n",
        "                      'Other': 2,\n",
        "                      'Salaried': 3,\n",
        "                      'Entrepreneur': 4}\n",
        "\n",
        "  execute_process(dframe,'Region_Code', extract_process, 2)\n",
        "  print('Region Code Processed Successfully')\n",
        "\n",
        "  execute_process(dframe,'Channel_Code', extract_process, 1)\n",
        "  print('Channel Code Processed Successfully')\n",
        "\n",
        "  execute_process(dframe,'Gender', replace_values, gender_dic)\n",
        "  print('Gender Processed Successfully')\n",
        "\n",
        "  execute_process(dframe,'Occupation', replace_values, occupation_dic)\n",
        "  print('Occupation Processed Successfully')\n",
        "\n",
        "  execute_process(dframe,'Is_Active',replace_values, is_active_dic)\n",
        "  print('Is Active Processed Successfully')\n",
        "\n",
        "  dframe['Credit_Product'] = dframe['Credit_Product'].fillna('No')\n",
        "  execute_process(dframe,'Credit_Product',replace_values, is_active_dic)\n",
        "  return dframe"
      ],
      "execution_count": 61,
      "outputs": []
    },
    {
      "cell_type": "code",
      "metadata": {
        "id": "LwpumISiboCm",
        "outputId": "ced02991-c5b3-494c-a7c1-ba68cbf055ec",
        "colab": {
          "base_uri": "https://localhost:8080/"
        }
      },
      "source": [
        "# processing x_train\n",
        "x_train = process(x_train)\n",
        "print('X_Train processed successfully!')"
      ],
      "execution_count": 149,
      "outputs": [
        {
          "output_type": "stream",
          "text": [
            "Region Code Processed Successfully\n",
            "Channel Code Processed Successfully\n",
            "Gender Processed Successfully\n",
            "Occupation Processed Successfully\n",
            "Is Active Processed Successfully\n",
            "X_Train processed successfully!\n"
          ],
          "name": "stdout"
        }
      ]
    },
    {
      "cell_type": "code",
      "metadata": {
        "id": "URnOCBPnHr1y",
        "outputId": "a94c3914-4a4f-42dd-f3cd-d2b88e5a859c",
        "colab": {
          "base_uri": "https://localhost:8080/"
        }
      },
      "source": [
        "x_train.columns"
      ],
      "execution_count": 154,
      "outputs": [
        {
          "output_type": "execute_result",
          "data": {
            "text/plain": [
              "Index(['Gender', 'Age', 'Region_Code', 'Occupation', 'Channel_Code', 'Vintage',\n",
              "       'Credit_Product', 'Avg_Account_Balance', 'Is_Active',\n",
              "       'Avg_Account_Balance_Norm', 'Avg_Account_Balance_std',\n",
              "       'Avg_Account_Balance_log'],\n",
              "      dtype='object')"
            ]
          },
          "metadata": {
            "tags": []
          },
          "execution_count": 154
        }
      ]
    },
    {
      "cell_type": "code",
      "metadata": {
        "id": "Q60nTBXSv4cw",
        "outputId": "72201d09-240a-44fb-d39a-8913c55adfcb",
        "colab": {
          "base_uri": "https://localhost:8080/",
          "height": 439
        }
      },
      "source": [
        "x_train.columns"
      ],
      "execution_count": 150,
      "outputs": [
        {
          "output_type": "execute_result",
          "data": {
            "text/html": [
              "<div>\n",
              "<style scoped>\n",
              "    .dataframe tbody tr th:only-of-type {\n",
              "        vertical-align: middle;\n",
              "    }\n",
              "\n",
              "    .dataframe tbody tr th {\n",
              "        vertical-align: top;\n",
              "    }\n",
              "\n",
              "    .dataframe thead th {\n",
              "        text-align: right;\n",
              "    }\n",
              "</style>\n",
              "<table border=\"1\" class=\"dataframe\">\n",
              "  <thead>\n",
              "    <tr style=\"text-align: right;\">\n",
              "      <th></th>\n",
              "      <th>Gender</th>\n",
              "      <th>Age</th>\n",
              "      <th>Region_Code</th>\n",
              "      <th>Occupation</th>\n",
              "      <th>Channel_Code</th>\n",
              "      <th>Vintage</th>\n",
              "      <th>Credit_Product</th>\n",
              "      <th>Avg_Account_Balance</th>\n",
              "      <th>Is_Active</th>\n",
              "      <th>Avg_Account_Balance_Norm</th>\n",
              "      <th>Avg_Account_Balance_std</th>\n",
              "      <th>Avg_Account_Balance_log</th>\n",
              "    </tr>\n",
              "  </thead>\n",
              "  <tbody>\n",
              "    <tr>\n",
              "      <th>188708</th>\n",
              "      <td>0</td>\n",
              "      <td>44</td>\n",
              "      <td>268</td>\n",
              "      <td>1</td>\n",
              "      <td>3</td>\n",
              "      <td>87</td>\n",
              "      <td>0</td>\n",
              "      <td>543460</td>\n",
              "      <td>0</td>\n",
              "      <td>0.050591</td>\n",
              "      <td>-0.685483</td>\n",
              "      <td>13.205711</td>\n",
              "    </tr>\n",
              "    <tr>\n",
              "      <th>17007</th>\n",
              "      <td>1</td>\n",
              "      <td>50</td>\n",
              "      <td>252</td>\n",
              "      <td>1</td>\n",
              "      <td>2</td>\n",
              "      <td>69</td>\n",
              "      <td>0</td>\n",
              "      <td>891895</td>\n",
              "      <td>1</td>\n",
              "      <td>0.084318</td>\n",
              "      <td>-0.278806</td>\n",
              "      <td>13.701104</td>\n",
              "    </tr>\n",
              "    <tr>\n",
              "      <th>109929</th>\n",
              "      <td>0</td>\n",
              "      <td>77</td>\n",
              "      <td>284</td>\n",
              "      <td>2</td>\n",
              "      <td>3</td>\n",
              "      <td>81</td>\n",
              "      <td>0</td>\n",
              "      <td>1163416</td>\n",
              "      <td>0</td>\n",
              "      <td>0.110599</td>\n",
              "      <td>0.038101</td>\n",
              "      <td>13.966871</td>\n",
              "    </tr>\n",
              "    <tr>\n",
              "      <th>81455</th>\n",
              "      <td>0</td>\n",
              "      <td>74</td>\n",
              "      <td>283</td>\n",
              "      <td>2</td>\n",
              "      <td>1</td>\n",
              "      <td>14</td>\n",
              "      <td>0</td>\n",
              "      <td>1720031</td>\n",
              "      <td>0</td>\n",
              "      <td>0.164476</td>\n",
              "      <td>0.687756</td>\n",
              "      <td>14.357853</td>\n",
              "    </tr>\n",
              "    <tr>\n",
              "      <th>77866</th>\n",
              "      <td>1</td>\n",
              "      <td>25</td>\n",
              "      <td>283</td>\n",
              "      <td>2</td>\n",
              "      <td>1</td>\n",
              "      <td>21</td>\n",
              "      <td>0</td>\n",
              "      <td>1489690</td>\n",
              "      <td>1</td>\n",
              "      <td>0.142181</td>\n",
              "      <td>0.418913</td>\n",
              "      <td>14.214079</td>\n",
              "    </tr>\n",
              "    <tr>\n",
              "      <th>...</th>\n",
              "      <td>...</td>\n",
              "      <td>...</td>\n",
              "      <td>...</td>\n",
              "      <td>...</td>\n",
              "      <td>...</td>\n",
              "      <td>...</td>\n",
              "      <td>...</td>\n",
              "      <td>...</td>\n",
              "      <td>...</td>\n",
              "      <td>...</td>\n",
              "      <td>...</td>\n",
              "      <td>...</td>\n",
              "    </tr>\n",
              "    <tr>\n",
              "      <th>130365</th>\n",
              "      <td>1</td>\n",
              "      <td>68</td>\n",
              "      <td>254</td>\n",
              "      <td>2</td>\n",
              "      <td>3</td>\n",
              "      <td>93</td>\n",
              "      <td>0</td>\n",
              "      <td>2039817</td>\n",
              "      <td>1</td>\n",
              "      <td>0.195430</td>\n",
              "      <td>1.060995</td>\n",
              "      <td>14.528371</td>\n",
              "    </tr>\n",
              "    <tr>\n",
              "      <th>92303</th>\n",
              "      <td>1</td>\n",
              "      <td>34</td>\n",
              "      <td>284</td>\n",
              "      <td>3</td>\n",
              "      <td>1</td>\n",
              "      <td>20</td>\n",
              "      <td>0</td>\n",
              "      <td>873268</td>\n",
              "      <td>1</td>\n",
              "      <td>0.082515</td>\n",
              "      <td>-0.300546</td>\n",
              "      <td>13.679998</td>\n",
              "    </tr>\n",
              "    <tr>\n",
              "      <th>6618</th>\n",
              "      <td>0</td>\n",
              "      <td>28</td>\n",
              "      <td>253</td>\n",
              "      <td>2</td>\n",
              "      <td>1</td>\n",
              "      <td>26</td>\n",
              "      <td>0</td>\n",
              "      <td>1186040</td>\n",
              "      <td>1</td>\n",
              "      <td>0.112789</td>\n",
              "      <td>0.064507</td>\n",
              "      <td>13.986131</td>\n",
              "    </tr>\n",
              "    <tr>\n",
              "      <th>90430</th>\n",
              "      <td>1</td>\n",
              "      <td>50</td>\n",
              "      <td>284</td>\n",
              "      <td>3</td>\n",
              "      <td>2</td>\n",
              "      <td>55</td>\n",
              "      <td>0</td>\n",
              "      <td>1649000</td>\n",
              "      <td>1</td>\n",
              "      <td>0.157601</td>\n",
              "      <td>0.604852</td>\n",
              "      <td>14.315680</td>\n",
              "    </tr>\n",
              "    <tr>\n",
              "      <th>29828</th>\n",
              "      <td>1</td>\n",
              "      <td>31</td>\n",
              "      <td>255</td>\n",
              "      <td>3</td>\n",
              "      <td>1</td>\n",
              "      <td>25</td>\n",
              "      <td>0</td>\n",
              "      <td>1309430</td>\n",
              "      <td>0</td>\n",
              "      <td>0.124733</td>\n",
              "      <td>0.208522</td>\n",
              "      <td>14.085102</td>\n",
              "    </tr>\n",
              "  </tbody>\n",
              "</table>\n",
              "<p>184293 rows × 12 columns</p>\n",
              "</div>"
            ],
            "text/plain": [
              "        Gender  Age  ...  Avg_Account_Balance_std  Avg_Account_Balance_log\n",
              "188708       0   44  ...                -0.685483                13.205711\n",
              "17007        1   50  ...                -0.278806                13.701104\n",
              "109929       0   77  ...                 0.038101                13.966871\n",
              "81455        0   74  ...                 0.687756                14.357853\n",
              "77866        1   25  ...                 0.418913                14.214079\n",
              "...        ...  ...  ...                      ...                      ...\n",
              "130365       1   68  ...                 1.060995                14.528371\n",
              "92303        1   34  ...                -0.300546                13.679998\n",
              "6618         0   28  ...                 0.064507                13.986131\n",
              "90430        1   50  ...                 0.604852                14.315680\n",
              "29828        1   31  ...                 0.208522                14.085102\n",
              "\n",
              "[184293 rows x 12 columns]"
            ]
          },
          "metadata": {
            "tags": []
          },
          "execution_count": 150
        }
      ]
    },
    {
      "cell_type": "code",
      "metadata": {
        "id": "Zlm2cgbNIJ9K"
      },
      "source": [
        ""
      ],
      "execution_count": 159,
      "outputs": []
    },
    {
      "cell_type": "code",
      "metadata": {
        "id": "W5oMBFRhHxv_"
      },
      "source": [
        "x_train = x_train[['Gender', 'Age', 'Region_Code', 'Occupation', 'Channel_Code', 'Vintage','Credit_Product', 'Is_Active','Avg_Account_Balance_log']]"
      ],
      "execution_count": 160,
      "outputs": []
    },
    {
      "cell_type": "code",
      "metadata": {
        "id": "jslfO7l6xZOt",
        "outputId": "9171a600-a008-47d4-8a2b-721a56512316",
        "colab": {
          "base_uri": "https://localhost:8080/"
        }
      },
      "source": [
        "# processing df matrix\n",
        "df_processed = process(df)"
      ],
      "execution_count": 69,
      "outputs": [
        {
          "output_type": "stream",
          "text": [
            "Region Code Processed Successfully\n",
            "Channel Code Processed Successfully\n",
            "Gender Processed Successfully\n",
            "Occupation Processed Successfully\n",
            "Is Active Processed Successfully\n"
          ],
          "name": "stdout"
        }
      ]
    },
    {
      "cell_type": "code",
      "metadata": {
        "id": "JHuroETwxmBC",
        "outputId": "cff28e50-a11a-4f2e-d72f-6d518fc35aa6",
        "colab": {
          "base_uri": "https://localhost:8080/",
          "height": 379
        }
      },
      "source": [
        "corr_mat_process = df_processed.corr(method = 'kendall')\n",
        "corr_mat_process"
      ],
      "execution_count": 72,
      "outputs": [
        {
          "output_type": "execute_result",
          "data": {
            "text/html": [
              "<div>\n",
              "<style scoped>\n",
              "    .dataframe tbody tr th:only-of-type {\n",
              "        vertical-align: middle;\n",
              "    }\n",
              "\n",
              "    .dataframe tbody tr th {\n",
              "        vertical-align: top;\n",
              "    }\n",
              "\n",
              "    .dataframe thead th {\n",
              "        text-align: right;\n",
              "    }\n",
              "</style>\n",
              "<table border=\"1\" class=\"dataframe\">\n",
              "  <thead>\n",
              "    <tr style=\"text-align: right;\">\n",
              "      <th></th>\n",
              "      <th>Gender</th>\n",
              "      <th>Age</th>\n",
              "      <th>Region_Code</th>\n",
              "      <th>Occupation</th>\n",
              "      <th>Channel_Code</th>\n",
              "      <th>Vintage</th>\n",
              "      <th>Credit_Product</th>\n",
              "      <th>Avg_Account_Balance</th>\n",
              "      <th>Is_Active</th>\n",
              "      <th>Is_Lead</th>\n",
              "    </tr>\n",
              "  </thead>\n",
              "  <tbody>\n",
              "    <tr>\n",
              "      <th>Gender</th>\n",
              "      <td>1.000000</td>\n",
              "      <td>-0.137508</td>\n",
              "      <td>-0.004632</td>\n",
              "      <td>0.104199</td>\n",
              "      <td>-0.149257</td>\n",
              "      <td>-0.113707</td>\n",
              "      <td>-0.042976</td>\n",
              "      <td>-0.027412</td>\n",
              "      <td>-0.064207</td>\n",
              "      <td>-0.072068</td>\n",
              "    </tr>\n",
              "    <tr>\n",
              "      <th>Age</th>\n",
              "      <td>-0.137508</td>\n",
              "      <td>1.000000</td>\n",
              "      <td>0.088536</td>\n",
              "      <td>-0.308852</td>\n",
              "      <td>0.537316</td>\n",
              "      <td>0.477790</td>\n",
              "      <td>0.116510</td>\n",
              "      <td>0.121379</td>\n",
              "      <td>0.190050</td>\n",
              "      <td>0.210291</td>\n",
              "    </tr>\n",
              "    <tr>\n",
              "      <th>Region_Code</th>\n",
              "      <td>-0.004632</td>\n",
              "      <td>0.088536</td>\n",
              "      <td>1.000000</td>\n",
              "      <td>-0.059550</td>\n",
              "      <td>0.086861</td>\n",
              "      <td>0.078055</td>\n",
              "      <td>0.039581</td>\n",
              "      <td>0.074180</td>\n",
              "      <td>0.053643</td>\n",
              "      <td>0.052850</td>\n",
              "    </tr>\n",
              "    <tr>\n",
              "      <th>Occupation</th>\n",
              "      <td>0.104199</td>\n",
              "      <td>-0.308852</td>\n",
              "      <td>-0.059550</td>\n",
              "      <td>1.000000</td>\n",
              "      <td>-0.418543</td>\n",
              "      <td>-0.253667</td>\n",
              "      <td>-0.083320</td>\n",
              "      <td>-0.038388</td>\n",
              "      <td>-0.190832</td>\n",
              "      <td>-0.082285</td>\n",
              "    </tr>\n",
              "    <tr>\n",
              "      <th>Channel_Code</th>\n",
              "      <td>-0.149257</td>\n",
              "      <td>0.537316</td>\n",
              "      <td>0.086861</td>\n",
              "      <td>-0.418543</td>\n",
              "      <td>1.000000</td>\n",
              "      <td>0.424287</td>\n",
              "      <td>0.170236</td>\n",
              "      <td>0.107507</td>\n",
              "      <td>0.246361</td>\n",
              "      <td>0.257632</td>\n",
              "    </tr>\n",
              "    <tr>\n",
              "      <th>Vintage</th>\n",
              "      <td>-0.113707</td>\n",
              "      <td>0.477790</td>\n",
              "      <td>0.078055</td>\n",
              "      <td>-0.253667</td>\n",
              "      <td>0.424287</td>\n",
              "      <td>1.000000</td>\n",
              "      <td>0.062388</td>\n",
              "      <td>0.134562</td>\n",
              "      <td>0.150924</td>\n",
              "      <td>0.208096</td>\n",
              "    </tr>\n",
              "    <tr>\n",
              "      <th>Credit_Product</th>\n",
              "      <td>-0.042976</td>\n",
              "      <td>0.116510</td>\n",
              "      <td>0.039581</td>\n",
              "      <td>-0.083320</td>\n",
              "      <td>0.170236</td>\n",
              "      <td>0.062388</td>\n",
              "      <td>1.000000</td>\n",
              "      <td>0.054118</td>\n",
              "      <td>-0.110699</td>\n",
              "      <td>0.117709</td>\n",
              "    </tr>\n",
              "    <tr>\n",
              "      <th>Avg_Account_Balance</th>\n",
              "      <td>-0.027412</td>\n",
              "      <td>0.121379</td>\n",
              "      <td>0.074180</td>\n",
              "      <td>-0.038388</td>\n",
              "      <td>0.107507</td>\n",
              "      <td>0.134562</td>\n",
              "      <td>0.054118</td>\n",
              "      <td>1.000000</td>\n",
              "      <td>0.073453</td>\n",
              "      <td>0.063248</td>\n",
              "    </tr>\n",
              "    <tr>\n",
              "      <th>Is_Active</th>\n",
              "      <td>-0.064207</td>\n",
              "      <td>0.190050</td>\n",
              "      <td>0.053643</td>\n",
              "      <td>-0.190832</td>\n",
              "      <td>0.246361</td>\n",
              "      <td>0.150924</td>\n",
              "      <td>-0.110699</td>\n",
              "      <td>0.073453</td>\n",
              "      <td>1.000000</td>\n",
              "      <td>0.085723</td>\n",
              "    </tr>\n",
              "    <tr>\n",
              "      <th>Is_Lead</th>\n",
              "      <td>-0.072068</td>\n",
              "      <td>0.210291</td>\n",
              "      <td>0.052850</td>\n",
              "      <td>-0.082285</td>\n",
              "      <td>0.257632</td>\n",
              "      <td>0.208096</td>\n",
              "      <td>0.117709</td>\n",
              "      <td>0.063248</td>\n",
              "      <td>0.085723</td>\n",
              "      <td>1.000000</td>\n",
              "    </tr>\n",
              "  </tbody>\n",
              "</table>\n",
              "</div>"
            ],
            "text/plain": [
              "                       Gender       Age  ...  Is_Active   Is_Lead\n",
              "Gender               1.000000 -0.137508  ...  -0.064207 -0.072068\n",
              "Age                 -0.137508  1.000000  ...   0.190050  0.210291\n",
              "Region_Code         -0.004632  0.088536  ...   0.053643  0.052850\n",
              "Occupation           0.104199 -0.308852  ...  -0.190832 -0.082285\n",
              "Channel_Code        -0.149257  0.537316  ...   0.246361  0.257632\n",
              "Vintage             -0.113707  0.477790  ...   0.150924  0.208096\n",
              "Credit_Product      -0.042976  0.116510  ...  -0.110699  0.117709\n",
              "Avg_Account_Balance -0.027412  0.121379  ...   0.073453  0.063248\n",
              "Is_Active           -0.064207  0.190050  ...   1.000000  0.085723\n",
              "Is_Lead             -0.072068  0.210291  ...   0.085723  1.000000\n",
              "\n",
              "[10 rows x 10 columns]"
            ]
          },
          "metadata": {
            "tags": []
          },
          "execution_count": 72
        }
      ]
    },
    {
      "cell_type": "code",
      "metadata": {
        "id": "k-R2nKikwQx2",
        "outputId": "30abfab1-8a4d-4d71-9b3a-f886dec29f91",
        "colab": {
          "base_uri": "https://localhost:8080/",
          "height": 348
        }
      },
      "source": [
        "corr_mat = x_train.corr()\n",
        "corr_mat"
      ],
      "execution_count": 67,
      "outputs": [
        {
          "output_type": "execute_result",
          "data": {
            "text/html": [
              "<div>\n",
              "<style scoped>\n",
              "    .dataframe tbody tr th:only-of-type {\n",
              "        vertical-align: middle;\n",
              "    }\n",
              "\n",
              "    .dataframe tbody tr th {\n",
              "        vertical-align: top;\n",
              "    }\n",
              "\n",
              "    .dataframe thead th {\n",
              "        text-align: right;\n",
              "    }\n",
              "</style>\n",
              "<table border=\"1\" class=\"dataframe\">\n",
              "  <thead>\n",
              "    <tr style=\"text-align: right;\">\n",
              "      <th></th>\n",
              "      <th>Gender</th>\n",
              "      <th>Age</th>\n",
              "      <th>Region_Code</th>\n",
              "      <th>Occupation</th>\n",
              "      <th>Channel_Code</th>\n",
              "      <th>Vintage</th>\n",
              "      <th>Credit_Product</th>\n",
              "      <th>Avg_Account_Balance</th>\n",
              "      <th>Is_Active</th>\n",
              "    </tr>\n",
              "  </thead>\n",
              "  <tbody>\n",
              "    <tr>\n",
              "      <th>Gender</th>\n",
              "      <td>1.000000</td>\n",
              "      <td>-0.150568</td>\n",
              "      <td>-0.004179</td>\n",
              "      <td>0.110200</td>\n",
              "      <td>-0.148593</td>\n",
              "      <td>-0.145092</td>\n",
              "      <td>-0.041633</td>\n",
              "      <td>-0.022431</td>\n",
              "      <td>-0.062795</td>\n",
              "    </tr>\n",
              "    <tr>\n",
              "      <th>Age</th>\n",
              "      <td>-0.150568</td>\n",
              "      <td>1.000000</td>\n",
              "      <td>0.118792</td>\n",
              "      <td>-0.377244</td>\n",
              "      <td>0.605753</td>\n",
              "      <td>0.630092</td>\n",
              "      <td>0.130760</td>\n",
              "      <td>0.145765</td>\n",
              "      <td>0.217534</td>\n",
              "    </tr>\n",
              "    <tr>\n",
              "      <th>Region_Code</th>\n",
              "      <td>-0.004179</td>\n",
              "      <td>0.118792</td>\n",
              "      <td>1.000000</td>\n",
              "      <td>-0.070639</td>\n",
              "      <td>0.104061</td>\n",
              "      <td>0.119480</td>\n",
              "      <td>0.047845</td>\n",
              "      <td>0.076968</td>\n",
              "      <td>0.059558</td>\n",
              "    </tr>\n",
              "    <tr>\n",
              "      <th>Occupation</th>\n",
              "      <td>0.110200</td>\n",
              "      <td>-0.377244</td>\n",
              "      <td>-0.070639</td>\n",
              "      <td>1.000000</td>\n",
              "      <td>-0.450479</td>\n",
              "      <td>-0.324363</td>\n",
              "      <td>-0.083898</td>\n",
              "      <td>-0.030624</td>\n",
              "      <td>-0.202836</td>\n",
              "    </tr>\n",
              "    <tr>\n",
              "      <th>Channel_Code</th>\n",
              "      <td>-0.148593</td>\n",
              "      <td>0.605753</td>\n",
              "      <td>0.104061</td>\n",
              "      <td>-0.450479</td>\n",
              "      <td>1.000000</td>\n",
              "      <td>0.537357</td>\n",
              "      <td>0.178242</td>\n",
              "      <td>0.101156</td>\n",
              "      <td>0.249816</td>\n",
              "    </tr>\n",
              "    <tr>\n",
              "      <th>Vintage</th>\n",
              "      <td>-0.145092</td>\n",
              "      <td>0.630092</td>\n",
              "      <td>0.119480</td>\n",
              "      <td>-0.324363</td>\n",
              "      <td>0.537357</td>\n",
              "      <td>1.000000</td>\n",
              "      <td>0.096982</td>\n",
              "      <td>0.167685</td>\n",
              "      <td>0.207711</td>\n",
              "    </tr>\n",
              "    <tr>\n",
              "      <th>Credit_Product</th>\n",
              "      <td>-0.041633</td>\n",
              "      <td>0.130760</td>\n",
              "      <td>0.047845</td>\n",
              "      <td>-0.083898</td>\n",
              "      <td>0.178242</td>\n",
              "      <td>0.096982</td>\n",
              "      <td>1.000000</td>\n",
              "      <td>0.046917</td>\n",
              "      <td>-0.111769</td>\n",
              "    </tr>\n",
              "    <tr>\n",
              "      <th>Avg_Account_Balance</th>\n",
              "      <td>-0.022431</td>\n",
              "      <td>0.145765</td>\n",
              "      <td>0.076968</td>\n",
              "      <td>-0.030624</td>\n",
              "      <td>0.101156</td>\n",
              "      <td>0.167685</td>\n",
              "      <td>0.046917</td>\n",
              "      <td>1.000000</td>\n",
              "      <td>0.076829</td>\n",
              "    </tr>\n",
              "    <tr>\n",
              "      <th>Is_Active</th>\n",
              "      <td>-0.062795</td>\n",
              "      <td>0.217534</td>\n",
              "      <td>0.059558</td>\n",
              "      <td>-0.202836</td>\n",
              "      <td>0.249816</td>\n",
              "      <td>0.207711</td>\n",
              "      <td>-0.111769</td>\n",
              "      <td>0.076829</td>\n",
              "      <td>1.000000</td>\n",
              "    </tr>\n",
              "  </tbody>\n",
              "</table>\n",
              "</div>"
            ],
            "text/plain": [
              "                       Gender       Age  ...  Avg_Account_Balance  Is_Active\n",
              "Gender               1.000000 -0.150568  ...            -0.022431  -0.062795\n",
              "Age                 -0.150568  1.000000  ...             0.145765   0.217534\n",
              "Region_Code         -0.004179  0.118792  ...             0.076968   0.059558\n",
              "Occupation           0.110200 -0.377244  ...            -0.030624  -0.202836\n",
              "Channel_Code        -0.148593  0.605753  ...             0.101156   0.249816\n",
              "Vintage             -0.145092  0.630092  ...             0.167685   0.207711\n",
              "Credit_Product      -0.041633  0.130760  ...             0.046917  -0.111769\n",
              "Avg_Account_Balance -0.022431  0.145765  ...             1.000000   0.076829\n",
              "Is_Active           -0.062795  0.217534  ...             0.076829   1.000000\n",
              "\n",
              "[9 rows x 9 columns]"
            ]
          },
          "metadata": {
            "tags": []
          },
          "execution_count": 67
        }
      ]
    },
    {
      "cell_type": "code",
      "metadata": {
        "id": "Jk5BA2ZwxBET",
        "outputId": "53cc2a28-36d5-478e-cb53-0bc752608710",
        "colab": {
          "base_uri": "https://localhost:8080/"
        }
      },
      "source": [
        "type(corr_mat)"
      ],
      "execution_count": 68,
      "outputs": [
        {
          "output_type": "execute_result",
          "data": {
            "text/plain": [
              "pandas.core.frame.DataFrame"
            ]
          },
          "metadata": {
            "tags": []
          },
          "execution_count": 68
        }
      ]
    },
    {
      "cell_type": "code",
      "metadata": {
        "id": "3eCRcw27jkPi",
        "colab": {
          "base_uri": "https://localhost:8080/"
        },
        "outputId": "0fc30c97-1ae5-4f06-85b0-7c3ac07e7387"
      },
      "source": [
        "# %% Implementing Random Forests\n",
        "\n",
        "clf_rforest = RandomForestClassifier(random_state= 10, max_features=\"log2\", oob_score= True)\n",
        "clf_rforest.fit(x_train, y_train)"
      ],
      "execution_count": 161,
      "outputs": [
        {
          "output_type": "execute_result",
          "data": {
            "text/plain": [
              "RandomForestClassifier(bootstrap=True, ccp_alpha=0.0, class_weight=None,\n",
              "                       criterion='gini', max_depth=None, max_features='log2',\n",
              "                       max_leaf_nodes=None, max_samples=None,\n",
              "                       min_impurity_decrease=0.0, min_impurity_split=None,\n",
              "                       min_samples_leaf=1, min_samples_split=2,\n",
              "                       min_weight_fraction_leaf=0.0, n_estimators=100,\n",
              "                       n_jobs=None, oob_score=True, random_state=10, verbose=0,\n",
              "                       warm_start=False)"
            ]
          },
          "metadata": {
            "tags": []
          },
          "execution_count": 161
        }
      ]
    },
    {
      "cell_type": "code",
      "metadata": {
        "id": "Tjswb5ALIy1-",
        "outputId": "c143da5e-af94-4202-eb02-9fb33599391b",
        "colab": {
          "base_uri": "https://localhost:8080/",
          "height": 419
        }
      },
      "source": [
        "x_train"
      ],
      "execution_count": 164,
      "outputs": [
        {
          "output_type": "execute_result",
          "data": {
            "text/html": [
              "<div>\n",
              "<style scoped>\n",
              "    .dataframe tbody tr th:only-of-type {\n",
              "        vertical-align: middle;\n",
              "    }\n",
              "\n",
              "    .dataframe tbody tr th {\n",
              "        vertical-align: top;\n",
              "    }\n",
              "\n",
              "    .dataframe thead th {\n",
              "        text-align: right;\n",
              "    }\n",
              "</style>\n",
              "<table border=\"1\" class=\"dataframe\">\n",
              "  <thead>\n",
              "    <tr style=\"text-align: right;\">\n",
              "      <th></th>\n",
              "      <th>Gender</th>\n",
              "      <th>Age</th>\n",
              "      <th>Region_Code</th>\n",
              "      <th>Occupation</th>\n",
              "      <th>Channel_Code</th>\n",
              "      <th>Vintage</th>\n",
              "      <th>Credit_Product</th>\n",
              "      <th>Is_Active</th>\n",
              "      <th>Avg_Account_Balance_log</th>\n",
              "    </tr>\n",
              "  </thead>\n",
              "  <tbody>\n",
              "    <tr>\n",
              "      <th>188708</th>\n",
              "      <td>0</td>\n",
              "      <td>44</td>\n",
              "      <td>268</td>\n",
              "      <td>1</td>\n",
              "      <td>3</td>\n",
              "      <td>87</td>\n",
              "      <td>0</td>\n",
              "      <td>0</td>\n",
              "      <td>13.205711</td>\n",
              "    </tr>\n",
              "    <tr>\n",
              "      <th>17007</th>\n",
              "      <td>1</td>\n",
              "      <td>50</td>\n",
              "      <td>252</td>\n",
              "      <td>1</td>\n",
              "      <td>2</td>\n",
              "      <td>69</td>\n",
              "      <td>0</td>\n",
              "      <td>1</td>\n",
              "      <td>13.701104</td>\n",
              "    </tr>\n",
              "    <tr>\n",
              "      <th>109929</th>\n",
              "      <td>0</td>\n",
              "      <td>77</td>\n",
              "      <td>284</td>\n",
              "      <td>2</td>\n",
              "      <td>3</td>\n",
              "      <td>81</td>\n",
              "      <td>0</td>\n",
              "      <td>0</td>\n",
              "      <td>13.966871</td>\n",
              "    </tr>\n",
              "    <tr>\n",
              "      <th>81455</th>\n",
              "      <td>0</td>\n",
              "      <td>74</td>\n",
              "      <td>283</td>\n",
              "      <td>2</td>\n",
              "      <td>1</td>\n",
              "      <td>14</td>\n",
              "      <td>0</td>\n",
              "      <td>0</td>\n",
              "      <td>14.357853</td>\n",
              "    </tr>\n",
              "    <tr>\n",
              "      <th>77866</th>\n",
              "      <td>1</td>\n",
              "      <td>25</td>\n",
              "      <td>283</td>\n",
              "      <td>2</td>\n",
              "      <td>1</td>\n",
              "      <td>21</td>\n",
              "      <td>0</td>\n",
              "      <td>1</td>\n",
              "      <td>14.214079</td>\n",
              "    </tr>\n",
              "    <tr>\n",
              "      <th>...</th>\n",
              "      <td>...</td>\n",
              "      <td>...</td>\n",
              "      <td>...</td>\n",
              "      <td>...</td>\n",
              "      <td>...</td>\n",
              "      <td>...</td>\n",
              "      <td>...</td>\n",
              "      <td>...</td>\n",
              "      <td>...</td>\n",
              "    </tr>\n",
              "    <tr>\n",
              "      <th>130365</th>\n",
              "      <td>1</td>\n",
              "      <td>68</td>\n",
              "      <td>254</td>\n",
              "      <td>2</td>\n",
              "      <td>3</td>\n",
              "      <td>93</td>\n",
              "      <td>0</td>\n",
              "      <td>1</td>\n",
              "      <td>14.528371</td>\n",
              "    </tr>\n",
              "    <tr>\n",
              "      <th>92303</th>\n",
              "      <td>1</td>\n",
              "      <td>34</td>\n",
              "      <td>284</td>\n",
              "      <td>3</td>\n",
              "      <td>1</td>\n",
              "      <td>20</td>\n",
              "      <td>0</td>\n",
              "      <td>1</td>\n",
              "      <td>13.679998</td>\n",
              "    </tr>\n",
              "    <tr>\n",
              "      <th>6618</th>\n",
              "      <td>0</td>\n",
              "      <td>28</td>\n",
              "      <td>253</td>\n",
              "      <td>2</td>\n",
              "      <td>1</td>\n",
              "      <td>26</td>\n",
              "      <td>0</td>\n",
              "      <td>1</td>\n",
              "      <td>13.986131</td>\n",
              "    </tr>\n",
              "    <tr>\n",
              "      <th>90430</th>\n",
              "      <td>1</td>\n",
              "      <td>50</td>\n",
              "      <td>284</td>\n",
              "      <td>3</td>\n",
              "      <td>2</td>\n",
              "      <td>55</td>\n",
              "      <td>0</td>\n",
              "      <td>1</td>\n",
              "      <td>14.315680</td>\n",
              "    </tr>\n",
              "    <tr>\n",
              "      <th>29828</th>\n",
              "      <td>1</td>\n",
              "      <td>31</td>\n",
              "      <td>255</td>\n",
              "      <td>3</td>\n",
              "      <td>1</td>\n",
              "      <td>25</td>\n",
              "      <td>0</td>\n",
              "      <td>0</td>\n",
              "      <td>14.085102</td>\n",
              "    </tr>\n",
              "  </tbody>\n",
              "</table>\n",
              "<p>184293 rows × 9 columns</p>\n",
              "</div>"
            ],
            "text/plain": [
              "        Gender  Age  ...  Is_Active  Avg_Account_Balance_log\n",
              "188708       0   44  ...          0                13.205711\n",
              "17007        1   50  ...          1                13.701104\n",
              "109929       0   77  ...          0                13.966871\n",
              "81455        0   74  ...          0                14.357853\n",
              "77866        1   25  ...          1                14.214079\n",
              "...        ...  ...  ...        ...                      ...\n",
              "130365       1   68  ...          1                14.528371\n",
              "92303        1   34  ...          1                13.679998\n",
              "6618         0   28  ...          1                13.986131\n",
              "90430        1   50  ...          1                14.315680\n",
              "29828        1   31  ...          0                14.085102\n",
              "\n",
              "[184293 rows x 9 columns]"
            ]
          },
          "metadata": {
            "tags": []
          },
          "execution_count": 164
        }
      ]
    },
    {
      "cell_type": "code",
      "metadata": {
        "id": "8DoGHIrjPfD2",
        "colab": {
          "base_uri": "https://localhost:8080/"
        },
        "outputId": "9af4bf13-3b9a-4069-b8bd-983d42eb78ed"
      },
      "source": [
        "# %%\n",
        "# getting important features\n",
        "feature_list = x_train.columns\n",
        "imp_feature = {}\n",
        "for feat_name, weight in zip(feature_list, clf_rforest.feature_importances_):\n",
        "    imp_feature[feat_name] = weight\n",
        "\n",
        "\n",
        "for key in imp_feature:\n",
        "    print(f'{key} : {round(imp_feature[key],5)*100}')"
      ],
      "execution_count": 166,
      "outputs": [
        {
          "output_type": "stream",
          "text": [
            "Gender : 2.007\n",
            "Age : 19.209\n",
            "Region_Code : 13.352\n",
            "Occupation : 5.348\n",
            "Channel_Code : 5.545\n",
            "Vintage : 20.479\n",
            "Credit_Product : 1.37\n",
            "Is_Active : 1.657\n",
            "Avg_Account_Balance_log : 31.034\n"
          ],
          "name": "stdout"
        }
      ]
    },
    {
      "cell_type": "code",
      "metadata": {
        "id": "R5LcthhFRXeJ",
        "colab": {
          "base_uri": "https://localhost:8080/"
        },
        "outputId": "b49ef15c-3a66-4f55-8b54-9a74a86f52a9"
      },
      "source": [
        "# processing x_test\n",
        "x_test = process(dframe= x_test)\n"
      ],
      "execution_count": 173,
      "outputs": [
        {
          "output_type": "stream",
          "text": [
            "Region Code Processed Successfully\n",
            "Channel Code Processed Successfully\n",
            "Gender Processed Successfully\n",
            "Occupation Processed Successfully\n",
            "Is Active Processed Successfully\n"
          ],
          "name": "stdout"
        }
      ]
    },
    {
      "cell_type": "code",
      "metadata": {
        "id": "E5-kr0zfJG3E",
        "outputId": "31ab4a1d-9201-42e5-b4ab-2d88c85f107d",
        "colab": {
          "base_uri": "https://localhost:8080/",
          "height": 282
        }
      },
      "source": [
        "x_test['Avg_Account_Balance_log'] = x_test['Avg_Account_Balance'].apply(lambda x: log_transform(x))\n",
        "x_test['Avg_Account_Balance_log'].plot.kde()"
      ],
      "execution_count": 169,
      "outputs": [
        {
          "output_type": "execute_result",
          "data": {
            "text/plain": [
              "<matplotlib.axes._subplots.AxesSubplot at 0x7fc58da49390>"
            ]
          },
          "metadata": {
            "tags": []
          },
          "execution_count": 169
        },
        {
          "output_type": "display_data",
          "data": {
            "image/png": "[encoded data removed]",
            "text/plain": [
              "<Figure size 432x288 with 1 Axes>"
            ]
          },
          "metadata": {
            "tags": [],
            "needs_background": "light"
          }
        }
      ]
    },
    {
      "cell_type": "code",
      "metadata": {
        "id": "VOsmPhLdJ0kb",
        "outputId": "54aaf6eb-36d3-4611-d883-a7e4fdaabf65",
        "colab": {
          "base_uri": "https://localhost:8080/"
        }
      },
      "source": [
        "x_test.pop('Avg_Account_Balance')"
      ],
      "execution_count": 170,
      "outputs": [
        {
          "output_type": "execute_result",
          "data": {
            "text/plain": [
              "171739    1237838\n",
              "98848      678162\n",
              "184607     343593\n",
              "61725      960701\n",
              "48107     2209273\n",
              "           ...   \n",
              "236899    1914950\n",
              "65610     1052300\n",
              "42881      387123\n",
              "199081     630387\n",
              "104851     336206\n",
              "Name: Avg_Account_Balance, Length: 61432, dtype: int64"
            ]
          },
          "metadata": {
            "tags": []
          },
          "execution_count": 170
        }
      ]
    },
    {
      "cell_type": "code",
      "metadata": {
        "id": "upXTW6SWKCJN",
        "outputId": "0ba1a1d3-fe82-4f7b-fe0b-032becec0b22",
        "colab": {
          "base_uri": "https://localhost:8080/",
          "height": 419
        }
      },
      "source": [
        "x_test"
      ],
      "execution_count": 174,
      "outputs": [
        {
          "output_type": "execute_result",
          "data": {
            "text/html": [
              "<div>\n",
              "<style scoped>\n",
              "    .dataframe tbody tr th:only-of-type {\n",
              "        vertical-align: middle;\n",
              "    }\n",
              "\n",
              "    .dataframe tbody tr th {\n",
              "        vertical-align: top;\n",
              "    }\n",
              "\n",
              "    .dataframe thead th {\n",
              "        text-align: right;\n",
              "    }\n",
              "</style>\n",
              "<table border=\"1\" class=\"dataframe\">\n",
              "  <thead>\n",
              "    <tr style=\"text-align: right;\">\n",
              "      <th></th>\n",
              "      <th>Gender</th>\n",
              "      <th>Age</th>\n",
              "      <th>Region_Code</th>\n",
              "      <th>Occupation</th>\n",
              "      <th>Channel_Code</th>\n",
              "      <th>Vintage</th>\n",
              "      <th>Credit_Product</th>\n",
              "      <th>Is_Active</th>\n",
              "      <th>Avg_Account_Balance_log</th>\n",
              "    </tr>\n",
              "  </thead>\n",
              "  <tbody>\n",
              "    <tr>\n",
              "      <th>171739</th>\n",
              "      <td>1</td>\n",
              "      <td>30</td>\n",
              "      <td>274</td>\n",
              "      <td>2</td>\n",
              "      <td>1</td>\n",
              "      <td>33</td>\n",
              "      <td>0</td>\n",
              "      <td>0</td>\n",
              "      <td>14.028877</td>\n",
              "    </tr>\n",
              "    <tr>\n",
              "      <th>98848</th>\n",
              "      <td>0</td>\n",
              "      <td>29</td>\n",
              "      <td>256</td>\n",
              "      <td>3</td>\n",
              "      <td>1</td>\n",
              "      <td>14</td>\n",
              "      <td>0</td>\n",
              "      <td>1</td>\n",
              "      <td>13.427141</td>\n",
              "    </tr>\n",
              "    <tr>\n",
              "      <th>184607</th>\n",
              "      <td>1</td>\n",
              "      <td>29</td>\n",
              "      <td>270</td>\n",
              "      <td>3</td>\n",
              "      <td>1</td>\n",
              "      <td>20</td>\n",
              "      <td>1</td>\n",
              "      <td>0</td>\n",
              "      <td>12.747213</td>\n",
              "    </tr>\n",
              "    <tr>\n",
              "      <th>61725</th>\n",
              "      <td>0</td>\n",
              "      <td>28</td>\n",
              "      <td>268</td>\n",
              "      <td>3</td>\n",
              "      <td>1</td>\n",
              "      <td>15</td>\n",
              "      <td>0</td>\n",
              "      <td>1</td>\n",
              "      <td>13.775419</td>\n",
              "    </tr>\n",
              "    <tr>\n",
              "      <th>48107</th>\n",
              "      <td>0</td>\n",
              "      <td>57</td>\n",
              "      <td>268</td>\n",
              "      <td>3</td>\n",
              "      <td>2</td>\n",
              "      <td>50</td>\n",
              "      <td>0</td>\n",
              "      <td>0</td>\n",
              "      <td>14.608174</td>\n",
              "    </tr>\n",
              "    <tr>\n",
              "      <th>...</th>\n",
              "      <td>...</td>\n",
              "      <td>...</td>\n",
              "      <td>...</td>\n",
              "      <td>...</td>\n",
              "      <td>...</td>\n",
              "      <td>...</td>\n",
              "      <td>...</td>\n",
              "      <td>...</td>\n",
              "      <td>...</td>\n",
              "    </tr>\n",
              "    <tr>\n",
              "      <th>236899</th>\n",
              "      <td>0</td>\n",
              "      <td>65</td>\n",
              "      <td>283</td>\n",
              "      <td>2</td>\n",
              "      <td>3</td>\n",
              "      <td>91</td>\n",
              "      <td>0</td>\n",
              "      <td>1</td>\n",
              "      <td>14.465202</td>\n",
              "    </tr>\n",
              "    <tr>\n",
              "      <th>65610</th>\n",
              "      <td>1</td>\n",
              "      <td>28</td>\n",
              "      <td>250</td>\n",
              "      <td>3</td>\n",
              "      <td>1</td>\n",
              "      <td>13</td>\n",
              "      <td>1</td>\n",
              "      <td>0</td>\n",
              "      <td>13.866489</td>\n",
              "    </tr>\n",
              "    <tr>\n",
              "      <th>42881</th>\n",
              "      <td>1</td>\n",
              "      <td>27</td>\n",
              "      <td>266</td>\n",
              "      <td>3</td>\n",
              "      <td>1</td>\n",
              "      <td>19</td>\n",
              "      <td>0</td>\n",
              "      <td>0</td>\n",
              "      <td>12.866498</td>\n",
              "    </tr>\n",
              "    <tr>\n",
              "      <th>199081</th>\n",
              "      <td>0</td>\n",
              "      <td>43</td>\n",
              "      <td>276</td>\n",
              "      <td>1</td>\n",
              "      <td>2</td>\n",
              "      <td>68</td>\n",
              "      <td>0</td>\n",
              "      <td>1</td>\n",
              "      <td>13.354089</td>\n",
              "    </tr>\n",
              "    <tr>\n",
              "      <th>104851</th>\n",
              "      <td>0</td>\n",
              "      <td>38</td>\n",
              "      <td>280</td>\n",
              "      <td>1</td>\n",
              "      <td>4</td>\n",
              "      <td>15</td>\n",
              "      <td>0</td>\n",
              "      <td>1</td>\n",
              "      <td>12.725479</td>\n",
              "    </tr>\n",
              "  </tbody>\n",
              "</table>\n",
              "<p>61432 rows × 9 columns</p>\n",
              "</div>"
            ],
            "text/plain": [
              "        Gender  Age  ...  Is_Active  Avg_Account_Balance_log\n",
              "171739       1   30  ...          0                14.028877\n",
              "98848        0   29  ...          1                13.427141\n",
              "184607       1   29  ...          0                12.747213\n",
              "61725        0   28  ...          1                13.775419\n",
              "48107        0   57  ...          0                14.608174\n",
              "...        ...  ...  ...        ...                      ...\n",
              "236899       0   65  ...          1                14.465202\n",
              "65610        1   28  ...          0                13.866489\n",
              "42881        1   27  ...          0                12.866498\n",
              "199081       0   43  ...          1                13.354089\n",
              "104851       0   38  ...          1                12.725479\n",
              "\n",
              "[61432 rows x 9 columns]"
            ]
          },
          "metadata": {
            "tags": []
          },
          "execution_count": 174
        }
      ]
    },
    {
      "cell_type": "code",
      "metadata": {
        "id": "czWQYu5LRMM7"
      },
      "source": [
        "y_hat_rforest = clf_rforest.predict(x_test)\n",
        "y_hat_rf_proba = clf_rforest.predict_proba(x_test)"
      ],
      "execution_count": 175,
      "outputs": []
    },
    {
      "cell_type": "code",
      "metadata": {
        "id": "a6rvtj70SmAn",
        "colab": {
          "base_uri": "https://localhost:8080/"
        },
        "outputId": "6d82d7ee-4b35-4f1d-bdbb-590ad38ff6c4"
      },
      "source": [
        "accuracy = accuracy_score(y_true=y_test, y_pred=y_hat_rforest)\n",
        "print(accuracy)"
      ],
      "execution_count": 13,
      "outputs": [
        {
          "output_type": "stream",
          "text": [
            "0.7775589269436124\n"
          ],
          "name": "stdout"
        }
      ]
    },
    {
      "cell_type": "code",
      "metadata": {
        "id": "IPSqyWEXS8h4",
        "colab": {
          "base_uri": "https://localhost:8080/",
          "height": 296
        },
        "outputId": "97d194a7-79ec-4310-ac67-94724298a1ed"
      },
      "source": [
        "plot_confusion_matrix(estimator= clf_rforest,X=x_test, y_true=y_test, values_format= '.3f')"
      ],
      "execution_count": 176,
      "outputs": [
        {
          "output_type": "execute_result",
          "data": {
            "text/plain": [
              "<sklearn.metrics._plot.confusion_matrix.ConfusionMatrixDisplay at 0x7fc58dacf6d0>"
            ]
          },
          "metadata": {
            "tags": []
          },
          "execution_count": 176
        },
        {
          "output_type": "display_data",
          "data": {
            "image/png": "[encoded data removed]",
            "text/plain": [
              "<Figure size 432x288 with 2 Axes>"
            ]
          },
          "metadata": {
            "tags": [],
            "needs_background": "light"
          }
        }
      ]
    },
    {
      "cell_type": "code",
      "metadata": {
        "id": "NAG5fgiXUNtB",
        "colab": {
          "base_uri": "https://localhost:8080/"
        },
        "outputId": "7ebef670-b910-419f-88e1-d1fafb296cd7"
      },
      "source": [
        "roc_auc_score(y_true=y_test, y_score=y_hat_rf_proba[:,1])"
      ],
      "execution_count": 178,
      "outputs": [
        {
          "output_type": "execute_result",
          "data": {
            "text/plain": [
              "0.7564351520185456"
            ]
          },
          "metadata": {
            "tags": []
          },
          "execution_count": 178
        }
      ]
    },
    {
      "cell_type": "code",
      "metadata": {
        "id": "XKH0ycaoVLej",
        "colab": {
          "base_uri": "https://localhost:8080/",
          "height": 296
        },
        "outputId": "314978f0-edb6-4ce5-f861-8b01b47970a7"
      },
      "source": [
        "plot_roc_curve(clf_rforest, X=x_test, y=y_test)"
      ],
      "execution_count": 16,
      "outputs": [
        {
          "output_type": "execute_result",
          "data": {
            "text/plain": [
              "<sklearn.metrics._plot.roc_curve.RocCurveDisplay at 0x7f2151d2b590>"
            ]
          },
          "metadata": {
            "tags": []
          },
          "execution_count": 16
        },
        {
          "output_type": "display_data",
          "data": {
            "image/png": "[encoded data removed]",
            "text/plain": [
              "<Figure size 432x288 with 1 Axes>"
            ]
          },
          "metadata": {
            "tags": [],
            "needs_background": "light"
          }
        }
      ]
    },
    {
      "cell_type": "code",
      "metadata": {
        "id": "6Ho5N0s1ZOGS"
      },
      "source": [
        "from sklearn.linear_model import LogisticRegression"
      ],
      "execution_count": 17,
      "outputs": []
    },
    {
      "cell_type": "code",
      "metadata": {
        "id": "-LyMeiUCYthB"
      },
      "source": [
        "\n",
        "# using logistic_regression\n",
        "clf_logistic = LogisticRegression()\n",
        "clf_logistic.fit(x_train, y_train)\n",
        "y_hat_logistic = clf_logistic.predict(x_test)"
      ],
      "execution_count": 18,
      "outputs": []
    },
    {
      "cell_type": "code",
      "metadata": {
        "id": "hDPUHhsven15"
      },
      "source": [
        "import matplotlib\n",
        "from matplotlib import pyplot as plt"
      ],
      "execution_count": 80,
      "outputs": []
    },
    {
      "cell_type": "code",
      "metadata": {
        "id": "pcJBfuVdZdOd"
      },
      "source": [
        "def metrics(Pred, Classifier, X_Test=x_test, labels=y_test):\n",
        "  # prints different metrics\n",
        "  accuracy = accuracy_score(y_true=labels, y_pred=Pred)\n",
        "  roc_auc = roc_auc_score(y_true=labels, y_score=Pred)\n",
        "  print(f'Accuracy: {accuracy} \\n ROC_AUC_Score: {roc_auc}')\n",
        "  \n",
        "  \n",
        "  \n",
        "  plot_confusion_matrix(estimator= Classifier,X=X_Test, y_true=labels, values_format= '.3f')\n",
        "\n",
        "  \n",
        "  plot_roc_curve(Classifier, X=X_Test, y=labels)\n",
        "\n",
        "  return accuracy, roc_auc_score\n",
        "\n"
      ],
      "execution_count": 78,
      "outputs": []
    },
    {
      "cell_type": "code",
      "metadata": {
        "id": "Y7WWItKEhSqv",
        "outputId": "c1b53999-bdbf-4d19-e83e-e8b9d8a59f21",
        "colab": {
          "base_uri": "https://localhost:8080/",
          "height": 592
        }
      },
      "source": [
        "metrics(y_hat_rforest,clf_rforest)"
      ],
      "execution_count": 79,
      "outputs": [
        {
          "output_type": "stream",
          "text": [
            "Accuracy: 0.7775589269436124 \n",
            " ROC_AUC_Score: 0.6171801889192811\n"
          ],
          "name": "stdout"
        },
        {
          "output_type": "execute_result",
          "data": {
            "text/plain": [
              "(0.7775589269436124, <function sklearn.metrics._ranking.roc_auc_score>)"
            ]
          },
          "metadata": {
            "tags": []
          },
          "execution_count": 79
        },
        {
          "output_type": "display_data",
          "data": {
            "image/png": "[encoded data removed]",
            "text/plain": [
              "<Figure size 432x288 with 2 Axes>"
            ]
          },
          "metadata": {
            "tags": [],
            "needs_background": "light"
          }
        },
        {
          "output_type": "display_data",
          "data": {
            "image/png": "[encoded data removed]",
            "text/plain": [
              "<Figure size 432x288 with 1 Axes>"
            ]
          },
          "metadata": {
            "tags": [],
            "needs_background": "light"
          }
        }
      ]
    },
    {
      "cell_type": "code",
      "metadata": {
        "id": "X685JF6mhuix",
        "outputId": "15259ac7-9f5b-4b40-9902-e97abf8ce1f7",
        "colab": {
          "base_uri": "https://localhost:8080/",
          "height": 592
        }
      },
      "source": [
        "threshold = 0.3\n",
        "predicted = (y_hat_rf_proba [:,1] >= threshold).astype('int')\n",
        "metrics(predicted,clf_rforest)"
      ],
      "execution_count": 23,
      "outputs": [
        {
          "output_type": "stream",
          "text": [
            "Accuracy: 0.7177041281416852 \n",
            " ROC_AUC_Score: 0.6854151417165041\n"
          ],
          "name": "stdout"
        },
        {
          "output_type": "execute_result",
          "data": {
            "text/plain": [
              "(0.7177041281416852, <function sklearn.metrics._ranking.roc_auc_score>)"
            ]
          },
          "metadata": {
            "tags": []
          },
          "execution_count": 23
        },
        {
          "output_type": "display_data",
          "data": {
            "image/png": "[encoded data removed]",
            "text/plain": [
              "<Figure size 432x288 with 2 Axes>"
            ]
          },
          "metadata": {
            "tags": [],
            "needs_background": "light"
          }
        },
        {
          "output_type": "display_data",
          "data": {
            "image/png": "[encoded data removed]",
            "text/plain": [
              "<Figure size 432x288 with 1 Axes>"
            ]
          },
          "metadata": {
            "tags": [],
            "needs_background": "light"
          }
        }
      ]
    },
    {
      "cell_type": "code",
      "metadata": {
        "id": "9uU1xoN2kzQo"
      },
      "source": [
        "from sklearn.svm import SVC"
      ],
      "execution_count": 24,
      "outputs": []
    },
    {
      "cell_type": "code",
      "metadata": {
        "id": "jyIsWwIqlCye"
      },
      "source": [
        "clf_svc = SVC(kernel='poly',degree=3 ,random_state= 25)\n",
        "clf_svc.fit(x_test, y_test)\n",
        "y_hat_svc = clf_svc.predict(x_test)\n"
      ],
      "execution_count": null,
      "outputs": []
    },
    {
      "cell_type": "code",
      "metadata": {
        "id": "AJ3ZoGUFnapw",
        "outputId": "422c07bf-07d2-4770-de3a-b093c0d8d256",
        "colab": {
          "base_uri": "https://localhost:8080/",
          "height": 592
        }
      },
      "source": [
        "metrics(y_hat_svc,clf_svc)"
      ],
      "execution_count": 26,
      "outputs": [
        {
          "output_type": "stream",
          "text": [
            "Accuracy: 0.7623551243651517 \n",
            " ROC_AUC_Score: 0.5\n"
          ],
          "name": "stdout"
        },
        {
          "output_type": "execute_result",
          "data": {
            "text/plain": [
              "(0.7623551243651517, <function sklearn.metrics._ranking.roc_auc_score>)"
            ]
          },
          "metadata": {
            "tags": []
          },
          "execution_count": 26
        },
        {
          "output_type": "display_data",
          "data": {
            "image/png": "[encoded data removed]",
            "text/plain": [
              "<Figure size 432x288 with 2 Axes>"
            ]
          },
          "metadata": {
            "tags": [],
            "needs_background": "light"
          }
        },
        {
          "output_type": "display_data",
          "data": {
            "image/png": "[encoded data removed]",
            "text/plain": [
              "<Figure size 432x288 with 1 Axes>"
            ]
          },
          "metadata": {
            "tags": [],
            "needs_background": "light"
          }
        }
      ]
    },
    {
      "cell_type": "code",
      "metadata": {
        "id": "NqnzNZHcqgI6"
      },
      "source": [
        "\n",
        "label_name = [1,0]\n",
        "fig, axes = plt.subplots(nrows = 1,ncols = 1,figsize = (4,4), dpi=800)\n",
        "tree.plot_tree(clf_rforest.estimators_[0],\n",
        "               feature_names = feature_list, \n",
        "               class_names=label_name,\n",
        "               filled = True);\n",
        "\n",
        "fig.savefig('rf_individualtree.png')"
      ],
      "execution_count": null,
      "outputs": []
    }
  ]
}