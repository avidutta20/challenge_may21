{
  "nbformat": 4,
  "nbformat_minor": 0,
  "metadata": {
    "colab": {
      "name": "model.ipynb",
      "provenance": [],
      "toc_visible": true,
      "authorship_tag": "ABX9TyPffApI1tfaWP4TeTbBSZo5"
    },
    "kernelspec": {
      "name": "python3",
      "display_name": "Python 3"
    },
    "language_info": {
      "name": "python"
    }
  },
  "cells": [
    {
      "cell_type": "code",
      "metadata": {
        "id": "nMZwLWfkdGJM"
      },
      "source": [
        "import pandas as pd\n",
        "import numpy as np\n",
        "from sklearn.model_selection import train_test_split\n",
        "from sklearn.preprocessing import StandardScaler, MinMaxScaler, OneHotEncoder, LabelEncoder\n",
        "from sklearn.compose import ColumnTransformer\n",
        "\n",
        "from sklearn.ensemble import RandomForestClassifier\n",
        "from xgboost import XGBClassifier, plot_importance, plot_tree\n",
        "import os, sys\n",
        "from collections import defaultdict\n",
        "from sklearn.metrics import accuracy_score, roc_auc_score, confusion_matrix, plot_roc_curve,plot_confusion_matrix\n",
        "import matplotlib\n",
        "from matplotlib import pyplot as plt\n",
        "import seaborn as sns\n",
        "import scipy"
      ],
      "execution_count": 178,
      "outputs": []
    },
    {
      "cell_type": "code",
      "metadata": {
        "id": "HcQMmj29dK9a",
        "colab": {
          "base_uri": "https://localhost:8080/"
        },
        "outputId": "7ddff91c-39e0-404a-b1ec-c7e309a9f571"
      },
      "source": [
        "!git clone https://github.com/avidutta20/challenge_may21"
      ],
      "execution_count": 2,
      "outputs": [
        {
          "output_type": "stream",
          "text": [
            "Cloning into 'challenge_may21'...\n",
            "remote: Enumerating objects: 61, done.\u001b[K\n",
            "remote: Counting objects: 100% (61/61), done.\u001b[K\n",
            "remote: Compressing objects: 100% (53/53), done.\u001b[K\n",
            "remote: Total 61 (delta 25), reused 26 (delta 6), pack-reused 0\u001b[K\n",
            "Unpacking objects: 100% (61/61), done.\n"
          ],
          "name": "stdout"
        }
      ]
    },
    {
      "cell_type": "code",
      "metadata": {
        "id": "haRwSb0mPy_G"
      },
      "source": [
        "os.chdir('/content/challenge_may21/')"
      ],
      "execution_count": 3,
      "outputs": []
    },
    {
      "cell_type": "code",
      "metadata": {
        "id": "plg9bXaRehuG"
      },
      "source": [
        "def load_data():\n",
        "    pass\n",
        "df = pd.read_csv('dataset/av_jobathon_may21_train.csv')\n",
        "\n",
        "# creating a list of all trainable features name\n",
        "feature_list = df.columns[1:10]\n",
        "target = df.columns[10]  # 'Is_Lead' column name\n",
        "\n",
        "# splitting into train & test\n",
        "x_train, x_test, y_train, y_test = train_test_split(df[feature_list], df[target], test_size=0.25, random_state=25)\n"
      ],
      "execution_count": 214,
      "outputs": []
    },
    {
      "cell_type": "code",
      "metadata": {
        "id": "KgWMVpZz5KxF"
      },
      "source": [
        "def get_raw_train_data(with_labels = False):\n",
        "  # splitting into train & test\n",
        "  x_train, x_test, y_train, y_test = train_test_split(df[feature_list], df[target], test_size=0.25, random_state=25)\n",
        "    \n",
        "  if with_labels:\n",
        "    x_train['Is_Lead'] = y_train\n",
        "\n",
        "  return x_train"
      ],
      "execution_count": 5,
      "outputs": []
    },
    {
      "cell_type": "code",
      "metadata": {
        "id": "FwCBU0pJ3Ms6"
      },
      "source": [
        "# creating a x_train_complete x_train_df copy\n",
        "x_train_df = x_train.copy()\n",
        "x_train_df['Is_Lead'] = y_train\n",
        "\n",
        "# creating a x_train processing_experimenting copy\n",
        "x_train_raw = x_train_df.copy()"
      ],
      "execution_count": 6,
      "outputs": []
    },
    {
      "cell_type": "markdown",
      "metadata": {
        "id": "wjvAeNJzuHAZ"
      },
      "source": [
        "#Data Processing"
      ]
    },
    {
      "cell_type": "code",
      "metadata": {
        "id": "99SYb_kcr7bo",
        "colab": {
          "base_uri": "https://localhost:8080/"
        },
        "outputId": "780673bf-bb7e-47b9-8f45-b90ce31ff945"
      },
      "source": [
        "def checking_dataset_balance(df,feature_name, target):\n",
        "  \n",
        "  class_labels = df[target].unique()\n",
        "  total_rows = df[target].count()\n",
        "  class_dict={}\n",
        "  for label in class_labels:\n",
        "    class_dict[label] = {'value': df[target].loc[df[target]==label].count()}\n",
        "    class_dict[label]['perc'] = (df[target].loc[df[target]==label].count())/total_rows\n",
        "  return class_dict\n",
        "\n",
        "# checking dataset imbalance\n",
        "checking_dataset_balance(df,feature_list,target)\n",
        "\n",
        "# dataset is not imbalanced."
      ],
      "execution_count": 7,
      "outputs": [
        {
          "output_type": "execute_result",
          "data": {
            "text/plain": [
              "{0: {'perc': 0.7627917387323228, 'value': 187437},\n",
              " 1: {'perc': 0.23720826126767727, 'value': 58288}}"
            ]
          },
          "metadata": {
            "tags": []
          },
          "execution_count": 7
        }
      ]
    },
    {
      "cell_type": "markdown",
      "metadata": {
        "id": "x4b32jjQuk1v"
      },
      "source": [
        "## Processing Catagorical Values"
      ]
    },
    {
      "cell_type": "code",
      "metadata": {
        "id": "3fMBaZ_khDH5"
      },
      "source": [
        "def execute_process(dframe, colname,func,arg1):\n",
        "    colname_new = colname + '_proc'\n",
        "    dframe[colname_new] = dframe[colname].apply(lambda x: func(x,arg1))\n",
        "    return dframe\n",
        "def extract_process(value,index):\n",
        "    value = int(value[index:])\n",
        "    return value\n",
        "\n",
        "def replace_values(value, value_dic):\n",
        "    # replaces any value in the dframe colname with given dict\n",
        "    return value_dic[value]\n",
        "\n",
        "def default_value():\n",
        "    return 0\n",
        "\n",
        "def one_hot(dframe, colname):\n",
        "  onehotencoder = OneHotEncoder()\n",
        "  #reshape the 1-D country array to 2-D as fit_transform expects 2-D and finally fit the object \n",
        "  X = onehotencoder.fit_transform(dframe[colname].values.reshape(-1,1)).toarray()\n",
        "  # creating a dataframe \n",
        "  dfOneHotx = pd.DataFrame(X, columns = [colname+\"_\"+str(int(i)) for i in range(len(dframe[colname].unique()))])\n",
        "  # adding index to the dataframe as dframe for joining\n",
        "  dfOneHotx.set_index(dframe.index, inplace=True)\n",
        "  # concatinating the two\n",
        "  df2 = pd.concat([dframe, dfOneHotx], axis = 1)\n",
        "  \n",
        "  return df2"
      ],
      "execution_count": 8,
      "outputs": []
    },
    {
      "cell_type": "code",
      "metadata": {
        "id": "lexy3zOyikaM"
      },
      "source": [
        "def process(dframe, default_func = default_value):\n",
        "  gender_dic = is_active_dic = occupation_dic = defaultdict(default_value)\n",
        "\n",
        "\n",
        "  gender_dic = is_active_dic = occupation_dic = defaultdict(default_value)\n",
        "  \n",
        "  gender_dic = {'Male': 0,\n",
        "                  'Female': 1}\n",
        "  is_active_dic = {'Yes': 1,\n",
        "                  'No': 0}\n",
        "\n",
        "  occupation_dic = {'Self_Employed': 1,\n",
        "                      'Other': 2,\n",
        "                      'Salaried': 3,\n",
        "                      'Entrepreneur': 4}\n",
        "\n",
        "  execute_process(dframe,'Region_Code', extract_process, 2)\n",
        "  print('Region Code Processed Successfully')\n",
        "\n",
        "  execute_process(dframe,'Channel_Code', extract_process, 1)\n",
        "  print('Channel Code Processed Successfully')\n",
        "  dframe = one_hot(dframe, 'Channel_Code_proc')\n",
        "\n",
        "  dframe = execute_process(dframe,'Gender', replace_values, gender_dic)\n",
        "  print('Gender Processed Successfully')\n",
        "  dframe = one_hot(dframe, 'Gender_proc')\n",
        "\n",
        "  execute_process(dframe,'Occupation', replace_values, occupation_dic)\n",
        "  print('Occupation Processed Successfully')\n",
        "  dframe = one_hot(dframe, 'Occupation_proc')\n",
        "\n",
        "  execute_process(dframe,'Is_Active',replace_values, is_active_dic)\n",
        "  print('Is Active Processed Successfully')\n",
        "  dframe = one_hot(dframe, 'Is_Active_proc')\n",
        "\n",
        "  dframe['Credit_Product'] = dframe['Credit_Product'].fillna('No')\n",
        "  execute_process(dframe,'Credit_Product',replace_values, is_active_dic)\n",
        "  dframe = one_hot(dframe, 'Credit_Product_proc')\n",
        "  return dframe"
      ],
      "execution_count": 9,
      "outputs": []
    },
    {
      "cell_type": "markdown",
      "metadata": {
        "id": "xmgiuL1KvGBs"
      },
      "source": [
        "## Cheking SkewNess"
      ]
    },
    {
      "cell_type": "code",
      "metadata": {
        "id": "tQDpbNc7_zVe"
      },
      "source": [
        "# # checking skewness\n",
        "# scipy.stats.skew(x_train_df['Avg_Account_Balance'])"
      ],
      "execution_count": 16,
      "outputs": []
    },
    {
      "cell_type": "code",
      "metadata": {
        "id": "XuyAztar8dtW"
      },
      "source": [
        "x_train_df = get_raw_train_data(with_labels=True)"
      ],
      "execution_count": 17,
      "outputs": []
    },
    {
      "cell_type": "code",
      "metadata": {
        "colab": {
          "base_uri": "https://localhost:8080/"
        },
        "id": "frXjrYF28DT7",
        "outputId": "bf1c837f-4746-4877-ae3e-c9d2577ba7ed"
      },
      "source": [
        "# processing x_train_df\n",
        "x_train_df = process(x_train_df)"
      ],
      "execution_count": 18,
      "outputs": [
        {
          "output_type": "stream",
          "text": [
            "Region Code Processed Successfully\n",
            "Channel Code Processed Successfully\n",
            "Gender Processed Successfully\n",
            "Occupation Processed Successfully\n",
            "Is Active Processed Successfully\n"
          ],
          "name": "stdout"
        }
      ]
    },
    {
      "cell_type": "code",
      "metadata": {
        "colab": {
          "base_uri": "https://localhost:8080/"
        },
        "id": "ksp9komq8WCe",
        "outputId": "5f43a835-3494-4877-8900-70ff0f9e19ec"
      },
      "source": [
        "x_train_df.info()"
      ],
      "execution_count": 19,
      "outputs": [
        {
          "output_type": "stream",
          "text": [
            "<class 'pandas.core.frame.DataFrame'>\n",
            "Int64Index: 184293 entries, 188708 to 29828\n",
            "Data columns (total 30 columns):\n",
            " #   Column                 Non-Null Count   Dtype  \n",
            "---  ------                 --------------   -----  \n",
            " 0   Gender                 184293 non-null  object \n",
            " 1   Age                    184293 non-null  int64  \n",
            " 2   Region_Code            184293 non-null  object \n",
            " 3   Occupation             184293 non-null  object \n",
            " 4   Channel_Code           184293 non-null  object \n",
            " 5   Vintage                184293 non-null  int64  \n",
            " 6   Credit_Product         184293 non-null  object \n",
            " 7   Avg_Account_Balance    184293 non-null  int64  \n",
            " 8   Is_Active              184293 non-null  object \n",
            " 9   Is_Lead                184293 non-null  int64  \n",
            " 10  Region_Code_proc       184293 non-null  int64  \n",
            " 11  Channel_Code_proc      184293 non-null  int64  \n",
            " 12  Channel_Code_proc_0    184293 non-null  float64\n",
            " 13  Channel_Code_proc_1    184293 non-null  float64\n",
            " 14  Channel_Code_proc_2    184293 non-null  float64\n",
            " 15  Channel_Code_proc_3    184293 non-null  float64\n",
            " 16  Gender_proc            184293 non-null  int64  \n",
            " 17  Gender_proc_0          184293 non-null  float64\n",
            " 18  Gender_proc_1          184293 non-null  float64\n",
            " 19  Occupation_proc        184293 non-null  int64  \n",
            " 20  Occupation_proc_0      184293 non-null  float64\n",
            " 21  Occupation_proc_1      184293 non-null  float64\n",
            " 22  Occupation_proc_2      184293 non-null  float64\n",
            " 23  Occupation_proc_3      184293 non-null  float64\n",
            " 24  Is_Active_proc         184293 non-null  int64  \n",
            " 25  Is_Active_proc_0       184293 non-null  float64\n",
            " 26  Is_Active_proc_1       184293 non-null  float64\n",
            " 27  Credit_Product_proc    184293 non-null  int64  \n",
            " 28  Credit_Product_proc_0  184293 non-null  float64\n",
            " 29  Credit_Product_proc_1  184293 non-null  float64\n",
            "dtypes: float64(14), int64(10), object(6)\n",
            "memory usage: 43.6+ MB\n"
          ],
          "name": "stdout"
        }
      ]
    },
    {
      "cell_type": "code",
      "metadata": {
        "colab": {
          "base_uri": "https://localhost:8080/",
          "height": 401
        },
        "id": "NtcudZVq7E9T",
        "outputId": "0c4d5ec2-5bf2-4d7d-9b57-178fcae7cb5a"
      },
      "source": [
        "sns.catplot(x='Channel_Code', hue = 'Is_Lead', kind=\"count\", palette=\"ch:.25\", data=x_train_df)"
      ],
      "execution_count": 20,
      "outputs": [
        {
          "output_type": "execute_result",
          "data": {
            "text/plain": [
              "<seaborn.axisgrid.FacetGrid at 0x7fb7ce491b90>"
            ]
          },
          "metadata": {
            "tags": []
          },
          "execution_count": 20
        },
        {
          "output_type": "display_data",
          "data": {
            "image/png": "[encoded data removed]",
            "text/plain": [
              "<Figure size 405.125x360 with 1 Axes>"
            ]
          },
          "metadata": {
            "tags": [],
            "needs_background": "light"
          }
        }
      ]
    },
    {
      "cell_type": "code",
      "metadata": {
        "id": "Q4Ybx9XXG6zJ",
        "colab": {
          "base_uri": "https://localhost:8080/",
          "height": 282
        },
        "outputId": "98c75f0e-4281-4815-e3e4-2c8045b1a599"
      },
      "source": [
        "x_train_df['Channel_Code_proc'].plot.kde()"
      ],
      "execution_count": 21,
      "outputs": [
        {
          "output_type": "execute_result",
          "data": {
            "text/plain": [
              "<matplotlib.axes._subplots.AxesSubplot at 0x7fb7c3585510>"
            ]
          },
          "metadata": {
            "tags": []
          },
          "execution_count": 21
        },
        {
          "output_type": "display_data",
          "data": {
            "image/png": "[encoded data removed]",
            "text/plain": [
              "<Figure size 432x288 with 1 Axes>"
            ]
          },
          "metadata": {
            "tags": [],
            "needs_background": "light"
          }
        }
      ]
    },
    {
      "cell_type": "code",
      "metadata": {
        "colab": {
          "base_uri": "https://localhost:8080/",
          "height": 401
        },
        "id": "8LzXnrhU808g",
        "outputId": "af2227c0-eaa5-4327-fda8-766fd8c99131"
      },
      "source": [
        "sns.catplot(x='Region_Code', hue = 'Is_Lead', kind=\"count\", palette=\"ch:.25\", data=x_train_df)"
      ],
      "execution_count": 22,
      "outputs": [
        {
          "output_type": "execute_result",
          "data": {
            "text/plain": [
              "<seaborn.axisgrid.FacetGrid at 0x7fb7cc24cb10>"
            ]
          },
          "metadata": {
            "tags": []
          },
          "execution_count": 22
        },
        {
          "output_type": "display_data",
          "data": {
            "image/png": "[encoded data removed]",
            "text/plain": [
              "<Figure size 405.125x360 with 1 Axes>"
            ]
          },
          "metadata": {
            "tags": [],
            "needs_background": "light"
          }
        }
      ]
    },
    {
      "cell_type": "code",
      "metadata": {
        "id": "dvhJBDRzGKex",
        "colab": {
          "base_uri": "https://localhost:8080/",
          "height": 284
        },
        "outputId": "59721c83-40bb-4d42-ee21-5dfcbd8b221e"
      },
      "source": [
        "x_train_df['Region_Code_proc'].plot.kde()"
      ],
      "execution_count": 23,
      "outputs": [
        {
          "output_type": "execute_result",
          "data": {
            "text/plain": [
              "<matplotlib.axes._subplots.AxesSubplot at 0x7fb7c13463d0>"
            ]
          },
          "metadata": {
            "tags": []
          },
          "execution_count": 23
        },
        {
          "output_type": "display_data",
          "data": {
            "image/png": "[encoded data removed]",
            "text/plain": [
              "<Figure size 432x288 with 1 Axes>"
            ]
          },
          "metadata": {
            "tags": [],
            "needs_background": "light"
          }
        }
      ]
    },
    {
      "cell_type": "code",
      "metadata": {
        "id": "ZRqfy9or9Dg-"
      },
      "source": [
        "# Checking Integral datas\n",
        "# columns are:Age, Vintage, Account_Balance"
      ],
      "execution_count": null,
      "outputs": []
    },
    {
      "cell_type": "code",
      "metadata": {
        "colab": {
          "base_uri": "https://localhost:8080/",
          "height": 306
        },
        "id": "fWdsiLNoL83x",
        "outputId": "14bcc361-ecb7-4e09-8dd9-85d979267e76"
      },
      "source": [
        "x_train_df['Avg_Account_Balance'].plot.kde()"
      ],
      "execution_count": 24,
      "outputs": [
        {
          "output_type": "execute_result",
          "data": {
            "text/plain": [
              "<matplotlib.axes._subplots.AxesSubplot at 0x7fb7c12a39d0>"
            ]
          },
          "metadata": {
            "tags": []
          },
          "execution_count": 24
        },
        {
          "output_type": "display_data",
          "data": {
            "image/png": "[encoded data removed]",
            "text/plain": [
              "<Figure size 432x288 with 1 Axes>"
            ]
          },
          "metadata": {
            "tags": [],
            "needs_background": "light"
          }
        }
      ]
    },
    {
      "cell_type": "code",
      "metadata": {
        "colab": {
          "base_uri": "https://localhost:8080/"
        },
        "id": "xRVYjkeYMHs0",
        "outputId": "f135e8a6-2240-4ef2-eb05-a3c6fcacb40b"
      },
      "source": [
        "# the graph shows the average balance is highly right skewed.\n",
        "# calculating skewness\n",
        "skew_ac_bal = scipy.stats.skew(x_train_df['Avg_Account_Balance'])\n",
        "# a +ve high value as expected\n",
        "skew_ac_bal"
      ],
      "execution_count": 25,
      "outputs": [
        {
          "output_type": "execute_result",
          "data": {
            "text/plain": [
              "2.9757408570525747"
            ]
          },
          "metadata": {
            "tags": []
          },
          "execution_count": 25
        }
      ]
    },
    {
      "cell_type": "markdown",
      "metadata": {
        "id": "MDGCqJIi0loi"
      },
      "source": [
        "## log transform"
      ]
    },
    {
      "cell_type": "code",
      "metadata": {
        "id": "o06JDt3LEKrp",
        "colab": {
          "base_uri": "https://localhost:8080/",
          "height": 282
        },
        "outputId": "e1ace9a2-7457-444b-e25a-80c00aea5d46"
      },
      "source": [
        "# let's log transform it reduce to reduce it's skewness\n",
        "#log_transforming\n",
        "def log_transform(x):\n",
        "  result = 0.0\n",
        "  if x!=0:\n",
        "    result = np.log(x)\n",
        "  else:\n",
        "    result = np.log(0.00001)\n",
        "  return result\n",
        "\n",
        "x_train_df['Avg_Account_Balance_log'] = x_train_df['Avg_Account_Balance'].apply(lambda x: log_transform(x))\n",
        "x_train_df['Avg_Account_Balance_log'].plot.kde()"
      ],
      "execution_count": 10,
      "outputs": [
        {
          "output_type": "execute_result",
          "data": {
            "text/plain": [
              "<matplotlib.axes._subplots.AxesSubplot at 0x7f3746526f50>"
            ]
          },
          "metadata": {
            "tags": []
          },
          "execution_count": 10
        },
        {
          "output_type": "display_data",
          "data": {
            "image/png": "[encoded data removed]",
            "text/plain": [
              "<Figure size 432x288 with 1 Axes>"
            ]
          },
          "metadata": {
            "tags": [],
            "needs_background": "light"
          }
        }
      ]
    },
    {
      "cell_type": "code",
      "metadata": {
        "id": "V3Ol6u8qFfe5",
        "colab": {
          "base_uri": "https://localhost:8080/"
        },
        "outputId": "1e9c4589-5626-46c6-deb1-e16c5e127d3d"
      },
      "source": [
        "# checking new skew\n",
        "skew_ac_bal_log = scipy.stats.skew(x_train_df['Avg_Account_Balance_log'])\n",
        "print(f'Skew after applying log_transform to \"Avg_Account_Balance_log is {skew_ac_bal_log}\"')\n",
        "# which is less than +0.5 showing a good normal curve as we wanted"
      ],
      "execution_count": 27,
      "outputs": [
        {
          "output_type": "stream",
          "text": [
            "Skew after applying log_transform to \"Avg_Account_Balance_log is 0.23654555482098255\"\n"
          ],
          "name": "stdout"
        }
      ]
    },
    {
      "cell_type": "code",
      "metadata": {
        "id": "rgfph7rACpM1",
        "colab": {
          "base_uri": "https://localhost:8080/",
          "height": 282
        },
        "outputId": "1abc13b2-6e99-4256-9d90-12e922f18a5b"
      },
      "source": [
        "# Age\n",
        "x_train_df['Age'].plot.kde()"
      ],
      "execution_count": 28,
      "outputs": [
        {
          "output_type": "execute_result",
          "data": {
            "text/plain": [
              "<matplotlib.axes._subplots.AxesSubplot at 0x7fb7c0c6a210>"
            ]
          },
          "metadata": {
            "tags": []
          },
          "execution_count": 28
        },
        {
          "output_type": "display_data",
          "data": {
            "image/png": "[encoded data removed]",
            "text/plain": [
              "<Figure size 432x288 with 1 Axes>"
            ]
          },
          "metadata": {
            "tags": [],
            "needs_background": "light"
          }
        }
      ]
    },
    {
      "cell_type": "code",
      "metadata": {
        "id": "_TD8ZHa7N5zG"
      },
      "source": [
        "# the graph shows the age is also not normal.\n",
        "# based on inspecting we will break the age into three groups based on the local minimas in graph\n",
        "# 0-20, 20-40,40-60, 60 and up\n",
        "def bin_age(x):\n",
        "  # catagories = ['0-20','20-40','40-60','60+']\n",
        "  cat = ''\n",
        "  \n",
        "  if x>20 and x<=40:\n",
        "    cat = '20-40'\n",
        "  elif x>40 and x<=60:\n",
        "    cat = '40-60'\n",
        "  elif x>60 :\n",
        "    cat = '60+'\n",
        "  else :\n",
        "    cat = '0-20'\n",
        "  return cat"
      ],
      "execution_count": 11,
      "outputs": []
    },
    {
      "cell_type": "code",
      "metadata": {
        "colab": {
          "base_uri": "https://localhost:8080/",
          "height": 439
        },
        "id": "G2lJZDzPw_yn",
        "outputId": "f3e7d3db-b10f-497b-9a69-99444c82c290"
      },
      "source": [
        "x_train_df['Age_Binned'] = x_train_df['Age'].apply(lambda x: bin_age(x))\n",
        "x_train_df"
      ],
      "execution_count": 30,
      "outputs": [
        {
          "output_type": "execute_result",
          "data": {
            "text/html": [
              "<div>\n",
              "<style scoped>\n",
              "    .dataframe tbody tr th:only-of-type {\n",
              "        vertical-align: middle;\n",
              "    }\n",
              "\n",
              "    .dataframe tbody tr th {\n",
              "        vertical-align: top;\n",
              "    }\n",
              "\n",
              "    .dataframe thead th {\n",
              "        text-align: right;\n",
              "    }\n",
              "</style>\n",
              "<table border=\"1\" class=\"dataframe\">\n",
              "  <thead>\n",
              "    <tr style=\"text-align: right;\">\n",
              "      <th></th>\n",
              "      <th>Gender</th>\n",
              "      <th>Age</th>\n",
              "      <th>Region_Code</th>\n",
              "      <th>Occupation</th>\n",
              "      <th>Channel_Code</th>\n",
              "      <th>Vintage</th>\n",
              "      <th>Credit_Product</th>\n",
              "      <th>Avg_Account_Balance</th>\n",
              "      <th>Is_Active</th>\n",
              "      <th>Is_Lead</th>\n",
              "      <th>Region_Code_proc</th>\n",
              "      <th>Channel_Code_proc</th>\n",
              "      <th>Channel_Code_proc_0</th>\n",
              "      <th>Channel_Code_proc_1</th>\n",
              "      <th>Channel_Code_proc_2</th>\n",
              "      <th>Channel_Code_proc_3</th>\n",
              "      <th>Gender_proc</th>\n",
              "      <th>Gender_proc_0</th>\n",
              "      <th>Gender_proc_1</th>\n",
              "      <th>Occupation_proc</th>\n",
              "      <th>Occupation_proc_0</th>\n",
              "      <th>Occupation_proc_1</th>\n",
              "      <th>Occupation_proc_2</th>\n",
              "      <th>Occupation_proc_3</th>\n",
              "      <th>Is_Active_proc</th>\n",
              "      <th>Is_Active_proc_0</th>\n",
              "      <th>Is_Active_proc_1</th>\n",
              "      <th>Credit_Product_proc</th>\n",
              "      <th>Credit_Product_proc_0</th>\n",
              "      <th>Credit_Product_proc_1</th>\n",
              "      <th>Avg_Account_Balance_log</th>\n",
              "      <th>Age_Binned</th>\n",
              "    </tr>\n",
              "  </thead>\n",
              "  <tbody>\n",
              "    <tr>\n",
              "      <th>188708</th>\n",
              "      <td>Male</td>\n",
              "      <td>44</td>\n",
              "      <td>RG268</td>\n",
              "      <td>Self_Employed</td>\n",
              "      <td>X3</td>\n",
              "      <td>87</td>\n",
              "      <td>No</td>\n",
              "      <td>543460</td>\n",
              "      <td>No</td>\n",
              "      <td>0</td>\n",
              "      <td>268</td>\n",
              "      <td>3</td>\n",
              "      <td>0.0</td>\n",
              "      <td>0.0</td>\n",
              "      <td>1.0</td>\n",
              "      <td>0.0</td>\n",
              "      <td>0</td>\n",
              "      <td>1.0</td>\n",
              "      <td>0.0</td>\n",
              "      <td>1</td>\n",
              "      <td>1.0</td>\n",
              "      <td>0.0</td>\n",
              "      <td>0.0</td>\n",
              "      <td>0.0</td>\n",
              "      <td>0</td>\n",
              "      <td>1.0</td>\n",
              "      <td>0.0</td>\n",
              "      <td>0</td>\n",
              "      <td>1.0</td>\n",
              "      <td>0.0</td>\n",
              "      <td>13.205711</td>\n",
              "      <td>40-60</td>\n",
              "    </tr>\n",
              "    <tr>\n",
              "      <th>17007</th>\n",
              "      <td>Female</td>\n",
              "      <td>50</td>\n",
              "      <td>RG252</td>\n",
              "      <td>Self_Employed</td>\n",
              "      <td>X2</td>\n",
              "      <td>69</td>\n",
              "      <td>No</td>\n",
              "      <td>891895</td>\n",
              "      <td>Yes</td>\n",
              "      <td>0</td>\n",
              "      <td>252</td>\n",
              "      <td>2</td>\n",
              "      <td>0.0</td>\n",
              "      <td>1.0</td>\n",
              "      <td>0.0</td>\n",
              "      <td>0.0</td>\n",
              "      <td>1</td>\n",
              "      <td>0.0</td>\n",
              "      <td>1.0</td>\n",
              "      <td>1</td>\n",
              "      <td>1.0</td>\n",
              "      <td>0.0</td>\n",
              "      <td>0.0</td>\n",
              "      <td>0.0</td>\n",
              "      <td>1</td>\n",
              "      <td>0.0</td>\n",
              "      <td>1.0</td>\n",
              "      <td>0</td>\n",
              "      <td>1.0</td>\n",
              "      <td>0.0</td>\n",
              "      <td>13.701104</td>\n",
              "      <td>40-60</td>\n",
              "    </tr>\n",
              "    <tr>\n",
              "      <th>109929</th>\n",
              "      <td>Male</td>\n",
              "      <td>77</td>\n",
              "      <td>RG284</td>\n",
              "      <td>Other</td>\n",
              "      <td>X3</td>\n",
              "      <td>81</td>\n",
              "      <td>No</td>\n",
              "      <td>1163416</td>\n",
              "      <td>No</td>\n",
              "      <td>0</td>\n",
              "      <td>284</td>\n",
              "      <td>3</td>\n",
              "      <td>0.0</td>\n",
              "      <td>0.0</td>\n",
              "      <td>1.0</td>\n",
              "      <td>0.0</td>\n",
              "      <td>0</td>\n",
              "      <td>1.0</td>\n",
              "      <td>0.0</td>\n",
              "      <td>2</td>\n",
              "      <td>0.0</td>\n",
              "      <td>1.0</td>\n",
              "      <td>0.0</td>\n",
              "      <td>0.0</td>\n",
              "      <td>0</td>\n",
              "      <td>1.0</td>\n",
              "      <td>0.0</td>\n",
              "      <td>0</td>\n",
              "      <td>1.0</td>\n",
              "      <td>0.0</td>\n",
              "      <td>13.966871</td>\n",
              "      <td>60+</td>\n",
              "    </tr>\n",
              "    <tr>\n",
              "      <th>81455</th>\n",
              "      <td>Male</td>\n",
              "      <td>74</td>\n",
              "      <td>RG283</td>\n",
              "      <td>Other</td>\n",
              "      <td>X1</td>\n",
              "      <td>14</td>\n",
              "      <td>No</td>\n",
              "      <td>1720031</td>\n",
              "      <td>No</td>\n",
              "      <td>0</td>\n",
              "      <td>283</td>\n",
              "      <td>1</td>\n",
              "      <td>1.0</td>\n",
              "      <td>0.0</td>\n",
              "      <td>0.0</td>\n",
              "      <td>0.0</td>\n",
              "      <td>0</td>\n",
              "      <td>1.0</td>\n",
              "      <td>0.0</td>\n",
              "      <td>2</td>\n",
              "      <td>0.0</td>\n",
              "      <td>1.0</td>\n",
              "      <td>0.0</td>\n",
              "      <td>0.0</td>\n",
              "      <td>0</td>\n",
              "      <td>1.0</td>\n",
              "      <td>0.0</td>\n",
              "      <td>0</td>\n",
              "      <td>1.0</td>\n",
              "      <td>0.0</td>\n",
              "      <td>14.357853</td>\n",
              "      <td>60+</td>\n",
              "    </tr>\n",
              "    <tr>\n",
              "      <th>77866</th>\n",
              "      <td>Female</td>\n",
              "      <td>25</td>\n",
              "      <td>RG283</td>\n",
              "      <td>Other</td>\n",
              "      <td>X1</td>\n",
              "      <td>21</td>\n",
              "      <td>No</td>\n",
              "      <td>1489690</td>\n",
              "      <td>Yes</td>\n",
              "      <td>0</td>\n",
              "      <td>283</td>\n",
              "      <td>1</td>\n",
              "      <td>1.0</td>\n",
              "      <td>0.0</td>\n",
              "      <td>0.0</td>\n",
              "      <td>0.0</td>\n",
              "      <td>1</td>\n",
              "      <td>0.0</td>\n",
              "      <td>1.0</td>\n",
              "      <td>2</td>\n",
              "      <td>0.0</td>\n",
              "      <td>1.0</td>\n",
              "      <td>0.0</td>\n",
              "      <td>0.0</td>\n",
              "      <td>1</td>\n",
              "      <td>0.0</td>\n",
              "      <td>1.0</td>\n",
              "      <td>0</td>\n",
              "      <td>1.0</td>\n",
              "      <td>0.0</td>\n",
              "      <td>14.214079</td>\n",
              "      <td>20-40</td>\n",
              "    </tr>\n",
              "    <tr>\n",
              "      <th>...</th>\n",
              "      <td>...</td>\n",
              "      <td>...</td>\n",
              "      <td>...</td>\n",
              "      <td>...</td>\n",
              "      <td>...</td>\n",
              "      <td>...</td>\n",
              "      <td>...</td>\n",
              "      <td>...</td>\n",
              "      <td>...</td>\n",
              "      <td>...</td>\n",
              "      <td>...</td>\n",
              "      <td>...</td>\n",
              "      <td>...</td>\n",
              "      <td>...</td>\n",
              "      <td>...</td>\n",
              "      <td>...</td>\n",
              "      <td>...</td>\n",
              "      <td>...</td>\n",
              "      <td>...</td>\n",
              "      <td>...</td>\n",
              "      <td>...</td>\n",
              "      <td>...</td>\n",
              "      <td>...</td>\n",
              "      <td>...</td>\n",
              "      <td>...</td>\n",
              "      <td>...</td>\n",
              "      <td>...</td>\n",
              "      <td>...</td>\n",
              "      <td>...</td>\n",
              "      <td>...</td>\n",
              "      <td>...</td>\n",
              "      <td>...</td>\n",
              "    </tr>\n",
              "    <tr>\n",
              "      <th>130365</th>\n",
              "      <td>Female</td>\n",
              "      <td>68</td>\n",
              "      <td>RG254</td>\n",
              "      <td>Other</td>\n",
              "      <td>X3</td>\n",
              "      <td>93</td>\n",
              "      <td>No</td>\n",
              "      <td>2039817</td>\n",
              "      <td>Yes</td>\n",
              "      <td>0</td>\n",
              "      <td>254</td>\n",
              "      <td>3</td>\n",
              "      <td>0.0</td>\n",
              "      <td>0.0</td>\n",
              "      <td>1.0</td>\n",
              "      <td>0.0</td>\n",
              "      <td>1</td>\n",
              "      <td>0.0</td>\n",
              "      <td>1.0</td>\n",
              "      <td>2</td>\n",
              "      <td>0.0</td>\n",
              "      <td>1.0</td>\n",
              "      <td>0.0</td>\n",
              "      <td>0.0</td>\n",
              "      <td>1</td>\n",
              "      <td>0.0</td>\n",
              "      <td>1.0</td>\n",
              "      <td>0</td>\n",
              "      <td>1.0</td>\n",
              "      <td>0.0</td>\n",
              "      <td>14.528371</td>\n",
              "      <td>60+</td>\n",
              "    </tr>\n",
              "    <tr>\n",
              "      <th>92303</th>\n",
              "      <td>Female</td>\n",
              "      <td>34</td>\n",
              "      <td>RG284</td>\n",
              "      <td>Salaried</td>\n",
              "      <td>X1</td>\n",
              "      <td>20</td>\n",
              "      <td>No</td>\n",
              "      <td>873268</td>\n",
              "      <td>Yes</td>\n",
              "      <td>0</td>\n",
              "      <td>284</td>\n",
              "      <td>1</td>\n",
              "      <td>1.0</td>\n",
              "      <td>0.0</td>\n",
              "      <td>0.0</td>\n",
              "      <td>0.0</td>\n",
              "      <td>1</td>\n",
              "      <td>0.0</td>\n",
              "      <td>1.0</td>\n",
              "      <td>3</td>\n",
              "      <td>0.0</td>\n",
              "      <td>0.0</td>\n",
              "      <td>1.0</td>\n",
              "      <td>0.0</td>\n",
              "      <td>1</td>\n",
              "      <td>0.0</td>\n",
              "      <td>1.0</td>\n",
              "      <td>0</td>\n",
              "      <td>1.0</td>\n",
              "      <td>0.0</td>\n",
              "      <td>13.679998</td>\n",
              "      <td>20-40</td>\n",
              "    </tr>\n",
              "    <tr>\n",
              "      <th>6618</th>\n",
              "      <td>Male</td>\n",
              "      <td>28</td>\n",
              "      <td>RG253</td>\n",
              "      <td>Other</td>\n",
              "      <td>X1</td>\n",
              "      <td>26</td>\n",
              "      <td>No</td>\n",
              "      <td>1186040</td>\n",
              "      <td>Yes</td>\n",
              "      <td>0</td>\n",
              "      <td>253</td>\n",
              "      <td>1</td>\n",
              "      <td>1.0</td>\n",
              "      <td>0.0</td>\n",
              "      <td>0.0</td>\n",
              "      <td>0.0</td>\n",
              "      <td>0</td>\n",
              "      <td>1.0</td>\n",
              "      <td>0.0</td>\n",
              "      <td>2</td>\n",
              "      <td>0.0</td>\n",
              "      <td>1.0</td>\n",
              "      <td>0.0</td>\n",
              "      <td>0.0</td>\n",
              "      <td>1</td>\n",
              "      <td>0.0</td>\n",
              "      <td>1.0</td>\n",
              "      <td>0</td>\n",
              "      <td>1.0</td>\n",
              "      <td>0.0</td>\n",
              "      <td>13.986131</td>\n",
              "      <td>20-40</td>\n",
              "    </tr>\n",
              "    <tr>\n",
              "      <th>90430</th>\n",
              "      <td>Female</td>\n",
              "      <td>50</td>\n",
              "      <td>RG284</td>\n",
              "      <td>Salaried</td>\n",
              "      <td>X2</td>\n",
              "      <td>55</td>\n",
              "      <td>No</td>\n",
              "      <td>1649000</td>\n",
              "      <td>Yes</td>\n",
              "      <td>1</td>\n",
              "      <td>284</td>\n",
              "      <td>2</td>\n",
              "      <td>0.0</td>\n",
              "      <td>1.0</td>\n",
              "      <td>0.0</td>\n",
              "      <td>0.0</td>\n",
              "      <td>1</td>\n",
              "      <td>0.0</td>\n",
              "      <td>1.0</td>\n",
              "      <td>3</td>\n",
              "      <td>0.0</td>\n",
              "      <td>0.0</td>\n",
              "      <td>1.0</td>\n",
              "      <td>0.0</td>\n",
              "      <td>1</td>\n",
              "      <td>0.0</td>\n",
              "      <td>1.0</td>\n",
              "      <td>0</td>\n",
              "      <td>1.0</td>\n",
              "      <td>0.0</td>\n",
              "      <td>14.315680</td>\n",
              "      <td>40-60</td>\n",
              "    </tr>\n",
              "    <tr>\n",
              "      <th>29828</th>\n",
              "      <td>Female</td>\n",
              "      <td>31</td>\n",
              "      <td>RG255</td>\n",
              "      <td>Salaried</td>\n",
              "      <td>X1</td>\n",
              "      <td>25</td>\n",
              "      <td>No</td>\n",
              "      <td>1309430</td>\n",
              "      <td>No</td>\n",
              "      <td>0</td>\n",
              "      <td>255</td>\n",
              "      <td>1</td>\n",
              "      <td>1.0</td>\n",
              "      <td>0.0</td>\n",
              "      <td>0.0</td>\n",
              "      <td>0.0</td>\n",
              "      <td>1</td>\n",
              "      <td>0.0</td>\n",
              "      <td>1.0</td>\n",
              "      <td>3</td>\n",
              "      <td>0.0</td>\n",
              "      <td>0.0</td>\n",
              "      <td>1.0</td>\n",
              "      <td>0.0</td>\n",
              "      <td>0</td>\n",
              "      <td>1.0</td>\n",
              "      <td>0.0</td>\n",
              "      <td>0</td>\n",
              "      <td>1.0</td>\n",
              "      <td>0.0</td>\n",
              "      <td>14.085102</td>\n",
              "      <td>20-40</td>\n",
              "    </tr>\n",
              "  </tbody>\n",
              "</table>\n",
              "<p>184293 rows × 32 columns</p>\n",
              "</div>"
            ],
            "text/plain": [
              "        Gender  Age  ... Avg_Account_Balance_log Age_Binned\n",
              "188708    Male   44  ...               13.205711      40-60\n",
              "17007   Female   50  ...               13.701104      40-60\n",
              "109929    Male   77  ...               13.966871        60+\n",
              "81455     Male   74  ...               14.357853        60+\n",
              "77866   Female   25  ...               14.214079      20-40\n",
              "...        ...  ...  ...                     ...        ...\n",
              "130365  Female   68  ...               14.528371        60+\n",
              "92303   Female   34  ...               13.679998      20-40\n",
              "6618      Male   28  ...               13.986131      20-40\n",
              "90430   Female   50  ...               14.315680      40-60\n",
              "29828   Female   31  ...               14.085102      20-40\n",
              "\n",
              "[184293 rows x 32 columns]"
            ]
          },
          "metadata": {
            "tags": []
          },
          "execution_count": 30
        }
      ]
    },
    {
      "cell_type": "code",
      "metadata": {
        "colab": {
          "base_uri": "https://localhost:8080/",
          "height": 401
        },
        "id": "hOMWT0gqW8xO",
        "outputId": "55dee254-60a5-42dd-e319-6d36c94eb671"
      },
      "source": [
        "sns.catplot(x='Age_Binned', kind=\"count\", palette=\"ch:.25\", data=x_train_df)"
      ],
      "execution_count": 31,
      "outputs": [
        {
          "output_type": "execute_result",
          "data": {
            "text/plain": [
              "<seaborn.axisgrid.FacetGrid at 0x7fb7c11c2a10>"
            ]
          },
          "metadata": {
            "tags": []
          },
          "execution_count": 31
        },
        {
          "output_type": "display_data",
          "data": {
            "image/png": "[encoded data removed]",
            "text/plain": [
              "<Figure size 360x360 with 1 Axes>"
            ]
          },
          "metadata": {
            "tags": [],
            "needs_background": "light"
          }
        }
      ]
    },
    {
      "cell_type": "code",
      "metadata": {
        "colab": {
          "base_uri": "https://localhost:8080/",
          "height": 392
        },
        "id": "N64BuwMqYxaj",
        "outputId": "5028f857-b4f3-4c53-ab93-21178fb1bfdf"
      },
      "source": [
        "# Converting to wide dataframe\n",
        "data_wide = x_train_df.pivot(columns = 'Age_Binned',\n",
        "                     values = 'Age')\n",
        "  \n",
        "# plotting multiple density plot\n",
        "data_wide.plot.kde(figsize = (8, 6),\n",
        "                   linewidth = 4)"
      ],
      "execution_count": 32,
      "outputs": [
        {
          "output_type": "execute_result",
          "data": {
            "text/plain": [
              "<matplotlib.axes._subplots.AxesSubplot at 0x7fb7c1126810>"
            ]
          },
          "metadata": {
            "tags": []
          },
          "execution_count": 32
        },
        {
          "output_type": "display_data",
          "data": {
            "image/png": "[encoded data removed]",
            "text/plain": [
              "<Figure size 576x432 with 1 Axes>"
            ]
          },
          "metadata": {
            "tags": [],
            "needs_background": "light"
          }
        }
      ]
    },
    {
      "cell_type": "markdown",
      "metadata": {
        "id": "feuAhHr2xRxw"
      },
      "source": [
        "## age next transform"
      ]
    },
    {
      "cell_type": "code",
      "metadata": {
        "id": "BFX7wdU2aQ1p"
      },
      "source": [
        "# We see that the graph are normal in their group"
      ],
      "execution_count": null,
      "outputs": []
    },
    {
      "cell_type": "code",
      "metadata": {
        "id": "l514qp4LZMhf"
      },
      "source": [
        "# x_train['Age_log'] = x_train['Age'].apply(lambda x: log_transform(np.exp(x)))\n",
        "# x_train['Age_Binned_log'] = x_train['Age_log'].apply(lambda x: bin_age(x))\n",
        "# using box_cox transform\n",
        "# transform training data & save lambda value\n",
        "x_train_df['Age_box'], fitted_lambda = scipy.stats.boxcox(x_train_df['Age'])"
      ],
      "execution_count": 12,
      "outputs": []
    },
    {
      "cell_type": "code",
      "metadata": {
        "colab": {
          "base_uri": "https://localhost:8080/",
          "height": 386
        },
        "id": "sKDRsMvSi6uS",
        "outputId": "bf0004b5-7ee6-4466-a9ea-823f70b0e979"
      },
      "source": [
        "sns.displot(x='Age_box',kind='kde',data=x_train_df)"
      ],
      "execution_count": 13,
      "outputs": [
        {
          "output_type": "execute_result",
          "data": {
            "text/plain": [
              "<seaborn.axisgrid.FacetGrid at 0x7f3746f03790>"
            ]
          },
          "metadata": {
            "tags": []
          },
          "execution_count": 13
        },
        {
          "output_type": "display_data",
          "data": {
            "image/png": "[encoded data removed]",
            "text/plain": [
              "<Figure size 360x360 with 1 Axes>"
            ]
          },
          "metadata": {
            "tags": [],
            "needs_background": "light"
          }
        }
      ]
    },
    {
      "cell_type": "code",
      "metadata": {
        "id": "A3Eu6qD9Zxl_"
      },
      "source": [
        "# # Converting to wide dataframe\n",
        "# data_wide = x_train_df.pivot(columns = 'Age_Binned_log',\n",
        "#                      values = 'Age_box')\n",
        "  \n",
        "# # plotting multiple density plot\n",
        "# data_wide.plot.kde(figsize = (8, 6),\n",
        "#                    linewidth = 4)"
      ],
      "execution_count": null,
      "outputs": []
    },
    {
      "cell_type": "code",
      "metadata": {
        "colab": {
          "base_uri": "https://localhost:8080/",
          "height": 282
        },
        "id": "5g2y7JvOoPce",
        "outputId": "0abaa26b-f1de-40b6-b5ea-1b4639a5cb8f"
      },
      "source": [
        "# Vintage\n",
        "x_train_df['Vintage'].plot.kde()"
      ],
      "execution_count": 14,
      "outputs": [
        {
          "output_type": "execute_result",
          "data": {
            "text/plain": [
              "<matplotlib.axes._subplots.AxesSubplot at 0x7f374690c410>"
            ]
          },
          "metadata": {
            "tags": []
          },
          "execution_count": 14
        },
        {
          "output_type": "display_data",
          "data": {
            "image/png": "[encoded data removed]",
            "text/plain": [
              "<Figure size 432x288 with 1 Axes>"
            ]
          },
          "metadata": {
            "tags": [],
            "needs_background": "light"
          }
        }
      ]
    },
    {
      "cell_type": "code",
      "metadata": {
        "colab": {
          "base_uri": "https://localhost:8080/",
          "height": 282
        },
        "id": "oWr22JWzohrF",
        "outputId": "2add59b6-a215-4c22-8928-0d55d2b4583e"
      },
      "source": [
        "x_train_df['Vintage_sqrt'] = x_train_df['Vintage'].apply(lambda x: np.sqrt(x))\n",
        "x_train_df['Vintage_sqrt'].plot.kde()"
      ],
      "execution_count": null,
      "outputs": [
        {
          "output_type": "execute_result",
          "data": {
            "text/plain": [
              "<matplotlib.axes._subplots.AxesSubplot at 0x7f543d53d310>"
            ]
          },
          "metadata": {
            "tags": []
          },
          "execution_count": 30
        },
        {
          "output_type": "display_data",
          "data": {
            "image/png": "[encoded data removed]",
            "text/plain": [
              "<Figure size 432x288 with 1 Axes>"
            ]
          },
          "metadata": {
            "tags": [],
            "needs_background": "light"
          }
        }
      ]
    },
    {
      "cell_type": "code",
      "metadata": {
        "colab": {
          "base_uri": "https://localhost:8080/",
          "height": 296
        },
        "id": "K1R8uHc5pDbs",
        "outputId": "7c87652e-f4e8-45a0-fa36-8c0d9238efee"
      },
      "source": [
        "sns.boxplot(x='Vintage',data=x_train_df)"
      ],
      "execution_count": null,
      "outputs": [
        {
          "output_type": "execute_result",
          "data": {
            "text/plain": [
              "<matplotlib.axes._subplots.AxesSubplot at 0x7f543d495cd0>"
            ]
          },
          "metadata": {
            "tags": []
          },
          "execution_count": 31
        },
        {
          "output_type": "display_data",
          "data": {
            "image/png": "[encoded data removed]",
            "text/plain": [
              "<Figure size 432x288 with 1 Axes>"
            ]
          },
          "metadata": {
            "tags": [],
            "needs_background": "light"
          }
        }
      ]
    },
    {
      "cell_type": "code",
      "metadata": {
        "colab": {
          "base_uri": "https://localhost:8080/",
          "height": 297
        },
        "id": "xEyuRhYFpxFN",
        "outputId": "00726b56-679b-4e5f-9510-50a714a7c44e"
      },
      "source": [
        "sns.boxplot(x='Vintage_sqrt',data=x_train_df)"
      ],
      "execution_count": null,
      "outputs": [
        {
          "output_type": "execute_result",
          "data": {
            "text/plain": [
              "<matplotlib.axes._subplots.AxesSubplot at 0x7f543d795890>"
            ]
          },
          "metadata": {
            "tags": []
          },
          "execution_count": 32
        },
        {
          "output_type": "display_data",
          "data": {
            "image/png": "[encoded data removed]",
            "text/plain": [
              "<Figure size 432x288 with 1 Axes>"
            ]
          },
          "metadata": {
            "tags": [],
            "needs_background": "light"
          }
        }
      ]
    },
    {
      "cell_type": "code",
      "metadata": {
        "colab": {
          "base_uri": "https://localhost:8080/",
          "height": 297
        },
        "id": "Ier2wLWNploL",
        "outputId": "145ea3d4-557d-43a6-ae50-4c6df9604004"
      },
      "source": [
        "x_train_df['Vintage_box'], fitted_lambda = scipy.stats.boxcox(x_train_df['Vintage'])\n",
        "sns.boxplot(x='Vintage_box',data=x_train_df)"
      ],
      "execution_count": null,
      "outputs": [
        {
          "output_type": "execute_result",
          "data": {
            "text/plain": [
              "<matplotlib.axes._subplots.AxesSubplot at 0x7f543d7a8a90>"
            ]
          },
          "metadata": {
            "tags": []
          },
          "execution_count": 33
        },
        {
          "output_type": "display_data",
          "data": {
            "image/png": "[encoded data removed]",
            "text/plain": [
              "<Figure size 432x288 with 1 Axes>"
            ]
          },
          "metadata": {
            "tags": [],
            "needs_background": "light"
          }
        }
      ]
    },
    {
      "cell_type": "code",
      "metadata": {
        "colab": {
          "base_uri": "https://localhost:8080/"
        },
        "id": "IpCUcV6hBcLU",
        "outputId": "d9e6a710-8dea-4194-dea8-6c4a974626fe"
      },
      "source": [
        "x_train['Vintage']"
      ],
      "execution_count": null,
      "outputs": [
        {
          "output_type": "execute_result",
          "data": {
            "text/plain": [
              "188708    87\n",
              "17007     69\n",
              "109929    81\n",
              "81455     14\n",
              "77866     21\n",
              "          ..\n",
              "130365    93\n",
              "92303     20\n",
              "6618      26\n",
              "90430     55\n",
              "29828     25\n",
              "Name: Vintage, Length: 184293, dtype: int64"
            ]
          },
          "metadata": {
            "tags": []
          },
          "execution_count": 34
        }
      ]
    },
    {
      "cell_type": "code",
      "metadata": {
        "colab": {
          "base_uri": "https://localhost:8080/",
          "height": 297
        },
        "id": "nGMFBFFdqasD",
        "outputId": "2bb9fde4-b73b-4882-c93b-a9d4ef5d3a90"
      },
      "source": [
        "normalize = MinMaxScaler()\n",
        "array = np.asanyarray(x_train_df['Vintage_box'])\n",
        "array = array.reshape(-1,1)\n",
        "\n",
        "array_norm = normalize.fit_transform(array)\n",
        "\n",
        "std_scaler = StandardScaler()\n",
        "array_std = std_scaler.fit_transform(array_norm)\n",
        "\n",
        "# applying both the functions\n",
        "x_train_df['Vintage_max'] = array_norm\n",
        "# x_train['Vintage_std'] = array_std\n",
        "\n",
        "sns.boxplot(x='Vintage_max',data=x_train_df)\n"
      ],
      "execution_count": null,
      "outputs": [
        {
          "output_type": "execute_result",
          "data": {
            "text/plain": [
              "<matplotlib.axes._subplots.AxesSubplot at 0x7f543d38e090>"
            ]
          },
          "metadata": {
            "tags": []
          },
          "execution_count": 35
        },
        {
          "output_type": "display_data",
          "data": {
            "image/png": "[encoded data removed]",
            "text/plain": [
              "<Figure size 432x288 with 1 Axes>"
            ]
          },
          "metadata": {
            "tags": [],
            "needs_background": "light"
          }
        }
      ]
    },
    {
      "cell_type": "code",
      "metadata": {
        "colab": {
          "base_uri": "https://localhost:8080/",
          "height": 282
        },
        "id": "H7YJqIOurR2n",
        "outputId": "58e057a7-aee4-40b5-c54d-54fbb12de007"
      },
      "source": [
        "x_train_df['Vintage_max'].plot.kde()"
      ],
      "execution_count": null,
      "outputs": [
        {
          "output_type": "execute_result",
          "data": {
            "text/plain": [
              "<matplotlib.axes._subplots.AxesSubplot at 0x7f543d34c2d0>"
            ]
          },
          "metadata": {
            "tags": []
          },
          "execution_count": 0
        },
        {
          "output_type": "display_data",
          "data": {
            "image/png": "[encoded data removed]",
            "text/plain": [
              "<Figure size 432x288 with 1 Axes>"
            ]
          },
          "metadata": {
            "tags": []
          }
        }
      ]
    },
    {
      "cell_type": "code",
      "metadata": {
        "colab": {
          "base_uri": "https://localhost:8080/",
          "height": 439
        },
        "id": "sb1Cvrj1DNv4",
        "outputId": "8def83bc-2e2e-4cc0-f4df-20edeb14b1aa"
      },
      "source": [
        "# reshaping the column to apply minmax scaler\n",
        "array = np.asanyarray(x_train_df['Age_Binned'])\n",
        "array = array.reshape(-1,1)\n",
        "\n",
        "# normalizing using minmax scaler\n",
        "enc = OneHotEncoder()\n",
        "array_enc = enc.fit_transform(array)\n",
        "\n",
        "x_train_df"
      ],
      "execution_count": null,
      "outputs": [
        {
          "output_type": "execute_result",
          "data": {
            "text/html": [
              "<div>\n",
              "<style scoped>\n",
              "    .dataframe tbody tr th:only-of-type {\n",
              "        vertical-align: middle;\n",
              "    }\n",
              "\n",
              "    .dataframe tbody tr th {\n",
              "        vertical-align: top;\n",
              "    }\n",
              "\n",
              "    .dataframe thead th {\n",
              "        text-align: right;\n",
              "    }\n",
              "</style>\n",
              "<table border=\"1\" class=\"dataframe\">\n",
              "  <thead>\n",
              "    <tr style=\"text-align: right;\">\n",
              "      <th></th>\n",
              "      <th>Gender</th>\n",
              "      <th>Age</th>\n",
              "      <th>Region_Code</th>\n",
              "      <th>Occupation</th>\n",
              "      <th>Channel_Code</th>\n",
              "      <th>Vintage</th>\n",
              "      <th>Credit_Product</th>\n",
              "      <th>Avg_Account_Balance</th>\n",
              "      <th>Is_Active</th>\n",
              "      <th>Is_Lead</th>\n",
              "      <th>Region_Code_proc</th>\n",
              "      <th>Channel_Code_proc</th>\n",
              "      <th>Gender_proc</th>\n",
              "      <th>Occupation_proc</th>\n",
              "      <th>Is_Active_proc</th>\n",
              "      <th>Credit_Product_proc</th>\n",
              "      <th>Avg_Account_Balance_log</th>\n",
              "      <th>Age_Binned</th>\n",
              "      <th>Age_box</th>\n",
              "      <th>Vintage_sqrt</th>\n",
              "      <th>Vintage_box</th>\n",
              "      <th>Vintage_max</th>\n",
              "    </tr>\n",
              "  </thead>\n",
              "  <tbody>\n",
              "    <tr>\n",
              "      <th>188708</th>\n",
              "      <td>Male</td>\n",
              "      <td>44</td>\n",
              "      <td>RG268</td>\n",
              "      <td>Self_Employed</td>\n",
              "      <td>X3</td>\n",
              "      <td>87</td>\n",
              "      <td>No</td>\n",
              "      <td>543460</td>\n",
              "      <td>No</td>\n",
              "      <td>0</td>\n",
              "      <td>268</td>\n",
              "      <td>3</td>\n",
              "      <td>0</td>\n",
              "      <td>1</td>\n",
              "      <td>0</td>\n",
              "      <td>0</td>\n",
              "      <td>13.205711</td>\n",
              "      <td>40-60</td>\n",
              "      <td>2.382262</td>\n",
              "      <td>9.327379</td>\n",
              "      <td>3.595466</td>\n",
              "      <td>0.869727</td>\n",
              "    </tr>\n",
              "    <tr>\n",
              "      <th>17007</th>\n",
              "      <td>Female</td>\n",
              "      <td>50</td>\n",
              "      <td>RG252</td>\n",
              "      <td>Self_Employed</td>\n",
              "      <td>X2</td>\n",
              "      <td>69</td>\n",
              "      <td>No</td>\n",
              "      <td>891895</td>\n",
              "      <td>Yes</td>\n",
              "      <td>0</td>\n",
              "      <td>252</td>\n",
              "      <td>2</td>\n",
              "      <td>1</td>\n",
              "      <td>1</td>\n",
              "      <td>1</td>\n",
              "      <td>0</td>\n",
              "      <td>13.701104</td>\n",
              "      <td>40-60</td>\n",
              "      <td>2.428043</td>\n",
              "      <td>8.306624</td>\n",
              "      <td>3.445993</td>\n",
              "      <td>0.798635</td>\n",
              "    </tr>\n",
              "    <tr>\n",
              "      <th>109929</th>\n",
              "      <td>Male</td>\n",
              "      <td>77</td>\n",
              "      <td>RG284</td>\n",
              "      <td>Other</td>\n",
              "      <td>X3</td>\n",
              "      <td>81</td>\n",
              "      <td>No</td>\n",
              "      <td>1163416</td>\n",
              "      <td>No</td>\n",
              "      <td>0</td>\n",
              "      <td>284</td>\n",
              "      <td>3</td>\n",
              "      <td>0</td>\n",
              "      <td>2</td>\n",
              "      <td>0</td>\n",
              "      <td>0</td>\n",
              "      <td>13.966871</td>\n",
              "      <td>60+</td>\n",
              "      <td>2.571627</td>\n",
              "      <td>9.000000</td>\n",
              "      <td>3.549759</td>\n",
              "      <td>0.847988</td>\n",
              "    </tr>\n",
              "    <tr>\n",
              "      <th>81455</th>\n",
              "      <td>Male</td>\n",
              "      <td>74</td>\n",
              "      <td>RG283</td>\n",
              "      <td>Other</td>\n",
              "      <td>X1</td>\n",
              "      <td>14</td>\n",
              "      <td>No</td>\n",
              "      <td>1720031</td>\n",
              "      <td>No</td>\n",
              "      <td>0</td>\n",
              "      <td>283</td>\n",
              "      <td>1</td>\n",
              "      <td>0</td>\n",
              "      <td>2</td>\n",
              "      <td>0</td>\n",
              "      <td>0</td>\n",
              "      <td>14.357853</td>\n",
              "      <td>60+</td>\n",
              "      <td>2.559092</td>\n",
              "      <td>3.741657</td>\n",
              "      <td>2.316994</td>\n",
              "      <td>0.261663</td>\n",
              "    </tr>\n",
              "    <tr>\n",
              "      <th>77866</th>\n",
              "      <td>Female</td>\n",
              "      <td>25</td>\n",
              "      <td>RG283</td>\n",
              "      <td>Other</td>\n",
              "      <td>X1</td>\n",
              "      <td>21</td>\n",
              "      <td>No</td>\n",
              "      <td>1489690</td>\n",
              "      <td>Yes</td>\n",
              "      <td>0</td>\n",
              "      <td>283</td>\n",
              "      <td>1</td>\n",
              "      <td>1</td>\n",
              "      <td>2</td>\n",
              "      <td>1</td>\n",
              "      <td>0</td>\n",
              "      <td>14.214079</td>\n",
              "      <td>20-40</td>\n",
              "      <td>2.159984</td>\n",
              "      <td>4.582576</td>\n",
              "      <td>2.621427</td>\n",
              "      <td>0.406457</td>\n",
              "    </tr>\n",
              "    <tr>\n",
              "      <th>...</th>\n",
              "      <td>...</td>\n",
              "      <td>...</td>\n",
              "      <td>...</td>\n",
              "      <td>...</td>\n",
              "      <td>...</td>\n",
              "      <td>...</td>\n",
              "      <td>...</td>\n",
              "      <td>...</td>\n",
              "      <td>...</td>\n",
              "      <td>...</td>\n",
              "      <td>...</td>\n",
              "      <td>...</td>\n",
              "      <td>...</td>\n",
              "      <td>...</td>\n",
              "      <td>...</td>\n",
              "      <td>...</td>\n",
              "      <td>...</td>\n",
              "      <td>...</td>\n",
              "      <td>...</td>\n",
              "      <td>...</td>\n",
              "      <td>...</td>\n",
              "      <td>...</td>\n",
              "    </tr>\n",
              "    <tr>\n",
              "      <th>130365</th>\n",
              "      <td>Female</td>\n",
              "      <td>68</td>\n",
              "      <td>RG254</td>\n",
              "      <td>Other</td>\n",
              "      <td>X3</td>\n",
              "      <td>93</td>\n",
              "      <td>No</td>\n",
              "      <td>2039817</td>\n",
              "      <td>Yes</td>\n",
              "      <td>0</td>\n",
              "      <td>254</td>\n",
              "      <td>3</td>\n",
              "      <td>1</td>\n",
              "      <td>2</td>\n",
              "      <td>1</td>\n",
              "      <td>0</td>\n",
              "      <td>14.528371</td>\n",
              "      <td>60+</td>\n",
              "      <td>2.531975</td>\n",
              "      <td>9.643651</td>\n",
              "      <td>3.637827</td>\n",
              "      <td>0.889875</td>\n",
              "    </tr>\n",
              "    <tr>\n",
              "      <th>92303</th>\n",
              "      <td>Female</td>\n",
              "      <td>34</td>\n",
              "      <td>RG284</td>\n",
              "      <td>Salaried</td>\n",
              "      <td>X1</td>\n",
              "      <td>20</td>\n",
              "      <td>No</td>\n",
              "      <td>873268</td>\n",
              "      <td>Yes</td>\n",
              "      <td>0</td>\n",
              "      <td>284</td>\n",
              "      <td>1</td>\n",
              "      <td>1</td>\n",
              "      <td>3</td>\n",
              "      <td>1</td>\n",
              "      <td>0</td>\n",
              "      <td>13.679998</td>\n",
              "      <td>20-40</td>\n",
              "      <td>2.285033</td>\n",
              "      <td>4.472136</td>\n",
              "      <td>2.585449</td>\n",
              "      <td>0.389346</td>\n",
              "    </tr>\n",
              "    <tr>\n",
              "      <th>6618</th>\n",
              "      <td>Male</td>\n",
              "      <td>28</td>\n",
              "      <td>RG253</td>\n",
              "      <td>Other</td>\n",
              "      <td>X1</td>\n",
              "      <td>26</td>\n",
              "      <td>No</td>\n",
              "      <td>1186040</td>\n",
              "      <td>Yes</td>\n",
              "      <td>0</td>\n",
              "      <td>253</td>\n",
              "      <td>1</td>\n",
              "      <td>0</td>\n",
              "      <td>2</td>\n",
              "      <td>1</td>\n",
              "      <td>0</td>\n",
              "      <td>13.986131</td>\n",
              "      <td>20-40</td>\n",
              "      <td>2.207271</td>\n",
              "      <td>5.099020</td>\n",
              "      <td>2.776846</td>\n",
              "      <td>0.480377</td>\n",
              "    </tr>\n",
              "    <tr>\n",
              "      <th>90430</th>\n",
              "      <td>Female</td>\n",
              "      <td>50</td>\n",
              "      <td>RG284</td>\n",
              "      <td>Salaried</td>\n",
              "      <td>X2</td>\n",
              "      <td>55</td>\n",
              "      <td>No</td>\n",
              "      <td>1649000</td>\n",
              "      <td>Yes</td>\n",
              "      <td>1</td>\n",
              "      <td>284</td>\n",
              "      <td>2</td>\n",
              "      <td>1</td>\n",
              "      <td>3</td>\n",
              "      <td>1</td>\n",
              "      <td>0</td>\n",
              "      <td>14.315680</td>\n",
              "      <td>40-60</td>\n",
              "      <td>2.428043</td>\n",
              "      <td>7.416198</td>\n",
              "      <td>3.296341</td>\n",
              "      <td>0.727458</td>\n",
              "    </tr>\n",
              "    <tr>\n",
              "      <th>29828</th>\n",
              "      <td>Female</td>\n",
              "      <td>31</td>\n",
              "      <td>RG255</td>\n",
              "      <td>Salaried</td>\n",
              "      <td>X1</td>\n",
              "      <td>25</td>\n",
              "      <td>No</td>\n",
              "      <td>1309430</td>\n",
              "      <td>No</td>\n",
              "      <td>0</td>\n",
              "      <td>255</td>\n",
              "      <td>1</td>\n",
              "      <td>1</td>\n",
              "      <td>3</td>\n",
              "      <td>0</td>\n",
              "      <td>0</td>\n",
              "      <td>14.085102</td>\n",
              "      <td>20-40</td>\n",
              "      <td>2.248539</td>\n",
              "      <td>5.000000</td>\n",
              "      <td>2.748555</td>\n",
              "      <td>0.466921</td>\n",
              "    </tr>\n",
              "  </tbody>\n",
              "</table>\n",
              "<p>184293 rows × 22 columns</p>\n",
              "</div>"
            ],
            "text/plain": [
              "        Gender  Age Region_Code  ... Vintage_sqrt Vintage_box  Vintage_max\n",
              "188708    Male   44       RG268  ...     9.327379    3.595466     0.869727\n",
              "17007   Female   50       RG252  ...     8.306624    3.445993     0.798635\n",
              "109929    Male   77       RG284  ...     9.000000    3.549759     0.847988\n",
              "81455     Male   74       RG283  ...     3.741657    2.316994     0.261663\n",
              "77866   Female   25       RG283  ...     4.582576    2.621427     0.406457\n",
              "...        ...  ...         ...  ...          ...         ...          ...\n",
              "130365  Female   68       RG254  ...     9.643651    3.637827     0.889875\n",
              "92303   Female   34       RG284  ...     4.472136    2.585449     0.389346\n",
              "6618      Male   28       RG253  ...     5.099020    2.776846     0.480377\n",
              "90430   Female   50       RG284  ...     7.416198    3.296341     0.727458\n",
              "29828   Female   31       RG255  ...     5.000000    2.748555     0.466921\n",
              "\n",
              "[184293 rows x 22 columns]"
            ]
          },
          "metadata": {
            "tags": []
          },
          "execution_count": 38
        }
      ]
    },
    {
      "cell_type": "markdown",
      "metadata": {
        "id": "aeeVyW4TzqDB"
      },
      "source": [
        "## tranform function"
      ]
    },
    {
      "cell_type": "code",
      "metadata": {
        "id": "D08wQgOXzNZW"
      },
      "source": [
        "def transform(dframe):\n",
        "  # apply the transformations in dframe\n",
        "  \n",
        "  # ---------------------------- Functions -----------------------------------\n",
        "  \n",
        "  def bin_age(x):\n",
        "    # catagories = ['0-20','20-40','40-60','60+']\n",
        "    cat = ''\n",
        "    \n",
        "    if x>20 and x<=40:\n",
        "      cat = '20-40'\n",
        "    elif x>40 and x<=60:\n",
        "      cat = '40-60'\n",
        "    elif x>60 :\n",
        "      cat = '60+'\n",
        "    else :\n",
        "      cat = '0-20'\n",
        "    return cat\n",
        "\n",
        "  def log_transform(x):\n",
        "    # transforms x to log\n",
        "    result = 0.0\n",
        "    if x!=0:\n",
        "      result = np.log(x)\n",
        "    else:\n",
        "      result = np.log(0.00001)\n",
        "    return result\n",
        "\n",
        "  # ----------------------------------------------------------------------------\n",
        "  \n",
        "  # transforming age\n",
        "  # creating age bins\n",
        "  dframe['Age_Binned'] = dframe['Age'].apply(lambda x: bin_age(x))\n",
        "  dframe = one_hot(dframe, 'Age_Binned')\n",
        "  # applying boxcox transformation\n",
        "  dframe['Age_box'], fitted_lambda = scipy.stats.boxcox(dframe['Age'])\n",
        "\n",
        "  # transforming balance\n",
        "  dframe['Avg_Account_Balance_log'] = dframe['Avg_Account_Balance'].apply(lambda x: log_transform(x))\n",
        "\n",
        "  # transforming vintage\n",
        "  # applying boxcox transfrom\n",
        "  dframe['Vintage_box'], fitted_lambda = scipy.stats.boxcox(dframe['Vintage'])\n",
        "  # reshaping the column to apply minmax scaler\n",
        "  array = np.asanyarray(dframe['Vintage_box'])\n",
        "  array = array.reshape(-1,1)\n",
        "  \n",
        "  # normalizing using minmax scaler\n",
        "  normalize = MinMaxScaler()\n",
        "  array_norm = normalize.fit_transform(array)\n",
        "\n",
        "  # applying standard_scaler\n",
        "  std_scaler = StandardScaler()\n",
        "  array_std = std_scaler.fit_transform(array_norm)\n",
        "\n",
        "  # applying both the functions\n",
        "  dframe['Vintage_max'] = array_norm\n",
        "\n",
        "  return dframe"
      ],
      "execution_count": 15,
      "outputs": []
    },
    {
      "cell_type": "code",
      "metadata": {
        "id": "V58PthaEGbTo"
      },
      "source": [
        "def get_features(dframe):\n",
        "  feature_list_to_use = ['Channel_Code_proc_0','Channel_Code_proc_1', 'Channel_Code_proc_2', 'Channel_Code_proc_3',\n",
        "  'Gender_proc_0', 'Gender_proc_1',\n",
        "  'Occupation_proc_0', 'Occupation_proc_1', 'Occupation_proc_2','Occupation_proc_3',\n",
        "  'Is_Active_proc_0', 'Is_Active_proc_1', \n",
        "  'Credit_Product_proc_0', 'Credit_Product_proc_1',\n",
        "  'Age_Binned_0', 'Age_Binned_1','Age_Binned_2', \n",
        "  'Avg_Account_Balance_log', 'Vintage_max']\n",
        "  return dframe[feature_list_to_use]"
      ],
      "execution_count": 213,
      "outputs": []
    },
    {
      "cell_type": "code",
      "metadata": {
        "colab": {
          "base_uri": "https://localhost:8080/"
        },
        "id": "7EAopiDF-1eB",
        "outputId": "e11468a2-362e-41cd-f4a5-7817fa4c11b0"
      },
      "source": [
        "x_train_df.columns"
      ],
      "execution_count": 37,
      "outputs": [
        {
          "output_type": "execute_result",
          "data": {
            "text/plain": [
              "Index(['Gender', 'Age', 'Region_Code', 'Occupation', 'Channel_Code', 'Vintage',\n",
              "       'Credit_Product', 'Avg_Account_Balance', 'Is_Active', 'Is_Lead',\n",
              "       'Region_Code_proc', 'Channel_Code_proc', 'Channel_Code_proc_0',\n",
              "       'Channel_Code_proc_1', 'Channel_Code_proc_2', 'Channel_Code_proc_3',\n",
              "       'Gender_proc', 'Gender_proc_0', 'Gender_proc_1', 'Occupation_proc',\n",
              "       'Occupation_proc_0', 'Occupation_proc_1', 'Occupation_proc_2',\n",
              "       'Occupation_proc_3', 'Is_Active_proc', 'Is_Active_proc_0',\n",
              "       'Is_Active_proc_1', 'Credit_Product_proc', 'Credit_Product_proc_0',\n",
              "       'Credit_Product_proc_1', 'Avg_Account_Balance_log', 'Age_Binned'],\n",
              "      dtype='object')"
            ]
          },
          "metadata": {
            "tags": []
          },
          "execution_count": 37
        }
      ]
    },
    {
      "cell_type": "code",
      "metadata": {
        "id": "1m46TwmdBDhM"
      },
      "source": [
        "x_train = get_raw_train_data()"
      ],
      "execution_count": 38,
      "outputs": []
    },
    {
      "cell_type": "code",
      "metadata": {
        "colab": {
          "base_uri": "https://localhost:8080/",
          "height": 419
        },
        "id": "q7j_JxOGBHw1",
        "outputId": "98209ec9-5ffb-4563-c5f6-32aee30fca1a"
      },
      "source": [
        "x_train"
      ],
      "execution_count": 39,
      "outputs": [
        {
          "output_type": "execute_result",
          "data": {
            "text/html": [
              "<div>\n",
              "<style scoped>\n",
              "    .dataframe tbody tr th:only-of-type {\n",
              "        vertical-align: middle;\n",
              "    }\n",
              "\n",
              "    .dataframe tbody tr th {\n",
              "        vertical-align: top;\n",
              "    }\n",
              "\n",
              "    .dataframe thead th {\n",
              "        text-align: right;\n",
              "    }\n",
              "</style>\n",
              "<table border=\"1\" class=\"dataframe\">\n",
              "  <thead>\n",
              "    <tr style=\"text-align: right;\">\n",
              "      <th></th>\n",
              "      <th>Gender</th>\n",
              "      <th>Age</th>\n",
              "      <th>Region_Code</th>\n",
              "      <th>Occupation</th>\n",
              "      <th>Channel_Code</th>\n",
              "      <th>Vintage</th>\n",
              "      <th>Credit_Product</th>\n",
              "      <th>Avg_Account_Balance</th>\n",
              "      <th>Is_Active</th>\n",
              "    </tr>\n",
              "  </thead>\n",
              "  <tbody>\n",
              "    <tr>\n",
              "      <th>188708</th>\n",
              "      <td>Male</td>\n",
              "      <td>44</td>\n",
              "      <td>RG268</td>\n",
              "      <td>Self_Employed</td>\n",
              "      <td>X3</td>\n",
              "      <td>87</td>\n",
              "      <td>No</td>\n",
              "      <td>543460</td>\n",
              "      <td>No</td>\n",
              "    </tr>\n",
              "    <tr>\n",
              "      <th>17007</th>\n",
              "      <td>Female</td>\n",
              "      <td>50</td>\n",
              "      <td>RG252</td>\n",
              "      <td>Self_Employed</td>\n",
              "      <td>X2</td>\n",
              "      <td>69</td>\n",
              "      <td>No</td>\n",
              "      <td>891895</td>\n",
              "      <td>Yes</td>\n",
              "    </tr>\n",
              "    <tr>\n",
              "      <th>109929</th>\n",
              "      <td>Male</td>\n",
              "      <td>77</td>\n",
              "      <td>RG284</td>\n",
              "      <td>Other</td>\n",
              "      <td>X3</td>\n",
              "      <td>81</td>\n",
              "      <td>No</td>\n",
              "      <td>1163416</td>\n",
              "      <td>No</td>\n",
              "    </tr>\n",
              "    <tr>\n",
              "      <th>81455</th>\n",
              "      <td>Male</td>\n",
              "      <td>74</td>\n",
              "      <td>RG283</td>\n",
              "      <td>Other</td>\n",
              "      <td>X1</td>\n",
              "      <td>14</td>\n",
              "      <td>No</td>\n",
              "      <td>1720031</td>\n",
              "      <td>No</td>\n",
              "    </tr>\n",
              "    <tr>\n",
              "      <th>77866</th>\n",
              "      <td>Female</td>\n",
              "      <td>25</td>\n",
              "      <td>RG283</td>\n",
              "      <td>Other</td>\n",
              "      <td>X1</td>\n",
              "      <td>21</td>\n",
              "      <td>No</td>\n",
              "      <td>1489690</td>\n",
              "      <td>Yes</td>\n",
              "    </tr>\n",
              "    <tr>\n",
              "      <th>...</th>\n",
              "      <td>...</td>\n",
              "      <td>...</td>\n",
              "      <td>...</td>\n",
              "      <td>...</td>\n",
              "      <td>...</td>\n",
              "      <td>...</td>\n",
              "      <td>...</td>\n",
              "      <td>...</td>\n",
              "      <td>...</td>\n",
              "    </tr>\n",
              "    <tr>\n",
              "      <th>130365</th>\n",
              "      <td>Female</td>\n",
              "      <td>68</td>\n",
              "      <td>RG254</td>\n",
              "      <td>Other</td>\n",
              "      <td>X3</td>\n",
              "      <td>93</td>\n",
              "      <td>No</td>\n",
              "      <td>2039817</td>\n",
              "      <td>Yes</td>\n",
              "    </tr>\n",
              "    <tr>\n",
              "      <th>92303</th>\n",
              "      <td>Female</td>\n",
              "      <td>34</td>\n",
              "      <td>RG284</td>\n",
              "      <td>Salaried</td>\n",
              "      <td>X1</td>\n",
              "      <td>20</td>\n",
              "      <td>No</td>\n",
              "      <td>873268</td>\n",
              "      <td>Yes</td>\n",
              "    </tr>\n",
              "    <tr>\n",
              "      <th>6618</th>\n",
              "      <td>Male</td>\n",
              "      <td>28</td>\n",
              "      <td>RG253</td>\n",
              "      <td>Other</td>\n",
              "      <td>X1</td>\n",
              "      <td>26</td>\n",
              "      <td>No</td>\n",
              "      <td>1186040</td>\n",
              "      <td>Yes</td>\n",
              "    </tr>\n",
              "    <tr>\n",
              "      <th>90430</th>\n",
              "      <td>Female</td>\n",
              "      <td>50</td>\n",
              "      <td>RG284</td>\n",
              "      <td>Salaried</td>\n",
              "      <td>X2</td>\n",
              "      <td>55</td>\n",
              "      <td>NaN</td>\n",
              "      <td>1649000</td>\n",
              "      <td>Yes</td>\n",
              "    </tr>\n",
              "    <tr>\n",
              "      <th>29828</th>\n",
              "      <td>Female</td>\n",
              "      <td>31</td>\n",
              "      <td>RG255</td>\n",
              "      <td>Salaried</td>\n",
              "      <td>X1</td>\n",
              "      <td>25</td>\n",
              "      <td>No</td>\n",
              "      <td>1309430</td>\n",
              "      <td>No</td>\n",
              "    </tr>\n",
              "  </tbody>\n",
              "</table>\n",
              "<p>184293 rows × 9 columns</p>\n",
              "</div>"
            ],
            "text/plain": [
              "        Gender  Age Region_Code  ... Credit_Product Avg_Account_Balance  Is_Active\n",
              "188708    Male   44       RG268  ...             No              543460         No\n",
              "17007   Female   50       RG252  ...             No              891895        Yes\n",
              "109929    Male   77       RG284  ...             No             1163416         No\n",
              "81455     Male   74       RG283  ...             No             1720031         No\n",
              "77866   Female   25       RG283  ...             No             1489690        Yes\n",
              "...        ...  ...         ...  ...            ...                 ...        ...\n",
              "130365  Female   68       RG254  ...             No             2039817        Yes\n",
              "92303   Female   34       RG284  ...             No              873268        Yes\n",
              "6618      Male   28       RG253  ...             No             1186040        Yes\n",
              "90430   Female   50       RG284  ...            NaN             1649000        Yes\n",
              "29828   Female   31       RG255  ...             No             1309430         No\n",
              "\n",
              "[184293 rows x 9 columns]"
            ]
          },
          "metadata": {
            "tags": []
          },
          "execution_count": 39
        }
      ]
    },
    {
      "cell_type": "code",
      "metadata": {
        "id": "5LrpOflz-7zn"
      },
      "source": [
        "def process_all(dframe):\n",
        "  dframe = process(dframe)\n",
        "  dframe = transform(dframe)\n",
        "  print('transformed successfully')\n",
        "  dframe = get_features(dframe)\n",
        "  \n",
        "  print('features engineered')\n",
        "  return dframe\n"
      ],
      "execution_count": 17,
      "outputs": []
    },
    {
      "cell_type": "code",
      "metadata": {
        "colab": {
          "base_uri": "https://localhost:8080/"
        },
        "id": "eF4OeAkSCdvI",
        "outputId": "9b7542b2-ca03-4eb9-9370-94955c6dbfd4"
      },
      "source": [
        "x_train.info()"
      ],
      "execution_count": 18,
      "outputs": [
        {
          "output_type": "stream",
          "text": [
            "<class 'pandas.core.frame.DataFrame'>\n",
            "Int64Index: 184293 entries, 188708 to 29828\n",
            "Data columns (total 9 columns):\n",
            " #   Column               Non-Null Count   Dtype \n",
            "---  ------               --------------   ----- \n",
            " 0   Gender               184293 non-null  object\n",
            " 1   Age                  184293 non-null  int64 \n",
            " 2   Region_Code          184293 non-null  object\n",
            " 3   Occupation           184293 non-null  object\n",
            " 4   Channel_Code         184293 non-null  object\n",
            " 5   Vintage              184293 non-null  int64 \n",
            " 6   Credit_Product       162400 non-null  object\n",
            " 7   Avg_Account_Balance  184293 non-null  int64 \n",
            " 8   Is_Active            184293 non-null  object\n",
            "dtypes: int64(3), object(6)\n",
            "memory usage: 14.1+ MB\n"
          ],
          "name": "stdout"
        }
      ]
    },
    {
      "cell_type": "markdown",
      "metadata": {
        "id": "AE0LrY4NxtDb"
      },
      "source": [
        "## jump here"
      ]
    },
    {
      "cell_type": "code",
      "metadata": {
        "colab": {
          "base_uri": "https://localhost:8080/",
          "height": 401
        },
        "id": "zHTRuUh5OWQw",
        "outputId": "c3a547b6-2e15-4ce0-8973-6097f85d3643"
      },
      "source": [
        "# sns.catplot(x=\"Channel_Code\", kind=\"count\", hue = \"Is_Lead\", palette=\"ch:.25\", data=x_train_visual)\n",
        "# # df['Channel_Code'].plot.kde()"
      ],
      "execution_count": null,
      "outputs": [
        {
          "output_type": "execute_result",
          "data": {
            "text/plain": [
              "<seaborn.axisgrid.FacetGrid at 0x7fba3704f610>"
            ]
          },
          "metadata": {
            "tags": []
          },
          "execution_count": 24
        },
        {
          "output_type": "display_data",
          "data": {
            "image/png": "[encoded data removed]",
            "text/plain": [
              "<Figure size 405.125x360 with 1 Axes>"
            ]
          },
          "metadata": {
            "tags": [],
            "needs_background": "light"
          }
        }
      ]
    },
    {
      "cell_type": "markdown",
      "metadata": {
        "id": "etbWHnQpwAro"
      },
      "source": [
        "# #Preparing train and test"
      ]
    },
    {
      "cell_type": "code",
      "metadata": {
        "colab": {
          "base_uri": "https://localhost:8080/"
        },
        "id": "BQC0x170UdGQ",
        "outputId": "b3eeb96c-a463-46a0-b93e-30d935b7484b"
      },
      "source": [
        "x_train = process_all(x_train)\n",
        "# processing x_test\n",
        "print('X_TRAIN Processed successfully')\n",
        "x_test_raw = x_test.copy()\n",
        "x_test_check = x_test_raw.copy()\n",
        "x_test = process_all(x_test)\n",
        "print('X_TEST Processed successfully')"
      ],
      "execution_count": 215,
      "outputs": [
        {
          "output_type": "stream",
          "text": [
            "Region Code Processed Successfully\n",
            "Channel Code Processed Successfully\n",
            "Gender Processed Successfully\n",
            "Occupation Processed Successfully\n",
            "Is Active Processed Successfully\n",
            "transformed successfully\n",
            "features engineered\n",
            "X_TRAIN Processed successfully\n",
            "Region Code Processed Successfully\n",
            "Channel Code Processed Successfully\n",
            "Gender Processed Successfully\n",
            "Occupation Processed Successfully\n",
            "Is Active Processed Successfully\n",
            "transformed successfully\n",
            "features engineered\n",
            "X_TEST Processed successfully\n"
          ],
          "name": "stdout"
        }
      ]
    },
    {
      "cell_type": "markdown",
      "metadata": {
        "id": "mkIB3tuMwU4l"
      },
      "source": [
        "# Model Fitting"
      ]
    },
    {
      "cell_type": "markdown",
      "metadata": {
        "id": "g4sgJY5AnIMB"
      },
      "source": [
        "## Rforest"
      ]
    },
    {
      "cell_type": "code",
      "metadata": {
        "id": "57I74VD2sIiv"
      },
      "source": [
        "def metrics(Pred, Classifier, X_Test=x_test, labels=y_test):\n",
        "  # prints different metrics\n",
        "  accuracy = accuracy_score(y_true=labels, y_pred=Pred)\n",
        "  roc_auc = roc_auc_score(y_true=labels, y_score=Pred)\n",
        "  print(f'Accuracy: {accuracy} \\n ROC_AUC_Score: {roc_auc}')\n",
        "  \n",
        "  plot_confusion_matrix(estimator= Classifier,X=X_Test, y_true=labels, values_format= '.3f')\n",
        "  \n",
        "  plot_roc_curve(Classifier, X=X_Test, y=labels)\n",
        "\n",
        "  return accuracy, roc_auc_score"
      ],
      "execution_count": 87,
      "outputs": []
    },
    {
      "cell_type": "code",
      "metadata": {
        "id": "3eCRcw27jkPi",
        "colab": {
          "base_uri": "https://localhost:8080/"
        },
        "outputId": "474457cb-287f-4f98-f92c-9cfe7fa1ef9d"
      },
      "source": [
        "# %% Implementing Random Forests\n",
        "clf_rforest = RandomForestClassifier(random_state= 10, max_features=\"log2\", oob_score= True)\n",
        "clf_rforest.fit(x_train, y_train)"
      ],
      "execution_count": 21,
      "outputs": [
        {
          "output_type": "execute_result",
          "data": {
            "text/plain": [
              "RandomForestClassifier(bootstrap=True, ccp_alpha=0.0, class_weight=None,\n",
              "                       criterion='gini', max_depth=None, max_features='log2',\n",
              "                       max_leaf_nodes=None, max_samples=None,\n",
              "                       min_impurity_decrease=0.0, min_impurity_split=None,\n",
              "                       min_samples_leaf=1, min_samples_split=2,\n",
              "                       min_weight_fraction_leaf=0.0, n_estimators=100,\n",
              "                       n_jobs=None, oob_score=True, random_state=10, verbose=0,\n",
              "                       warm_start=False)"
            ]
          },
          "metadata": {
            "tags": []
          },
          "execution_count": 21
        }
      ]
    },
    {
      "cell_type": "code",
      "metadata": {
        "id": "Tjswb5ALIy1-",
        "colab": {
          "base_uri": "https://localhost:8080/",
          "height": 439
        },
        "outputId": "82df0572-c633-4215-d06c-cadaec9f9e35"
      },
      "source": [
        "x_train"
      ],
      "execution_count": 88,
      "outputs": [
        {
          "output_type": "execute_result",
          "data": {
            "text/html": [
              "<div>\n",
              "<style scoped>\n",
              "    .dataframe tbody tr th:only-of-type {\n",
              "        vertical-align: middle;\n",
              "    }\n",
              "\n",
              "    .dataframe tbody tr th {\n",
              "        vertical-align: top;\n",
              "    }\n",
              "\n",
              "    .dataframe thead th {\n",
              "        text-align: right;\n",
              "    }\n",
              "</style>\n",
              "<table border=\"1\" class=\"dataframe\">\n",
              "  <thead>\n",
              "    <tr style=\"text-align: right;\">\n",
              "      <th></th>\n",
              "      <th>Channel_Code_proc_0</th>\n",
              "      <th>Channel_Code_proc_1</th>\n",
              "      <th>Channel_Code_proc_2</th>\n",
              "      <th>Channel_Code_proc_3</th>\n",
              "      <th>Gender_proc_0</th>\n",
              "      <th>Gender_proc_1</th>\n",
              "      <th>Occupation_proc_0</th>\n",
              "      <th>Occupation_proc_1</th>\n",
              "      <th>Occupation_proc_2</th>\n",
              "      <th>Occupation_proc_3</th>\n",
              "      <th>Is_Active_proc_0</th>\n",
              "      <th>Is_Active_proc_1</th>\n",
              "      <th>Credit_Product_proc_0</th>\n",
              "      <th>Credit_Product_proc_1</th>\n",
              "      <th>Age_Binned_0</th>\n",
              "      <th>Age_Binned_1</th>\n",
              "      <th>Age_Binned_2</th>\n",
              "      <th>Age_box</th>\n",
              "      <th>Avg_Account_Balance_log</th>\n",
              "      <th>Vintage_max</th>\n",
              "    </tr>\n",
              "  </thead>\n",
              "  <tbody>\n",
              "    <tr>\n",
              "      <th>188708</th>\n",
              "      <td>0.0</td>\n",
              "      <td>0.0</td>\n",
              "      <td>1.0</td>\n",
              "      <td>0.0</td>\n",
              "      <td>1.0</td>\n",
              "      <td>0.0</td>\n",
              "      <td>1.0</td>\n",
              "      <td>0.0</td>\n",
              "      <td>0.0</td>\n",
              "      <td>0.0</td>\n",
              "      <td>1.0</td>\n",
              "      <td>0.0</td>\n",
              "      <td>1.0</td>\n",
              "      <td>0.0</td>\n",
              "      <td>0.0</td>\n",
              "      <td>1.0</td>\n",
              "      <td>0.0</td>\n",
              "      <td>2.382262</td>\n",
              "      <td>13.205711</td>\n",
              "      <td>0.869727</td>\n",
              "    </tr>\n",
              "    <tr>\n",
              "      <th>17007</th>\n",
              "      <td>0.0</td>\n",
              "      <td>1.0</td>\n",
              "      <td>0.0</td>\n",
              "      <td>0.0</td>\n",
              "      <td>0.0</td>\n",
              "      <td>1.0</td>\n",
              "      <td>1.0</td>\n",
              "      <td>0.0</td>\n",
              "      <td>0.0</td>\n",
              "      <td>0.0</td>\n",
              "      <td>0.0</td>\n",
              "      <td>1.0</td>\n",
              "      <td>1.0</td>\n",
              "      <td>0.0</td>\n",
              "      <td>0.0</td>\n",
              "      <td>1.0</td>\n",
              "      <td>0.0</td>\n",
              "      <td>2.428043</td>\n",
              "      <td>13.701104</td>\n",
              "      <td>0.798635</td>\n",
              "    </tr>\n",
              "    <tr>\n",
              "      <th>109929</th>\n",
              "      <td>0.0</td>\n",
              "      <td>0.0</td>\n",
              "      <td>1.0</td>\n",
              "      <td>0.0</td>\n",
              "      <td>1.0</td>\n",
              "      <td>0.0</td>\n",
              "      <td>0.0</td>\n",
              "      <td>1.0</td>\n",
              "      <td>0.0</td>\n",
              "      <td>0.0</td>\n",
              "      <td>1.0</td>\n",
              "      <td>0.0</td>\n",
              "      <td>1.0</td>\n",
              "      <td>0.0</td>\n",
              "      <td>0.0</td>\n",
              "      <td>0.0</td>\n",
              "      <td>1.0</td>\n",
              "      <td>2.571627</td>\n",
              "      <td>13.966871</td>\n",
              "      <td>0.847988</td>\n",
              "    </tr>\n",
              "    <tr>\n",
              "      <th>81455</th>\n",
              "      <td>1.0</td>\n",
              "      <td>0.0</td>\n",
              "      <td>0.0</td>\n",
              "      <td>0.0</td>\n",
              "      <td>1.0</td>\n",
              "      <td>0.0</td>\n",
              "      <td>0.0</td>\n",
              "      <td>1.0</td>\n",
              "      <td>0.0</td>\n",
              "      <td>0.0</td>\n",
              "      <td>1.0</td>\n",
              "      <td>0.0</td>\n",
              "      <td>1.0</td>\n",
              "      <td>0.0</td>\n",
              "      <td>0.0</td>\n",
              "      <td>0.0</td>\n",
              "      <td>1.0</td>\n",
              "      <td>2.559092</td>\n",
              "      <td>14.357853</td>\n",
              "      <td>0.261663</td>\n",
              "    </tr>\n",
              "    <tr>\n",
              "      <th>77866</th>\n",
              "      <td>1.0</td>\n",
              "      <td>0.0</td>\n",
              "      <td>0.0</td>\n",
              "      <td>0.0</td>\n",
              "      <td>0.0</td>\n",
              "      <td>1.0</td>\n",
              "      <td>0.0</td>\n",
              "      <td>1.0</td>\n",
              "      <td>0.0</td>\n",
              "      <td>0.0</td>\n",
              "      <td>0.0</td>\n",
              "      <td>1.0</td>\n",
              "      <td>1.0</td>\n",
              "      <td>0.0</td>\n",
              "      <td>1.0</td>\n",
              "      <td>0.0</td>\n",
              "      <td>0.0</td>\n",
              "      <td>2.159984</td>\n",
              "      <td>14.214079</td>\n",
              "      <td>0.406457</td>\n",
              "    </tr>\n",
              "    <tr>\n",
              "      <th>...</th>\n",
              "      <td>...</td>\n",
              "      <td>...</td>\n",
              "      <td>...</td>\n",
              "      <td>...</td>\n",
              "      <td>...</td>\n",
              "      <td>...</td>\n",
              "      <td>...</td>\n",
              "      <td>...</td>\n",
              "      <td>...</td>\n",
              "      <td>...</td>\n",
              "      <td>...</td>\n",
              "      <td>...</td>\n",
              "      <td>...</td>\n",
              "      <td>...</td>\n",
              "      <td>...</td>\n",
              "      <td>...</td>\n",
              "      <td>...</td>\n",
              "      <td>...</td>\n",
              "      <td>...</td>\n",
              "      <td>...</td>\n",
              "    </tr>\n",
              "    <tr>\n",
              "      <th>130365</th>\n",
              "      <td>0.0</td>\n",
              "      <td>0.0</td>\n",
              "      <td>1.0</td>\n",
              "      <td>0.0</td>\n",
              "      <td>0.0</td>\n",
              "      <td>1.0</td>\n",
              "      <td>0.0</td>\n",
              "      <td>1.0</td>\n",
              "      <td>0.0</td>\n",
              "      <td>0.0</td>\n",
              "      <td>0.0</td>\n",
              "      <td>1.0</td>\n",
              "      <td>1.0</td>\n",
              "      <td>0.0</td>\n",
              "      <td>0.0</td>\n",
              "      <td>0.0</td>\n",
              "      <td>1.0</td>\n",
              "      <td>2.531975</td>\n",
              "      <td>14.528371</td>\n",
              "      <td>0.889875</td>\n",
              "    </tr>\n",
              "    <tr>\n",
              "      <th>92303</th>\n",
              "      <td>1.0</td>\n",
              "      <td>0.0</td>\n",
              "      <td>0.0</td>\n",
              "      <td>0.0</td>\n",
              "      <td>0.0</td>\n",
              "      <td>1.0</td>\n",
              "      <td>0.0</td>\n",
              "      <td>0.0</td>\n",
              "      <td>1.0</td>\n",
              "      <td>0.0</td>\n",
              "      <td>0.0</td>\n",
              "      <td>1.0</td>\n",
              "      <td>1.0</td>\n",
              "      <td>0.0</td>\n",
              "      <td>1.0</td>\n",
              "      <td>0.0</td>\n",
              "      <td>0.0</td>\n",
              "      <td>2.285033</td>\n",
              "      <td>13.679998</td>\n",
              "      <td>0.389346</td>\n",
              "    </tr>\n",
              "    <tr>\n",
              "      <th>6618</th>\n",
              "      <td>1.0</td>\n",
              "      <td>0.0</td>\n",
              "      <td>0.0</td>\n",
              "      <td>0.0</td>\n",
              "      <td>1.0</td>\n",
              "      <td>0.0</td>\n",
              "      <td>0.0</td>\n",
              "      <td>1.0</td>\n",
              "      <td>0.0</td>\n",
              "      <td>0.0</td>\n",
              "      <td>0.0</td>\n",
              "      <td>1.0</td>\n",
              "      <td>1.0</td>\n",
              "      <td>0.0</td>\n",
              "      <td>1.0</td>\n",
              "      <td>0.0</td>\n",
              "      <td>0.0</td>\n",
              "      <td>2.207271</td>\n",
              "      <td>13.986131</td>\n",
              "      <td>0.480377</td>\n",
              "    </tr>\n",
              "    <tr>\n",
              "      <th>90430</th>\n",
              "      <td>0.0</td>\n",
              "      <td>1.0</td>\n",
              "      <td>0.0</td>\n",
              "      <td>0.0</td>\n",
              "      <td>0.0</td>\n",
              "      <td>1.0</td>\n",
              "      <td>0.0</td>\n",
              "      <td>0.0</td>\n",
              "      <td>1.0</td>\n",
              "      <td>0.0</td>\n",
              "      <td>0.0</td>\n",
              "      <td>1.0</td>\n",
              "      <td>1.0</td>\n",
              "      <td>0.0</td>\n",
              "      <td>0.0</td>\n",
              "      <td>1.0</td>\n",
              "      <td>0.0</td>\n",
              "      <td>2.428043</td>\n",
              "      <td>14.315680</td>\n",
              "      <td>0.727458</td>\n",
              "    </tr>\n",
              "    <tr>\n",
              "      <th>29828</th>\n",
              "      <td>1.0</td>\n",
              "      <td>0.0</td>\n",
              "      <td>0.0</td>\n",
              "      <td>0.0</td>\n",
              "      <td>0.0</td>\n",
              "      <td>1.0</td>\n",
              "      <td>0.0</td>\n",
              "      <td>0.0</td>\n",
              "      <td>1.0</td>\n",
              "      <td>0.0</td>\n",
              "      <td>1.0</td>\n",
              "      <td>0.0</td>\n",
              "      <td>1.0</td>\n",
              "      <td>0.0</td>\n",
              "      <td>1.0</td>\n",
              "      <td>0.0</td>\n",
              "      <td>0.0</td>\n",
              "      <td>2.248539</td>\n",
              "      <td>14.085102</td>\n",
              "      <td>0.466921</td>\n",
              "    </tr>\n",
              "  </tbody>\n",
              "</table>\n",
              "<p>184293 rows × 20 columns</p>\n",
              "</div>"
            ],
            "text/plain": [
              "        Channel_Code_proc_0  ...  Vintage_max\n",
              "188708                  0.0  ...     0.869727\n",
              "17007                   0.0  ...     0.798635\n",
              "109929                  0.0  ...     0.847988\n",
              "81455                   1.0  ...     0.261663\n",
              "77866                   1.0  ...     0.406457\n",
              "...                     ...  ...          ...\n",
              "130365                  0.0  ...     0.889875\n",
              "92303                   1.0  ...     0.389346\n",
              "6618                    1.0  ...     0.480377\n",
              "90430                   0.0  ...     0.727458\n",
              "29828                   1.0  ...     0.466921\n",
              "\n",
              "[184293 rows x 20 columns]"
            ]
          },
          "metadata": {
            "tags": []
          },
          "execution_count": 88
        }
      ]
    },
    {
      "cell_type": "code",
      "metadata": {
        "id": "8DoGHIrjPfD2",
        "colab": {
          "base_uri": "https://localhost:8080/"
        },
        "outputId": "18535868-9bf1-4278-a575-810e517e1ce6"
      },
      "source": [
        "# %%\n",
        "# getting important features\n",
        "feature_list = x_train.columns\n",
        "imp_feature = {}\n",
        "for feat_name, weight in zip(feature_list, clf_rforest.feature_importances_):\n",
        "    imp_feature[feat_name] = weight\n",
        "\n",
        "\n",
        "for key in imp_feature:\n",
        "    value = round(imp_feature[key],3)*100\n",
        "    print(f'{key} : {value} %')"
      ],
      "execution_count": 89,
      "outputs": [
        {
          "output_type": "stream",
          "text": [
            "Channel_Code_proc_0 : 2.9000000000000004 %\n",
            "Channel_Code_proc_1 : 0.7000000000000001 %\n",
            "Channel_Code_proc_2 : 0.8999999999999999 %\n",
            "Channel_Code_proc_3 : 0.1 %\n",
            "Gender_proc_0 : 0.4 %\n",
            "Gender_proc_1 : 0.4 %\n",
            "Occupation_proc_0 : 0.8 %\n",
            "Occupation_proc_1 : 0.8999999999999999 %\n",
            "Occupation_proc_2 : 2.8000000000000003 %\n",
            "Occupation_proc_3 : 0.5 %\n",
            "Is_Active_proc_0 : 0.7000000000000001 %\n",
            "Is_Active_proc_1 : 0.7000000000000001 %\n",
            "Credit_Product_proc_0 : 0.6 %\n",
            "Credit_Product_proc_1 : 0.5 %\n",
            "Age_Binned_0 : 1.3 %\n",
            "Age_Binned_1 : 1.0 %\n",
            "Age_Binned_2 : 0.3 %\n",
            "Age_box : 18.0 %\n",
            "Avg_Account_Balance_log : 44.4 %\n",
            "Vintage_max : 22.3 %\n"
          ],
          "name": "stdout"
        }
      ]
    },
    {
      "cell_type": "code",
      "metadata": {
        "id": "czWQYu5LRMM7"
      },
      "source": [
        "y_hat_rforest = clf_rforest.predict(x_test)\n",
        "y_hat_rf_proba = clf_rforest.predict_proba(x_test)"
      ],
      "execution_count": 25,
      "outputs": []
    },
    {
      "cell_type": "code",
      "metadata": {
        "colab": {
          "base_uri": "https://localhost:8080/",
          "height": 296
        },
        "id": "ZCxrIe7VbPOa",
        "outputId": "f84cf12b-d1a5-4734-d767-26661a90353e"
      },
      "source": [
        "plot_confusion_matrix(clf_rforest,X=x_test, y_true=y_test, values_format= '.3f')\n",
        "# plot_roc_curve(Classifier, X=X_Test, y=labels)"
      ],
      "execution_count": 30,
      "outputs": [
        {
          "output_type": "execute_result",
          "data": {
            "text/plain": [
              "<sklearn.metrics._plot.confusion_matrix.ConfusionMatrixDisplay at 0x7f3748ed42d0>"
            ]
          },
          "metadata": {
            "tags": []
          },
          "execution_count": 30
        },
        {
          "output_type": "display_data",
          "data": {
            "image/png": "[encoded data removed]",
            "text/plain": [
              "<Figure size 432x288 with 2 Axes>"
            ]
          },
          "metadata": {
            "tags": [],
            "needs_background": "light"
          }
        }
      ]
    },
    {
      "cell_type": "code",
      "metadata": {
        "id": "YrupeNDNdF8D"
      },
      "source": [
        "x_test_check['True'] = y_test\n",
        "x_test_check['Pred'] = y_hat_rforest"
      ],
      "execution_count": 90,
      "outputs": []
    },
    {
      "cell_type": "code",
      "metadata": {
        "colab": {
          "base_uri": "https://localhost:8080/",
          "height": 439
        },
        "id": "9qpR97PUdR5O",
        "outputId": "21856028-11e5-4388-8ace-642ed1235c83"
      },
      "source": [
        "x_test_check.loc[x_test_check['True']!=x_test_check['Pred']]"
      ],
      "execution_count": 91,
      "outputs": [
        {
          "output_type": "execute_result",
          "data": {
            "text/html": [
              "<div>\n",
              "<style scoped>\n",
              "    .dataframe tbody tr th:only-of-type {\n",
              "        vertical-align: middle;\n",
              "    }\n",
              "\n",
              "    .dataframe tbody tr th {\n",
              "        vertical-align: top;\n",
              "    }\n",
              "\n",
              "    .dataframe thead th {\n",
              "        text-align: right;\n",
              "    }\n",
              "</style>\n",
              "<table border=\"1\" class=\"dataframe\">\n",
              "  <thead>\n",
              "    <tr style=\"text-align: right;\">\n",
              "      <th></th>\n",
              "      <th>Gender</th>\n",
              "      <th>Age</th>\n",
              "      <th>Region_Code</th>\n",
              "      <th>Occupation</th>\n",
              "      <th>Channel_Code</th>\n",
              "      <th>Vintage</th>\n",
              "      <th>Credit_Product</th>\n",
              "      <th>Avg_Account_Balance</th>\n",
              "      <th>Is_Active</th>\n",
              "      <th>True</th>\n",
              "      <th>Pred</th>\n",
              "    </tr>\n",
              "  </thead>\n",
              "  <tbody>\n",
              "    <tr>\n",
              "      <th>193655</th>\n",
              "      <td>Male</td>\n",
              "      <td>58</td>\n",
              "      <td>RG264</td>\n",
              "      <td>Self_Employed</td>\n",
              "      <td>X2</td>\n",
              "      <td>85</td>\n",
              "      <td>Yes</td>\n",
              "      <td>1407285</td>\n",
              "      <td>No</td>\n",
              "      <td>0</td>\n",
              "      <td>1</td>\n",
              "    </tr>\n",
              "    <tr>\n",
              "      <th>195952</th>\n",
              "      <td>Male</td>\n",
              "      <td>67</td>\n",
              "      <td>RG283</td>\n",
              "      <td>Other</td>\n",
              "      <td>X3</td>\n",
              "      <td>38</td>\n",
              "      <td>NaN</td>\n",
              "      <td>1126028</td>\n",
              "      <td>Yes</td>\n",
              "      <td>1</td>\n",
              "      <td>0</td>\n",
              "    </tr>\n",
              "    <tr>\n",
              "      <th>9277</th>\n",
              "      <td>Male</td>\n",
              "      <td>75</td>\n",
              "      <td>RG268</td>\n",
              "      <td>Other</td>\n",
              "      <td>X3</td>\n",
              "      <td>86</td>\n",
              "      <td>Yes</td>\n",
              "      <td>361749</td>\n",
              "      <td>No</td>\n",
              "      <td>0</td>\n",
              "      <td>1</td>\n",
              "    </tr>\n",
              "    <tr>\n",
              "      <th>218985</th>\n",
              "      <td>Female</td>\n",
              "      <td>60</td>\n",
              "      <td>RG283</td>\n",
              "      <td>Other</td>\n",
              "      <td>X3</td>\n",
              "      <td>98</td>\n",
              "      <td>NaN</td>\n",
              "      <td>1377889</td>\n",
              "      <td>No</td>\n",
              "      <td>0</td>\n",
              "      <td>1</td>\n",
              "    </tr>\n",
              "    <tr>\n",
              "      <th>22306</th>\n",
              "      <td>Male</td>\n",
              "      <td>50</td>\n",
              "      <td>RG277</td>\n",
              "      <td>Entrepreneur</td>\n",
              "      <td>X4</td>\n",
              "      <td>13</td>\n",
              "      <td>Yes</td>\n",
              "      <td>862935</td>\n",
              "      <td>No</td>\n",
              "      <td>1</td>\n",
              "      <td>0</td>\n",
              "    </tr>\n",
              "    <tr>\n",
              "      <th>...</th>\n",
              "      <td>...</td>\n",
              "      <td>...</td>\n",
              "      <td>...</td>\n",
              "      <td>...</td>\n",
              "      <td>...</td>\n",
              "      <td>...</td>\n",
              "      <td>...</td>\n",
              "      <td>...</td>\n",
              "      <td>...</td>\n",
              "      <td>...</td>\n",
              "      <td>...</td>\n",
              "    </tr>\n",
              "    <tr>\n",
              "      <th>96844</th>\n",
              "      <td>Male</td>\n",
              "      <td>54</td>\n",
              "      <td>RG283</td>\n",
              "      <td>Other</td>\n",
              "      <td>X3</td>\n",
              "      <td>75</td>\n",
              "      <td>Yes</td>\n",
              "      <td>786466</td>\n",
              "      <td>No</td>\n",
              "      <td>0</td>\n",
              "      <td>1</td>\n",
              "    </tr>\n",
              "    <tr>\n",
              "      <th>210902</th>\n",
              "      <td>Female</td>\n",
              "      <td>39</td>\n",
              "      <td>RG278</td>\n",
              "      <td>Self_Employed</td>\n",
              "      <td>X2</td>\n",
              "      <td>14</td>\n",
              "      <td>No</td>\n",
              "      <td>403810</td>\n",
              "      <td>Yes</td>\n",
              "      <td>1</td>\n",
              "      <td>0</td>\n",
              "    </tr>\n",
              "    <tr>\n",
              "      <th>195212</th>\n",
              "      <td>Male</td>\n",
              "      <td>57</td>\n",
              "      <td>RG280</td>\n",
              "      <td>Self_Employed</td>\n",
              "      <td>X2</td>\n",
              "      <td>91</td>\n",
              "      <td>NaN</td>\n",
              "      <td>486678</td>\n",
              "      <td>Yes</td>\n",
              "      <td>1</td>\n",
              "      <td>0</td>\n",
              "    </tr>\n",
              "    <tr>\n",
              "      <th>123152</th>\n",
              "      <td>Female</td>\n",
              "      <td>47</td>\n",
              "      <td>RG283</td>\n",
              "      <td>Self_Employed</td>\n",
              "      <td>X2</td>\n",
              "      <td>73</td>\n",
              "      <td>Yes</td>\n",
              "      <td>1275645</td>\n",
              "      <td>Yes</td>\n",
              "      <td>1</td>\n",
              "      <td>0</td>\n",
              "    </tr>\n",
              "    <tr>\n",
              "      <th>236899</th>\n",
              "      <td>Male</td>\n",
              "      <td>65</td>\n",
              "      <td>RG283</td>\n",
              "      <td>Other</td>\n",
              "      <td>X3</td>\n",
              "      <td>91</td>\n",
              "      <td>No</td>\n",
              "      <td>1914950</td>\n",
              "      <td>Yes</td>\n",
              "      <td>0</td>\n",
              "      <td>1</td>\n",
              "    </tr>\n",
              "  </tbody>\n",
              "</table>\n",
              "<p>14788 rows × 11 columns</p>\n",
              "</div>"
            ],
            "text/plain": [
              "        Gender  Age Region_Code  ... Is_Active True  Pred\n",
              "193655    Male   58       RG264  ...        No    0     1\n",
              "195952    Male   67       RG283  ...       Yes    1     0\n",
              "9277      Male   75       RG268  ...        No    0     1\n",
              "218985  Female   60       RG283  ...        No    0     1\n",
              "22306     Male   50       RG277  ...        No    1     0\n",
              "...        ...  ...         ...  ...       ...  ...   ...\n",
              "96844     Male   54       RG283  ...        No    0     1\n",
              "210902  Female   39       RG278  ...       Yes    1     0\n",
              "195212    Male   57       RG280  ...       Yes    1     0\n",
              "123152  Female   47       RG283  ...       Yes    1     0\n",
              "236899    Male   65       RG283  ...       Yes    0     1\n",
              "\n",
              "[14788 rows x 11 columns]"
            ]
          },
          "metadata": {
            "tags": []
          },
          "execution_count": 91
        }
      ]
    },
    {
      "cell_type": "code",
      "metadata": {
        "id": "tiNTGq4qreDe"
      },
      "source": [
        "# threshold = 0.45\n",
        "# predicted = (y_hat_rf_proba [:,1] >= threshold).astype('int')\n",
        "# metrics(predicted,clf_rforest)"
      ],
      "execution_count": 34,
      "outputs": []
    },
    {
      "cell_type": "code",
      "metadata": {
        "id": "IPSqyWEXS8h4",
        "colab": {
          "base_uri": "https://localhost:8080/",
          "height": 296
        },
        "outputId": "97d194a7-79ec-4310-ac67-94724298a1ed"
      },
      "source": [
        "plot_confusion_matrix(estimator= clf_rforest,X=x_test, y_true=y_test, values_format= '.3f')"
      ],
      "execution_count": null,
      "outputs": [
        {
          "output_type": "execute_result",
          "data": {
            "text/plain": [
              "<sklearn.metrics._plot.confusion_matrix.ConfusionMatrixDisplay at 0x7fc58dacf6d0>"
            ]
          },
          "metadata": {
            "tags": []
          },
          "execution_count": 176
        },
        {
          "output_type": "display_data",
          "data": {
            "image/png": "[encoded data removed]",
            "text/plain": [
              "<Figure size 432x288 with 2 Axes>"
            ]
          },
          "metadata": {
            "tags": [],
            "needs_background": "light"
          }
        }
      ]
    },
    {
      "cell_type": "code",
      "metadata": {
        "id": "NAG5fgiXUNtB",
        "colab": {
          "base_uri": "https://localhost:8080/"
        },
        "outputId": "a65a246f-d1a1-43c3-8e6f-25a726ce34df"
      },
      "source": [
        "roc_auc_score(y_true=y_test, y_score=y_hat_rf_proba[:,1])"
      ],
      "execution_count": 35,
      "outputs": [
        {
          "output_type": "execute_result",
          "data": {
            "text/plain": [
              "0.7303691495757472"
            ]
          },
          "metadata": {
            "tags": []
          },
          "execution_count": 35
        }
      ]
    },
    {
      "cell_type": "code",
      "metadata": {
        "id": "XKH0ycaoVLej",
        "colab": {
          "base_uri": "https://localhost:8080/",
          "height": 296
        },
        "outputId": "7c0c3843-8a98-4b0a-d6fb-ae120654f1ca"
      },
      "source": [
        "plot_roc_curve(clf_rforest, X=x_test, y=y_test)"
      ],
      "execution_count": 36,
      "outputs": [
        {
          "output_type": "execute_result",
          "data": {
            "text/plain": [
              "<sklearn.metrics._plot.roc_curve.RocCurveDisplay at 0x7f373e2bed90>"
            ]
          },
          "metadata": {
            "tags": []
          },
          "execution_count": 36
        },
        {
          "output_type": "display_data",
          "data": {
            "image/png": "[encoded data removed]",
            "text/plain": [
              "<Figure size 432x288 with 1 Axes>"
            ]
          },
          "metadata": {
            "tags": [],
            "needs_background": "light"
          }
        }
      ]
    },
    {
      "cell_type": "markdown",
      "metadata": {
        "id": "-kYkuW3nepGA"
      },
      "source": [
        "##XGBOOST"
      ]
    },
    {
      "cell_type": "code",
      "metadata": {
        "colab": {
          "base_uri": "https://localhost:8080/"
        },
        "id": "MbjPiVzPeoDq",
        "outputId": "7e0d7da9-8670-4bcb-80b4-178f02d5ac13"
      },
      "source": [
        "n_train = len(x_train)-1\n",
        "train = 1\n",
        "# (x_train[eval_ind:],y_train[eval_ind:])\n",
        "eval_ind = int(n_train*train)\n",
        "eval_set = [(x_train[0:eval_ind], y_train[0:eval_ind]),(x_test, y_test)]\n",
        "\n",
        "clf_xgb = XGBClassifier(max_depth = 6,\n",
        "                        n_estimators=100,                        \n",
        "                        learning_rate = 0.1,\n",
        "                        gamma = 0.1,\n",
        "                        random_state = 25)\n",
        "clf_xgb.fit(x_train,y_train,eval_set= eval_set,eval_metric=['auc','error'])\n",
        "y_hat_xgb = clf_xgb.predict(x_test)"
      ],
      "execution_count": 216,
      "outputs": [
        {
          "output_type": "stream",
          "text": [
            "[0]\tvalidation_0-auc:0.774304\tvalidation_0-error:0.213102\tvalidation_1-auc:0.772226\tvalidation_1-error:0.213081\n",
            "[1]\tvalidation_0-auc:0.774539\tvalidation_0-error:0.213118\tvalidation_1-auc:0.772312\tvalidation_1-error:0.21313\n",
            "[2]\tvalidation_0-auc:0.775375\tvalidation_0-error:0.21378\tvalidation_1-auc:0.772593\tvalidation_1-error:0.213521\n",
            "[3]\tvalidation_0-auc:0.775574\tvalidation_0-error:0.213786\tvalidation_1-auc:0.772731\tvalidation_1-error:0.213504\n",
            "[4]\tvalidation_0-auc:0.776207\tvalidation_0-error:0.213449\tvalidation_1-auc:0.773066\tvalidation_1-error:0.213195\n",
            "[5]\tvalidation_0-auc:0.777009\tvalidation_0-error:0.213428\tvalidation_1-auc:0.773746\tvalidation_1-error:0.213097\n",
            "[6]\tvalidation_0-auc:0.777106\tvalidation_0-error:0.213352\tvalidation_1-auc:0.773776\tvalidation_1-error:0.213065\n",
            "[7]\tvalidation_0-auc:0.77734\tvalidation_0-error:0.213276\tvalidation_1-auc:0.77397\tvalidation_1-error:0.213065\n",
            "[8]\tvalidation_0-auc:0.777464\tvalidation_0-error:0.213281\tvalidation_1-auc:0.773956\tvalidation_1-error:0.213114\n",
            "[9]\tvalidation_0-auc:0.778006\tvalidation_0-error:0.213086\tvalidation_1-auc:0.774291\tvalidation_1-error:0.212918\n",
            "[10]\tvalidation_0-auc:0.77937\tvalidation_0-error:0.213042\tvalidation_1-auc:0.775827\tvalidation_1-error:0.212853\n",
            "[11]\tvalidation_0-auc:0.780342\tvalidation_0-error:0.212804\tvalidation_1-auc:0.776757\tvalidation_1-error:0.212593\n",
            "[12]\tvalidation_0-auc:0.781478\tvalidation_0-error:0.212114\tvalidation_1-auc:0.777844\tvalidation_1-error:0.211942\n",
            "[13]\tvalidation_0-auc:0.781754\tvalidation_0-error:0.211979\tvalidation_1-auc:0.778016\tvalidation_1-error:0.211632\n",
            "[14]\tvalidation_0-auc:0.782311\tvalidation_0-error:0.211572\tvalidation_1-auc:0.77859\tvalidation_1-error:0.211111\n",
            "[15]\tvalidation_0-auc:0.782481\tvalidation_0-error:0.210107\tvalidation_1-auc:0.778687\tvalidation_1-error:0.210525\n",
            "[16]\tvalidation_0-auc:0.782833\tvalidation_0-error:0.210497\tvalidation_1-auc:0.779023\tvalidation_1-error:0.210753\n",
            "[17]\tvalidation_0-auc:0.783166\tvalidation_0-error:0.210058\tvalidation_1-auc:0.779429\tvalidation_1-error:0.210346\n",
            "[18]\tvalidation_0-auc:0.783501\tvalidation_0-error:0.208685\tvalidation_1-auc:0.779726\tvalidation_1-error:0.209142\n",
            "[19]\tvalidation_0-auc:0.783864\tvalidation_0-error:0.210085\tvalidation_1-auc:0.779996\tvalidation_1-error:0.21033\n",
            "[20]\tvalidation_0-auc:0.784161\tvalidation_0-error:0.208663\tvalidation_1-auc:0.780308\tvalidation_1-error:0.209077\n",
            "[21]\tvalidation_0-auc:0.784557\tvalidation_0-error:0.208376\tvalidation_1-auc:0.780703\tvalidation_1-error:0.208686\n",
            "[22]\tvalidation_0-auc:0.784615\tvalidation_0-error:0.208278\tvalidation_1-auc:0.780734\tvalidation_1-error:0.208719\n",
            "[23]\tvalidation_0-auc:0.784783\tvalidation_0-error:0.208202\tvalidation_1-auc:0.780886\tvalidation_1-error:0.208653\n",
            "[24]\tvalidation_0-auc:0.784857\tvalidation_0-error:0.208164\tvalidation_1-auc:0.780909\tvalidation_1-error:0.208621\n",
            "[25]\tvalidation_0-auc:0.784996\tvalidation_0-error:0.208045\tvalidation_1-auc:0.780972\tvalidation_1-error:0.208588\n",
            "[26]\tvalidation_0-auc:0.785347\tvalidation_0-error:0.207974\tvalidation_1-auc:0.78118\tvalidation_1-error:0.208621\n",
            "[27]\tvalidation_0-auc:0.785587\tvalidation_0-error:0.207985\tvalidation_1-auc:0.781331\tvalidation_1-error:0.208279\n",
            "[28]\tvalidation_0-auc:0.785743\tvalidation_0-error:0.208045\tvalidation_1-auc:0.781408\tvalidation_1-error:0.208344\n",
            "[29]\tvalidation_0-auc:0.786006\tvalidation_0-error:0.207779\tvalidation_1-auc:0.78161\tvalidation_1-error:0.208507\n",
            "[30]\tvalidation_0-auc:0.786193\tvalidation_0-error:0.207714\tvalidation_1-auc:0.781717\tvalidation_1-error:0.208507\n",
            "[31]\tvalidation_0-auc:0.786282\tvalidation_0-error:0.207698\tvalidation_1-auc:0.781762\tvalidation_1-error:0.208474\n",
            "[32]\tvalidation_0-auc:0.786482\tvalidation_0-error:0.207084\tvalidation_1-auc:0.781873\tvalidation_1-error:0.208751\n",
            "[33]\tvalidation_0-auc:0.786774\tvalidation_0-error:0.207095\tvalidation_1-auc:0.782092\tvalidation_1-error:0.208653\n",
            "[34]\tvalidation_0-auc:0.786966\tvalidation_0-error:0.207139\tvalidation_1-auc:0.782254\tvalidation_1-error:0.208198\n",
            "[35]\tvalidation_0-auc:0.787118\tvalidation_0-error:0.206867\tvalidation_1-auc:0.782356\tvalidation_1-error:0.208084\n",
            "[36]\tvalidation_0-auc:0.787321\tvalidation_0-error:0.20671\tvalidation_1-auc:0.782424\tvalidation_1-error:0.208198\n",
            "[37]\tvalidation_0-auc:0.787536\tvalidation_0-error:0.206601\tvalidation_1-auc:0.782595\tvalidation_1-error:0.208133\n",
            "[38]\tvalidation_0-auc:0.78766\tvalidation_0-error:0.206439\tvalidation_1-auc:0.782583\tvalidation_1-error:0.208035\n",
            "[39]\tvalidation_0-auc:0.787723\tvalidation_0-error:0.206471\tvalidation_1-auc:0.782601\tvalidation_1-error:0.208051\n",
            "[40]\tvalidation_0-auc:0.787895\tvalidation_0-error:0.206189\tvalidation_1-auc:0.782679\tvalidation_1-error:0.208051\n",
            "[41]\tvalidation_0-auc:0.788042\tvalidation_0-error:0.205853\tvalidation_1-auc:0.782682\tvalidation_1-error:0.208051\n",
            "[42]\tvalidation_0-auc:0.788144\tvalidation_0-error:0.20588\tvalidation_1-auc:0.782634\tvalidation_1-error:0.207937\n",
            "[43]\tvalidation_0-auc:0.788426\tvalidation_0-error:0.205614\tvalidation_1-auc:0.782748\tvalidation_1-error:0.207807\n",
            "[44]\tvalidation_0-auc:0.788654\tvalidation_0-error:0.205424\tvalidation_1-auc:0.782833\tvalidation_1-error:0.207823\n",
            "[45]\tvalidation_0-auc:0.788814\tvalidation_0-error:0.205451\tvalidation_1-auc:0.78293\tvalidation_1-error:0.207905\n",
            "[46]\tvalidation_0-auc:0.788959\tvalidation_0-error:0.205315\tvalidation_1-auc:0.783037\tvalidation_1-error:0.20766\n",
            "[47]\tvalidation_0-auc:0.789254\tvalidation_0-error:0.205196\tvalidation_1-auc:0.783092\tvalidation_1-error:0.207416\n",
            "[48]\tvalidation_0-auc:0.789369\tvalidation_0-error:0.205261\tvalidation_1-auc:0.783108\tvalidation_1-error:0.2074\n",
            "[49]\tvalidation_0-auc:0.789498\tvalidation_0-error:0.205153\tvalidation_1-auc:0.783147\tvalidation_1-error:0.207514\n",
            "[50]\tvalidation_0-auc:0.789649\tvalidation_0-error:0.204795\tvalidation_1-auc:0.783207\tvalidation_1-error:0.207367\n",
            "[51]\tvalidation_0-auc:0.789908\tvalidation_0-error:0.204708\tvalidation_1-auc:0.783319\tvalidation_1-error:0.207156\n",
            "[52]\tvalidation_0-auc:0.790049\tvalidation_0-error:0.204735\tvalidation_1-auc:0.783362\tvalidation_1-error:0.207254\n",
            "[53]\tvalidation_0-auc:0.790278\tvalidation_0-error:0.204632\tvalidation_1-auc:0.78344\tvalidation_1-error:0.207384\n",
            "[54]\tvalidation_0-auc:0.790338\tvalidation_0-error:0.204621\tvalidation_1-auc:0.783474\tvalidation_1-error:0.207481\n",
            "[55]\tvalidation_0-auc:0.790357\tvalidation_0-error:0.204605\tvalidation_1-auc:0.783456\tvalidation_1-error:0.207416\n",
            "[56]\tvalidation_0-auc:0.790505\tvalidation_0-error:0.204561\tvalidation_1-auc:0.78341\tvalidation_1-error:0.207449\n",
            "[57]\tvalidation_0-auc:0.790554\tvalidation_0-error:0.20454\tvalidation_1-auc:0.783407\tvalidation_1-error:0.207416\n",
            "[58]\tvalidation_0-auc:0.790577\tvalidation_0-error:0.20455\tvalidation_1-auc:0.783406\tvalidation_1-error:0.207449\n",
            "[59]\tvalidation_0-auc:0.790604\tvalidation_0-error:0.204588\tvalidation_1-auc:0.783397\tvalidation_1-error:0.207335\n",
            "[60]\tvalidation_0-auc:0.79065\tvalidation_0-error:0.204534\tvalidation_1-auc:0.78342\tvalidation_1-error:0.207481\n",
            "[61]\tvalidation_0-auc:0.790695\tvalidation_0-error:0.20454\tvalidation_1-auc:0.78341\tvalidation_1-error:0.207547\n",
            "[62]\tvalidation_0-auc:0.790713\tvalidation_0-error:0.204529\tvalidation_1-auc:0.783396\tvalidation_1-error:0.207384\n",
            "[63]\tvalidation_0-auc:0.790737\tvalidation_0-error:0.204512\tvalidation_1-auc:0.783384\tvalidation_1-error:0.20753\n",
            "[64]\tvalidation_0-auc:0.790847\tvalidation_0-error:0.204464\tvalidation_1-auc:0.783397\tvalidation_1-error:0.207547\n",
            "[65]\tvalidation_0-auc:0.791039\tvalidation_0-error:0.20435\tvalidation_1-auc:0.783477\tvalidation_1-error:0.207514\n",
            "[66]\tvalidation_0-auc:0.791227\tvalidation_0-error:0.204181\tvalidation_1-auc:0.783461\tvalidation_1-error:0.207514\n",
            "[67]\tvalidation_0-auc:0.791307\tvalidation_0-error:0.204105\tvalidation_1-auc:0.78343\tvalidation_1-error:0.207465\n",
            "[68]\tvalidation_0-auc:0.791345\tvalidation_0-error:0.2041\tvalidation_1-auc:0.78343\tvalidation_1-error:0.207465\n",
            "[69]\tvalidation_0-auc:0.791407\tvalidation_0-error:0.204057\tvalidation_1-auc:0.783424\tvalidation_1-error:0.207449\n",
            "[70]\tvalidation_0-auc:0.791582\tvalidation_0-error:0.203975\tvalidation_1-auc:0.78342\tvalidation_1-error:0.207514\n",
            "[71]\tvalidation_0-auc:0.791608\tvalidation_0-error:0.203991\tvalidation_1-auc:0.78341\tvalidation_1-error:0.20753\n",
            "[72]\tvalidation_0-auc:0.791686\tvalidation_0-error:0.203964\tvalidation_1-auc:0.78336\tvalidation_1-error:0.207579\n",
            "[73]\tvalidation_0-auc:0.791708\tvalidation_0-error:0.20397\tvalidation_1-auc:0.783346\tvalidation_1-error:0.20753\n",
            "[74]\tvalidation_0-auc:0.791777\tvalidation_0-error:0.203954\tvalidation_1-auc:0.783341\tvalidation_1-error:0.207514\n",
            "[75]\tvalidation_0-auc:0.791957\tvalidation_0-error:0.203975\tvalidation_1-auc:0.78341\tvalidation_1-error:0.207384\n",
            "[76]\tvalidation_0-auc:0.792017\tvalidation_0-error:0.203878\tvalidation_1-auc:0.783387\tvalidation_1-error:0.207351\n",
            "[77]\tvalidation_0-auc:0.792088\tvalidation_0-error:0.203834\tvalidation_1-auc:0.783374\tvalidation_1-error:0.2074\n",
            "[78]\tvalidation_0-auc:0.792127\tvalidation_0-error:0.203802\tvalidation_1-auc:0.783386\tvalidation_1-error:0.207237\n",
            "[79]\tvalidation_0-auc:0.792269\tvalidation_0-error:0.203812\tvalidation_1-auc:0.783372\tvalidation_1-error:0.2074\n",
            "[80]\tvalidation_0-auc:0.792368\tvalidation_0-error:0.203742\tvalidation_1-auc:0.783387\tvalidation_1-error:0.207449\n",
            "[81]\tvalidation_0-auc:0.792385\tvalidation_0-error:0.203742\tvalidation_1-auc:0.783377\tvalidation_1-error:0.207465\n",
            "[82]\tvalidation_0-auc:0.792408\tvalidation_0-error:0.203736\tvalidation_1-auc:0.783363\tvalidation_1-error:0.207465\n",
            "[83]\tvalidation_0-auc:0.792476\tvalidation_0-error:0.203677\tvalidation_1-auc:0.783361\tvalidation_1-error:0.207514\n",
            "[84]\tvalidation_0-auc:0.792539\tvalidation_0-error:0.203655\tvalidation_1-auc:0.783349\tvalidation_1-error:0.207498\n",
            "[85]\tvalidation_0-auc:0.792555\tvalidation_0-error:0.203639\tvalidation_1-auc:0.78333\tvalidation_1-error:0.207498\n",
            "[86]\tvalidation_0-auc:0.792686\tvalidation_0-error:0.203595\tvalidation_1-auc:0.783354\tvalidation_1-error:0.20753\n",
            "[87]\tvalidation_0-auc:0.792705\tvalidation_0-error:0.203601\tvalidation_1-auc:0.783336\tvalidation_1-error:0.20753\n",
            "[88]\tvalidation_0-auc:0.792804\tvalidation_0-error:0.203471\tvalidation_1-auc:0.783337\tvalidation_1-error:0.207465\n",
            "[89]\tvalidation_0-auc:0.792908\tvalidation_0-error:0.20346\tvalidation_1-auc:0.783301\tvalidation_1-error:0.207465\n",
            "[90]\tvalidation_0-auc:0.792918\tvalidation_0-error:0.203454\tvalidation_1-auc:0.783282\tvalidation_1-error:0.207465\n",
            "[91]\tvalidation_0-auc:0.79293\tvalidation_0-error:0.203449\tvalidation_1-auc:0.783264\tvalidation_1-error:0.207498\n",
            "[92]\tvalidation_0-auc:0.79299\tvalidation_0-error:0.203449\tvalidation_1-auc:0.783238\tvalidation_1-error:0.207514\n",
            "[93]\tvalidation_0-auc:0.793061\tvalidation_0-error:0.203411\tvalidation_1-auc:0.783206\tvalidation_1-error:0.207547\n",
            "[94]\tvalidation_0-auc:0.793142\tvalidation_0-error:0.203389\tvalidation_1-auc:0.783194\tvalidation_1-error:0.207595\n",
            "[95]\tvalidation_0-auc:0.793453\tvalidation_0-error:0.203167\tvalidation_1-auc:0.783255\tvalidation_1-error:0.207498\n",
            "[96]\tvalidation_0-auc:0.793575\tvalidation_0-error:0.202982\tvalidation_1-auc:0.783279\tvalidation_1-error:0.207514\n",
            "[97]\tvalidation_0-auc:0.793709\tvalidation_0-error:0.202939\tvalidation_1-auc:0.783298\tvalidation_1-error:0.207514\n",
            "[98]\tvalidation_0-auc:0.793769\tvalidation_0-error:0.202928\tvalidation_1-auc:0.783315\tvalidation_1-error:0.207547\n",
            "[99]\tvalidation_0-auc:0.793824\tvalidation_0-error:0.202847\tvalidation_1-auc:0.783331\tvalidation_1-error:0.207547\n"
          ],
          "name": "stdout"
        }
      ]
    },
    {
      "cell_type": "code",
      "metadata": {
        "colab": {
          "base_uri": "https://localhost:8080/",
          "height": 281
        },
        "id": "5R8uS-BZKklD",
        "outputId": "09c24a00-5fbe-4d1d-cd13-f89e38f6e351"
      },
      "source": [
        "results = clf_xgb.evals_result()\n",
        "epochs = len(results['validation_0']['error'])\n",
        "x_axis = range(0, epochs)\n",
        "fig, ax = plt.subplots()\n",
        "\n",
        "ax.plot(x_axis, results['validation_0']['auc'], label='Train')\n",
        "ax.plot(x_axis, results['validation_1']['auc'], label='Test')\n",
        "ax.legend()\n",
        "plt.ylabel('AUC')\n",
        "plt.title('XGBoost AUC')\n",
        "plt.show()"
      ],
      "execution_count": 217,
      "outputs": [
        {
          "output_type": "display_data",
          "data": {
            "image/png": "[encoded data removed]",
            "text/plain": [
              "<Figure size 432x288 with 1 Axes>"
            ]
          },
          "metadata": {
            "tags": [],
            "needs_background": "light"
          }
        }
      ]
    },
    {
      "cell_type": "code",
      "metadata": {
        "colab": {
          "base_uri": "https://localhost:8080/",
          "height": 153
        },
        "id": "DpcRXT8Ob3tI",
        "outputId": "beb92afe-c642-4d9e-fa5e-43ebbb6bb5b9"
      },
      "source": [
        "fig, ax = plt.subplots(figsize=(30, 60))\n",
        "plot_tree(clf_xgb, num_trees=1, ax = ax)\n",
        "plt.savefig('1.png')"
      ],
      "execution_count": 191,
      "outputs": [
        {
          "output_type": "display_data",
          "data": {
            "image/png": "[encoded data removed]",
            "text/plain": [
              "<Figure size 2160x4320 with 1 Axes>"
            ]
          },
          "metadata": {
            "tags": [],
            "needs_background": "light"
          }
        }
      ]
    },
    {
      "cell_type": "code",
      "metadata": {
        "colab": {
          "base_uri": "https://localhost:8080/",
          "height": 476
        },
        "id": "SLb1kmFIuLh6",
        "outputId": "87f067fa-4a5c-46b4-b262-43491aa88b8e"
      },
      "source": [
        "metrics(y_hat_xgb,clf_xgb)"
      ],
      "execution_count": 218,
      "outputs": [
        {
          "output_type": "stream",
          "text": [
            "Accuracy: 0.792453444458914 \n",
            " ROC_AUC_Score: 0.6070064471764006\n"
          ],
          "name": "stdout"
        },
        {
          "output_type": "error",
          "ename": "ValueError",
          "evalue": "ignored",
          "traceback": [
            "\u001b[0;31m---------------------------------------------------------------------------\u001b[0m",
            "\u001b[0;31mValueError\u001b[0m                                Traceback (most recent call last)",
            "\u001b[0;32m<ipython-input-218-942eda9c3de7>\u001b[0m in \u001b[0;36m<module>\u001b[0;34m()\u001b[0m\n\u001b[0;32m----> 1\u001b[0;31m \u001b[0mmetrics\u001b[0m\u001b[0;34m(\u001b[0m\u001b[0my_hat_xgb\u001b[0m\u001b[0;34m,\u001b[0m\u001b[0mclf_xgb\u001b[0m\u001b[0;34m)\u001b[0m\u001b[0;34m\u001b[0m\u001b[0;34m\u001b[0m\u001b[0m\n\u001b[0m",
            "\u001b[0;32m<ipython-input-87-bb4e7269b8de>\u001b[0m in \u001b[0;36mmetrics\u001b[0;34m(Pred, Classifier, X_Test, labels)\u001b[0m\n\u001b[1;32m      5\u001b[0m   \u001b[0mprint\u001b[0m\u001b[0;34m(\u001b[0m\u001b[0;34mf'Accuracy: {accuracy} \\n ROC_AUC_Score: {roc_auc}'\u001b[0m\u001b[0;34m)\u001b[0m\u001b[0;34m\u001b[0m\u001b[0;34m\u001b[0m\u001b[0m\n\u001b[1;32m      6\u001b[0m \u001b[0;34m\u001b[0m\u001b[0m\n\u001b[0;32m----> 7\u001b[0;31m   \u001b[0mplot_confusion_matrix\u001b[0m\u001b[0;34m(\u001b[0m\u001b[0mestimator\u001b[0m\u001b[0;34m=\u001b[0m \u001b[0mClassifier\u001b[0m\u001b[0;34m,\u001b[0m\u001b[0mX\u001b[0m\u001b[0;34m=\u001b[0m\u001b[0mX_Test\u001b[0m\u001b[0;34m,\u001b[0m \u001b[0my_true\u001b[0m\u001b[0;34m=\u001b[0m\u001b[0mlabels\u001b[0m\u001b[0;34m,\u001b[0m \u001b[0mvalues_format\u001b[0m\u001b[0;34m=\u001b[0m \u001b[0;34m'.3f'\u001b[0m\u001b[0;34m)\u001b[0m\u001b[0;34m\u001b[0m\u001b[0;34m\u001b[0m\u001b[0m\n\u001b[0m\u001b[1;32m      8\u001b[0m \u001b[0;34m\u001b[0m\u001b[0m\n\u001b[1;32m      9\u001b[0m   \u001b[0mplot_roc_curve\u001b[0m\u001b[0;34m(\u001b[0m\u001b[0mClassifier\u001b[0m\u001b[0;34m,\u001b[0m \u001b[0mX\u001b[0m\u001b[0;34m=\u001b[0m\u001b[0mX_Test\u001b[0m\u001b[0;34m,\u001b[0m \u001b[0my\u001b[0m\u001b[0;34m=\u001b[0m\u001b[0mlabels\u001b[0m\u001b[0;34m)\u001b[0m\u001b[0;34m\u001b[0m\u001b[0;34m\u001b[0m\u001b[0m\n",
            "\u001b[0;32m/usr/local/lib/python3.7/dist-packages/sklearn/metrics/_plot/confusion_matrix.py\u001b[0m in \u001b[0;36mplot_confusion_matrix\u001b[0;34m(estimator, X, y_true, labels, sample_weight, normalize, display_labels, include_values, xticks_rotation, values_format, cmap, ax)\u001b[0m\n\u001b[1;32m    183\u001b[0m         \u001b[0;32mraise\u001b[0m \u001b[0mValueError\u001b[0m\u001b[0;34m(\u001b[0m\u001b[0;34m\"plot_confusion_matrix only supports classifiers\"\u001b[0m\u001b[0;34m)\u001b[0m\u001b[0;34m\u001b[0m\u001b[0;34m\u001b[0m\u001b[0m\n\u001b[1;32m    184\u001b[0m \u001b[0;34m\u001b[0m\u001b[0m\n\u001b[0;32m--> 185\u001b[0;31m     \u001b[0my_pred\u001b[0m \u001b[0;34m=\u001b[0m \u001b[0mestimator\u001b[0m\u001b[0;34m.\u001b[0m\u001b[0mpredict\u001b[0m\u001b[0;34m(\u001b[0m\u001b[0mX\u001b[0m\u001b[0;34m)\u001b[0m\u001b[0;34m\u001b[0m\u001b[0;34m\u001b[0m\u001b[0m\n\u001b[0m\u001b[1;32m    186\u001b[0m     cm = confusion_matrix(y_true, y_pred, sample_weight=sample_weight,\n\u001b[1;32m    187\u001b[0m                           labels=labels, normalize=normalize)\n",
            "\u001b[0;32m/usr/local/lib/python3.7/dist-packages/xgboost/sklearn.py\u001b[0m in \u001b[0;36mpredict\u001b[0;34m(self, data, output_margin, ntree_limit, validate_features)\u001b[0m\n\u001b[1;32m    789\u001b[0m                                                  \u001b[0moutput_margin\u001b[0m\u001b[0;34m=\u001b[0m\u001b[0moutput_margin\u001b[0m\u001b[0;34m,\u001b[0m\u001b[0;34m\u001b[0m\u001b[0;34m\u001b[0m\u001b[0m\n\u001b[1;32m    790\u001b[0m                                                  \u001b[0mntree_limit\u001b[0m\u001b[0;34m=\u001b[0m\u001b[0mntree_limit\u001b[0m\u001b[0;34m,\u001b[0m\u001b[0;34m\u001b[0m\u001b[0;34m\u001b[0m\u001b[0m\n\u001b[0;32m--> 791\u001b[0;31m                                                  validate_features=validate_features)\n\u001b[0m\u001b[1;32m    792\u001b[0m         \u001b[0;32mif\u001b[0m \u001b[0moutput_margin\u001b[0m\u001b[0;34m:\u001b[0m\u001b[0;34m\u001b[0m\u001b[0;34m\u001b[0m\u001b[0m\n\u001b[1;32m    793\u001b[0m             \u001b[0;31m# If output_margin is active, simply return the scores\u001b[0m\u001b[0;34m\u001b[0m\u001b[0;34m\u001b[0m\u001b[0;34m\u001b[0m\u001b[0m\n",
            "\u001b[0;32m/usr/local/lib/python3.7/dist-packages/xgboost/core.py\u001b[0m in \u001b[0;36mpredict\u001b[0;34m(self, data, output_margin, ntree_limit, pred_leaf, pred_contribs, approx_contribs, pred_interactions, validate_features)\u001b[0m\n\u001b[1;32m   1282\u001b[0m \u001b[0;34m\u001b[0m\u001b[0m\n\u001b[1;32m   1283\u001b[0m         \u001b[0;32mif\u001b[0m \u001b[0mvalidate_features\u001b[0m\u001b[0;34m:\u001b[0m\u001b[0;34m\u001b[0m\u001b[0;34m\u001b[0m\u001b[0m\n\u001b[0;32m-> 1284\u001b[0;31m             \u001b[0mself\u001b[0m\u001b[0;34m.\u001b[0m\u001b[0m_validate_features\u001b[0m\u001b[0;34m(\u001b[0m\u001b[0mdata\u001b[0m\u001b[0;34m)\u001b[0m\u001b[0;34m\u001b[0m\u001b[0;34m\u001b[0m\u001b[0m\n\u001b[0m\u001b[1;32m   1285\u001b[0m \u001b[0;34m\u001b[0m\u001b[0m\n\u001b[1;32m   1286\u001b[0m         \u001b[0mlength\u001b[0m \u001b[0;34m=\u001b[0m \u001b[0mc_bst_ulong\u001b[0m\u001b[0;34m(\u001b[0m\u001b[0;34m)\u001b[0m\u001b[0;34m\u001b[0m\u001b[0;34m\u001b[0m\u001b[0m\n",
            "\u001b[0;32m/usr/local/lib/python3.7/dist-packages/xgboost/core.py\u001b[0m in \u001b[0;36m_validate_features\u001b[0;34m(self, data)\u001b[0m\n\u001b[1;32m   1688\u001b[0m \u001b[0;34m\u001b[0m\u001b[0m\n\u001b[1;32m   1689\u001b[0m                 raise ValueError(msg.format(self.feature_names,\n\u001b[0;32m-> 1690\u001b[0;31m                                             data.feature_names))\n\u001b[0m\u001b[1;32m   1691\u001b[0m \u001b[0;34m\u001b[0m\u001b[0m\n\u001b[1;32m   1692\u001b[0m     \u001b[0;32mdef\u001b[0m \u001b[0mget_split_value_histogram\u001b[0m\u001b[0;34m(\u001b[0m\u001b[0mself\u001b[0m\u001b[0;34m,\u001b[0m \u001b[0mfeature\u001b[0m\u001b[0;34m,\u001b[0m \u001b[0mfmap\u001b[0m\u001b[0;34m=\u001b[0m\u001b[0;34m''\u001b[0m\u001b[0;34m,\u001b[0m \u001b[0mbins\u001b[0m\u001b[0;34m=\u001b[0m\u001b[0;32mNone\u001b[0m\u001b[0;34m,\u001b[0m \u001b[0mas_pandas\u001b[0m\u001b[0;34m=\u001b[0m\u001b[0;32mTrue\u001b[0m\u001b[0;34m)\u001b[0m\u001b[0;34m:\u001b[0m\u001b[0;34m\u001b[0m\u001b[0;34m\u001b[0m\u001b[0m\n",
            "\u001b[0;31mValueError\u001b[0m: feature_names mismatch: ['Channel_Code_proc_0', 'Channel_Code_proc_1', 'Channel_Code_proc_2', 'Channel_Code_proc_3', 'Gender_proc_0', 'Gender_proc_1', 'Occupation_proc_0', 'Occupation_proc_1', 'Occupation_proc_2', 'Occupation_proc_3', 'Is_Active_proc_0', 'Is_Active_proc_1', 'Credit_Product_proc_0', 'Credit_Product_proc_1', 'Age_Binned_0', 'Age_Binned_1', 'Age_Binned_2', 'Avg_Account_Balance_log', 'Vintage_max'] ['Channel_Code_proc_0', 'Channel_Code_proc_1', 'Channel_Code_proc_2', 'Channel_Code_proc_3', 'Gender_proc_0', 'Gender_proc_1', 'Occupation_proc_0', 'Occupation_proc_1', 'Occupation_proc_2', 'Occupation_proc_3', 'Is_Active_proc_0', 'Is_Active_proc_1', 'Credit_Product_proc_0', 'Credit_Product_proc_1', 'Age_Binned_0', 'Age_Binned_1', 'Age_Binned_2', 'Age_box', 'Avg_Account_Balance_log', 'Vintage_max']\ntraining data did not have the following fields: Age_box"
          ]
        }
      ]
    },
    {
      "cell_type": "code",
      "metadata": {
        "colab": {
          "base_uri": "https://localhost:8080/"
        },
        "id": "KacBKn7RyjMW",
        "outputId": "18eff608-4c6b-45ca-851d-21b9d78c21eb"
      },
      "source": [
        "clf_xgb.feature_importances_"
      ],
      "execution_count": 187,
      "outputs": [
        {
          "output_type": "execute_result",
          "data": {
            "text/plain": [
              "array([0.45062807, 0.00757728, 0.00945542, 0.01372864, 0.0035914 ,\n",
              "       0.        , 0.02842305, 0.01897147, 0.14928712, 0.04212021,\n",
              "       0.02164328, 0.        , 0.01860311, 0.        , 0.01147958,\n",
              "       0.01241424, 0.04416269, 0.07112994, 0.00286724, 0.09391726],\n",
              "      dtype=float32)"
            ]
          },
          "metadata": {
            "tags": []
          },
          "execution_count": 187
        }
      ]
    },
    {
      "cell_type": "code",
      "metadata": {
        "id": "kIHiJv6tghFb",
        "outputId": "7aaf027d-59d2-4822-d060-b8ec1304ee70",
        "colab": {
          "base_uri": "https://localhost:8080/",
          "height": 1000
        }
      },
      "source": [
        "fig, ax = plt.subplots(figsize=(30, 60))\n",
        "plot_importance(clf_xgb,ax=ax)"
      ],
      "execution_count": 190,
      "outputs": [
        {
          "output_type": "execute_result",
          "data": {
            "text/plain": [
              "<matplotlib.axes._subplots.AxesSubplot at 0x7f3736ca5510>"
            ]
          },
          "metadata": {
            "tags": []
          },
          "execution_count": 190
        },
        {
          "output_type": "display_data",
          "data": {
            "image/png": "[encoded data removed]",
            "text/plain": [
              "<Figure size 2160x4320 with 1 Axes>"
            ]
          },
          "metadata": {
            "tags": [],
            "needs_background": "light"
          }
        }
      ]
    },
    {
      "cell_type": "code",
      "metadata": {
        "id": "G2ttDuRs0q36"
      },
      "source": [
        "gender_dic = {'Male': 0,\n",
        "              'Female': 1}\n",
        "\n",
        "is_active_dic = {'Yes': 1,\n",
        "                 'No': 0}\n",
        "\n",
        "occupation_dic = {'Self_Employed': 1,\n",
        "                    'Other': 2,\n",
        "                    'Salaried': 3,\n",
        "                    'Entrepreneur': 4}\n"
      ],
      "execution_count": null,
      "outputs": []
    },
    {
      "cell_type": "code",
      "metadata": {
        "colab": {
          "base_uri": "https://localhost:8080/"
        },
        "id": "PDkVovk8zuIW",
        "outputId": "29f486dd-9913-4198-d887-7db98dd24f0e"
      },
      "source": [
        "feature_list = x_train.columns\n",
        "imp_feature = {}\n",
        "for feat_name, weight in zip(feature_list, clf_xgb.feature_importances_):\n",
        "    imp_feature[feat_name] = weight\n",
        "\n",
        "\n",
        "for key in imp_feature:\n",
        "    value = round(imp_feature[key],3)*100\n",
        "    print(f'{key} : {value} %')"
      ],
      "execution_count": 219,
      "outputs": [
        {
          "output_type": "stream",
          "text": [
            "Channel_Code_proc_0 : 65.79999923706055 %\n",
            "Channel_Code_proc_1 : 0.9999999776482582 %\n",
            "Channel_Code_proc_2 : 0.4999999888241291 %\n",
            "Channel_Code_proc_3 : 0.8999999612569809 %\n",
            "Gender_proc_0 : 0.3000000026077032 %\n",
            "Gender_proc_1 : 0.0 %\n",
            "Occupation_proc_0 : 1.7999999225139618 %\n",
            "Occupation_proc_1 : 1.3000000268220901 %\n",
            "Occupation_proc_2 : 10.700000077486038 %\n",
            "Occupation_proc_3 : 2.9999999329447746 %\n",
            "Is_Active_proc_0 : 1.600000075995922 %\n",
            "Is_Active_proc_1 : 0.0 %\n",
            "Credit_Product_proc_0 : 1.9999999552965164 %\n",
            "Credit_Product_proc_1 : 0.0 %\n",
            "Age_Binned_0 : 4.500000178813934 %\n",
            "Age_Binned_1 : 0.9999999776482582 %\n",
            "Age_Binned_2 : 1.0999999940395355 %\n",
            "Avg_Account_Balance_log : 0.3000000026077032 %\n",
            "Vintage_max : 4.30000014603138 %\n"
          ],
          "name": "stdout"
        }
      ]
    },
    {
      "cell_type": "markdown",
      "metadata": {
        "id": "MZW7ygOgr_eu"
      },
      "source": [
        "# Debugg"
      ]
    },
    {
      "cell_type": "code",
      "metadata": {
        "colab": {
          "base_uri": "https://localhost:8080/",
          "height": 524
        },
        "id": "ZP9uobGDuoad",
        "outputId": "b909cff9-e257-42d3-adbd-8facbd23921b"
      },
      "source": [
        "x_test_check = process(x_test_check)\n",
        "x_test_check = transform(x_test_check)\n",
        "x_test"
      ],
      "execution_count": 220,
      "outputs": [
        {
          "output_type": "stream",
          "text": [
            "Region Code Processed Successfully\n",
            "Channel Code Processed Successfully\n",
            "Gender Processed Successfully\n",
            "Occupation Processed Successfully\n",
            "Is Active Processed Successfully\n"
          ],
          "name": "stdout"
        },
        {
          "output_type": "execute_result",
          "data": {
            "text/html": [
              "<div>\n",
              "<style scoped>\n",
              "    .dataframe tbody tr th:only-of-type {\n",
              "        vertical-align: middle;\n",
              "    }\n",
              "\n",
              "    .dataframe tbody tr th {\n",
              "        vertical-align: top;\n",
              "    }\n",
              "\n",
              "    .dataframe thead th {\n",
              "        text-align: right;\n",
              "    }\n",
              "</style>\n",
              "<table border=\"1\" class=\"dataframe\">\n",
              "  <thead>\n",
              "    <tr style=\"text-align: right;\">\n",
              "      <th></th>\n",
              "      <th>Channel_Code_proc_0</th>\n",
              "      <th>Channel_Code_proc_1</th>\n",
              "      <th>Channel_Code_proc_2</th>\n",
              "      <th>Channel_Code_proc_3</th>\n",
              "      <th>Gender_proc_0</th>\n",
              "      <th>Gender_proc_1</th>\n",
              "      <th>Occupation_proc_0</th>\n",
              "      <th>Occupation_proc_1</th>\n",
              "      <th>Occupation_proc_2</th>\n",
              "      <th>Occupation_proc_3</th>\n",
              "      <th>Is_Active_proc_0</th>\n",
              "      <th>Is_Active_proc_1</th>\n",
              "      <th>Credit_Product_proc_0</th>\n",
              "      <th>Credit_Product_proc_1</th>\n",
              "      <th>Age_Binned_0</th>\n",
              "      <th>Age_Binned_1</th>\n",
              "      <th>Age_Binned_2</th>\n",
              "      <th>Avg_Account_Balance_log</th>\n",
              "      <th>Vintage_max</th>\n",
              "    </tr>\n",
              "  </thead>\n",
              "  <tbody>\n",
              "    <tr>\n",
              "      <th>171739</th>\n",
              "      <td>1.0</td>\n",
              "      <td>0.0</td>\n",
              "      <td>0.0</td>\n",
              "      <td>0.0</td>\n",
              "      <td>0.0</td>\n",
              "      <td>1.0</td>\n",
              "      <td>0.0</td>\n",
              "      <td>1.0</td>\n",
              "      <td>0.0</td>\n",
              "      <td>0.0</td>\n",
              "      <td>1.0</td>\n",
              "      <td>0.0</td>\n",
              "      <td>1.0</td>\n",
              "      <td>0.0</td>\n",
              "      <td>1.0</td>\n",
              "      <td>0.0</td>\n",
              "      <td>0.0</td>\n",
              "      <td>14.028877</td>\n",
              "      <td>0.558235</td>\n",
              "    </tr>\n",
              "    <tr>\n",
              "      <th>98848</th>\n",
              "      <td>1.0</td>\n",
              "      <td>0.0</td>\n",
              "      <td>0.0</td>\n",
              "      <td>0.0</td>\n",
              "      <td>1.0</td>\n",
              "      <td>0.0</td>\n",
              "      <td>0.0</td>\n",
              "      <td>0.0</td>\n",
              "      <td>1.0</td>\n",
              "      <td>0.0</td>\n",
              "      <td>0.0</td>\n",
              "      <td>1.0</td>\n",
              "      <td>1.0</td>\n",
              "      <td>0.0</td>\n",
              "      <td>1.0</td>\n",
              "      <td>0.0</td>\n",
              "      <td>0.0</td>\n",
              "      <td>13.427141</td>\n",
              "      <td>0.259535</td>\n",
              "    </tr>\n",
              "    <tr>\n",
              "      <th>184607</th>\n",
              "      <td>1.0</td>\n",
              "      <td>0.0</td>\n",
              "      <td>0.0</td>\n",
              "      <td>0.0</td>\n",
              "      <td>0.0</td>\n",
              "      <td>1.0</td>\n",
              "      <td>0.0</td>\n",
              "      <td>0.0</td>\n",
              "      <td>1.0</td>\n",
              "      <td>0.0</td>\n",
              "      <td>1.0</td>\n",
              "      <td>0.0</td>\n",
              "      <td>0.0</td>\n",
              "      <td>1.0</td>\n",
              "      <td>1.0</td>\n",
              "      <td>0.0</td>\n",
              "      <td>0.0</td>\n",
              "      <td>12.747213</td>\n",
              "      <td>0.386691</td>\n",
              "    </tr>\n",
              "    <tr>\n",
              "      <th>61725</th>\n",
              "      <td>1.0</td>\n",
              "      <td>0.0</td>\n",
              "      <td>0.0</td>\n",
              "      <td>0.0</td>\n",
              "      <td>1.0</td>\n",
              "      <td>0.0</td>\n",
              "      <td>0.0</td>\n",
              "      <td>0.0</td>\n",
              "      <td>1.0</td>\n",
              "      <td>0.0</td>\n",
              "      <td>0.0</td>\n",
              "      <td>1.0</td>\n",
              "      <td>1.0</td>\n",
              "      <td>0.0</td>\n",
              "      <td>1.0</td>\n",
              "      <td>0.0</td>\n",
              "      <td>0.0</td>\n",
              "      <td>13.775419</td>\n",
              "      <td>0.284462</td>\n",
              "    </tr>\n",
              "    <tr>\n",
              "      <th>48107</th>\n",
              "      <td>0.0</td>\n",
              "      <td>1.0</td>\n",
              "      <td>0.0</td>\n",
              "      <td>0.0</td>\n",
              "      <td>1.0</td>\n",
              "      <td>0.0</td>\n",
              "      <td>0.0</td>\n",
              "      <td>0.0</td>\n",
              "      <td>1.0</td>\n",
              "      <td>0.0</td>\n",
              "      <td>1.0</td>\n",
              "      <td>0.0</td>\n",
              "      <td>1.0</td>\n",
              "      <td>0.0</td>\n",
              "      <td>0.0</td>\n",
              "      <td>1.0</td>\n",
              "      <td>0.0</td>\n",
              "      <td>14.608174</td>\n",
              "      <td>0.694617</td>\n",
              "    </tr>\n",
              "    <tr>\n",
              "      <th>...</th>\n",
              "      <td>...</td>\n",
              "      <td>...</td>\n",
              "      <td>...</td>\n",
              "      <td>...</td>\n",
              "      <td>...</td>\n",
              "      <td>...</td>\n",
              "      <td>...</td>\n",
              "      <td>...</td>\n",
              "      <td>...</td>\n",
              "      <td>...</td>\n",
              "      <td>...</td>\n",
              "      <td>...</td>\n",
              "      <td>...</td>\n",
              "      <td>...</td>\n",
              "      <td>...</td>\n",
              "      <td>...</td>\n",
              "      <td>...</td>\n",
              "      <td>...</td>\n",
              "      <td>...</td>\n",
              "    </tr>\n",
              "    <tr>\n",
              "      <th>236899</th>\n",
              "      <td>0.0</td>\n",
              "      <td>0.0</td>\n",
              "      <td>1.0</td>\n",
              "      <td>0.0</td>\n",
              "      <td>1.0</td>\n",
              "      <td>0.0</td>\n",
              "      <td>0.0</td>\n",
              "      <td>1.0</td>\n",
              "      <td>0.0</td>\n",
              "      <td>0.0</td>\n",
              "      <td>0.0</td>\n",
              "      <td>1.0</td>\n",
              "      <td>1.0</td>\n",
              "      <td>0.0</td>\n",
              "      <td>0.0</td>\n",
              "      <td>0.0</td>\n",
              "      <td>1.0</td>\n",
              "      <td>14.465202</td>\n",
              "      <td>0.882107</td>\n",
              "    </tr>\n",
              "    <tr>\n",
              "      <th>65610</th>\n",
              "      <td>1.0</td>\n",
              "      <td>0.0</td>\n",
              "      <td>0.0</td>\n",
              "      <td>0.0</td>\n",
              "      <td>0.0</td>\n",
              "      <td>1.0</td>\n",
              "      <td>0.0</td>\n",
              "      <td>0.0</td>\n",
              "      <td>1.0</td>\n",
              "      <td>0.0</td>\n",
              "      <td>1.0</td>\n",
              "      <td>0.0</td>\n",
              "      <td>0.0</td>\n",
              "      <td>1.0</td>\n",
              "      <td>1.0</td>\n",
              "      <td>0.0</td>\n",
              "      <td>0.0</td>\n",
              "      <td>13.866489</td>\n",
              "      <td>0.232581</td>\n",
              "    </tr>\n",
              "    <tr>\n",
              "      <th>42881</th>\n",
              "      <td>1.0</td>\n",
              "      <td>0.0</td>\n",
              "      <td>0.0</td>\n",
              "      <td>0.0</td>\n",
              "      <td>0.0</td>\n",
              "      <td>1.0</td>\n",
              "      <td>0.0</td>\n",
              "      <td>0.0</td>\n",
              "      <td>1.0</td>\n",
              "      <td>0.0</td>\n",
              "      <td>1.0</td>\n",
              "      <td>0.0</td>\n",
              "      <td>1.0</td>\n",
              "      <td>0.0</td>\n",
              "      <td>1.0</td>\n",
              "      <td>0.0</td>\n",
              "      <td>0.0</td>\n",
              "      <td>12.866498</td>\n",
              "      <td>0.368664</td>\n",
              "    </tr>\n",
              "    <tr>\n",
              "      <th>199081</th>\n",
              "      <td>0.0</td>\n",
              "      <td>1.0</td>\n",
              "      <td>0.0</td>\n",
              "      <td>0.0</td>\n",
              "      <td>1.0</td>\n",
              "      <td>0.0</td>\n",
              "      <td>1.0</td>\n",
              "      <td>0.0</td>\n",
              "      <td>0.0</td>\n",
              "      <td>0.0</td>\n",
              "      <td>0.0</td>\n",
              "      <td>1.0</td>\n",
              "      <td>1.0</td>\n",
              "      <td>0.0</td>\n",
              "      <td>0.0</td>\n",
              "      <td>1.0</td>\n",
              "      <td>0.0</td>\n",
              "      <td>13.354089</td>\n",
              "      <td>0.792194</td>\n",
              "    </tr>\n",
              "    <tr>\n",
              "      <th>104851</th>\n",
              "      <td>0.0</td>\n",
              "      <td>0.0</td>\n",
              "      <td>0.0</td>\n",
              "      <td>1.0</td>\n",
              "      <td>1.0</td>\n",
              "      <td>0.0</td>\n",
              "      <td>1.0</td>\n",
              "      <td>0.0</td>\n",
              "      <td>0.0</td>\n",
              "      <td>0.0</td>\n",
              "      <td>0.0</td>\n",
              "      <td>1.0</td>\n",
              "      <td>1.0</td>\n",
              "      <td>0.0</td>\n",
              "      <td>1.0</td>\n",
              "      <td>0.0</td>\n",
              "      <td>0.0</td>\n",
              "      <td>12.725479</td>\n",
              "      <td>0.284462</td>\n",
              "    </tr>\n",
              "  </tbody>\n",
              "</table>\n",
              "<p>61432 rows × 19 columns</p>\n",
              "</div>"
            ],
            "text/plain": [
              "        Channel_Code_proc_0  ...  Vintage_max\n",
              "171739                  1.0  ...     0.558235\n",
              "98848                   1.0  ...     0.259535\n",
              "184607                  1.0  ...     0.386691\n",
              "61725                   1.0  ...     0.284462\n",
              "48107                   0.0  ...     0.694617\n",
              "...                     ...  ...          ...\n",
              "236899                  0.0  ...     0.882107\n",
              "65610                   1.0  ...     0.232581\n",
              "42881                   1.0  ...     0.368664\n",
              "199081                  0.0  ...     0.792194\n",
              "104851                  0.0  ...     0.284462\n",
              "\n",
              "[61432 rows x 19 columns]"
            ]
          },
          "metadata": {
            "tags": []
          },
          "execution_count": 220
        }
      ]
    },
    {
      "cell_type": "code",
      "metadata": {
        "colab": {
          "base_uri": "https://localhost:8080/"
        },
        "id": "t0Ewmmus8TCY",
        "outputId": "1f9c9cbc-b6af-469c-b934-0b64798902b7"
      },
      "source": [
        "# x_test_check['Channel_Code'].loc[x_test_check['Channel_Code']=='X1'].count()"
      ],
      "execution_count": 129,
      "outputs": [
        {
          "output_type": "execute_result",
          "data": {
            "text/plain": [
              "26024"
            ]
          },
          "metadata": {
            "tags": []
          },
          "execution_count": 129
        }
      ]
    },
    {
      "cell_type": "code",
      "metadata": {
        "colab": {
          "base_uri": "https://localhost:8080/"
        },
        "id": "Jt4LfjAz8_Do",
        "outputId": "193327fc-171a-4b23-eda9-b39e8ecc3653"
      },
      "source": [
        "# x_test_check['Channel_Code_proc_1'].loc[x_test_check['Channel_Code_proc_1']==1].count()"
      ],
      "execution_count": 124,
      "outputs": [
        {
          "output_type": "execute_result",
          "data": {
            "text/plain": [
              "16931"
            ]
          },
          "metadata": {
            "tags": []
          },
          "execution_count": 124
        }
      ]
    },
    {
      "cell_type": "code",
      "metadata": {
        "id": "Ft9aWqHUsjSI"
      },
      "source": [
        "def is_match(x):\n",
        "  \n",
        "  if x['True']==x['Pred']:\n",
        "    return 1\n",
        "  else:\n",
        "    return 0"
      ],
      "execution_count": 241,
      "outputs": []
    },
    {
      "cell_type": "code",
      "metadata": {
        "colab": {
          "base_uri": "https://localhost:8080/",
          "height": 527
        },
        "id": "CaacCA3KfvLB",
        "outputId": "954ab3f7-e446-47df-de06-b7fbef058521"
      },
      "source": [
        "x_test_check['Pred'] = y_hat_xgb\n",
        "x_test_check['True'] = y_test\n",
        "x_test_check['match'] = x_test_check.apply(lambda x: is_match(x))"
      ],
      "execution_count": 242,
      "outputs": [
        {
          "output_type": "error",
          "ename": "KeyError",
          "evalue": "ignored",
          "traceback": [
            "\u001b[0;31m---------------------------------------------------------------------------\u001b[0m",
            "\u001b[0;31mKeyError\u001b[0m                                  Traceback (most recent call last)",
            "\u001b[0;32m/usr/local/lib/python3.7/dist-packages/pandas/core/indexes/base.py\u001b[0m in \u001b[0;36mget_loc\u001b[0;34m(self, key, method, tolerance)\u001b[0m\n\u001b[1;32m   2897\u001b[0m             \u001b[0;32mtry\u001b[0m\u001b[0;34m:\u001b[0m\u001b[0;34m\u001b[0m\u001b[0;34m\u001b[0m\u001b[0m\n\u001b[0;32m-> 2898\u001b[0;31m                 \u001b[0;32mreturn\u001b[0m \u001b[0mself\u001b[0m\u001b[0;34m.\u001b[0m\u001b[0m_engine\u001b[0m\u001b[0;34m.\u001b[0m\u001b[0mget_loc\u001b[0m\u001b[0;34m(\u001b[0m\u001b[0mcasted_key\u001b[0m\u001b[0;34m)\u001b[0m\u001b[0;34m\u001b[0m\u001b[0;34m\u001b[0m\u001b[0m\n\u001b[0m\u001b[1;32m   2899\u001b[0m             \u001b[0;32mexcept\u001b[0m \u001b[0mKeyError\u001b[0m \u001b[0;32mas\u001b[0m \u001b[0merr\u001b[0m\u001b[0;34m:\u001b[0m\u001b[0;34m\u001b[0m\u001b[0;34m\u001b[0m\u001b[0m\n",
            "\u001b[0;32mpandas/_libs/index.pyx\u001b[0m in \u001b[0;36mpandas._libs.index.IndexEngine.get_loc\u001b[0;34m()\u001b[0m\n",
            "\u001b[0;32mpandas/_libs/index.pyx\u001b[0m in \u001b[0;36mpandas._libs.index.IndexEngine.get_loc\u001b[0;34m()\u001b[0m\n",
            "\u001b[0;32mpandas/_libs/index_class_helper.pxi\u001b[0m in \u001b[0;36mpandas._libs.index.Int64Engine._check_type\u001b[0;34m()\u001b[0m\n",
            "\u001b[0;31mKeyError\u001b[0m: 'True'",
            "\nThe above exception was the direct cause of the following exception:\n",
            "\u001b[0;31mKeyError\u001b[0m                                  Traceback (most recent call last)",
            "\u001b[0;32m<ipython-input-242-66f2e92d36e4>\u001b[0m in \u001b[0;36m<module>\u001b[0;34m()\u001b[0m\n\u001b[1;32m      1\u001b[0m \u001b[0mx_test_check\u001b[0m\u001b[0;34m[\u001b[0m\u001b[0;34m'Pred'\u001b[0m\u001b[0;34m]\u001b[0m \u001b[0;34m=\u001b[0m \u001b[0my_hat_xgb\u001b[0m\u001b[0;34m\u001b[0m\u001b[0;34m\u001b[0m\u001b[0m\n\u001b[1;32m      2\u001b[0m \u001b[0mx_test_check\u001b[0m\u001b[0;34m[\u001b[0m\u001b[0;34m'True'\u001b[0m\u001b[0;34m]\u001b[0m \u001b[0;34m=\u001b[0m \u001b[0my_test\u001b[0m\u001b[0;34m\u001b[0m\u001b[0;34m\u001b[0m\u001b[0m\n\u001b[0;32m----> 3\u001b[0;31m \u001b[0mx_test_check\u001b[0m\u001b[0;34m[\u001b[0m\u001b[0;34m'match'\u001b[0m\u001b[0;34m]\u001b[0m \u001b[0;34m=\u001b[0m \u001b[0mx_test_check\u001b[0m\u001b[0;34m.\u001b[0m\u001b[0mapply\u001b[0m\u001b[0;34m(\u001b[0m\u001b[0;32mlambda\u001b[0m \u001b[0mx\u001b[0m\u001b[0;34m:\u001b[0m \u001b[0mis_match\u001b[0m\u001b[0;34m(\u001b[0m\u001b[0mx\u001b[0m\u001b[0;34m)\u001b[0m\u001b[0;34m)\u001b[0m\u001b[0;34m\u001b[0m\u001b[0;34m\u001b[0m\u001b[0m\n\u001b[0m",
            "\u001b[0;32m/usr/local/lib/python3.7/dist-packages/pandas/core/frame.py\u001b[0m in \u001b[0;36mapply\u001b[0;34m(self, func, axis, raw, result_type, args, **kwds)\u001b[0m\n\u001b[1;32m   7550\u001b[0m             \u001b[0mkwds\u001b[0m\u001b[0;34m=\u001b[0m\u001b[0mkwds\u001b[0m\u001b[0;34m,\u001b[0m\u001b[0;34m\u001b[0m\u001b[0;34m\u001b[0m\u001b[0m\n\u001b[1;32m   7551\u001b[0m         )\n\u001b[0;32m-> 7552\u001b[0;31m         \u001b[0;32mreturn\u001b[0m \u001b[0mop\u001b[0m\u001b[0;34m.\u001b[0m\u001b[0mget_result\u001b[0m\u001b[0;34m(\u001b[0m\u001b[0;34m)\u001b[0m\u001b[0;34m\u001b[0m\u001b[0;34m\u001b[0m\u001b[0m\n\u001b[0m\u001b[1;32m   7553\u001b[0m \u001b[0;34m\u001b[0m\u001b[0m\n\u001b[1;32m   7554\u001b[0m     \u001b[0;32mdef\u001b[0m \u001b[0mapplymap\u001b[0m\u001b[0;34m(\u001b[0m\u001b[0mself\u001b[0m\u001b[0;34m,\u001b[0m \u001b[0mfunc\u001b[0m\u001b[0;34m)\u001b[0m \u001b[0;34m->\u001b[0m \u001b[0;34m\"DataFrame\"\u001b[0m\u001b[0;34m:\u001b[0m\u001b[0;34m\u001b[0m\u001b[0;34m\u001b[0m\u001b[0m\n",
            "\u001b[0;32m/usr/local/lib/python3.7/dist-packages/pandas/core/apply.py\u001b[0m in \u001b[0;36mget_result\u001b[0;34m(self)\u001b[0m\n\u001b[1;32m    183\u001b[0m             \u001b[0;32mreturn\u001b[0m \u001b[0mself\u001b[0m\u001b[0;34m.\u001b[0m\u001b[0mapply_raw\u001b[0m\u001b[0;34m(\u001b[0m\u001b[0;34m)\u001b[0m\u001b[0;34m\u001b[0m\u001b[0;34m\u001b[0m\u001b[0m\n\u001b[1;32m    184\u001b[0m \u001b[0;34m\u001b[0m\u001b[0m\n\u001b[0;32m--> 185\u001b[0;31m         \u001b[0;32mreturn\u001b[0m \u001b[0mself\u001b[0m\u001b[0;34m.\u001b[0m\u001b[0mapply_standard\u001b[0m\u001b[0;34m(\u001b[0m\u001b[0;34m)\u001b[0m\u001b[0;34m\u001b[0m\u001b[0;34m\u001b[0m\u001b[0m\n\u001b[0m\u001b[1;32m    186\u001b[0m \u001b[0;34m\u001b[0m\u001b[0m\n\u001b[1;32m    187\u001b[0m     \u001b[0;32mdef\u001b[0m \u001b[0mapply_empty_result\u001b[0m\u001b[0;34m(\u001b[0m\u001b[0mself\u001b[0m\u001b[0;34m)\u001b[0m\u001b[0;34m:\u001b[0m\u001b[0;34m\u001b[0m\u001b[0;34m\u001b[0m\u001b[0m\n",
            "\u001b[0;32m/usr/local/lib/python3.7/dist-packages/pandas/core/apply.py\u001b[0m in \u001b[0;36mapply_standard\u001b[0;34m(self)\u001b[0m\n\u001b[1;32m    274\u001b[0m \u001b[0;34m\u001b[0m\u001b[0m\n\u001b[1;32m    275\u001b[0m     \u001b[0;32mdef\u001b[0m \u001b[0mapply_standard\u001b[0m\u001b[0;34m(\u001b[0m\u001b[0mself\u001b[0m\u001b[0;34m)\u001b[0m\u001b[0;34m:\u001b[0m\u001b[0;34m\u001b[0m\u001b[0;34m\u001b[0m\u001b[0m\n\u001b[0;32m--> 276\u001b[0;31m         \u001b[0mresults\u001b[0m\u001b[0;34m,\u001b[0m \u001b[0mres_index\u001b[0m \u001b[0;34m=\u001b[0m \u001b[0mself\u001b[0m\u001b[0;34m.\u001b[0m\u001b[0mapply_series_generator\u001b[0m\u001b[0;34m(\u001b[0m\u001b[0;34m)\u001b[0m\u001b[0;34m\u001b[0m\u001b[0;34m\u001b[0m\u001b[0m\n\u001b[0m\u001b[1;32m    277\u001b[0m \u001b[0;34m\u001b[0m\u001b[0m\n\u001b[1;32m    278\u001b[0m         \u001b[0;31m# wrap results\u001b[0m\u001b[0;34m\u001b[0m\u001b[0;34m\u001b[0m\u001b[0;34m\u001b[0m\u001b[0m\n",
            "\u001b[0;32m/usr/local/lib/python3.7/dist-packages/pandas/core/apply.py\u001b[0m in \u001b[0;36mapply_series_generator\u001b[0;34m(self)\u001b[0m\n\u001b[1;32m    303\u001b[0m                 \u001b[0;32mfor\u001b[0m \u001b[0mi\u001b[0m\u001b[0;34m,\u001b[0m \u001b[0mv\u001b[0m \u001b[0;32min\u001b[0m \u001b[0menumerate\u001b[0m\u001b[0;34m(\u001b[0m\u001b[0mseries_gen\u001b[0m\u001b[0;34m)\u001b[0m\u001b[0;34m:\u001b[0m\u001b[0;34m\u001b[0m\u001b[0;34m\u001b[0m\u001b[0m\n\u001b[1;32m    304\u001b[0m                     \u001b[0;31m# ignore SettingWithCopy here in case the user mutates\u001b[0m\u001b[0;34m\u001b[0m\u001b[0;34m\u001b[0m\u001b[0;34m\u001b[0m\u001b[0m\n\u001b[0;32m--> 305\u001b[0;31m                     \u001b[0mresults\u001b[0m\u001b[0;34m[\u001b[0m\u001b[0mi\u001b[0m\u001b[0;34m]\u001b[0m \u001b[0;34m=\u001b[0m \u001b[0mself\u001b[0m\u001b[0;34m.\u001b[0m\u001b[0mf\u001b[0m\u001b[0;34m(\u001b[0m\u001b[0mv\u001b[0m\u001b[0;34m)\u001b[0m\u001b[0;34m\u001b[0m\u001b[0;34m\u001b[0m\u001b[0m\n\u001b[0m\u001b[1;32m    306\u001b[0m                     \u001b[0;32mif\u001b[0m \u001b[0misinstance\u001b[0m\u001b[0;34m(\u001b[0m\u001b[0mresults\u001b[0m\u001b[0;34m[\u001b[0m\u001b[0mi\u001b[0m\u001b[0;34m]\u001b[0m\u001b[0;34m,\u001b[0m \u001b[0mABCSeries\u001b[0m\u001b[0;34m)\u001b[0m\u001b[0;34m:\u001b[0m\u001b[0;34m\u001b[0m\u001b[0;34m\u001b[0m\u001b[0m\n\u001b[1;32m    307\u001b[0m                         \u001b[0;31m# If we have a view on v, we need to make a copy because\u001b[0m\u001b[0;34m\u001b[0m\u001b[0;34m\u001b[0m\u001b[0;34m\u001b[0m\u001b[0m\n",
            "\u001b[0;32m<ipython-input-242-66f2e92d36e4>\u001b[0m in \u001b[0;36m<lambda>\u001b[0;34m(x)\u001b[0m\n\u001b[1;32m      1\u001b[0m \u001b[0mx_test_check\u001b[0m\u001b[0;34m[\u001b[0m\u001b[0;34m'Pred'\u001b[0m\u001b[0;34m]\u001b[0m \u001b[0;34m=\u001b[0m \u001b[0my_hat_xgb\u001b[0m\u001b[0;34m\u001b[0m\u001b[0;34m\u001b[0m\u001b[0m\n\u001b[1;32m      2\u001b[0m \u001b[0mx_test_check\u001b[0m\u001b[0;34m[\u001b[0m\u001b[0;34m'True'\u001b[0m\u001b[0;34m]\u001b[0m \u001b[0;34m=\u001b[0m \u001b[0my_test\u001b[0m\u001b[0;34m\u001b[0m\u001b[0;34m\u001b[0m\u001b[0m\n\u001b[0;32m----> 3\u001b[0;31m \u001b[0mx_test_check\u001b[0m\u001b[0;34m[\u001b[0m\u001b[0;34m'match'\u001b[0m\u001b[0;34m]\u001b[0m \u001b[0;34m=\u001b[0m \u001b[0mx_test_check\u001b[0m\u001b[0;34m.\u001b[0m\u001b[0mapply\u001b[0m\u001b[0;34m(\u001b[0m\u001b[0;32mlambda\u001b[0m \u001b[0mx\u001b[0m\u001b[0;34m:\u001b[0m \u001b[0mis_match\u001b[0m\u001b[0;34m(\u001b[0m\u001b[0mx\u001b[0m\u001b[0;34m)\u001b[0m\u001b[0;34m)\u001b[0m\u001b[0;34m\u001b[0m\u001b[0;34m\u001b[0m\u001b[0m\n\u001b[0m",
            "\u001b[0;32m<ipython-input-241-8529ad7b45de>\u001b[0m in \u001b[0;36mis_match\u001b[0;34m(x)\u001b[0m\n\u001b[1;32m      1\u001b[0m \u001b[0;32mdef\u001b[0m \u001b[0mis_match\u001b[0m\u001b[0;34m(\u001b[0m\u001b[0mx\u001b[0m\u001b[0;34m)\u001b[0m\u001b[0;34m:\u001b[0m\u001b[0;34m\u001b[0m\u001b[0;34m\u001b[0m\u001b[0m\n\u001b[0;32m----> 2\u001b[0;31m   \u001b[0;32mif\u001b[0m \u001b[0mx\u001b[0m\u001b[0;34m[\u001b[0m\u001b[0;34m'True'\u001b[0m\u001b[0;34m]\u001b[0m\u001b[0;34m==\u001b[0m\u001b[0mx\u001b[0m\u001b[0;34m[\u001b[0m\u001b[0;34m'Pred'\u001b[0m\u001b[0;34m]\u001b[0m\u001b[0;34m:\u001b[0m\u001b[0;34m\u001b[0m\u001b[0;34m\u001b[0m\u001b[0m\n\u001b[0m\u001b[1;32m      3\u001b[0m     \u001b[0;32mreturn\u001b[0m \u001b[0;36m1\u001b[0m\u001b[0;34m\u001b[0m\u001b[0;34m\u001b[0m\u001b[0m\n\u001b[1;32m      4\u001b[0m   \u001b[0;32melse\u001b[0m\u001b[0;34m:\u001b[0m\u001b[0;34m\u001b[0m\u001b[0;34m\u001b[0m\u001b[0m\n\u001b[1;32m      5\u001b[0m     \u001b[0;32mreturn\u001b[0m \u001b[0;36m0\u001b[0m\u001b[0;34m\u001b[0m\u001b[0;34m\u001b[0m\u001b[0m\n",
            "\u001b[0;32m/usr/local/lib/python3.7/dist-packages/pandas/core/series.py\u001b[0m in \u001b[0;36m__getitem__\u001b[0;34m(self, key)\u001b[0m\n\u001b[1;32m    880\u001b[0m \u001b[0;34m\u001b[0m\u001b[0m\n\u001b[1;32m    881\u001b[0m         \u001b[0;32melif\u001b[0m \u001b[0mkey_is_scalar\u001b[0m\u001b[0;34m:\u001b[0m\u001b[0;34m\u001b[0m\u001b[0;34m\u001b[0m\u001b[0m\n\u001b[0;32m--> 882\u001b[0;31m             \u001b[0;32mreturn\u001b[0m \u001b[0mself\u001b[0m\u001b[0;34m.\u001b[0m\u001b[0m_get_value\u001b[0m\u001b[0;34m(\u001b[0m\u001b[0mkey\u001b[0m\u001b[0;34m)\u001b[0m\u001b[0;34m\u001b[0m\u001b[0;34m\u001b[0m\u001b[0m\n\u001b[0m\u001b[1;32m    883\u001b[0m \u001b[0;34m\u001b[0m\u001b[0m\n\u001b[1;32m    884\u001b[0m         \u001b[0;32mif\u001b[0m \u001b[0mis_hashable\u001b[0m\u001b[0;34m(\u001b[0m\u001b[0mkey\u001b[0m\u001b[0;34m)\u001b[0m\u001b[0;34m:\u001b[0m\u001b[0;34m\u001b[0m\u001b[0;34m\u001b[0m\u001b[0m\n",
            "\u001b[0;32m/usr/local/lib/python3.7/dist-packages/pandas/core/series.py\u001b[0m in \u001b[0;36m_get_value\u001b[0;34m(self, label, takeable)\u001b[0m\n\u001b[1;32m    988\u001b[0m \u001b[0;34m\u001b[0m\u001b[0m\n\u001b[1;32m    989\u001b[0m         \u001b[0;31m# Similar to Index.get_value, but we do not fall back to positional\u001b[0m\u001b[0;34m\u001b[0m\u001b[0;34m\u001b[0m\u001b[0;34m\u001b[0m\u001b[0m\n\u001b[0;32m--> 990\u001b[0;31m         \u001b[0mloc\u001b[0m \u001b[0;34m=\u001b[0m \u001b[0mself\u001b[0m\u001b[0;34m.\u001b[0m\u001b[0mindex\u001b[0m\u001b[0;34m.\u001b[0m\u001b[0mget_loc\u001b[0m\u001b[0;34m(\u001b[0m\u001b[0mlabel\u001b[0m\u001b[0;34m)\u001b[0m\u001b[0;34m\u001b[0m\u001b[0;34m\u001b[0m\u001b[0m\n\u001b[0m\u001b[1;32m    991\u001b[0m         \u001b[0;32mreturn\u001b[0m \u001b[0mself\u001b[0m\u001b[0;34m.\u001b[0m\u001b[0mindex\u001b[0m\u001b[0;34m.\u001b[0m\u001b[0m_get_values_for_loc\u001b[0m\u001b[0;34m(\u001b[0m\u001b[0mself\u001b[0m\u001b[0;34m,\u001b[0m \u001b[0mloc\u001b[0m\u001b[0;34m,\u001b[0m \u001b[0mlabel\u001b[0m\u001b[0;34m)\u001b[0m\u001b[0;34m\u001b[0m\u001b[0;34m\u001b[0m\u001b[0m\n\u001b[1;32m    992\u001b[0m \u001b[0;34m\u001b[0m\u001b[0m\n",
            "\u001b[0;32m/usr/local/lib/python3.7/dist-packages/pandas/core/indexes/base.py\u001b[0m in \u001b[0;36mget_loc\u001b[0;34m(self, key, method, tolerance)\u001b[0m\n\u001b[1;32m   2898\u001b[0m                 \u001b[0;32mreturn\u001b[0m \u001b[0mself\u001b[0m\u001b[0;34m.\u001b[0m\u001b[0m_engine\u001b[0m\u001b[0;34m.\u001b[0m\u001b[0mget_loc\u001b[0m\u001b[0;34m(\u001b[0m\u001b[0mcasted_key\u001b[0m\u001b[0;34m)\u001b[0m\u001b[0;34m\u001b[0m\u001b[0;34m\u001b[0m\u001b[0m\n\u001b[1;32m   2899\u001b[0m             \u001b[0;32mexcept\u001b[0m \u001b[0mKeyError\u001b[0m \u001b[0;32mas\u001b[0m \u001b[0merr\u001b[0m\u001b[0;34m:\u001b[0m\u001b[0;34m\u001b[0m\u001b[0;34m\u001b[0m\u001b[0m\n\u001b[0;32m-> 2900\u001b[0;31m                 \u001b[0;32mraise\u001b[0m \u001b[0mKeyError\u001b[0m\u001b[0;34m(\u001b[0m\u001b[0mkey\u001b[0m\u001b[0;34m)\u001b[0m \u001b[0;32mfrom\u001b[0m \u001b[0merr\u001b[0m\u001b[0;34m\u001b[0m\u001b[0;34m\u001b[0m\u001b[0m\n\u001b[0m\u001b[1;32m   2901\u001b[0m \u001b[0;34m\u001b[0m\u001b[0m\n\u001b[1;32m   2902\u001b[0m         \u001b[0;32mif\u001b[0m \u001b[0mtolerance\u001b[0m \u001b[0;32mis\u001b[0m \u001b[0;32mnot\u001b[0m \u001b[0;32mNone\u001b[0m\u001b[0;34m:\u001b[0m\u001b[0;34m\u001b[0m\u001b[0;34m\u001b[0m\u001b[0m\n",
            "\u001b[0;31mKeyError\u001b[0m: 'True'"
          ]
        }
      ]
    },
    {
      "cell_type": "code",
      "metadata": {
        "colab": {
          "base_uri": "https://localhost:8080/",
          "height": 439
        },
        "id": "U3ximZvzjMqL",
        "outputId": "cc0187e8-c000-4306-a7cb-82fa01b1a2ec"
      },
      "source": [
        "check_df = x_test_check.loc[((x_test_check['True']==1) & (x_test_check['Pred'] == 0))]\n",
        "check_df"
      ],
      "execution_count": 225,
      "outputs": [
        {
          "output_type": "execute_result",
          "data": {
            "text/html": [
              "<div>\n",
              "<style scoped>\n",
              "    .dataframe tbody tr th:only-of-type {\n",
              "        vertical-align: middle;\n",
              "    }\n",
              "\n",
              "    .dataframe tbody tr th {\n",
              "        vertical-align: top;\n",
              "    }\n",
              "\n",
              "    .dataframe thead th {\n",
              "        text-align: right;\n",
              "    }\n",
              "</style>\n",
              "<table border=\"1\" class=\"dataframe\">\n",
              "  <thead>\n",
              "    <tr style=\"text-align: right;\">\n",
              "      <th></th>\n",
              "      <th>Gender</th>\n",
              "      <th>Age</th>\n",
              "      <th>Region_Code</th>\n",
              "      <th>Occupation</th>\n",
              "      <th>Channel_Code</th>\n",
              "      <th>Vintage</th>\n",
              "      <th>Credit_Product</th>\n",
              "      <th>Avg_Account_Balance</th>\n",
              "      <th>Is_Active</th>\n",
              "      <th>Region_Code_proc</th>\n",
              "      <th>Channel_Code_proc</th>\n",
              "      <th>Channel_Code_proc_0</th>\n",
              "      <th>Channel_Code_proc_1</th>\n",
              "      <th>Channel_Code_proc_2</th>\n",
              "      <th>Channel_Code_proc_3</th>\n",
              "      <th>Gender_proc</th>\n",
              "      <th>Gender_proc_0</th>\n",
              "      <th>Gender_proc_1</th>\n",
              "      <th>Occupation_proc</th>\n",
              "      <th>Occupation_proc_0</th>\n",
              "      <th>Occupation_proc_1</th>\n",
              "      <th>Occupation_proc_2</th>\n",
              "      <th>Occupation_proc_3</th>\n",
              "      <th>Is_Active_proc</th>\n",
              "      <th>Is_Active_proc_0</th>\n",
              "      <th>Is_Active_proc_1</th>\n",
              "      <th>Credit_Product_proc</th>\n",
              "      <th>Credit_Product_proc_0</th>\n",
              "      <th>Credit_Product_proc_1</th>\n",
              "      <th>Age_Binned</th>\n",
              "      <th>Age_Binned_0</th>\n",
              "      <th>Age_Binned_1</th>\n",
              "      <th>Age_Binned_2</th>\n",
              "      <th>Age_box</th>\n",
              "      <th>Avg_Account_Balance_log</th>\n",
              "      <th>Vintage_box</th>\n",
              "      <th>Vintage_max</th>\n",
              "      <th>Pred</th>\n",
              "      <th>True</th>\n",
              "    </tr>\n",
              "  </thead>\n",
              "  <tbody>\n",
              "    <tr>\n",
              "      <th>195952</th>\n",
              "      <td>Male</td>\n",
              "      <td>67</td>\n",
              "      <td>RG283</td>\n",
              "      <td>Other</td>\n",
              "      <td>X3</td>\n",
              "      <td>38</td>\n",
              "      <td>No</td>\n",
              "      <td>1126028</td>\n",
              "      <td>Yes</td>\n",
              "      <td>283</td>\n",
              "      <td>3</td>\n",
              "      <td>0.0</td>\n",
              "      <td>0.0</td>\n",
              "      <td>1.0</td>\n",
              "      <td>0.0</td>\n",
              "      <td>0</td>\n",
              "      <td>1.0</td>\n",
              "      <td>0.0</td>\n",
              "      <td>2</td>\n",
              "      <td>0.0</td>\n",
              "      <td>1.0</td>\n",
              "      <td>0.0</td>\n",
              "      <td>0.0</td>\n",
              "      <td>1</td>\n",
              "      <td>0.0</td>\n",
              "      <td>1.0</td>\n",
              "      <td>0</td>\n",
              "      <td>1.0</td>\n",
              "      <td>0.0</td>\n",
              "      <td>60+</td>\n",
              "      <td>0.0</td>\n",
              "      <td>0.0</td>\n",
              "      <td>1.0</td>\n",
              "      <td>2.579352</td>\n",
              "      <td>13.934207</td>\n",
              "      <td>3.085070</td>\n",
              "      <td>0.605134</td>\n",
              "      <td>0</td>\n",
              "      <td>1</td>\n",
              "    </tr>\n",
              "    <tr>\n",
              "      <th>22306</th>\n",
              "      <td>Male</td>\n",
              "      <td>50</td>\n",
              "      <td>RG277</td>\n",
              "      <td>Entrepreneur</td>\n",
              "      <td>X4</td>\n",
              "      <td>13</td>\n",
              "      <td>Yes</td>\n",
              "      <td>862935</td>\n",
              "      <td>No</td>\n",
              "      <td>277</td>\n",
              "      <td>4</td>\n",
              "      <td>0.0</td>\n",
              "      <td>0.0</td>\n",
              "      <td>0.0</td>\n",
              "      <td>1.0</td>\n",
              "      <td>0</td>\n",
              "      <td>1.0</td>\n",
              "      <td>0.0</td>\n",
              "      <td>4</td>\n",
              "      <td>0.0</td>\n",
              "      <td>0.0</td>\n",
              "      <td>0.0</td>\n",
              "      <td>1.0</td>\n",
              "      <td>0</td>\n",
              "      <td>1.0</td>\n",
              "      <td>0.0</td>\n",
              "      <td>1</td>\n",
              "      <td>0.0</td>\n",
              "      <td>1.0</td>\n",
              "      <td>40-60</td>\n",
              "      <td>0.0</td>\n",
              "      <td>1.0</td>\n",
              "      <td>0.0</td>\n",
              "      <td>2.475355</td>\n",
              "      <td>13.668095</td>\n",
              "      <td>2.281375</td>\n",
              "      <td>0.232581</td>\n",
              "      <td>0</td>\n",
              "      <td>1</td>\n",
              "    </tr>\n",
              "    <tr>\n",
              "      <th>178812</th>\n",
              "      <td>Male</td>\n",
              "      <td>55</td>\n",
              "      <td>RG251</td>\n",
              "      <td>Self_Employed</td>\n",
              "      <td>X3</td>\n",
              "      <td>104</td>\n",
              "      <td>No</td>\n",
              "      <td>552930</td>\n",
              "      <td>No</td>\n",
              "      <td>251</td>\n",
              "      <td>3</td>\n",
              "      <td>0.0</td>\n",
              "      <td>0.0</td>\n",
              "      <td>1.0</td>\n",
              "      <td>0.0</td>\n",
              "      <td>0</td>\n",
              "      <td>1.0</td>\n",
              "      <td>0.0</td>\n",
              "      <td>1</td>\n",
              "      <td>1.0</td>\n",
              "      <td>0.0</td>\n",
              "      <td>0.0</td>\n",
              "      <td>0.0</td>\n",
              "      <td>0</td>\n",
              "      <td>1.0</td>\n",
              "      <td>0.0</td>\n",
              "      <td>0</td>\n",
              "      <td>1.0</td>\n",
              "      <td>0.0</td>\n",
              "      <td>40-60</td>\n",
              "      <td>0.0</td>\n",
              "      <td>1.0</td>\n",
              "      <td>0.0</td>\n",
              "      <td>2.510078</td>\n",
              "      <td>13.222987</td>\n",
              "      <td>3.769727</td>\n",
              "      <td>0.922507</td>\n",
              "      <td>0</td>\n",
              "      <td>1</td>\n",
              "    </tr>\n",
              "    <tr>\n",
              "      <th>169056</th>\n",
              "      <td>Male</td>\n",
              "      <td>43</td>\n",
              "      <td>RG252</td>\n",
              "      <td>Self_Employed</td>\n",
              "      <td>X2</td>\n",
              "      <td>45</td>\n",
              "      <td>Yes</td>\n",
              "      <td>725697</td>\n",
              "      <td>No</td>\n",
              "      <td>252</td>\n",
              "      <td>2</td>\n",
              "      <td>0.0</td>\n",
              "      <td>1.0</td>\n",
              "      <td>0.0</td>\n",
              "      <td>0.0</td>\n",
              "      <td>0</td>\n",
              "      <td>1.0</td>\n",
              "      <td>0.0</td>\n",
              "      <td>1</td>\n",
              "      <td>1.0</td>\n",
              "      <td>0.0</td>\n",
              "      <td>0.0</td>\n",
              "      <td>0.0</td>\n",
              "      <td>0</td>\n",
              "      <td>1.0</td>\n",
              "      <td>0.0</td>\n",
              "      <td>1</td>\n",
              "      <td>0.0</td>\n",
              "      <td>1.0</td>\n",
              "      <td>40-60</td>\n",
              "      <td>0.0</td>\n",
              "      <td>1.0</td>\n",
              "      <td>0.0</td>\n",
              "      <td>2.418653</td>\n",
              "      <td>13.494888</td>\n",
              "      <td>3.204582</td>\n",
              "      <td>0.660533</td>\n",
              "      <td>0</td>\n",
              "      <td>1</td>\n",
              "    </tr>\n",
              "    <tr>\n",
              "      <th>100087</th>\n",
              "      <td>Male</td>\n",
              "      <td>48</td>\n",
              "      <td>RG268</td>\n",
              "      <td>Other</td>\n",
              "      <td>X2</td>\n",
              "      <td>26</td>\n",
              "      <td>Yes</td>\n",
              "      <td>1611273</td>\n",
              "      <td>No</td>\n",
              "      <td>268</td>\n",
              "      <td>2</td>\n",
              "      <td>0.0</td>\n",
              "      <td>1.0</td>\n",
              "      <td>0.0</td>\n",
              "      <td>0.0</td>\n",
              "      <td>0</td>\n",
              "      <td>1.0</td>\n",
              "      <td>0.0</td>\n",
              "      <td>2</td>\n",
              "      <td>0.0</td>\n",
              "      <td>1.0</td>\n",
              "      <td>0.0</td>\n",
              "      <td>0.0</td>\n",
              "      <td>0</td>\n",
              "      <td>1.0</td>\n",
              "      <td>0.0</td>\n",
              "      <td>1</td>\n",
              "      <td>0.0</td>\n",
              "      <td>1.0</td>\n",
              "      <td>40-60</td>\n",
              "      <td>0.0</td>\n",
              "      <td>1.0</td>\n",
              "      <td>0.0</td>\n",
              "      <td>2.460223</td>\n",
              "      <td>14.292535</td>\n",
              "      <td>2.809868</td>\n",
              "      <td>0.477564</td>\n",
              "      <td>0</td>\n",
              "      <td>1</td>\n",
              "    </tr>\n",
              "    <tr>\n",
              "      <th>...</th>\n",
              "      <td>...</td>\n",
              "      <td>...</td>\n",
              "      <td>...</td>\n",
              "      <td>...</td>\n",
              "      <td>...</td>\n",
              "      <td>...</td>\n",
              "      <td>...</td>\n",
              "      <td>...</td>\n",
              "      <td>...</td>\n",
              "      <td>...</td>\n",
              "      <td>...</td>\n",
              "      <td>...</td>\n",
              "      <td>...</td>\n",
              "      <td>...</td>\n",
              "      <td>...</td>\n",
              "      <td>...</td>\n",
              "      <td>...</td>\n",
              "      <td>...</td>\n",
              "      <td>...</td>\n",
              "      <td>...</td>\n",
              "      <td>...</td>\n",
              "      <td>...</td>\n",
              "      <td>...</td>\n",
              "      <td>...</td>\n",
              "      <td>...</td>\n",
              "      <td>...</td>\n",
              "      <td>...</td>\n",
              "      <td>...</td>\n",
              "      <td>...</td>\n",
              "      <td>...</td>\n",
              "      <td>...</td>\n",
              "      <td>...</td>\n",
              "      <td>...</td>\n",
              "      <td>...</td>\n",
              "      <td>...</td>\n",
              "      <td>...</td>\n",
              "      <td>...</td>\n",
              "      <td>...</td>\n",
              "      <td>...</td>\n",
              "    </tr>\n",
              "    <tr>\n",
              "      <th>128193</th>\n",
              "      <td>Female</td>\n",
              "      <td>31</td>\n",
              "      <td>RG264</td>\n",
              "      <td>Salaried</td>\n",
              "      <td>X1</td>\n",
              "      <td>31</td>\n",
              "      <td>Yes</td>\n",
              "      <td>536429</td>\n",
              "      <td>Yes</td>\n",
              "      <td>264</td>\n",
              "      <td>1</td>\n",
              "      <td>1.0</td>\n",
              "      <td>0.0</td>\n",
              "      <td>0.0</td>\n",
              "      <td>0.0</td>\n",
              "      <td>1</td>\n",
              "      <td>0.0</td>\n",
              "      <td>1.0</td>\n",
              "      <td>3</td>\n",
              "      <td>0.0</td>\n",
              "      <td>0.0</td>\n",
              "      <td>1.0</td>\n",
              "      <td>0.0</td>\n",
              "      <td>1</td>\n",
              "      <td>0.0</td>\n",
              "      <td>1.0</td>\n",
              "      <td>1</td>\n",
              "      <td>0.0</td>\n",
              "      <td>1.0</td>\n",
              "      <td>20-40</td>\n",
              "      <td>1.0</td>\n",
              "      <td>0.0</td>\n",
              "      <td>0.0</td>\n",
              "      <td>2.287878</td>\n",
              "      <td>13.192689</td>\n",
              "      <td>2.938633</td>\n",
              "      <td>0.537253</td>\n",
              "      <td>0</td>\n",
              "      <td>1</td>\n",
              "    </tr>\n",
              "    <tr>\n",
              "      <th>230906</th>\n",
              "      <td>Male</td>\n",
              "      <td>41</td>\n",
              "      <td>RG283</td>\n",
              "      <td>Self_Employed</td>\n",
              "      <td>X3</td>\n",
              "      <td>73</td>\n",
              "      <td>No</td>\n",
              "      <td>751453</td>\n",
              "      <td>No</td>\n",
              "      <td>283</td>\n",
              "      <td>3</td>\n",
              "      <td>0.0</td>\n",
              "      <td>0.0</td>\n",
              "      <td>1.0</td>\n",
              "      <td>0.0</td>\n",
              "      <td>0</td>\n",
              "      <td>1.0</td>\n",
              "      <td>0.0</td>\n",
              "      <td>1</td>\n",
              "      <td>1.0</td>\n",
              "      <td>0.0</td>\n",
              "      <td>0.0</td>\n",
              "      <td>0.0</td>\n",
              "      <td>0</td>\n",
              "      <td>1.0</td>\n",
              "      <td>0.0</td>\n",
              "      <td>0</td>\n",
              "      <td>1.0</td>\n",
              "      <td>0.0</td>\n",
              "      <td>40-60</td>\n",
              "      <td>0.0</td>\n",
              "      <td>1.0</td>\n",
              "      <td>0.0</td>\n",
              "      <td>2.400290</td>\n",
              "      <td>13.529764</td>\n",
              "      <td>3.536331</td>\n",
              "      <td>0.814316</td>\n",
              "      <td>0</td>\n",
              "      <td>1</td>\n",
              "    </tr>\n",
              "    <tr>\n",
              "      <th>210902</th>\n",
              "      <td>Female</td>\n",
              "      <td>39</td>\n",
              "      <td>RG278</td>\n",
              "      <td>Self_Employed</td>\n",
              "      <td>X2</td>\n",
              "      <td>14</td>\n",
              "      <td>No</td>\n",
              "      <td>403810</td>\n",
              "      <td>Yes</td>\n",
              "      <td>278</td>\n",
              "      <td>2</td>\n",
              "      <td>0.0</td>\n",
              "      <td>1.0</td>\n",
              "      <td>0.0</td>\n",
              "      <td>0.0</td>\n",
              "      <td>1</td>\n",
              "      <td>0.0</td>\n",
              "      <td>1.0</td>\n",
              "      <td>1</td>\n",
              "      <td>1.0</td>\n",
              "      <td>0.0</td>\n",
              "      <td>0.0</td>\n",
              "      <td>0.0</td>\n",
              "      <td>1</td>\n",
              "      <td>0.0</td>\n",
              "      <td>1.0</td>\n",
              "      <td>0</td>\n",
              "      <td>1.0</td>\n",
              "      <td>0.0</td>\n",
              "      <td>20-40</td>\n",
              "      <td>1.0</td>\n",
              "      <td>0.0</td>\n",
              "      <td>0.0</td>\n",
              "      <td>2.380766</td>\n",
              "      <td>12.908700</td>\n",
              "      <td>2.339523</td>\n",
              "      <td>0.259535</td>\n",
              "      <td>0</td>\n",
              "      <td>1</td>\n",
              "    </tr>\n",
              "    <tr>\n",
              "      <th>195212</th>\n",
              "      <td>Male</td>\n",
              "      <td>57</td>\n",
              "      <td>RG280</td>\n",
              "      <td>Self_Employed</td>\n",
              "      <td>X2</td>\n",
              "      <td>91</td>\n",
              "      <td>No</td>\n",
              "      <td>486678</td>\n",
              "      <td>Yes</td>\n",
              "      <td>280</td>\n",
              "      <td>2</td>\n",
              "      <td>0.0</td>\n",
              "      <td>1.0</td>\n",
              "      <td>0.0</td>\n",
              "      <td>0.0</td>\n",
              "      <td>0</td>\n",
              "      <td>1.0</td>\n",
              "      <td>0.0</td>\n",
              "      <td>1</td>\n",
              "      <td>1.0</td>\n",
              "      <td>0.0</td>\n",
              "      <td>0.0</td>\n",
              "      <td>0.0</td>\n",
              "      <td>1</td>\n",
              "      <td>0.0</td>\n",
              "      <td>1.0</td>\n",
              "      <td>0</td>\n",
              "      <td>1.0</td>\n",
              "      <td>0.0</td>\n",
              "      <td>40-60</td>\n",
              "      <td>0.0</td>\n",
              "      <td>1.0</td>\n",
              "      <td>0.0</td>\n",
              "      <td>2.522875</td>\n",
              "      <td>13.095358</td>\n",
              "      <td>3.682574</td>\n",
              "      <td>0.882107</td>\n",
              "      <td>0</td>\n",
              "      <td>1</td>\n",
              "    </tr>\n",
              "    <tr>\n",
              "      <th>123152</th>\n",
              "      <td>Female</td>\n",
              "      <td>47</td>\n",
              "      <td>RG283</td>\n",
              "      <td>Self_Employed</td>\n",
              "      <td>X2</td>\n",
              "      <td>73</td>\n",
              "      <td>Yes</td>\n",
              "      <td>1275645</td>\n",
              "      <td>Yes</td>\n",
              "      <td>283</td>\n",
              "      <td>2</td>\n",
              "      <td>0.0</td>\n",
              "      <td>1.0</td>\n",
              "      <td>0.0</td>\n",
              "      <td>0.0</td>\n",
              "      <td>1</td>\n",
              "      <td>0.0</td>\n",
              "      <td>1.0</td>\n",
              "      <td>1</td>\n",
              "      <td>1.0</td>\n",
              "      <td>0.0</td>\n",
              "      <td>0.0</td>\n",
              "      <td>0.0</td>\n",
              "      <td>1</td>\n",
              "      <td>0.0</td>\n",
              "      <td>1.0</td>\n",
              "      <td>1</td>\n",
              "      <td>0.0</td>\n",
              "      <td>1.0</td>\n",
              "      <td>40-60</td>\n",
              "      <td>0.0</td>\n",
              "      <td>1.0</td>\n",
              "      <td>0.0</td>\n",
              "      <td>2.452357</td>\n",
              "      <td>14.058962</td>\n",
              "      <td>3.536331</td>\n",
              "      <td>0.814316</td>\n",
              "      <td>0</td>\n",
              "      <td>1</td>\n",
              "    </tr>\n",
              "  </tbody>\n",
              "</table>\n",
              "<p>10897 rows × 39 columns</p>\n",
              "</div>"
            ],
            "text/plain": [
              "        Gender  Age Region_Code  ... Vintage_max Pred  True\n",
              "195952    Male   67       RG283  ...    0.605134    0     1\n",
              "22306     Male   50       RG277  ...    0.232581    0     1\n",
              "178812    Male   55       RG251  ...    0.922507    0     1\n",
              "169056    Male   43       RG252  ...    0.660533    0     1\n",
              "100087    Male   48       RG268  ...    0.477564    0     1\n",
              "...        ...  ...         ...  ...         ...  ...   ...\n",
              "128193  Female   31       RG264  ...    0.537253    0     1\n",
              "230906    Male   41       RG283  ...    0.814316    0     1\n",
              "210902  Female   39       RG278  ...    0.259535    0     1\n",
              "195212    Male   57       RG280  ...    0.882107    0     1\n",
              "123152  Female   47       RG283  ...    0.814316    0     1\n",
              "\n",
              "[10897 rows x 39 columns]"
            ]
          },
          "metadata": {
            "tags": []
          },
          "execution_count": 225
        }
      ]
    },
    {
      "cell_type": "code",
      "metadata": {
        "colab": {
          "base_uri": "https://localhost:8080/",
          "height": 401
        },
        "id": "H2oKJrCVlm_x",
        "outputId": "01e30728-d840-49c1-81ee-0b0446db826b"
      },
      "source": [
        "sns.catplot(x='Age_Binned',kind = 'count', hue = 'Pred', data=x_test_check , col = 'True')\n",
        "# sns.catplot(x='Vintage_max',kind = 'count', hue = 'True',data=x_test_check)"
      ],
      "execution_count": 226,
      "outputs": [
        {
          "output_type": "execute_result",
          "data": {
            "text/plain": [
              "<seaborn.axisgrid.FacetGrid at 0x7f3747b2c650>"
            ]
          },
          "metadata": {
            "tags": []
          },
          "execution_count": 226
        },
        {
          "output_type": "display_data",
          "data": {
            "image/png": "[encoded data removed]",
            "text/plain": [
              "<Figure size 762.375x360 with 2 Axes>"
            ]
          },
          "metadata": {
            "tags": [],
            "needs_background": "light"
          }
        }
      ]
    },
    {
      "cell_type": "code",
      "metadata": {
        "id": "LzkZYQzDo6Ux",
        "outputId": "6dbe81cc-64ef-4f9d-b621-365ba97b5606",
        "colab": {
          "base_uri": "https://localhost:8080/",
          "height": 297
        }
      },
      "source": [
        "x_range = np.linspace(0,20000,len(x_test_check['Avg_Account_Balance_log']))\n",
        "sns.histplot(x='Avg_Account_Balance_log',hue = 'Pred', data = x_test_check)"
      ],
      "execution_count": 239,
      "outputs": [
        {
          "output_type": "execute_result",
          "data": {
            "text/plain": [
              "<matplotlib.axes._subplots.AxesSubplot at 0x7f3747ae1250>"
            ]
          },
          "metadata": {
            "tags": []
          },
          "execution_count": 239
        },
        {
          "output_type": "display_data",
          "data": {
            "image/png": "[encoded data removed]",
            "text/plain": [
              "<Figure size 432x288 with 1 Axes>"
            ]
          },
          "metadata": {
            "tags": [],
            "needs_background": "light"
          }
        }
      ]
    },
    {
      "cell_type": "code",
      "metadata": {
        "id": "n-sI5A74sWki",
        "outputId": "4bd64181-59e2-4ff7-abfa-78e24709cb69",
        "colab": {
          "base_uri": "https://localhost:8080/",
          "height": 297
        }
      },
      "source": [
        "sns.histplot(x='Avg_Account_Balance_log',hue = 'True', data = x_test_check)"
      ],
      "execution_count": 240,
      "outputs": [
        {
          "output_type": "execute_result",
          "data": {
            "text/plain": [
              "<matplotlib.axes._subplots.AxesSubplot at 0x7f373898d090>"
            ]
          },
          "metadata": {
            "tags": []
          },
          "execution_count": 240
        },
        {
          "output_type": "display_data",
          "data": {
            "image/png": "[encoded data removed]",
            "text/plain": [
              "<Figure size 432x288 with 1 Axes>"
            ]
          },
          "metadata": {
            "tags": [],
            "needs_background": "light"
          }
        }
      ]
    },
    {
      "cell_type": "code",
      "metadata": {
        "id": "qSUC_u--mc3k",
        "outputId": "f1079715-ad43-4d0d-c112-e601a4cd0b29",
        "colab": {
          "base_uri": "https://localhost:8080/",
          "height": 401
        }
      },
      "source": [
        "sns.catplot(x='Age_box',kind = 'count', hue = 'Pred', data=x_test_check , col = 'True')"
      ],
      "execution_count": 212,
      "outputs": [
        {
          "output_type": "execute_result",
          "data": {
            "text/plain": [
              "<seaborn.axisgrid.FacetGrid at 0x7f3722481bd0>"
            ]
          },
          "metadata": {
            "tags": []
          },
          "execution_count": 212
        },
        {
          "output_type": "display_data",
          "data": {
            "image/png": "[encoded data removed]",
            "text/plain": [
              "<Figure size 762.375x360 with 2 Axes>"
            ]
          },
          "metadata": {
            "tags": [],
            "needs_background": "light"
          }
        }
      ]
    },
    {
      "cell_type": "code",
      "metadata": {
        "id": "FhLO-mazlCev",
        "outputId": "3b161697-64e2-48a2-a1fa-5ae2a9549b52",
        "colab": {
          "base_uri": "https://localhost:8080/",
          "height": 401
        }
      },
      "source": [
        "sns.catplot(x='Age_Binned',kind = 'count', hue = 'True', data=x_test_check )"
      ],
      "execution_count": 227,
      "outputs": [
        {
          "output_type": "execute_result",
          "data": {
            "text/plain": [
              "<seaborn.axisgrid.FacetGrid at 0x7f37386cde10>"
            ]
          },
          "metadata": {
            "tags": []
          },
          "execution_count": 227
        },
        {
          "output_type": "display_data",
          "data": {
            "image/png": "[encoded data removed]",
            "text/plain": [
              "<Figure size 402.375x360 with 1 Axes>"
            ]
          },
          "metadata": {
            "tags": [],
            "needs_background": "light"
          }
        }
      ]
    },
    {
      "cell_type": "code",
      "metadata": {
        "colab": {
          "base_uri": "https://localhost:8080/",
          "height": 400
        },
        "id": "ekKTHtM5qzTs",
        "outputId": "df135c99-ae21-48aa-df55-c96d888f6071"
      },
      "source": [
        "sns.catplot(x='Gender',kind = 'count', data=check_df)"
      ],
      "execution_count": 113,
      "outputs": [
        {
          "output_type": "execute_result",
          "data": {
            "text/plain": [
              "<seaborn.axisgrid.FacetGrid at 0x7f373909ead0>"
            ]
          },
          "metadata": {
            "tags": []
          },
          "execution_count": 113
        },
        {
          "output_type": "display_data",
          "data": {
            "image/png": "[encoded data removed]",
            "text/plain": [
              "<Figure size 360x360 with 1 Axes>"
            ]
          },
          "metadata": {
            "tags": [],
            "needs_background": "light"
          }
        }
      ]
    },
    {
      "cell_type": "code",
      "metadata": {
        "colab": {
          "base_uri": "https://localhost:8080/",
          "height": 401
        },
        "id": "eDr0osmTrAaU",
        "outputId": "3d7839a2-5adf-4fa9-fc80-d952a5e121e9"
      },
      "source": [
        "sns.catplot(x='Age_Binned', kind = 'count', data = check_df)"
      ],
      "execution_count": 114,
      "outputs": [
        {
          "output_type": "execute_result",
          "data": {
            "text/plain": [
              "<seaborn.axisgrid.FacetGrid at 0x7f373914d210>"
            ]
          },
          "metadata": {
            "tags": []
          },
          "execution_count": 114
        },
        {
          "output_type": "display_data",
          "data": {
            "image/png": "[encoded data removed]",
            "text/plain": [
              "<Figure size 360x360 with 1 Axes>"
            ]
          },
          "metadata": {
            "tags": [],
            "needs_background": "light"
          }
        }
      ]
    },
    {
      "cell_type": "code",
      "metadata": {
        "colab": {
          "base_uri": "https://localhost:8080/",
          "height": 400
        },
        "id": "QwkbdW1KrVK0",
        "outputId": "3f6af193-462d-4c6d-b595-0fe2475be660"
      },
      "source": [
        "sns.catplot(x='Occupation',kind = 'count', data=check_df)"
      ],
      "execution_count": 115,
      "outputs": [
        {
          "output_type": "execute_result",
          "data": {
            "text/plain": [
              "<seaborn.axisgrid.FacetGrid at 0x7f373974ff50>"
            ]
          },
          "metadata": {
            "tags": []
          },
          "execution_count": 115
        },
        {
          "output_type": "display_data",
          "data": {
            "image/png": "[encoded data removed]",
            "text/plain": [
              "<Figure size 360x360 with 1 Axes>"
            ]
          },
          "metadata": {
            "tags": [],
            "needs_background": "light"
          }
        }
      ]
    },
    {
      "cell_type": "code",
      "metadata": {
        "colab": {
          "base_uri": "https://localhost:8080/",
          "height": 401
        },
        "id": "Gyo9FKMNrpMy",
        "outputId": "de436bc3-a4eb-401d-8945-be89e26128d3"
      },
      "source": [
        "# fig = plt.figure(figsize=(30,30))\n",
        "sns.catplot(x='Region_Code_proc',kind = 'count', data=check_df)"
      ],
      "execution_count": 116,
      "outputs": [
        {
          "output_type": "execute_result",
          "data": {
            "text/plain": [
              "<seaborn.axisgrid.FacetGrid at 0x7f373917ea50>"
            ]
          },
          "metadata": {
            "tags": []
          },
          "execution_count": 116
        },
        {
          "output_type": "display_data",
          "data": {
            "image/png": "[encoded data removed]",
            "text/plain": [
              "<Figure size 360x360 with 1 Axes>"
            ]
          },
          "metadata": {
            "tags": [],
            "needs_background": "light"
          }
        }
      ]
    },
    {
      "cell_type": "code",
      "metadata": {
        "colab": {
          "base_uri": "https://localhost:8080/"
        },
        "id": "3slAW0mzf6vz",
        "outputId": "ac3d718f-cb76-4096-fde4-abe54bb5d9d6"
      },
      "source": [
        "# calculate fpr and tpr\n",
        "fp = x_test_check['Pred'].loc[((x_test_check['True']==0) & (x_test_check['Pred']==1))].count()\n",
        "fpn = x_test_check['Pred'].loc[((x_test_check['True']==0))].count()\n",
        "\n",
        "tp = x_test_check['Pred'].loc[((x_test_check['True']==1) & (x_test_check['Pred']==1))].count()\n",
        "tpn = x_test_check['Pred'].loc[((x_test_check['True']==1))].count()\n",
        "\n",
        "fpr = fp/fpn\n",
        "tpr = tp/tpn\n",
        "\n",
        "print(f'TP:{tp}, TPN:{tpn}',\n",
        "      f'\\n FP:{fp},FPN:{fpn}')\n",
        "print(f'tpr: {tpr}, fpr:{fpr}')"
      ],
      "execution_count": 117,
      "outputs": [
        {
          "output_type": "stream",
          "text": [
            "TP:4202, TPN:14599 \n",
            " FP:2729,FPN:46833\n",
            "tpr: 0.28782793342009727, fpr:0.05827087737279269\n"
          ],
          "name": "stdout"
        }
      ]
    }
  ]
}