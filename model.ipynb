{
  "nbformat": 4,
  "nbformat_minor": 0,
  "metadata": {
    "colab": {
      "name": "model.ipynb",
      "provenance": [],
      "toc_visible": true,
      "authorship_tag": "ABX9TyNrsq6g26aL/zMWPLQO2WIb"
    },
    "kernelspec": {
      "name": "python3",
      "display_name": "Python 3"
    },
    "language_info": {
      "name": "python"
    }
  },
  "cells": [
    {
      "cell_type": "code",
      "metadata": {
        "id": "nMZwLWfkdGJM"
      },
      "source": [
        "import pandas as pd\n",
        "import numpy as np\n",
        "from sklearn.model_selection import train_test_split\n",
        "from sklearn.preprocessing import StandardScaler, MinMaxScaler, OneHotEncoder, LabelEncoder\n",
        "from sklearn.compose import ColumnTransformer\n",
        "\n",
        "from sklearn.ensemble import RandomForestClassifier\n",
        "from xgboost import XGBClassifier, plot_importance, plot_tree\n",
        "import os, sys\n",
        "from collections import defaultdict\n",
        "from sklearn.metrics import accuracy_score, roc_auc_score, confusion_matrix, plot_roc_curve,plot_confusion_matrix\n",
        "import matplotlib\n",
        "from matplotlib import pyplot as plt\n",
        "import seaborn as sns\n",
        "import scipy"
      ],
      "execution_count": 178,
      "outputs": []
    },
    {
      "cell_type": "code",
      "metadata": {
        "id": "HcQMmj29dK9a",
        "colab": {
          "base_uri": "https://localhost:8080/"
        },
        "outputId": "7ddff91c-39e0-404a-b1ec-c7e309a9f571"
      },
      "source": [
        "!git clone https://github.com/avidutta20/challenge_may21"
      ],
      "execution_count": 2,
      "outputs": [
        {
          "output_type": "stream",
          "text": [
            "Cloning into 'challenge_may21'...\n",
            "remote: Enumerating objects: 61, done.\u001b[K\n",
            "remote: Counting objects: 100% (61/61), done.\u001b[K\n",
            "remote: Compressing objects: 100% (53/53), done.\u001b[K\n",
            "remote: Total 61 (delta 25), reused 26 (delta 6), pack-reused 0\u001b[K\n",
            "Unpacking objects: 100% (61/61), done.\n"
          ],
          "name": "stdout"
        }
      ]
    },
    {
      "cell_type": "code",
      "metadata": {
        "id": "haRwSb0mPy_G"
      },
      "source": [
        "os.chdir('/content/challenge_may21/')"
      ],
      "execution_count": 3,
      "outputs": []
    },
    {
      "cell_type": "code",
      "metadata": {
        "id": "plg9bXaRehuG"
      },
      "source": [
        "def load_data():\n",
        "    pass\n",
        "df = pd.read_csv('dataset/av_jobathon_may21_train.csv')\n",
        "\n",
        "# creating a list of all trainable features name\n",
        "feature_list = df.columns[1:10]\n",
        "target = df.columns[10]  # 'Is_Lead' column name\n",
        "\n",
        "# splitting into train & test\n",
        "x_train, x_test, y_train, y_test = train_test_split(df[feature_list], df[target], test_size=0.25, random_state=25)\n"
      ],
      "execution_count": 85,
      "outputs": []
    },
    {
      "cell_type": "code",
      "metadata": {
        "id": "KgWMVpZz5KxF"
      },
      "source": [
        "def get_raw_train_data(with_labels = False):\n",
        "  # splitting into train & test\n",
        "  x_train, x_test, y_train, y_test = train_test_split(df[feature_list], df[target], test_size=0.25, random_state=25)\n",
        "    \n",
        "  if with_labels:\n",
        "    x_train['Is_Lead'] = y_train\n",
        "\n",
        "  return x_train"
      ],
      "execution_count": 5,
      "outputs": []
    },
    {
      "cell_type": "code",
      "metadata": {
        "id": "FwCBU0pJ3Ms6"
      },
      "source": [
        "# creating a x_train_complete x_train_df copy\n",
        "x_train_df = x_train.copy()\n",
        "x_train_df['Is_Lead'] = y_train\n",
        "\n",
        "# creating a x_train processing_experimenting copy\n",
        "x_train_raw = x_train_df.copy()"
      ],
      "execution_count": 6,
      "outputs": []
    },
    {
      "cell_type": "markdown",
      "metadata": {
        "id": "wjvAeNJzuHAZ"
      },
      "source": [
        "#Data Processing"
      ]
    },
    {
      "cell_type": "code",
      "metadata": {
        "id": "99SYb_kcr7bo",
        "colab": {
          "base_uri": "https://localhost:8080/"
        },
        "outputId": "780673bf-bb7e-47b9-8f45-b90ce31ff945"
      },
      "source": [
        "def checking_dataset_balance(df,feature_name, target):\n",
        "  \n",
        "  class_labels = df[target].unique()\n",
        "  total_rows = df[target].count()\n",
        "  class_dict={}\n",
        "  for label in class_labels:\n",
        "    class_dict[label] = {'value': df[target].loc[df[target]==label].count()}\n",
        "    class_dict[label]['perc'] = (df[target].loc[df[target]==label].count())/total_rows\n",
        "  return class_dict\n",
        "\n",
        "# checking dataset imbalance\n",
        "checking_dataset_balance(df,feature_list,target)\n",
        "\n",
        "# dataset is not imbalanced."
      ],
      "execution_count": 7,
      "outputs": [
        {
          "output_type": "execute_result",
          "data": {
            "text/plain": [
              "{0: {'perc': 0.7627917387323228, 'value': 187437},\n",
              " 1: {'perc': 0.23720826126767727, 'value': 58288}}"
            ]
          },
          "metadata": {
            "tags": []
          },
          "execution_count": 7
        }
      ]
    },
    {
      "cell_type": "markdown",
      "metadata": {
        "id": "x4b32jjQuk1v"
      },
      "source": [
        "## Processing Catagorical Values"
      ]
    },
    {
      "cell_type": "code",
      "metadata": {
        "id": "3fMBaZ_khDH5"
      },
      "source": [
        "def execute_process(dframe, colname,func,arg1):\n",
        "    colname_new = colname + '_proc'\n",
        "    dframe[colname_new] = dframe[colname].apply(lambda x: func(x,arg1))\n",
        "    return dframe\n",
        "def extract_process(value,index):\n",
        "    value = int(value[index:])\n",
        "    return value\n",
        "\n",
        "def replace_values(value, value_dic):\n",
        "    # replaces any value in the dframe colname with given dict\n",
        "    return value_dic[value]\n",
        "\n",
        "def default_value():\n",
        "    return 0\n",
        "\n",
        "def one_hot(dframe, colname):\n",
        "  onehotencoder = OneHotEncoder()\n",
        "  #reshape the 1-D country array to 2-D as fit_transform expects 2-D and finally fit the object \n",
        "  X = onehotencoder.fit_transform(dframe[colname].values.reshape(-1,1)).toarray()\n",
        "  # creating a dataframe \n",
        "  dfOneHotx = pd.DataFrame(X, columns = [colname+\"_\"+str(int(i)) for i in range(len(dframe[colname].unique()))])\n",
        "  # adding index to the dataframe as dframe for joining\n",
        "  dfOneHotx.set_index(dframe.index, inplace=True)\n",
        "  # concatinating the two\n",
        "  df2 = pd.concat([dframe, dfOneHotx], axis = 1)\n",
        "  \n",
        "  return df2"
      ],
      "execution_count": 8,
      "outputs": []
    },
    {
      "cell_type": "code",
      "metadata": {
        "id": "lexy3zOyikaM"
      },
      "source": [
        "def process(dframe, default_func = default_value):\n",
        "  gender_dic = is_active_dic = occupation_dic = defaultdict(default_value)\n",
        "\n",
        "\n",
        "  gender_dic = is_active_dic = occupation_dic = defaultdict(default_value)\n",
        "  \n",
        "  gender_dic = {'Male': 0,\n",
        "                  'Female': 1}\n",
        "  is_active_dic = {'Yes': 1,\n",
        "                  'No': 0}\n",
        "\n",
        "  occupation_dic = {'Self_Employed': 1,\n",
        "                      'Other': 2,\n",
        "                      'Salaried': 3,\n",
        "                      'Entrepreneur': 4}\n",
        "\n",
        "  execute_process(dframe,'Region_Code', extract_process, 2)\n",
        "  print('Region Code Processed Successfully')\n",
        "\n",
        "  execute_process(dframe,'Channel_Code', extract_process, 1)\n",
        "  print('Channel Code Processed Successfully')\n",
        "  dframe = one_hot(dframe, 'Channel_Code_proc')\n",
        "\n",
        "  dframe = execute_process(dframe,'Gender', replace_values, gender_dic)\n",
        "  print('Gender Processed Successfully')\n",
        "  dframe = one_hot(dframe, 'Gender_proc')\n",
        "\n",
        "  execute_process(dframe,'Occupation', replace_values, occupation_dic)\n",
        "  print('Occupation Processed Successfully')\n",
        "  dframe = one_hot(dframe, 'Occupation_proc')\n",
        "\n",
        "  execute_process(dframe,'Is_Active',replace_values, is_active_dic)\n",
        "  print('Is Active Processed Successfully')\n",
        "  dframe = one_hot(dframe, 'Is_Active_proc')\n",
        "\n",
        "  dframe['Credit_Product'] = dframe['Credit_Product'].fillna('No')\n",
        "  execute_process(dframe,'Credit_Product',replace_values, is_active_dic)\n",
        "  dframe = one_hot(dframe, 'Credit_Product_proc')\n",
        "  return dframe"
      ],
      "execution_count": 9,
      "outputs": []
    },
    {
      "cell_type": "markdown",
      "metadata": {
        "id": "xmgiuL1KvGBs"
      },
      "source": [
        "## Cheking SkewNess"
      ]
    },
    {
      "cell_type": "code",
      "metadata": {
        "id": "tQDpbNc7_zVe"
      },
      "source": [
        "# # checking skewness\n",
        "# scipy.stats.skew(x_train_df['Avg_Account_Balance'])"
      ],
      "execution_count": 16,
      "outputs": []
    },
    {
      "cell_type": "code",
      "metadata": {
        "id": "XuyAztar8dtW"
      },
      "source": [
        "x_train_df = get_raw_train_data(with_labels=True)"
      ],
      "execution_count": 17,
      "outputs": []
    },
    {
      "cell_type": "code",
      "metadata": {
        "colab": {
          "base_uri": "https://localhost:8080/"
        },
        "id": "frXjrYF28DT7",
        "outputId": "bf1c837f-4746-4877-ae3e-c9d2577ba7ed"
      },
      "source": [
        "# processing x_train_df\n",
        "x_train_df = process(x_train_df)"
      ],
      "execution_count": 18,
      "outputs": [
        {
          "output_type": "stream",
          "text": [
            "Region Code Processed Successfully\n",
            "Channel Code Processed Successfully\n",
            "Gender Processed Successfully\n",
            "Occupation Processed Successfully\n",
            "Is Active Processed Successfully\n"
          ],
          "name": "stdout"
        }
      ]
    },
    {
      "cell_type": "code",
      "metadata": {
        "colab": {
          "base_uri": "https://localhost:8080/"
        },
        "id": "ksp9komq8WCe",
        "outputId": "5f43a835-3494-4877-8900-70ff0f9e19ec"
      },
      "source": [
        "x_train_df.info()"
      ],
      "execution_count": 19,
      "outputs": [
        {
          "output_type": "stream",
          "text": [
            "<class 'pandas.core.frame.DataFrame'>\n",
            "Int64Index: 184293 entries, 188708 to 29828\n",
            "Data columns (total 30 columns):\n",
            " #   Column                 Non-Null Count   Dtype  \n",
            "---  ------                 --------------   -----  \n",
            " 0   Gender                 184293 non-null  object \n",
            " 1   Age                    184293 non-null  int64  \n",
            " 2   Region_Code            184293 non-null  object \n",
            " 3   Occupation             184293 non-null  object \n",
            " 4   Channel_Code           184293 non-null  object \n",
            " 5   Vintage                184293 non-null  int64  \n",
            " 6   Credit_Product         184293 non-null  object \n",
            " 7   Avg_Account_Balance    184293 non-null  int64  \n",
            " 8   Is_Active              184293 non-null  object \n",
            " 9   Is_Lead                184293 non-null  int64  \n",
            " 10  Region_Code_proc       184293 non-null  int64  \n",
            " 11  Channel_Code_proc      184293 non-null  int64  \n",
            " 12  Channel_Code_proc_0    184293 non-null  float64\n",
            " 13  Channel_Code_proc_1    184293 non-null  float64\n",
            " 14  Channel_Code_proc_2    184293 non-null  float64\n",
            " 15  Channel_Code_proc_3    184293 non-null  float64\n",
            " 16  Gender_proc            184293 non-null  int64  \n",
            " 17  Gender_proc_0          184293 non-null  float64\n",
            " 18  Gender_proc_1          184293 non-null  float64\n",
            " 19  Occupation_proc        184293 non-null  int64  \n",
            " 20  Occupation_proc_0      184293 non-null  float64\n",
            " 21  Occupation_proc_1      184293 non-null  float64\n",
            " 22  Occupation_proc_2      184293 non-null  float64\n",
            " 23  Occupation_proc_3      184293 non-null  float64\n",
            " 24  Is_Active_proc         184293 non-null  int64  \n",
            " 25  Is_Active_proc_0       184293 non-null  float64\n",
            " 26  Is_Active_proc_1       184293 non-null  float64\n",
            " 27  Credit_Product_proc    184293 non-null  int64  \n",
            " 28  Credit_Product_proc_0  184293 non-null  float64\n",
            " 29  Credit_Product_proc_1  184293 non-null  float64\n",
            "dtypes: float64(14), int64(10), object(6)\n",
            "memory usage: 43.6+ MB\n"
          ],
          "name": "stdout"
        }
      ]
    },
    {
      "cell_type": "code",
      "metadata": {
        "colab": {
          "base_uri": "https://localhost:8080/",
          "height": 401
        },
        "id": "NtcudZVq7E9T",
        "outputId": "0c4d5ec2-5bf2-4d7d-9b57-178fcae7cb5a"
      },
      "source": [
        "sns.catplot(x='Channel_Code', hue = 'Is_Lead', kind=\"count\", palette=\"ch:.25\", data=x_train_df)"
      ],
      "execution_count": 20,
      "outputs": [
        {
          "output_type": "execute_result",
          "data": {
            "text/plain": [
              "<seaborn.axisgrid.FacetGrid at 0x7fb7ce491b90>"
            ]
          },
          "metadata": {
            "tags": []
          },
          "execution_count": 20
        },
        {
          "output_type": "display_data",
          "data": {
            "image/png": "[encoded data removed]",
            "text/plain": [
              "<Figure size 405.125x360 with 1 Axes>"
            ]
          },
          "metadata": {
            "tags": [],
            "needs_background": "light"
          }
        }
      ]
    },
    {
      "cell_type": "code",
      "metadata": {
        "id": "Q4Ybx9XXG6zJ",
        "colab": {
          "base_uri": "https://localhost:8080/",
          "height": 282
        },
        "outputId": "98c75f0e-4281-4815-e3e4-2c8045b1a599"
      },
      "source": [
        "x_train_df['Channel_Code_proc'].plot.kde()"
      ],
      "execution_count": 21,
      "outputs": [
        {
          "output_type": "execute_result",
          "data": {
            "text/plain": [
              "<matplotlib.axes._subplots.AxesSubplot at 0x7fb7c3585510>"
            ]
          },
          "metadata": {
            "tags": []
          },
          "execution_count": 21
        },
        {
          "output_type": "display_data",
          "data": {
            "image/png": "[encoded data removed]",
            "text/plain": [
              "<Figure size 432x288 with 1 Axes>"
            ]
          },
          "metadata": {
            "tags": [],
            "needs_background": "light"
          }
        }
      ]
    },
    {
      "cell_type": "code",
      "metadata": {
        "colab": {
          "base_uri": "https://localhost:8080/",
          "height": 401
        },
        "id": "8LzXnrhU808g",
        "outputId": "af2227c0-eaa5-4327-fda8-766fd8c99131"
      },
      "source": [
        "sns.catplot(x='Region_Code', hue = 'Is_Lead', kind=\"count\", palette=\"ch:.25\", data=x_train_df)"
      ],
      "execution_count": 22,
      "outputs": [
        {
          "output_type": "execute_result",
          "data": {
            "text/plain": [
              "<seaborn.axisgrid.FacetGrid at 0x7fb7cc24cb10>"
            ]
          },
          "metadata": {
            "tags": []
          },
          "execution_count": 22
        },
        {
          "output_type": "display_data",
          "data": {
            "image/png": "[encoded data removed]",
            "text/plain": [
              "<Figure size 405.125x360 with 1 Axes>"
            ]
          },
          "metadata": {
            "tags": [],
            "needs_background": "light"
          }
        }
      ]
    },
    {
      "cell_type": "code",
      "metadata": {
        "id": "dvhJBDRzGKex",
        "colab": {
          "base_uri": "https://localhost:8080/",
          "height": 284
        },
        "outputId": "59721c83-40bb-4d42-ee21-5dfcbd8b221e"
      },
      "source": [
        "x_train_df['Region_Code_proc'].plot.kde()"
      ],
      "execution_count": 23,
      "outputs": [
        {
          "output_type": "execute_result",
          "data": {
            "text/plain": [
              "<matplotlib.axes._subplots.AxesSubplot at 0x7fb7c13463d0>"
            ]
          },
          "metadata": {
            "tags": []
          },
          "execution_count": 23
        },
        {
          "output_type": "display_data",
          "data": {
            "image/png": "[encoded data removed]",
            "text/plain": [
              "<Figure size 432x288 with 1 Axes>"
            ]
          },
          "metadata": {
            "tags": [],
            "needs_background": "light"
          }
        }
      ]
    },
    {
      "cell_type": "code",
      "metadata": {
        "id": "ZRqfy9or9Dg-"
      },
      "source": [
        "# Checking Integral datas\n",
        "# columns are:Age, Vintage, Account_Balance"
      ],
      "execution_count": null,
      "outputs": []
    },
    {
      "cell_type": "code",
      "metadata": {
        "colab": {
          "base_uri": "https://localhost:8080/",
          "height": 306
        },
        "id": "fWdsiLNoL83x",
        "outputId": "14bcc361-ecb7-4e09-8dd9-85d979267e76"
      },
      "source": [
        "x_train_df['Avg_Account_Balance'].plot.kde()"
      ],
      "execution_count": 24,
      "outputs": [
        {
          "output_type": "execute_result",
          "data": {
            "text/plain": [
              "<matplotlib.axes._subplots.AxesSubplot at 0x7fb7c12a39d0>"
            ]
          },
          "metadata": {
            "tags": []
          },
          "execution_count": 24
        },
        {
          "output_type": "display_data",
          "data": {
            "image/png": "[encoded data removed]",
            "text/plain": [
              "<Figure size 432x288 with 1 Axes>"
            ]
          },
          "metadata": {
            "tags": [],
            "needs_background": "light"
          }
        }
      ]
    },
    {
      "cell_type": "code",
      "metadata": {
        "colab": {
          "base_uri": "https://localhost:8080/"
        },
        "id": "xRVYjkeYMHs0",
        "outputId": "f135e8a6-2240-4ef2-eb05-a3c6fcacb40b"
      },
      "source": [
        "# the graph shows the average balance is highly right skewed.\n",
        "# calculating skewness\n",
        "skew_ac_bal = scipy.stats.skew(x_train_df['Avg_Account_Balance'])\n",
        "# a +ve high value as expected\n",
        "skew_ac_bal"
      ],
      "execution_count": 25,
      "outputs": [
        {
          "output_type": "execute_result",
          "data": {
            "text/plain": [
              "2.9757408570525747"
            ]
          },
          "metadata": {
            "tags": []
          },
          "execution_count": 25
        }
      ]
    },
    {
      "cell_type": "markdown",
      "metadata": {
        "id": "MDGCqJIi0loi"
      },
      "source": [
        "## log transform"
      ]
    },
    {
      "cell_type": "code",
      "metadata": {
        "id": "o06JDt3LEKrp",
        "colab": {
          "base_uri": "https://localhost:8080/",
          "height": 282
        },
        "outputId": "e1ace9a2-7457-444b-e25a-80c00aea5d46"
      },
      "source": [
        "# let's log transform it reduce to reduce it's skewness\n",
        "#log_transforming\n",
        "def log_transform(x):\n",
        "  result = 0.0\n",
        "  if x!=0:\n",
        "    result = np.log(x)\n",
        "  else:\n",
        "    result = np.log(0.00001)\n",
        "  return result\n",
        "\n",
        "x_train_df['Avg_Account_Balance_log'] = x_train_df['Avg_Account_Balance'].apply(lambda x: log_transform(x))\n",
        "x_train_df['Avg_Account_Balance_log'].plot.kde()"
      ],
      "execution_count": 10,
      "outputs": [
        {
          "output_type": "execute_result",
          "data": {
            "text/plain": [
              "<matplotlib.axes._subplots.AxesSubplot at 0x7f3746526f50>"
            ]
          },
          "metadata": {
            "tags": []
          },
          "execution_count": 10
        },
        {
          "output_type": "display_data",
          "data": {
            "image/png": "[encoded data removed]",
            "text/plain": [
              "<Figure size 432x288 with 1 Axes>"
            ]
          },
          "metadata": {
            "tags": [],
            "needs_background": "light"
          }
        }
      ]
    },
    {
      "cell_type": "code",
      "metadata": {
        "id": "V3Ol6u8qFfe5",
        "colab": {
          "base_uri": "https://localhost:8080/"
        },
        "outputId": "1e9c4589-5626-46c6-deb1-e16c5e127d3d"
      },
      "source": [
        "# checking new skew\n",
        "skew_ac_bal_log = scipy.stats.skew(x_train_df['Avg_Account_Balance_log'])\n",
        "print(f'Skew after applying log_transform to \"Avg_Account_Balance_log is {skew_ac_bal_log}\"')\n",
        "# which is less than +0.5 showing a good normal curve as we wanted"
      ],
      "execution_count": 27,
      "outputs": [
        {
          "output_type": "stream",
          "text": [
            "Skew after applying log_transform to \"Avg_Account_Balance_log is 0.23654555482098255\"\n"
          ],
          "name": "stdout"
        }
      ]
    },
    {
      "cell_type": "code",
      "metadata": {
        "id": "rgfph7rACpM1",
        "colab": {
          "base_uri": "https://localhost:8080/",
          "height": 282
        },
        "outputId": "1abc13b2-6e99-4256-9d90-12e922f18a5b"
      },
      "source": [
        "# Age\n",
        "x_train_df['Age'].plot.kde()"
      ],
      "execution_count": 28,
      "outputs": [
        {
          "output_type": "execute_result",
          "data": {
            "text/plain": [
              "<matplotlib.axes._subplots.AxesSubplot at 0x7fb7c0c6a210>"
            ]
          },
          "metadata": {
            "tags": []
          },
          "execution_count": 28
        },
        {
          "output_type": "display_data",
          "data": {
            "image/png": "[encoded data removed]",
            "text/plain": [
              "<Figure size 432x288 with 1 Axes>"
            ]
          },
          "metadata": {
            "tags": [],
            "needs_background": "light"
          }
        }
      ]
    },
    {
      "cell_type": "code",
      "metadata": {
        "id": "_TD8ZHa7N5zG"
      },
      "source": [
        "# the graph shows the age is also not normal.\n",
        "# based on inspecting we will break the age into three groups based on the local minimas in graph\n",
        "# 0-20, 20-40,40-60, 60 and up\n",
        "def bin_age(x):\n",
        "  # catagories = ['0-20','20-40','40-60','60+']\n",
        "  cat = ''\n",
        "  \n",
        "  if x>20 and x<=40:\n",
        "    cat = '20-40'\n",
        "  elif x>40 and x<=60:\n",
        "    cat = '40-60'\n",
        "  elif x>60 :\n",
        "    cat = '60+'\n",
        "  else :\n",
        "    cat = '0-20'\n",
        "  return cat"
      ],
      "execution_count": 11,
      "outputs": []
    },
    {
      "cell_type": "code",
      "metadata": {
        "colab": {
          "base_uri": "https://localhost:8080/",
          "height": 439
        },
        "id": "G2lJZDzPw_yn",
        "outputId": "f3e7d3db-b10f-497b-9a69-99444c82c290"
      },
      "source": [
        "x_train_df['Age_Binned'] = x_train_df['Age'].apply(lambda x: bin_age(x))\n",
        "x_train_df"
      ],
      "execution_count": 30,
      "outputs": [
        {
          "output_type": "execute_result",
          "data": {
            "text/html": [
              "<div>\n",
              "<style scoped>\n",
              "    .dataframe tbody tr th:only-of-type {\n",
              "        vertical-align: middle;\n",
              "    }\n",
              "\n",
              "    .dataframe tbody tr th {\n",
              "        vertical-align: top;\n",
              "    }\n",
              "\n",
              "    .dataframe thead th {\n",
              "        text-align: right;\n",
              "    }\n",
              "</style>\n",
              "<table border=\"1\" class=\"dataframe\">\n",
              "  <thead>\n",
              "    <tr style=\"text-align: right;\">\n",
              "      <th></th>\n",
              "      <th>Gender</th>\n",
              "      <th>Age</th>\n",
              "      <th>Region_Code</th>\n",
              "      <th>Occupation</th>\n",
              "      <th>Channel_Code</th>\n",
              "      <th>Vintage</th>\n",
              "      <th>Credit_Product</th>\n",
              "      <th>Avg_Account_Balance</th>\n",
              "      <th>Is_Active</th>\n",
              "      <th>Is_Lead</th>\n",
              "      <th>Region_Code_proc</th>\n",
              "      <th>Channel_Code_proc</th>\n",
              "      <th>Channel_Code_proc_0</th>\n",
              "      <th>Channel_Code_proc_1</th>\n",
              "      <th>Channel_Code_proc_2</th>\n",
              "      <th>Channel_Code_proc_3</th>\n",
              "      <th>Gender_proc</th>\n",
              "      <th>Gender_proc_0</th>\n",
              "      <th>Gender_proc_1</th>\n",
              "      <th>Occupation_proc</th>\n",
              "      <th>Occupation_proc_0</th>\n",
              "      <th>Occupation_proc_1</th>\n",
              "      <th>Occupation_proc_2</th>\n",
              "      <th>Occupation_proc_3</th>\n",
              "      <th>Is_Active_proc</th>\n",
              "      <th>Is_Active_proc_0</th>\n",
              "      <th>Is_Active_proc_1</th>\n",
              "      <th>Credit_Product_proc</th>\n",
              "      <th>Credit_Product_proc_0</th>\n",
              "      <th>Credit_Product_proc_1</th>\n",
              "      <th>Avg_Account_Balance_log</th>\n",
              "      <th>Age_Binned</th>\n",
              "    </tr>\n",
              "  </thead>\n",
              "  <tbody>\n",
              "    <tr>\n",
              "      <th>188708</th>\n",
              "      <td>Male</td>\n",
              "      <td>44</td>\n",
              "      <td>RG268</td>\n",
              "      <td>Self_Employed</td>\n",
              "      <td>X3</td>\n",
              "      <td>87</td>\n",
              "      <td>No</td>\n",
              "      <td>543460</td>\n",
              "      <td>No</td>\n",
              "      <td>0</td>\n",
              "      <td>268</td>\n",
              "      <td>3</td>\n",
              "      <td>0.0</td>\n",
              "      <td>0.0</td>\n",
              "      <td>1.0</td>\n",
              "      <td>0.0</td>\n",
              "      <td>0</td>\n",
              "      <td>1.0</td>\n",
              "      <td>0.0</td>\n",
              "      <td>1</td>\n",
              "      <td>1.0</td>\n",
              "      <td>0.0</td>\n",
              "      <td>0.0</td>\n",
              "      <td>0.0</td>\n",
              "      <td>0</td>\n",
              "      <td>1.0</td>\n",
              "      <td>0.0</td>\n",
              "      <td>0</td>\n",
              "      <td>1.0</td>\n",
              "      <td>0.0</td>\n",
              "      <td>13.205711</td>\n",
              "      <td>40-60</td>\n",
              "    </tr>\n",
              "    <tr>\n",
              "      <th>17007</th>\n",
              "      <td>Female</td>\n",
              "      <td>50</td>\n",
              "      <td>RG252</td>\n",
              "      <td>Self_Employed</td>\n",
              "      <td>X2</td>\n",
              "      <td>69</td>\n",
              "      <td>No</td>\n",
              "      <td>891895</td>\n",
              "      <td>Yes</td>\n",
              "      <td>0</td>\n",
              "      <td>252</td>\n",
              "      <td>2</td>\n",
              "      <td>0.0</td>\n",
              "      <td>1.0</td>\n",
              "      <td>0.0</td>\n",
              "      <td>0.0</td>\n",
              "      <td>1</td>\n",
              "      <td>0.0</td>\n",
              "      <td>1.0</td>\n",
              "      <td>1</td>\n",
              "      <td>1.0</td>\n",
              "      <td>0.0</td>\n",
              "      <td>0.0</td>\n",
              "      <td>0.0</td>\n",
              "      <td>1</td>\n",
              "      <td>0.0</td>\n",
              "      <td>1.0</td>\n",
              "      <td>0</td>\n",
              "      <td>1.0</td>\n",
              "      <td>0.0</td>\n",
              "      <td>13.701104</td>\n",
              "      <td>40-60</td>\n",
              "    </tr>\n",
              "    <tr>\n",
              "      <th>109929</th>\n",
              "      <td>Male</td>\n",
              "      <td>77</td>\n",
              "      <td>RG284</td>\n",
              "      <td>Other</td>\n",
              "      <td>X3</td>\n",
              "      <td>81</td>\n",
              "      <td>No</td>\n",
              "      <td>1163416</td>\n",
              "      <td>No</td>\n",
              "      <td>0</td>\n",
              "      <td>284</td>\n",
              "      <td>3</td>\n",
              "      <td>0.0</td>\n",
              "      <td>0.0</td>\n",
              "      <td>1.0</td>\n",
              "      <td>0.0</td>\n",
              "      <td>0</td>\n",
              "      <td>1.0</td>\n",
              "      <td>0.0</td>\n",
              "      <td>2</td>\n",
              "      <td>0.0</td>\n",
              "      <td>1.0</td>\n",
              "      <td>0.0</td>\n",
              "      <td>0.0</td>\n",
              "      <td>0</td>\n",
              "      <td>1.0</td>\n",
              "      <td>0.0</td>\n",
              "      <td>0</td>\n",
              "      <td>1.0</td>\n",
              "      <td>0.0</td>\n",
              "      <td>13.966871</td>\n",
              "      <td>60+</td>\n",
              "    </tr>\n",
              "    <tr>\n",
              "      <th>81455</th>\n",
              "      <td>Male</td>\n",
              "      <td>74</td>\n",
              "      <td>RG283</td>\n",
              "      <td>Other</td>\n",
              "      <td>X1</td>\n",
              "      <td>14</td>\n",
              "      <td>No</td>\n",
              "      <td>1720031</td>\n",
              "      <td>No</td>\n",
              "      <td>0</td>\n",
              "      <td>283</td>\n",
              "      <td>1</td>\n",
              "      <td>1.0</td>\n",
              "      <td>0.0</td>\n",
              "      <td>0.0</td>\n",
              "      <td>0.0</td>\n",
              "      <td>0</td>\n",
              "      <td>1.0</td>\n",
              "      <td>0.0</td>\n",
              "      <td>2</td>\n",
              "      <td>0.0</td>\n",
              "      <td>1.0</td>\n",
              "      <td>0.0</td>\n",
              "      <td>0.0</td>\n",
              "      <td>0</td>\n",
              "      <td>1.0</td>\n",
              "      <td>0.0</td>\n",
              "      <td>0</td>\n",
              "      <td>1.0</td>\n",
              "      <td>0.0</td>\n",
              "      <td>14.357853</td>\n",
              "      <td>60+</td>\n",
              "    </tr>\n",
              "    <tr>\n",
              "      <th>77866</th>\n",
              "      <td>Female</td>\n",
              "      <td>25</td>\n",
              "      <td>RG283</td>\n",
              "      <td>Other</td>\n",
              "      <td>X1</td>\n",
              "      <td>21</td>\n",
              "      <td>No</td>\n",
              "      <td>1489690</td>\n",
              "      <td>Yes</td>\n",
              "      <td>0</td>\n",
              "      <td>283</td>\n",
              "      <td>1</td>\n",
              "      <td>1.0</td>\n",
              "      <td>0.0</td>\n",
              "      <td>0.0</td>\n",
              "      <td>0.0</td>\n",
              "      <td>1</td>\n",
              "      <td>0.0</td>\n",
              "      <td>1.0</td>\n",
              "      <td>2</td>\n",
              "      <td>0.0</td>\n",
              "      <td>1.0</td>\n",
              "      <td>0.0</td>\n",
              "      <td>0.0</td>\n",
              "      <td>1</td>\n",
              "      <td>0.0</td>\n",
              "      <td>1.0</td>\n",
              "      <td>0</td>\n",
              "      <td>1.0</td>\n",
              "      <td>0.0</td>\n",
              "      <td>14.214079</td>\n",
              "      <td>20-40</td>\n",
              "    </tr>\n",
              "    <tr>\n",
              "      <th>...</th>\n",
              "      <td>...</td>\n",
              "      <td>...</td>\n",
              "      <td>...</td>\n",
              "      <td>...</td>\n",
              "      <td>...</td>\n",
              "      <td>...</td>\n",
              "      <td>...</td>\n",
              "      <td>...</td>\n",
              "      <td>...</td>\n",
              "      <td>...</td>\n",
              "      <td>...</td>\n",
              "      <td>...</td>\n",
              "      <td>...</td>\n",
              "      <td>...</td>\n",
              "      <td>...</td>\n",
              "      <td>...</td>\n",
              "      <td>...</td>\n",
              "      <td>...</td>\n",
              "      <td>...</td>\n",
              "      <td>...</td>\n",
              "      <td>...</td>\n",
              "      <td>...</td>\n",
              "      <td>...</td>\n",
              "      <td>...</td>\n",
              "      <td>...</td>\n",
              "      <td>...</td>\n",
              "      <td>...</td>\n",
              "      <td>...</td>\n",
              "      <td>...</td>\n",
              "      <td>...</td>\n",
              "      <td>...</td>\n",
              "      <td>...</td>\n",
              "    </tr>\n",
              "    <tr>\n",
              "      <th>130365</th>\n",
              "      <td>Female</td>\n",
              "      <td>68</td>\n",
              "      <td>RG254</td>\n",
              "      <td>Other</td>\n",
              "      <td>X3</td>\n",
              "      <td>93</td>\n",
              "      <td>No</td>\n",
              "      <td>2039817</td>\n",
              "      <td>Yes</td>\n",
              "      <td>0</td>\n",
              "      <td>254</td>\n",
              "      <td>3</td>\n",
              "      <td>0.0</td>\n",
              "      <td>0.0</td>\n",
              "      <td>1.0</td>\n",
              "      <td>0.0</td>\n",
              "      <td>1</td>\n",
              "      <td>0.0</td>\n",
              "      <td>1.0</td>\n",
              "      <td>2</td>\n",
              "      <td>0.0</td>\n",
              "      <td>1.0</td>\n",
              "      <td>0.0</td>\n",
              "      <td>0.0</td>\n",
              "      <td>1</td>\n",
              "      <td>0.0</td>\n",
              "      <td>1.0</td>\n",
              "      <td>0</td>\n",
              "      <td>1.0</td>\n",
              "      <td>0.0</td>\n",
              "      <td>14.528371</td>\n",
              "      <td>60+</td>\n",
              "    </tr>\n",
              "    <tr>\n",
              "      <th>92303</th>\n",
              "      <td>Female</td>\n",
              "      <td>34</td>\n",
              "      <td>RG284</td>\n",
              "      <td>Salaried</td>\n",
              "      <td>X1</td>\n",
              "      <td>20</td>\n",
              "      <td>No</td>\n",
              "      <td>873268</td>\n",
              "      <td>Yes</td>\n",
              "      <td>0</td>\n",
              "      <td>284</td>\n",
              "      <td>1</td>\n",
              "      <td>1.0</td>\n",
              "      <td>0.0</td>\n",
              "      <td>0.0</td>\n",
              "      <td>0.0</td>\n",
              "      <td>1</td>\n",
              "      <td>0.0</td>\n",
              "      <td>1.0</td>\n",
              "      <td>3</td>\n",
              "      <td>0.0</td>\n",
              "      <td>0.0</td>\n",
              "      <td>1.0</td>\n",
              "      <td>0.0</td>\n",
              "      <td>1</td>\n",
              "      <td>0.0</td>\n",
              "      <td>1.0</td>\n",
              "      <td>0</td>\n",
              "      <td>1.0</td>\n",
              "      <td>0.0</td>\n",
              "      <td>13.679998</td>\n",
              "      <td>20-40</td>\n",
              "    </tr>\n",
              "    <tr>\n",
              "      <th>6618</th>\n",
              "      <td>Male</td>\n",
              "      <td>28</td>\n",
              "      <td>RG253</td>\n",
              "      <td>Other</td>\n",
              "      <td>X1</td>\n",
              "      <td>26</td>\n",
              "      <td>No</td>\n",
              "      <td>1186040</td>\n",
              "      <td>Yes</td>\n",
              "      <td>0</td>\n",
              "      <td>253</td>\n",
              "      <td>1</td>\n",
              "      <td>1.0</td>\n",
              "      <td>0.0</td>\n",
              "      <td>0.0</td>\n",
              "      <td>0.0</td>\n",
              "      <td>0</td>\n",
              "      <td>1.0</td>\n",
              "      <td>0.0</td>\n",
              "      <td>2</td>\n",
              "      <td>0.0</td>\n",
              "      <td>1.0</td>\n",
              "      <td>0.0</td>\n",
              "      <td>0.0</td>\n",
              "      <td>1</td>\n",
              "      <td>0.0</td>\n",
              "      <td>1.0</td>\n",
              "      <td>0</td>\n",
              "      <td>1.0</td>\n",
              "      <td>0.0</td>\n",
              "      <td>13.986131</td>\n",
              "      <td>20-40</td>\n",
              "    </tr>\n",
              "    <tr>\n",
              "      <th>90430</th>\n",
              "      <td>Female</td>\n",
              "      <td>50</td>\n",
              "      <td>RG284</td>\n",
              "      <td>Salaried</td>\n",
              "      <td>X2</td>\n",
              "      <td>55</td>\n",
              "      <td>No</td>\n",
              "      <td>1649000</td>\n",
              "      <td>Yes</td>\n",
              "      <td>1</td>\n",
              "      <td>284</td>\n",
              "      <td>2</td>\n",
              "      <td>0.0</td>\n",
              "      <td>1.0</td>\n",
              "      <td>0.0</td>\n",
              "      <td>0.0</td>\n",
              "      <td>1</td>\n",
              "      <td>0.0</td>\n",
              "      <td>1.0</td>\n",
              "      <td>3</td>\n",
              "      <td>0.0</td>\n",
              "      <td>0.0</td>\n",
              "      <td>1.0</td>\n",
              "      <td>0.0</td>\n",
              "      <td>1</td>\n",
              "      <td>0.0</td>\n",
              "      <td>1.0</td>\n",
              "      <td>0</td>\n",
              "      <td>1.0</td>\n",
              "      <td>0.0</td>\n",
              "      <td>14.315680</td>\n",
              "      <td>40-60</td>\n",
              "    </tr>\n",
              "    <tr>\n",
              "      <th>29828</th>\n",
              "      <td>Female</td>\n",
              "      <td>31</td>\n",
              "      <td>RG255</td>\n",
              "      <td>Salaried</td>\n",
              "      <td>X1</td>\n",
              "      <td>25</td>\n",
              "      <td>No</td>\n",
              "      <td>1309430</td>\n",
              "      <td>No</td>\n",
              "      <td>0</td>\n",
              "      <td>255</td>\n",
              "      <td>1</td>\n",
              "      <td>1.0</td>\n",
              "      <td>0.0</td>\n",
              "      <td>0.0</td>\n",
              "      <td>0.0</td>\n",
              "      <td>1</td>\n",
              "      <td>0.0</td>\n",
              "      <td>1.0</td>\n",
              "      <td>3</td>\n",
              "      <td>0.0</td>\n",
              "      <td>0.0</td>\n",
              "      <td>1.0</td>\n",
              "      <td>0.0</td>\n",
              "      <td>0</td>\n",
              "      <td>1.0</td>\n",
              "      <td>0.0</td>\n",
              "      <td>0</td>\n",
              "      <td>1.0</td>\n",
              "      <td>0.0</td>\n",
              "      <td>14.085102</td>\n",
              "      <td>20-40</td>\n",
              "    </tr>\n",
              "  </tbody>\n",
              "</table>\n",
              "<p>184293 rows × 32 columns</p>\n",
              "</div>"
            ],
            "text/plain": [
              "        Gender  Age  ... Avg_Account_Balance_log Age_Binned\n",
              "188708    Male   44  ...               13.205711      40-60\n",
              "17007   Female   50  ...               13.701104      40-60\n",
              "109929    Male   77  ...               13.966871        60+\n",
              "81455     Male   74  ...               14.357853        60+\n",
              "77866   Female   25  ...               14.214079      20-40\n",
              "...        ...  ...  ...                     ...        ...\n",
              "130365  Female   68  ...               14.528371        60+\n",
              "92303   Female   34  ...               13.679998      20-40\n",
              "6618      Male   28  ...               13.986131      20-40\n",
              "90430   Female   50  ...               14.315680      40-60\n",
              "29828   Female   31  ...               14.085102      20-40\n",
              "\n",
              "[184293 rows x 32 columns]"
            ]
          },
          "metadata": {
            "tags": []
          },
          "execution_count": 30
        }
      ]
    },
    {
      "cell_type": "code",
      "metadata": {
        "colab": {
          "base_uri": "https://localhost:8080/",
          "height": 401
        },
        "id": "hOMWT0gqW8xO",
        "outputId": "55dee254-60a5-42dd-e319-6d36c94eb671"
      },
      "source": [
        "sns.catplot(x='Age_Binned', kind=\"count\", palette=\"ch:.25\", data=x_train_df)"
      ],
      "execution_count": 31,
      "outputs": [
        {
          "output_type": "execute_result",
          "data": {
            "text/plain": [
              "<seaborn.axisgrid.FacetGrid at 0x7fb7c11c2a10>"
            ]
          },
          "metadata": {
            "tags": []
          },
          "execution_count": 31
        },
        {
          "output_type": "display_data",
          "data": {
            "image/png": "[encoded data removed]",
            "text/plain": [
              "<Figure size 360x360 with 1 Axes>"
            ]
          },
          "metadata": {
            "tags": [],
            "needs_background": "light"
          }
        }
      ]
    },
    {
      "cell_type": "code",
      "metadata": {
        "colab": {
          "base_uri": "https://localhost:8080/",
          "height": 392
        },
        "id": "N64BuwMqYxaj",
        "outputId": "5028f857-b4f3-4c53-ab93-21178fb1bfdf"
      },
      "source": [
        "# Converting to wide dataframe\n",
        "data_wide = x_train_df.pivot(columns = 'Age_Binned',\n",
        "                     values = 'Age')\n",
        "  \n",
        "# plotting multiple density plot\n",
        "data_wide.plot.kde(figsize = (8, 6),\n",
        "                   linewidth = 4)"
      ],
      "execution_count": 32,
      "outputs": [
        {
          "output_type": "execute_result",
          "data": {
            "text/plain": [
              "<matplotlib.axes._subplots.AxesSubplot at 0x7fb7c1126810>"
            ]
          },
          "metadata": {
            "tags": []
          },
          "execution_count": 32
        },
        {
          "output_type": "display_data",
          "data": {
            "image/png": "[encoded data removed]",
            "text/plain": [
              "<Figure size 576x432 with 1 Axes>"
            ]
          },
          "metadata": {
            "tags": [],
            "needs_background": "light"
          }
        }
      ]
    },
    {
      "cell_type": "markdown",
      "metadata": {
        "id": "feuAhHr2xRxw"
      },
      "source": [
        "## age next transform"
      ]
    },
    {
      "cell_type": "code",
      "metadata": {
        "id": "BFX7wdU2aQ1p"
      },
      "source": [
        "# We see that the graph are normal in their group"
      ],
      "execution_count": null,
      "outputs": []
    },
    {
      "cell_type": "code",
      "metadata": {
        "id": "l514qp4LZMhf"
      },
      "source": [
        "# x_train['Age_log'] = x_train['Age'].apply(lambda x: log_transform(np.exp(x)))\n",
        "# x_train['Age_Binned_log'] = x_train['Age_log'].apply(lambda x: bin_age(x))\n",
        "# using box_cox transform\n",
        "# transform training data & save lambda value\n",
        "x_train_df['Age_box'], fitted_lambda = scipy.stats.boxcox(x_train_df['Age'])"
      ],
      "execution_count": 12,
      "outputs": []
    },
    {
      "cell_type": "code",
      "metadata": {
        "colab": {
          "base_uri": "https://localhost:8080/",
          "height": 386
        },
        "id": "sKDRsMvSi6uS",
        "outputId": "bf0004b5-7ee6-4466-a9ea-823f70b0e979"
      },
      "source": [
        "sns.displot(x='Age_box',kind='kde',data=x_train_df)"
      ],
      "execution_count": 13,
      "outputs": [
        {
          "output_type": "execute_result",
          "data": {
            "text/plain": [
              "<seaborn.axisgrid.FacetGrid at 0x7f3746f03790>"
            ]
          },
          "metadata": {
            "tags": []
          },
          "execution_count": 13
        },
        {
          "output_type": "display_data",
          "data": {
            "image/png": "[encoded data removed]",
            "text/plain": [
              "<Figure size 360x360 with 1 Axes>"
            ]
          },
          "metadata": {
            "tags": [],
            "needs_background": "light"
          }
        }
      ]
    },
    {
      "cell_type": "code",
      "metadata": {
        "id": "A3Eu6qD9Zxl_"
      },
      "source": [
        "# # Converting to wide dataframe\n",
        "# data_wide = x_train_df.pivot(columns = 'Age_Binned_log',\n",
        "#                      values = 'Age_box')\n",
        "  \n",
        "# # plotting multiple density plot\n",
        "# data_wide.plot.kde(figsize = (8, 6),\n",
        "#                    linewidth = 4)"
      ],
      "execution_count": null,
      "outputs": []
    },
    {
      "cell_type": "code",
      "metadata": {
        "colab": {
          "base_uri": "https://localhost:8080/",
          "height": 282
        },
        "id": "5g2y7JvOoPce",
        "outputId": "0abaa26b-f1de-40b6-b5ea-1b4639a5cb8f"
      },
      "source": [
        "# Vintage\n",
        "x_train_df['Vintage'].plot.kde()"
      ],
      "execution_count": 14,
      "outputs": [
        {
          "output_type": "execute_result",
          "data": {
            "text/plain": [
              "<matplotlib.axes._subplots.AxesSubplot at 0x7f374690c410>"
            ]
          },
          "metadata": {
            "tags": []
          },
          "execution_count": 14
        },
        {
          "output_type": "display_data",
          "data": {
            "image/png": "[encoded data removed]",
            "text/plain": [
              "<Figure size 432x288 with 1 Axes>"
            ]
          },
          "metadata": {
            "tags": [],
            "needs_background": "light"
          }
        }
      ]
    },
    {
      "cell_type": "code",
      "metadata": {
        "colab": {
          "base_uri": "https://localhost:8080/",
          "height": 282
        },
        "id": "oWr22JWzohrF",
        "outputId": "2add59b6-a215-4c22-8928-0d55d2b4583e"
      },
      "source": [
        "x_train_df['Vintage_sqrt'] = x_train_df['Vintage'].apply(lambda x: np.sqrt(x))\n",
        "x_train_df['Vintage_sqrt'].plot.kde()"
      ],
      "execution_count": null,
      "outputs": [
        {
          "output_type": "execute_result",
          "data": {
            "text/plain": [
              "<matplotlib.axes._subplots.AxesSubplot at 0x7f543d53d310>"
            ]
          },
          "metadata": {
            "tags": []
          },
          "execution_count": 30
        },
        {
          "output_type": "display_data",
          "data": {
            "image/png": "[encoded data removed]",
            "text/plain": [
              "<Figure size 432x288 with 1 Axes>"
            ]
          },
          "metadata": {
            "tags": [],
            "needs_background": "light"
          }
        }
      ]
    },
    {
      "cell_type": "code",
      "metadata": {
        "colab": {
          "base_uri": "https://localhost:8080/",
          "height": 296
        },
        "id": "K1R8uHc5pDbs",
        "outputId": "7c87652e-f4e8-45a0-fa36-8c0d9238efee"
      },
      "source": [
        "sns.boxplot(x='Vintage',data=x_train_df)"
      ],
      "execution_count": null,
      "outputs": [
        {
          "output_type": "execute_result",
          "data": {
            "text/plain": [
              "<matplotlib.axes._subplots.AxesSubplot at 0x7f543d495cd0>"
            ]
          },
          "metadata": {
            "tags": []
          },
          "execution_count": 31
        },
        {
          "output_type": "display_data",
          "data": {
            "image/png": "[encoded data removed]",
            "text/plain": [
              "<Figure size 432x288 with 1 Axes>"
            ]
          },
          "metadata": {
            "tags": [],
            "needs_background": "light"
          }
        }
      ]
    },
    {
      "cell_type": "code",
      "metadata": {
        "colab": {
          "base_uri": "https://localhost:8080/",
          "height": 297
        },
        "id": "xEyuRhYFpxFN",
        "outputId": "00726b56-679b-4e5f-9510-50a714a7c44e"
      },
      "source": [
        "sns.boxplot(x='Vintage_sqrt',data=x_train_df)"
      ],
      "execution_count": null,
      "outputs": [
        {
          "output_type": "execute_result",
          "data": {
            "text/plain": [
              "<matplotlib.axes._subplots.AxesSubplot at 0x7f543d795890>"
            ]
          },
          "metadata": {
            "tags": []
          },
          "execution_count": 32
        },
        {
          "output_type": "display_data",
          "data": {
            "image/png": "[encoded data removed]",
            "text/plain": [
              "<Figure size 432x288 with 1 Axes>"
            ]
          },
          "metadata": {
            "tags": [],
            "needs_background": "light"
          }
        }
      ]
    },
    {
      "cell_type": "code",
      "metadata": {
        "colab": {
          "base_uri": "https://localhost:8080/",
          "height": 297
        },
        "id": "Ier2wLWNploL",
        "outputId": "145ea3d4-557d-43a6-ae50-4c6df9604004"
      },
      "source": [
        "x_train_df['Vintage_box'], fitted_lambda = scipy.stats.boxcox(x_train_df['Vintage'])\n",
        "sns.boxplot(x='Vintage_box',data=x_train_df)"
      ],
      "execution_count": null,
      "outputs": [
        {
          "output_type": "execute_result",
          "data": {
            "text/plain": [
              "<matplotlib.axes._subplots.AxesSubplot at 0x7f543d7a8a90>"
            ]
          },
          "metadata": {
            "tags": []
          },
          "execution_count": 33
        },
        {
          "output_type": "display_data",
          "data": {
            "image/png": "[encoded data removed]",
            "text/plain": [
              "<Figure size 432x288 with 1 Axes>"
            ]
          },
          "metadata": {
            "tags": [],
            "needs_background": "light"
          }
        }
      ]
    },
    {
      "cell_type": "code",
      "metadata": {
        "colab": {
          "base_uri": "https://localhost:8080/"
        },
        "id": "IpCUcV6hBcLU",
        "outputId": "d9e6a710-8dea-4194-dea8-6c4a974626fe"
      },
      "source": [
        "x_train['Vintage']"
      ],
      "execution_count": null,
      "outputs": [
        {
          "output_type": "execute_result",
          "data": {
            "text/plain": [
              "188708    87\n",
              "17007     69\n",
              "109929    81\n",
              "81455     14\n",
              "77866     21\n",
              "          ..\n",
              "130365    93\n",
              "92303     20\n",
              "6618      26\n",
              "90430     55\n",
              "29828     25\n",
              "Name: Vintage, Length: 184293, dtype: int64"
            ]
          },
          "metadata": {
            "tags": []
          },
          "execution_count": 34
        }
      ]
    },
    {
      "cell_type": "code",
      "metadata": {
        "colab": {
          "base_uri": "https://localhost:8080/",
          "height": 297
        },
        "id": "nGMFBFFdqasD",
        "outputId": "2bb9fde4-b73b-4882-c93b-a9d4ef5d3a90"
      },
      "source": [
        "normalize = MinMaxScaler()\n",
        "array = np.asanyarray(x_train_df['Vintage_box'])\n",
        "array = array.reshape(-1,1)\n",
        "\n",
        "array_norm = normalize.fit_transform(array)\n",
        "\n",
        "std_scaler = StandardScaler()\n",
        "array_std = std_scaler.fit_transform(array_norm)\n",
        "\n",
        "# applying both the functions\n",
        "x_train_df['Vintage_max'] = array_norm\n",
        "# x_train['Vintage_std'] = array_std\n",
        "\n",
        "sns.boxplot(x='Vintage_max',data=x_train_df)\n"
      ],
      "execution_count": null,
      "outputs": [
        {
          "output_type": "execute_result",
          "data": {
            "text/plain": [
              "<matplotlib.axes._subplots.AxesSubplot at 0x7f543d38e090>"
            ]
          },
          "metadata": {
            "tags": []
          },
          "execution_count": 35
        },
        {
          "output_type": "display_data",
          "data": {
            "image/png": "[encoded data removed]",
            "text/plain": [
              "<Figure size 432x288 with 1 Axes>"
            ]
          },
          "metadata": {
            "tags": [],
            "needs_background": "light"
          }
        }
      ]
    },
    {
      "cell_type": "code",
      "metadata": {
        "colab": {
          "base_uri": "https://localhost:8080/",
          "height": 282
        },
        "id": "H7YJqIOurR2n",
        "outputId": "58e057a7-aee4-40b5-c54d-54fbb12de007"
      },
      "source": [
        "x_train_df['Vintage_max'].plot.kde()"
      ],
      "execution_count": null,
      "outputs": [
        {
          "output_type": "execute_result",
          "data": {
            "text/plain": [
              "<matplotlib.axes._subplots.AxesSubplot at 0x7f543d34c2d0>"
            ]
          },
          "metadata": {
            "tags": []
          },
          "execution_count": 0
        },
        {
          "output_type": "display_data",
          "data": {
            "image/png": "[encoded data removed]",
            "text/plain": [
              "<Figure size 432x288 with 1 Axes>"
            ]
          },
          "metadata": {
            "tags": []
          }
        }
      ]
    },
    {
      "cell_type": "code",
      "metadata": {
        "colab": {
          "base_uri": "https://localhost:8080/",
          "height": 439
        },
        "id": "sb1Cvrj1DNv4",
        "outputId": "8def83bc-2e2e-4cc0-f4df-20edeb14b1aa"
      },
      "source": [
        "# reshaping the column to apply minmax scaler\n",
        "array = np.asanyarray(x_train_df['Age_Binned'])\n",
        "array = array.reshape(-1,1)\n",
        "\n",
        "# normalizing using minmax scaler\n",
        "enc = OneHotEncoder()\n",
        "array_enc = enc.fit_transform(array)\n",
        "\n",
        "x_train_df"
      ],
      "execution_count": null,
      "outputs": [
        {
          "output_type": "execute_result",
          "data": {
            "text/html": [
              "<div>\n",
              "<style scoped>\n",
              "    .dataframe tbody tr th:only-of-type {\n",
              "        vertical-align: middle;\n",
              "    }\n",
              "\n",
              "    .dataframe tbody tr th {\n",
              "        vertical-align: top;\n",
              "    }\n",
              "\n",
              "    .dataframe thead th {\n",
              "        text-align: right;\n",
              "    }\n",
              "</style>\n",
              "<table border=\"1\" class=\"dataframe\">\n",
              "  <thead>\n",
              "    <tr style=\"text-align: right;\">\n",
              "      <th></th>\n",
              "      <th>Gender</th>\n",
              "      <th>Age</th>\n",
              "      <th>Region_Code</th>\n",
              "      <th>Occupation</th>\n",
              "      <th>Channel_Code</th>\n",
              "      <th>Vintage</th>\n",
              "      <th>Credit_Product</th>\n",
              "      <th>Avg_Account_Balance</th>\n",
              "      <th>Is_Active</th>\n",
              "      <th>Is_Lead</th>\n",
              "      <th>Region_Code_proc</th>\n",
              "      <th>Channel_Code_proc</th>\n",
              "      <th>Gender_proc</th>\n",
              "      <th>Occupation_proc</th>\n",
              "      <th>Is_Active_proc</th>\n",
              "      <th>Credit_Product_proc</th>\n",
              "      <th>Avg_Account_Balance_log</th>\n",
              "      <th>Age_Binned</th>\n",
              "      <th>Age_box</th>\n",
              "      <th>Vintage_sqrt</th>\n",
              "      <th>Vintage_box</th>\n",
              "      <th>Vintage_max</th>\n",
              "    </tr>\n",
              "  </thead>\n",
              "  <tbody>\n",
              "    <tr>\n",
              "      <th>188708</th>\n",
              "      <td>Male</td>\n",
              "      <td>44</td>\n",
              "      <td>RG268</td>\n",
              "      <td>Self_Employed</td>\n",
              "      <td>X3</td>\n",
              "      <td>87</td>\n",
              "      <td>No</td>\n",
              "      <td>543460</td>\n",
              "      <td>No</td>\n",
              "      <td>0</td>\n",
              "      <td>268</td>\n",
              "      <td>3</td>\n",
              "      <td>0</td>\n",
              "      <td>1</td>\n",
              "      <td>0</td>\n",
              "      <td>0</td>\n",
              "      <td>13.205711</td>\n",
              "      <td>40-60</td>\n",
              "      <td>2.382262</td>\n",
              "      <td>9.327379</td>\n",
              "      <td>3.595466</td>\n",
              "      <td>0.869727</td>\n",
              "    </tr>\n",
              "    <tr>\n",
              "      <th>17007</th>\n",
              "      <td>Female</td>\n",
              "      <td>50</td>\n",
              "      <td>RG252</td>\n",
              "      <td>Self_Employed</td>\n",
              "      <td>X2</td>\n",
              "      <td>69</td>\n",
              "      <td>No</td>\n",
              "      <td>891895</td>\n",
              "      <td>Yes</td>\n",
              "      <td>0</td>\n",
              "      <td>252</td>\n",
              "      <td>2</td>\n",
              "      <td>1</td>\n",
              "      <td>1</td>\n",
              "      <td>1</td>\n",
              "      <td>0</td>\n",
              "      <td>13.701104</td>\n",
              "      <td>40-60</td>\n",
              "      <td>2.428043</td>\n",
              "      <td>8.306624</td>\n",
              "      <td>3.445993</td>\n",
              "      <td>0.798635</td>\n",
              "    </tr>\n",
              "    <tr>\n",
              "      <th>109929</th>\n",
              "      <td>Male</td>\n",
              "      <td>77</td>\n",
              "      <td>RG284</td>\n",
              "      <td>Other</td>\n",
              "      <td>X3</td>\n",
              "      <td>81</td>\n",
              "      <td>No</td>\n",
              "      <td>1163416</td>\n",
              "      <td>No</td>\n",
              "      <td>0</td>\n",
              "      <td>284</td>\n",
              "      <td>3</td>\n",
              "      <td>0</td>\n",
              "      <td>2</td>\n",
              "      <td>0</td>\n",
              "      <td>0</td>\n",
              "      <td>13.966871</td>\n",
              "      <td>60+</td>\n",
              "      <td>2.571627</td>\n",
              "      <td>9.000000</td>\n",
              "      <td>3.549759</td>\n",
              "      <td>0.847988</td>\n",
              "    </tr>\n",
              "    <tr>\n",
              "      <th>81455</th>\n",
              "      <td>Male</td>\n",
              "      <td>74</td>\n",
              "      <td>RG283</td>\n",
              "      <td>Other</td>\n",
              "      <td>X1</td>\n",
              "      <td>14</td>\n",
              "      <td>No</td>\n",
              "      <td>1720031</td>\n",
              "      <td>No</td>\n",
              "      <td>0</td>\n",
              "      <td>283</td>\n",
              "      <td>1</td>\n",
              "      <td>0</td>\n",
              "      <td>2</td>\n",
              "      <td>0</td>\n",
              "      <td>0</td>\n",
              "      <td>14.357853</td>\n",
              "      <td>60+</td>\n",
              "      <td>2.559092</td>\n",
              "      <td>3.741657</td>\n",
              "      <td>2.316994</td>\n",
              "      <td>0.261663</td>\n",
              "    </tr>\n",
              "    <tr>\n",
              "      <th>77866</th>\n",
              "      <td>Female</td>\n",
              "      <td>25</td>\n",
              "      <td>RG283</td>\n",
              "      <td>Other</td>\n",
              "      <td>X1</td>\n",
              "      <td>21</td>\n",
              "      <td>No</td>\n",
              "      <td>1489690</td>\n",
              "      <td>Yes</td>\n",
              "      <td>0</td>\n",
              "      <td>283</td>\n",
              "      <td>1</td>\n",
              "      <td>1</td>\n",
              "      <td>2</td>\n",
              "      <td>1</td>\n",
              "      <td>0</td>\n",
              "      <td>14.214079</td>\n",
              "      <td>20-40</td>\n",
              "      <td>2.159984</td>\n",
              "      <td>4.582576</td>\n",
              "      <td>2.621427</td>\n",
              "      <td>0.406457</td>\n",
              "    </tr>\n",
              "    <tr>\n",
              "      <th>...</th>\n",
              "      <td>...</td>\n",
              "      <td>...</td>\n",
              "      <td>...</td>\n",
              "      <td>...</td>\n",
              "      <td>...</td>\n",
              "      <td>...</td>\n",
              "      <td>...</td>\n",
              "      <td>...</td>\n",
              "      <td>...</td>\n",
              "      <td>...</td>\n",
              "      <td>...</td>\n",
              "      <td>...</td>\n",
              "      <td>...</td>\n",
              "      <td>...</td>\n",
              "      <td>...</td>\n",
              "      <td>...</td>\n",
              "      <td>...</td>\n",
              "      <td>...</td>\n",
              "      <td>...</td>\n",
              "      <td>...</td>\n",
              "      <td>...</td>\n",
              "      <td>...</td>\n",
              "    </tr>\n",
              "    <tr>\n",
              "      <th>130365</th>\n",
              "      <td>Female</td>\n",
              "      <td>68</td>\n",
              "      <td>RG254</td>\n",
              "      <td>Other</td>\n",
              "      <td>X3</td>\n",
              "      <td>93</td>\n",
              "      <td>No</td>\n",
              "      <td>2039817</td>\n",
              "      <td>Yes</td>\n",
              "      <td>0</td>\n",
              "      <td>254</td>\n",
              "      <td>3</td>\n",
              "      <td>1</td>\n",
              "      <td>2</td>\n",
              "      <td>1</td>\n",
              "      <td>0</td>\n",
              "      <td>14.528371</td>\n",
              "      <td>60+</td>\n",
              "      <td>2.531975</td>\n",
              "      <td>9.643651</td>\n",
              "      <td>3.637827</td>\n",
              "      <td>0.889875</td>\n",
              "    </tr>\n",
              "    <tr>\n",
              "      <th>92303</th>\n",
              "      <td>Female</td>\n",
              "      <td>34</td>\n",
              "      <td>RG284</td>\n",
              "      <td>Salaried</td>\n",
              "      <td>X1</td>\n",
              "      <td>20</td>\n",
              "      <td>No</td>\n",
              "      <td>873268</td>\n",
              "      <td>Yes</td>\n",
              "      <td>0</td>\n",
              "      <td>284</td>\n",
              "      <td>1</td>\n",
              "      <td>1</td>\n",
              "      <td>3</td>\n",
              "      <td>1</td>\n",
              "      <td>0</td>\n",
              "      <td>13.679998</td>\n",
              "      <td>20-40</td>\n",
              "      <td>2.285033</td>\n",
              "      <td>4.472136</td>\n",
              "      <td>2.585449</td>\n",
              "      <td>0.389346</td>\n",
              "    </tr>\n",
              "    <tr>\n",
              "      <th>6618</th>\n",
              "      <td>Male</td>\n",
              "      <td>28</td>\n",
              "      <td>RG253</td>\n",
              "      <td>Other</td>\n",
              "      <td>X1</td>\n",
              "      <td>26</td>\n",
              "      <td>No</td>\n",
              "      <td>1186040</td>\n",
              "      <td>Yes</td>\n",
              "      <td>0</td>\n",
              "      <td>253</td>\n",
              "      <td>1</td>\n",
              "      <td>0</td>\n",
              "      <td>2</td>\n",
              "      <td>1</td>\n",
              "      <td>0</td>\n",
              "      <td>13.986131</td>\n",
              "      <td>20-40</td>\n",
              "      <td>2.207271</td>\n",
              "      <td>5.099020</td>\n",
              "      <td>2.776846</td>\n",
              "      <td>0.480377</td>\n",
              "    </tr>\n",
              "    <tr>\n",
              "      <th>90430</th>\n",
              "      <td>Female</td>\n",
              "      <td>50</td>\n",
              "      <td>RG284</td>\n",
              "      <td>Salaried</td>\n",
              "      <td>X2</td>\n",
              "      <td>55</td>\n",
              "      <td>No</td>\n",
              "      <td>1649000</td>\n",
              "      <td>Yes</td>\n",
              "      <td>1</td>\n",
              "      <td>284</td>\n",
              "      <td>2</td>\n",
              "      <td>1</td>\n",
              "      <td>3</td>\n",
              "      <td>1</td>\n",
              "      <td>0</td>\n",
              "      <td>14.315680</td>\n",
              "      <td>40-60</td>\n",
              "      <td>2.428043</td>\n",
              "      <td>7.416198</td>\n",
              "      <td>3.296341</td>\n",
              "      <td>0.727458</td>\n",
              "    </tr>\n",
              "    <tr>\n",
              "      <th>29828</th>\n",
              "      <td>Female</td>\n",
              "      <td>31</td>\n",
              "      <td>RG255</td>\n",
              "      <td>Salaried</td>\n",
              "      <td>X1</td>\n",
              "      <td>25</td>\n",
              "      <td>No</td>\n",
              "      <td>1309430</td>\n",
              "      <td>No</td>\n",
              "      <td>0</td>\n",
              "      <td>255</td>\n",
              "      <td>1</td>\n",
              "      <td>1</td>\n",
              "      <td>3</td>\n",
              "      <td>0</td>\n",
              "      <td>0</td>\n",
              "      <td>14.085102</td>\n",
              "      <td>20-40</td>\n",
              "      <td>2.248539</td>\n",
              "      <td>5.000000</td>\n",
              "      <td>2.748555</td>\n",
              "      <td>0.466921</td>\n",
              "    </tr>\n",
              "  </tbody>\n",
              "</table>\n",
              "<p>184293 rows × 22 columns</p>\n",
              "</div>"
            ],
            "text/plain": [
              "        Gender  Age Region_Code  ... Vintage_sqrt Vintage_box  Vintage_max\n",
              "188708    Male   44       RG268  ...     9.327379    3.595466     0.869727\n",
              "17007   Female   50       RG252  ...     8.306624    3.445993     0.798635\n",
              "109929    Male   77       RG284  ...     9.000000    3.549759     0.847988\n",
              "81455     Male   74       RG283  ...     3.741657    2.316994     0.261663\n",
              "77866   Female   25       RG283  ...     4.582576    2.621427     0.406457\n",
              "...        ...  ...         ...  ...          ...         ...          ...\n",
              "130365  Female   68       RG254  ...     9.643651    3.637827     0.889875\n",
              "92303   Female   34       RG284  ...     4.472136    2.585449     0.389346\n",
              "6618      Male   28       RG253  ...     5.099020    2.776846     0.480377\n",
              "90430   Female   50       RG284  ...     7.416198    3.296341     0.727458\n",
              "29828   Female   31       RG255  ...     5.000000    2.748555     0.466921\n",
              "\n",
              "[184293 rows x 22 columns]"
            ]
          },
          "metadata": {
            "tags": []
          },
          "execution_count": 38
        }
      ]
    },
    {
      "cell_type": "markdown",
      "metadata": {
        "id": "aeeVyW4TzqDB"
      },
      "source": [
        "## tranform function"
      ]
    },
    {
      "cell_type": "code",
      "metadata": {
        "id": "D08wQgOXzNZW"
      },
      "source": [
        "def transform(dframe):\n",
        "  # apply the transformations in dframe\n",
        "  \n",
        "  # ---------------------------- Functions -----------------------------------\n",
        "  \n",
        "  def bin_age(x):\n",
        "    # catagories = ['0-20','20-40','40-60','60+']\n",
        "    cat = ''\n",
        "    \n",
        "    if x>20 and x<=40:\n",
        "      cat = '20-40'\n",
        "    elif x>40 and x<=60:\n",
        "      cat = '40-60'\n",
        "    elif x>60 :\n",
        "      cat = '60+'\n",
        "    else :\n",
        "      cat = '0-20'\n",
        "    return cat\n",
        "\n",
        "  def log_transform(x):\n",
        "    # transforms x to log\n",
        "    result = 0.0\n",
        "    if x!=0:\n",
        "      result = np.log(x)\n",
        "    else:\n",
        "      result = np.log(0.00001)\n",
        "    return result\n",
        "\n",
        "  # ----------------------------------------------------------------------------\n",
        "  \n",
        "  # transforming age\n",
        "  # creating age bins\n",
        "  dframe['Age_Binned'] = dframe['Age'].apply(lambda x: bin_age(x))\n",
        "  dframe = one_hot(dframe, 'Age_Binned')\n",
        "  # applying boxcox transformation\n",
        "  dframe['Age_box'], fitted_lambda = scipy.stats.boxcox(dframe['Age'])\n",
        "\n",
        "  # transforming balance\n",
        "  dframe['Avg_Account_Balance_log'] = dframe['Avg_Account_Balance'].apply(lambda x: log_transform(x))\n",
        "\n",
        "  # transforming vintage\n",
        "  # applying boxcox transfrom\n",
        "  dframe['Vintage_box'], fitted_lambda = scipy.stats.boxcox(dframe['Vintage'])\n",
        "  # reshaping the column to apply minmax scaler\n",
        "  array = np.asanyarray(dframe['Vintage_box'])\n",
        "  array = array.reshape(-1,1)\n",
        "  \n",
        "  # normalizing using minmax scaler\n",
        "  normalize = MinMaxScaler()\n",
        "  array_norm = normalize.fit_transform(array)\n",
        "\n",
        "  # applying standard_scaler\n",
        "  std_scaler = StandardScaler()\n",
        "  array_std = std_scaler.fit_transform(array_norm)\n",
        "\n",
        "  # applying both the functions\n",
        "  dframe['Vintage_max'] = array_norm\n",
        "\n",
        "  return dframe"
      ],
      "execution_count": 15,
      "outputs": []
    },
    {
      "cell_type": "code",
      "metadata": {
        "id": "V58PthaEGbTo"
      },
      "source": [
        "def get_features(dframe):\n",
        "  feature_list_to_use = ['Channel_Code_proc_0','Channel_Code_proc_1', 'Channel_Code_proc_2', 'Channel_Code_proc_3',\n",
        "  'Gender_proc_0', 'Gender_proc_1',\n",
        "  'Occupation_proc_0', 'Occupation_proc_1', 'Occupation_proc_2','Occupation_proc_3',\n",
        "  'Is_Active_proc_0', 'Is_Active_proc_1', \n",
        "  'Credit_Product_proc_0', 'Credit_Product_proc_1',\n",
        "  'Age_Binned_0', 'Age_Binned_1','Age_Binned_2', \n",
        "  'Age_box', 'Avg_Account_Balance_log', 'Vintage_max']\n",
        "  return dframe[feature_list_to_use]"
      ],
      "execution_count": 16,
      "outputs": []
    },
    {
      "cell_type": "code",
      "metadata": {
        "colab": {
          "base_uri": "https://localhost:8080/"
        },
        "id": "7EAopiDF-1eB",
        "outputId": "e11468a2-362e-41cd-f4a5-7817fa4c11b0"
      },
      "source": [
        "x_train_df.columns"
      ],
      "execution_count": 37,
      "outputs": [
        {
          "output_type": "execute_result",
          "data": {
            "text/plain": [
              "Index(['Gender', 'Age', 'Region_Code', 'Occupation', 'Channel_Code', 'Vintage',\n",
              "       'Credit_Product', 'Avg_Account_Balance', 'Is_Active', 'Is_Lead',\n",
              "       'Region_Code_proc', 'Channel_Code_proc', 'Channel_Code_proc_0',\n",
              "       'Channel_Code_proc_1', 'Channel_Code_proc_2', 'Channel_Code_proc_3',\n",
              "       'Gender_proc', 'Gender_proc_0', 'Gender_proc_1', 'Occupation_proc',\n",
              "       'Occupation_proc_0', 'Occupation_proc_1', 'Occupation_proc_2',\n",
              "       'Occupation_proc_3', 'Is_Active_proc', 'Is_Active_proc_0',\n",
              "       'Is_Active_proc_1', 'Credit_Product_proc', 'Credit_Product_proc_0',\n",
              "       'Credit_Product_proc_1', 'Avg_Account_Balance_log', 'Age_Binned'],\n",
              "      dtype='object')"
            ]
          },
          "metadata": {
            "tags": []
          },
          "execution_count": 37
        }
      ]
    },
    {
      "cell_type": "code",
      "metadata": {
        "id": "1m46TwmdBDhM"
      },
      "source": [
        "x_train = get_raw_train_data()"
      ],
      "execution_count": 38,
      "outputs": []
    },
    {
      "cell_type": "code",
      "metadata": {
        "colab": {
          "base_uri": "https://localhost:8080/",
          "height": 419
        },
        "id": "q7j_JxOGBHw1",
        "outputId": "98209ec9-5ffb-4563-c5f6-32aee30fca1a"
      },
      "source": [
        "x_train"
      ],
      "execution_count": 39,
      "outputs": [
        {
          "output_type": "execute_result",
          "data": {
            "text/html": [
              "<div>\n",
              "<style scoped>\n",
              "    .dataframe tbody tr th:only-of-type {\n",
              "        vertical-align: middle;\n",
              "    }\n",
              "\n",
              "    .dataframe tbody tr th {\n",
              "        vertical-align: top;\n",
              "    }\n",
              "\n",
              "    .dataframe thead th {\n",
              "        text-align: right;\n",
              "    }\n",
              "</style>\n",
              "<table border=\"1\" class=\"dataframe\">\n",
              "  <thead>\n",
              "    <tr style=\"text-align: right;\">\n",
              "      <th></th>\n",
              "      <th>Gender</th>\n",
              "      <th>Age</th>\n",
              "      <th>Region_Code</th>\n",
              "      <th>Occupation</th>\n",
              "      <th>Channel_Code</th>\n",
              "      <th>Vintage</th>\n",
              "      <th>Credit_Product</th>\n",
              "      <th>Avg_Account_Balance</th>\n",
              "      <th>Is_Active</th>\n",
              "    </tr>\n",
              "  </thead>\n",
              "  <tbody>\n",
              "    <tr>\n",
              "      <th>188708</th>\n",
              "      <td>Male</td>\n",
              "      <td>44</td>\n",
              "      <td>RG268</td>\n",
              "      <td>Self_Employed</td>\n",
              "      <td>X3</td>\n",
              "      <td>87</td>\n",
              "      <td>No</td>\n",
              "      <td>543460</td>\n",
              "      <td>No</td>\n",
              "    </tr>\n",
              "    <tr>\n",
              "      <th>17007</th>\n",
              "      <td>Female</td>\n",
              "      <td>50</td>\n",
              "      <td>RG252</td>\n",
              "      <td>Self_Employed</td>\n",
              "      <td>X2</td>\n",
              "      <td>69</td>\n",
              "      <td>No</td>\n",
              "      <td>891895</td>\n",
              "      <td>Yes</td>\n",
              "    </tr>\n",
              "    <tr>\n",
              "      <th>109929</th>\n",
              "      <td>Male</td>\n",
              "      <td>77</td>\n",
              "      <td>RG284</td>\n",
              "      <td>Other</td>\n",
              "      <td>X3</td>\n",
              "      <td>81</td>\n",
              "      <td>No</td>\n",
              "      <td>1163416</td>\n",
              "      <td>No</td>\n",
              "    </tr>\n",
              "    <tr>\n",
              "      <th>81455</th>\n",
              "      <td>Male</td>\n",
              "      <td>74</td>\n",
              "      <td>RG283</td>\n",
              "      <td>Other</td>\n",
              "      <td>X1</td>\n",
              "      <td>14</td>\n",
              "      <td>No</td>\n",
              "      <td>1720031</td>\n",
              "      <td>No</td>\n",
              "    </tr>\n",
              "    <tr>\n",
              "      <th>77866</th>\n",
              "      <td>Female</td>\n",
              "      <td>25</td>\n",
              "      <td>RG283</td>\n",
              "      <td>Other</td>\n",
              "      <td>X1</td>\n",
              "      <td>21</td>\n",
              "      <td>No</td>\n",
              "      <td>1489690</td>\n",
              "      <td>Yes</td>\n",
              "    </tr>\n",
              "    <tr>\n",
              "      <th>...</th>\n",
              "      <td>...</td>\n",
              "      <td>...</td>\n",
              "      <td>...</td>\n",
              "      <td>...</td>\n",
              "      <td>...</td>\n",
              "      <td>...</td>\n",
              "      <td>...</td>\n",
              "      <td>...</td>\n",
              "      <td>...</td>\n",
              "    </tr>\n",
              "    <tr>\n",
              "      <th>130365</th>\n",
              "      <td>Female</td>\n",
              "      <td>68</td>\n",
              "      <td>RG254</td>\n",
              "      <td>Other</td>\n",
              "      <td>X3</td>\n",
              "      <td>93</td>\n",
              "      <td>No</td>\n",
              "      <td>2039817</td>\n",
              "      <td>Yes</td>\n",
              "    </tr>\n",
              "    <tr>\n",
              "      <th>92303</th>\n",
              "      <td>Female</td>\n",
              "      <td>34</td>\n",
              "      <td>RG284</td>\n",
              "      <td>Salaried</td>\n",
              "      <td>X1</td>\n",
              "      <td>20</td>\n",
              "      <td>No</td>\n",
              "      <td>873268</td>\n",
              "      <td>Yes</td>\n",
              "    </tr>\n",
              "    <tr>\n",
              "      <th>6618</th>\n",
              "      <td>Male</td>\n",
              "      <td>28</td>\n",
              "      <td>RG253</td>\n",
              "      <td>Other</td>\n",
              "      <td>X1</td>\n",
              "      <td>26</td>\n",
              "      <td>No</td>\n",
              "      <td>1186040</td>\n",
              "      <td>Yes</td>\n",
              "    </tr>\n",
              "    <tr>\n",
              "      <th>90430</th>\n",
              "      <td>Female</td>\n",
              "      <td>50</td>\n",
              "      <td>RG284</td>\n",
              "      <td>Salaried</td>\n",
              "      <td>X2</td>\n",
              "      <td>55</td>\n",
              "      <td>NaN</td>\n",
              "      <td>1649000</td>\n",
              "      <td>Yes</td>\n",
              "    </tr>\n",
              "    <tr>\n",
              "      <th>29828</th>\n",
              "      <td>Female</td>\n",
              "      <td>31</td>\n",
              "      <td>RG255</td>\n",
              "      <td>Salaried</td>\n",
              "      <td>X1</td>\n",
              "      <td>25</td>\n",
              "      <td>No</td>\n",
              "      <td>1309430</td>\n",
              "      <td>No</td>\n",
              "    </tr>\n",
              "  </tbody>\n",
              "</table>\n",
              "<p>184293 rows × 9 columns</p>\n",
              "</div>"
            ],
            "text/plain": [
              "        Gender  Age Region_Code  ... Credit_Product Avg_Account_Balance  Is_Active\n",
              "188708    Male   44       RG268  ...             No              543460         No\n",
              "17007   Female   50       RG252  ...             No              891895        Yes\n",
              "109929    Male   77       RG284  ...             No             1163416         No\n",
              "81455     Male   74       RG283  ...             No             1720031         No\n",
              "77866   Female   25       RG283  ...             No             1489690        Yes\n",
              "...        ...  ...         ...  ...            ...                 ...        ...\n",
              "130365  Female   68       RG254  ...             No             2039817        Yes\n",
              "92303   Female   34       RG284  ...             No              873268        Yes\n",
              "6618      Male   28       RG253  ...             No             1186040        Yes\n",
              "90430   Female   50       RG284  ...            NaN             1649000        Yes\n",
              "29828   Female   31       RG255  ...             No             1309430         No\n",
              "\n",
              "[184293 rows x 9 columns]"
            ]
          },
          "metadata": {
            "tags": []
          },
          "execution_count": 39
        }
      ]
    },
    {
      "cell_type": "code",
      "metadata": {
        "id": "5LrpOflz-7zn"
      },
      "source": [
        "def process_all(dframe):\n",
        "  dframe = process(dframe)\n",
        "  dframe = transform(dframe)\n",
        "  print('transformed successfully')\n",
        "  dframe = get_features(dframe)\n",
        "  \n",
        "  print('features engineered')\n",
        "  return dframe\n"
      ],
      "execution_count": 17,
      "outputs": []
    },
    {
      "cell_type": "code",
      "metadata": {
        "colab": {
          "base_uri": "https://localhost:8080/"
        },
        "id": "eF4OeAkSCdvI",
        "outputId": "9b7542b2-ca03-4eb9-9370-94955c6dbfd4"
      },
      "source": [
        "x_train.info()"
      ],
      "execution_count": 18,
      "outputs": [
        {
          "output_type": "stream",
          "text": [
            "<class 'pandas.core.frame.DataFrame'>\n",
            "Int64Index: 184293 entries, 188708 to 29828\n",
            "Data columns (total 9 columns):\n",
            " #   Column               Non-Null Count   Dtype \n",
            "---  ------               --------------   ----- \n",
            " 0   Gender               184293 non-null  object\n",
            " 1   Age                  184293 non-null  int64 \n",
            " 2   Region_Code          184293 non-null  object\n",
            " 3   Occupation           184293 non-null  object\n",
            " 4   Channel_Code         184293 non-null  object\n",
            " 5   Vintage              184293 non-null  int64 \n",
            " 6   Credit_Product       162400 non-null  object\n",
            " 7   Avg_Account_Balance  184293 non-null  int64 \n",
            " 8   Is_Active            184293 non-null  object\n",
            "dtypes: int64(3), object(6)\n",
            "memory usage: 14.1+ MB\n"
          ],
          "name": "stdout"
        }
      ]
    },
    {
      "cell_type": "markdown",
      "metadata": {
        "id": "AE0LrY4NxtDb"
      },
      "source": [
        "## jump here"
      ]
    },
    {
      "cell_type": "code",
      "metadata": {
        "colab": {
          "base_uri": "https://localhost:8080/",
          "height": 401
        },
        "id": "zHTRuUh5OWQw",
        "outputId": "c3a547b6-2e15-4ce0-8973-6097f85d3643"
      },
      "source": [
        "# sns.catplot(x=\"Channel_Code\", kind=\"count\", hue = \"Is_Lead\", palette=\"ch:.25\", data=x_train_visual)\n",
        "# # df['Channel_Code'].plot.kde()"
      ],
      "execution_count": null,
      "outputs": [
        {
          "output_type": "execute_result",
          "data": {
            "text/plain": [
              "<seaborn.axisgrid.FacetGrid at 0x7fba3704f610>"
            ]
          },
          "metadata": {
            "tags": []
          },
          "execution_count": 24
        },
        {
          "output_type": "display_data",
          "data": {
            "image/png": "[encoded data removed]",
            "text/plain": [
              "<Figure size 405.125x360 with 1 Axes>"
            ]
          },
          "metadata": {
            "tags": [],
            "needs_background": "light"
          }
        }
      ]
    },
    {
      "cell_type": "markdown",
      "metadata": {
        "id": "etbWHnQpwAro"
      },
      "source": [
        "# #Preparing train and test"
      ]
    },
    {
      "cell_type": "code",
      "metadata": {
        "id": "BQC0x170UdGQ",
        "outputId": "3f2ff526-96c1-4649-d5a2-0fcee4527fee",
        "colab": {
          "base_uri": "https://localhost:8080/"
        }
      },
      "source": [
        "x_train = process_all(x_train)\n",
        "# processing x_test\n",
        "print('X_TRAIN Processed successfully')\n",
        "x_test_raw = x_test.copy()\n",
        "x_test_check = x_test_raw.copy()\n",
        "x_test = process_all(x_test)\n",
        "print('X_TEST Processed successfully')"
      ],
      "execution_count": 86,
      "outputs": [
        {
          "output_type": "stream",
          "text": [
            "Region Code Processed Successfully\n",
            "Channel Code Processed Successfully\n",
            "Gender Processed Successfully\n",
            "Occupation Processed Successfully\n",
            "Is Active Processed Successfully\n",
            "transformed successfully\n",
            "features engineered\n",
            "X_TRAIN Processed successfully\n",
            "Region Code Processed Successfully\n",
            "Channel Code Processed Successfully\n",
            "Gender Processed Successfully\n",
            "Occupation Processed Successfully\n",
            "Is Active Processed Successfully\n",
            "transformed successfully\n",
            "features engineered\n",
            "X_TEST Processed successfully\n"
          ],
          "name": "stdout"
        }
      ]
    },
    {
      "cell_type": "markdown",
      "metadata": {
        "id": "mkIB3tuMwU4l"
      },
      "source": [
        "# Model Fitting"
      ]
    },
    {
      "cell_type": "code",
      "metadata": {
        "id": "57I74VD2sIiv"
      },
      "source": [
        "def metrics(Pred, Classifier, X_Test=x_test, labels=y_test):\n",
        "  # prints different metrics\n",
        "  accuracy = accuracy_score(y_true=labels, y_pred=Pred)\n",
        "  roc_auc = roc_auc_score(y_true=labels, y_score=Pred)\n",
        "  print(f'Accuracy: {accuracy} \\n ROC_AUC_Score: {roc_auc}')\n",
        "  \n",
        "  plot_confusion_matrix(estimator= Classifier,X=X_Test, y_true=labels, values_format= '.3f')\n",
        "  \n",
        "  plot_roc_curve(Classifier, X=X_Test, y=labels)\n",
        "\n",
        "  return accuracy, roc_auc_score"
      ],
      "execution_count": 87,
      "outputs": []
    },
    {
      "cell_type": "code",
      "metadata": {
        "id": "3eCRcw27jkPi",
        "colab": {
          "base_uri": "https://localhost:8080/"
        },
        "outputId": "474457cb-287f-4f98-f92c-9cfe7fa1ef9d"
      },
      "source": [
        "# %% Implementing Random Forests\n",
        "clf_rforest = RandomForestClassifier(random_state= 10, max_features=\"log2\", oob_score= True)\n",
        "clf_rforest.fit(x_train, y_train)"
      ],
      "execution_count": 21,
      "outputs": [
        {
          "output_type": "execute_result",
          "data": {
            "text/plain": [
              "RandomForestClassifier(bootstrap=True, ccp_alpha=0.0, class_weight=None,\n",
              "                       criterion='gini', max_depth=None, max_features='log2',\n",
              "                       max_leaf_nodes=None, max_samples=None,\n",
              "                       min_impurity_decrease=0.0, min_impurity_split=None,\n",
              "                       min_samples_leaf=1, min_samples_split=2,\n",
              "                       min_weight_fraction_leaf=0.0, n_estimators=100,\n",
              "                       n_jobs=None, oob_score=True, random_state=10, verbose=0,\n",
              "                       warm_start=False)"
            ]
          },
          "metadata": {
            "tags": []
          },
          "execution_count": 21
        }
      ]
    },
    {
      "cell_type": "code",
      "metadata": {
        "id": "Tjswb5ALIy1-",
        "colab": {
          "base_uri": "https://localhost:8080/",
          "height": 439
        },
        "outputId": "82df0572-c633-4215-d06c-cadaec9f9e35"
      },
      "source": [
        "x_train"
      ],
      "execution_count": 88,
      "outputs": [
        {
          "output_type": "execute_result",
          "data": {
            "text/html": [
              "<div>\n",
              "<style scoped>\n",
              "    .dataframe tbody tr th:only-of-type {\n",
              "        vertical-align: middle;\n",
              "    }\n",
              "\n",
              "    .dataframe tbody tr th {\n",
              "        vertical-align: top;\n",
              "    }\n",
              "\n",
              "    .dataframe thead th {\n",
              "        text-align: right;\n",
              "    }\n",
              "</style>\n",
              "<table border=\"1\" class=\"dataframe\">\n",
              "  <thead>\n",
              "    <tr style=\"text-align: right;\">\n",
              "      <th></th>\n",
              "      <th>Channel_Code_proc_0</th>\n",
              "      <th>Channel_Code_proc_1</th>\n",
              "      <th>Channel_Code_proc_2</th>\n",
              "      <th>Channel_Code_proc_3</th>\n",
              "      <th>Gender_proc_0</th>\n",
              "      <th>Gender_proc_1</th>\n",
              "      <th>Occupation_proc_0</th>\n",
              "      <th>Occupation_proc_1</th>\n",
              "      <th>Occupation_proc_2</th>\n",
              "      <th>Occupation_proc_3</th>\n",
              "      <th>Is_Active_proc_0</th>\n",
              "      <th>Is_Active_proc_1</th>\n",
              "      <th>Credit_Product_proc_0</th>\n",
              "      <th>Credit_Product_proc_1</th>\n",
              "      <th>Age_Binned_0</th>\n",
              "      <th>Age_Binned_1</th>\n",
              "      <th>Age_Binned_2</th>\n",
              "      <th>Age_box</th>\n",
              "      <th>Avg_Account_Balance_log</th>\n",
              "      <th>Vintage_max</th>\n",
              "    </tr>\n",
              "  </thead>\n",
              "  <tbody>\n",
              "    <tr>\n",
              "      <th>188708</th>\n",
              "      <td>0.0</td>\n",
              "      <td>0.0</td>\n",
              "      <td>1.0</td>\n",
              "      <td>0.0</td>\n",
              "      <td>1.0</td>\n",
              "      <td>0.0</td>\n",
              "      <td>1.0</td>\n",
              "      <td>0.0</td>\n",
              "      <td>0.0</td>\n",
              "      <td>0.0</td>\n",
              "      <td>1.0</td>\n",
              "      <td>0.0</td>\n",
              "      <td>1.0</td>\n",
              "      <td>0.0</td>\n",
              "      <td>0.0</td>\n",
              "      <td>1.0</td>\n",
              "      <td>0.0</td>\n",
              "      <td>2.382262</td>\n",
              "      <td>13.205711</td>\n",
              "      <td>0.869727</td>\n",
              "    </tr>\n",
              "    <tr>\n",
              "      <th>17007</th>\n",
              "      <td>0.0</td>\n",
              "      <td>1.0</td>\n",
              "      <td>0.0</td>\n",
              "      <td>0.0</td>\n",
              "      <td>0.0</td>\n",
              "      <td>1.0</td>\n",
              "      <td>1.0</td>\n",
              "      <td>0.0</td>\n",
              "      <td>0.0</td>\n",
              "      <td>0.0</td>\n",
              "      <td>0.0</td>\n",
              "      <td>1.0</td>\n",
              "      <td>1.0</td>\n",
              "      <td>0.0</td>\n",
              "      <td>0.0</td>\n",
              "      <td>1.0</td>\n",
              "      <td>0.0</td>\n",
              "      <td>2.428043</td>\n",
              "      <td>13.701104</td>\n",
              "      <td>0.798635</td>\n",
              "    </tr>\n",
              "    <tr>\n",
              "      <th>109929</th>\n",
              "      <td>0.0</td>\n",
              "      <td>0.0</td>\n",
              "      <td>1.0</td>\n",
              "      <td>0.0</td>\n",
              "      <td>1.0</td>\n",
              "      <td>0.0</td>\n",
              "      <td>0.0</td>\n",
              "      <td>1.0</td>\n",
              "      <td>0.0</td>\n",
              "      <td>0.0</td>\n",
              "      <td>1.0</td>\n",
              "      <td>0.0</td>\n",
              "      <td>1.0</td>\n",
              "      <td>0.0</td>\n",
              "      <td>0.0</td>\n",
              "      <td>0.0</td>\n",
              "      <td>1.0</td>\n",
              "      <td>2.571627</td>\n",
              "      <td>13.966871</td>\n",
              "      <td>0.847988</td>\n",
              "    </tr>\n",
              "    <tr>\n",
              "      <th>81455</th>\n",
              "      <td>1.0</td>\n",
              "      <td>0.0</td>\n",
              "      <td>0.0</td>\n",
              "      <td>0.0</td>\n",
              "      <td>1.0</td>\n",
              "      <td>0.0</td>\n",
              "      <td>0.0</td>\n",
              "      <td>1.0</td>\n",
              "      <td>0.0</td>\n",
              "      <td>0.0</td>\n",
              "      <td>1.0</td>\n",
              "      <td>0.0</td>\n",
              "      <td>1.0</td>\n",
              "      <td>0.0</td>\n",
              "      <td>0.0</td>\n",
              "      <td>0.0</td>\n",
              "      <td>1.0</td>\n",
              "      <td>2.559092</td>\n",
              "      <td>14.357853</td>\n",
              "      <td>0.261663</td>\n",
              "    </tr>\n",
              "    <tr>\n",
              "      <th>77866</th>\n",
              "      <td>1.0</td>\n",
              "      <td>0.0</td>\n",
              "      <td>0.0</td>\n",
              "      <td>0.0</td>\n",
              "      <td>0.0</td>\n",
              "      <td>1.0</td>\n",
              "      <td>0.0</td>\n",
              "      <td>1.0</td>\n",
              "      <td>0.0</td>\n",
              "      <td>0.0</td>\n",
              "      <td>0.0</td>\n",
              "      <td>1.0</td>\n",
              "      <td>1.0</td>\n",
              "      <td>0.0</td>\n",
              "      <td>1.0</td>\n",
              "      <td>0.0</td>\n",
              "      <td>0.0</td>\n",
              "      <td>2.159984</td>\n",
              "      <td>14.214079</td>\n",
              "      <td>0.406457</td>\n",
              "    </tr>\n",
              "    <tr>\n",
              "      <th>...</th>\n",
              "      <td>...</td>\n",
              "      <td>...</td>\n",
              "      <td>...</td>\n",
              "      <td>...</td>\n",
              "      <td>...</td>\n",
              "      <td>...</td>\n",
              "      <td>...</td>\n",
              "      <td>...</td>\n",
              "      <td>...</td>\n",
              "      <td>...</td>\n",
              "      <td>...</td>\n",
              "      <td>...</td>\n",
              "      <td>...</td>\n",
              "      <td>...</td>\n",
              "      <td>...</td>\n",
              "      <td>...</td>\n",
              "      <td>...</td>\n",
              "      <td>...</td>\n",
              "      <td>...</td>\n",
              "      <td>...</td>\n",
              "    </tr>\n",
              "    <tr>\n",
              "      <th>130365</th>\n",
              "      <td>0.0</td>\n",
              "      <td>0.0</td>\n",
              "      <td>1.0</td>\n",
              "      <td>0.0</td>\n",
              "      <td>0.0</td>\n",
              "      <td>1.0</td>\n",
              "      <td>0.0</td>\n",
              "      <td>1.0</td>\n",
              "      <td>0.0</td>\n",
              "      <td>0.0</td>\n",
              "      <td>0.0</td>\n",
              "      <td>1.0</td>\n",
              "      <td>1.0</td>\n",
              "      <td>0.0</td>\n",
              "      <td>0.0</td>\n",
              "      <td>0.0</td>\n",
              "      <td>1.0</td>\n",
              "      <td>2.531975</td>\n",
              "      <td>14.528371</td>\n",
              "      <td>0.889875</td>\n",
              "    </tr>\n",
              "    <tr>\n",
              "      <th>92303</th>\n",
              "      <td>1.0</td>\n",
              "      <td>0.0</td>\n",
              "      <td>0.0</td>\n",
              "      <td>0.0</td>\n",
              "      <td>0.0</td>\n",
              "      <td>1.0</td>\n",
              "      <td>0.0</td>\n",
              "      <td>0.0</td>\n",
              "      <td>1.0</td>\n",
              "      <td>0.0</td>\n",
              "      <td>0.0</td>\n",
              "      <td>1.0</td>\n",
              "      <td>1.0</td>\n",
              "      <td>0.0</td>\n",
              "      <td>1.0</td>\n",
              "      <td>0.0</td>\n",
              "      <td>0.0</td>\n",
              "      <td>2.285033</td>\n",
              "      <td>13.679998</td>\n",
              "      <td>0.389346</td>\n",
              "    </tr>\n",
              "    <tr>\n",
              "      <th>6618</th>\n",
              "      <td>1.0</td>\n",
              "      <td>0.0</td>\n",
              "      <td>0.0</td>\n",
              "      <td>0.0</td>\n",
              "      <td>1.0</td>\n",
              "      <td>0.0</td>\n",
              "      <td>0.0</td>\n",
              "      <td>1.0</td>\n",
              "      <td>0.0</td>\n",
              "      <td>0.0</td>\n",
              "      <td>0.0</td>\n",
              "      <td>1.0</td>\n",
              "      <td>1.0</td>\n",
              "      <td>0.0</td>\n",
              "      <td>1.0</td>\n",
              "      <td>0.0</td>\n",
              "      <td>0.0</td>\n",
              "      <td>2.207271</td>\n",
              "      <td>13.986131</td>\n",
              "      <td>0.480377</td>\n",
              "    </tr>\n",
              "    <tr>\n",
              "      <th>90430</th>\n",
              "      <td>0.0</td>\n",
              "      <td>1.0</td>\n",
              "      <td>0.0</td>\n",
              "      <td>0.0</td>\n",
              "      <td>0.0</td>\n",
              "      <td>1.0</td>\n",
              "      <td>0.0</td>\n",
              "      <td>0.0</td>\n",
              "      <td>1.0</td>\n",
              "      <td>0.0</td>\n",
              "      <td>0.0</td>\n",
              "      <td>1.0</td>\n",
              "      <td>1.0</td>\n",
              "      <td>0.0</td>\n",
              "      <td>0.0</td>\n",
              "      <td>1.0</td>\n",
              "      <td>0.0</td>\n",
              "      <td>2.428043</td>\n",
              "      <td>14.315680</td>\n",
              "      <td>0.727458</td>\n",
              "    </tr>\n",
              "    <tr>\n",
              "      <th>29828</th>\n",
              "      <td>1.0</td>\n",
              "      <td>0.0</td>\n",
              "      <td>0.0</td>\n",
              "      <td>0.0</td>\n",
              "      <td>0.0</td>\n",
              "      <td>1.0</td>\n",
              "      <td>0.0</td>\n",
              "      <td>0.0</td>\n",
              "      <td>1.0</td>\n",
              "      <td>0.0</td>\n",
              "      <td>1.0</td>\n",
              "      <td>0.0</td>\n",
              "      <td>1.0</td>\n",
              "      <td>0.0</td>\n",
              "      <td>1.0</td>\n",
              "      <td>0.0</td>\n",
              "      <td>0.0</td>\n",
              "      <td>2.248539</td>\n",
              "      <td>14.085102</td>\n",
              "      <td>0.466921</td>\n",
              "    </tr>\n",
              "  </tbody>\n",
              "</table>\n",
              "<p>184293 rows × 20 columns</p>\n",
              "</div>"
            ],
            "text/plain": [
              "        Channel_Code_proc_0  ...  Vintage_max\n",
              "188708                  0.0  ...     0.869727\n",
              "17007                   0.0  ...     0.798635\n",
              "109929                  0.0  ...     0.847988\n",
              "81455                   1.0  ...     0.261663\n",
              "77866                   1.0  ...     0.406457\n",
              "...                     ...  ...          ...\n",
              "130365                  0.0  ...     0.889875\n",
              "92303                   1.0  ...     0.389346\n",
              "6618                    1.0  ...     0.480377\n",
              "90430                   0.0  ...     0.727458\n",
              "29828                   1.0  ...     0.466921\n",
              "\n",
              "[184293 rows x 20 columns]"
            ]
          },
          "metadata": {
            "tags": []
          },
          "execution_count": 88
        }
      ]
    },
    {
      "cell_type": "code",
      "metadata": {
        "id": "8DoGHIrjPfD2",
        "colab": {
          "base_uri": "https://localhost:8080/"
        },
        "outputId": "18535868-9bf1-4278-a575-810e517e1ce6"
      },
      "source": [
        "# %%\n",
        "# getting important features\n",
        "feature_list = x_train.columns\n",
        "imp_feature = {}\n",
        "for feat_name, weight in zip(feature_list, clf_rforest.feature_importances_):\n",
        "    imp_feature[feat_name] = weight\n",
        "\n",
        "\n",
        "for key in imp_feature:\n",
        "    value = round(imp_feature[key],3)*100\n",
        "    print(f'{key} : {value} %')"
      ],
      "execution_count": 89,
      "outputs": [
        {
          "output_type": "stream",
          "text": [
            "Channel_Code_proc_0 : 2.9000000000000004 %\n",
            "Channel_Code_proc_1 : 0.7000000000000001 %\n",
            "Channel_Code_proc_2 : 0.8999999999999999 %\n",
            "Channel_Code_proc_3 : 0.1 %\n",
            "Gender_proc_0 : 0.4 %\n",
            "Gender_proc_1 : 0.4 %\n",
            "Occupation_proc_0 : 0.8 %\n",
            "Occupation_proc_1 : 0.8999999999999999 %\n",
            "Occupation_proc_2 : 2.8000000000000003 %\n",
            "Occupation_proc_3 : 0.5 %\n",
            "Is_Active_proc_0 : 0.7000000000000001 %\n",
            "Is_Active_proc_1 : 0.7000000000000001 %\n",
            "Credit_Product_proc_0 : 0.6 %\n",
            "Credit_Product_proc_1 : 0.5 %\n",
            "Age_Binned_0 : 1.3 %\n",
            "Age_Binned_1 : 1.0 %\n",
            "Age_Binned_2 : 0.3 %\n",
            "Age_box : 18.0 %\n",
            "Avg_Account_Balance_log : 44.4 %\n",
            "Vintage_max : 22.3 %\n"
          ],
          "name": "stdout"
        }
      ]
    },
    {
      "cell_type": "code",
      "metadata": {
        "id": "czWQYu5LRMM7"
      },
      "source": [
        "y_hat_rforest = clf_rforest.predict(x_test)\n",
        "y_hat_rf_proba = clf_rforest.predict_proba(x_test)"
      ],
      "execution_count": 25,
      "outputs": []
    },
    {
      "cell_type": "code",
      "metadata": {
        "id": "ZCxrIe7VbPOa",
        "outputId": "f84cf12b-d1a5-4734-d767-26661a90353e",
        "colab": {
          "base_uri": "https://localhost:8080/",
          "height": 296
        }
      },
      "source": [
        "plot_confusion_matrix(clf_rforest,X=x_test, y_true=y_test, values_format= '.3f')\n",
        "# plot_roc_curve(Classifier, X=X_Test, y=labels)"
      ],
      "execution_count": 30,
      "outputs": [
        {
          "output_type": "execute_result",
          "data": {
            "text/plain": [
              "<sklearn.metrics._plot.confusion_matrix.ConfusionMatrixDisplay at 0x7f3748ed42d0>"
            ]
          },
          "metadata": {
            "tags": []
          },
          "execution_count": 30
        },
        {
          "output_type": "display_data",
          "data": {
            "image/png": "[encoded data removed]",
            "text/plain": [
              "<Figure size 432x288 with 2 Axes>"
            ]
          },
          "metadata": {
            "tags": [],
            "needs_background": "light"
          }
        }
      ]
    },
    {
      "cell_type": "code",
      "metadata": {
        "id": "YrupeNDNdF8D"
      },
      "source": [
        "x_test_check['True'] = y_test\n",
        "x_test_check['Pred'] = y_hat_rforest"
      ],
      "execution_count": 90,
      "outputs": []
    },
    {
      "cell_type": "code",
      "metadata": {
        "id": "9qpR97PUdR5O",
        "outputId": "21856028-11e5-4388-8ace-642ed1235c83",
        "colab": {
          "base_uri": "https://localhost:8080/",
          "height": 439
        }
      },
      "source": [
        "x_test_check.loc[x_test_check['True']!=x_test_check['Pred']]"
      ],
      "execution_count": 91,
      "outputs": [
        {
          "output_type": "execute_result",
          "data": {
            "text/html": [
              "<div>\n",
              "<style scoped>\n",
              "    .dataframe tbody tr th:only-of-type {\n",
              "        vertical-align: middle;\n",
              "    }\n",
              "\n",
              "    .dataframe tbody tr th {\n",
              "        vertical-align: top;\n",
              "    }\n",
              "\n",
              "    .dataframe thead th {\n",
              "        text-align: right;\n",
              "    }\n",
              "</style>\n",
              "<table border=\"1\" class=\"dataframe\">\n",
              "  <thead>\n",
              "    <tr style=\"text-align: right;\">\n",
              "      <th></th>\n",
              "      <th>Gender</th>\n",
              "      <th>Age</th>\n",
              "      <th>Region_Code</th>\n",
              "      <th>Occupation</th>\n",
              "      <th>Channel_Code</th>\n",
              "      <th>Vintage</th>\n",
              "      <th>Credit_Product</th>\n",
              "      <th>Avg_Account_Balance</th>\n",
              "      <th>Is_Active</th>\n",
              "      <th>True</th>\n",
              "      <th>Pred</th>\n",
              "    </tr>\n",
              "  </thead>\n",
              "  <tbody>\n",
              "    <tr>\n",
              "      <th>193655</th>\n",
              "      <td>Male</td>\n",
              "      <td>58</td>\n",
              "      <td>RG264</td>\n",
              "      <td>Self_Employed</td>\n",
              "      <td>X2</td>\n",
              "      <td>85</td>\n",
              "      <td>Yes</td>\n",
              "      <td>1407285</td>\n",
              "      <td>No</td>\n",
              "      <td>0</td>\n",
              "      <td>1</td>\n",
              "    </tr>\n",
              "    <tr>\n",
              "      <th>195952</th>\n",
              "      <td>Male</td>\n",
              "      <td>67</td>\n",
              "      <td>RG283</td>\n",
              "      <td>Other</td>\n",
              "      <td>X3</td>\n",
              "      <td>38</td>\n",
              "      <td>NaN</td>\n",
              "      <td>1126028</td>\n",
              "      <td>Yes</td>\n",
              "      <td>1</td>\n",
              "      <td>0</td>\n",
              "    </tr>\n",
              "    <tr>\n",
              "      <th>9277</th>\n",
              "      <td>Male</td>\n",
              "      <td>75</td>\n",
              "      <td>RG268</td>\n",
              "      <td>Other</td>\n",
              "      <td>X3</td>\n",
              "      <td>86</td>\n",
              "      <td>Yes</td>\n",
              "      <td>361749</td>\n",
              "      <td>No</td>\n",
              "      <td>0</td>\n",
              "      <td>1</td>\n",
              "    </tr>\n",
              "    <tr>\n",
              "      <th>218985</th>\n",
              "      <td>Female</td>\n",
              "      <td>60</td>\n",
              "      <td>RG283</td>\n",
              "      <td>Other</td>\n",
              "      <td>X3</td>\n",
              "      <td>98</td>\n",
              "      <td>NaN</td>\n",
              "      <td>1377889</td>\n",
              "      <td>No</td>\n",
              "      <td>0</td>\n",
              "      <td>1</td>\n",
              "    </tr>\n",
              "    <tr>\n",
              "      <th>22306</th>\n",
              "      <td>Male</td>\n",
              "      <td>50</td>\n",
              "      <td>RG277</td>\n",
              "      <td>Entrepreneur</td>\n",
              "      <td>X4</td>\n",
              "      <td>13</td>\n",
              "      <td>Yes</td>\n",
              "      <td>862935</td>\n",
              "      <td>No</td>\n",
              "      <td>1</td>\n",
              "      <td>0</td>\n",
              "    </tr>\n",
              "    <tr>\n",
              "      <th>...</th>\n",
              "      <td>...</td>\n",
              "      <td>...</td>\n",
              "      <td>...</td>\n",
              "      <td>...</td>\n",
              "      <td>...</td>\n",
              "      <td>...</td>\n",
              "      <td>...</td>\n",
              "      <td>...</td>\n",
              "      <td>...</td>\n",
              "      <td>...</td>\n",
              "      <td>...</td>\n",
              "    </tr>\n",
              "    <tr>\n",
              "      <th>96844</th>\n",
              "      <td>Male</td>\n",
              "      <td>54</td>\n",
              "      <td>RG283</td>\n",
              "      <td>Other</td>\n",
              "      <td>X3</td>\n",
              "      <td>75</td>\n",
              "      <td>Yes</td>\n",
              "      <td>786466</td>\n",
              "      <td>No</td>\n",
              "      <td>0</td>\n",
              "      <td>1</td>\n",
              "    </tr>\n",
              "    <tr>\n",
              "      <th>210902</th>\n",
              "      <td>Female</td>\n",
              "      <td>39</td>\n",
              "      <td>RG278</td>\n",
              "      <td>Self_Employed</td>\n",
              "      <td>X2</td>\n",
              "      <td>14</td>\n",
              "      <td>No</td>\n",
              "      <td>403810</td>\n",
              "      <td>Yes</td>\n",
              "      <td>1</td>\n",
              "      <td>0</td>\n",
              "    </tr>\n",
              "    <tr>\n",
              "      <th>195212</th>\n",
              "      <td>Male</td>\n",
              "      <td>57</td>\n",
              "      <td>RG280</td>\n",
              "      <td>Self_Employed</td>\n",
              "      <td>X2</td>\n",
              "      <td>91</td>\n",
              "      <td>NaN</td>\n",
              "      <td>486678</td>\n",
              "      <td>Yes</td>\n",
              "      <td>1</td>\n",
              "      <td>0</td>\n",
              "    </tr>\n",
              "    <tr>\n",
              "      <th>123152</th>\n",
              "      <td>Female</td>\n",
              "      <td>47</td>\n",
              "      <td>RG283</td>\n",
              "      <td>Self_Employed</td>\n",
              "      <td>X2</td>\n",
              "      <td>73</td>\n",
              "      <td>Yes</td>\n",
              "      <td>1275645</td>\n",
              "      <td>Yes</td>\n",
              "      <td>1</td>\n",
              "      <td>0</td>\n",
              "    </tr>\n",
              "    <tr>\n",
              "      <th>236899</th>\n",
              "      <td>Male</td>\n",
              "      <td>65</td>\n",
              "      <td>RG283</td>\n",
              "      <td>Other</td>\n",
              "      <td>X3</td>\n",
              "      <td>91</td>\n",
              "      <td>No</td>\n",
              "      <td>1914950</td>\n",
              "      <td>Yes</td>\n",
              "      <td>0</td>\n",
              "      <td>1</td>\n",
              "    </tr>\n",
              "  </tbody>\n",
              "</table>\n",
              "<p>14788 rows × 11 columns</p>\n",
              "</div>"
            ],
            "text/plain": [
              "        Gender  Age Region_Code  ... Is_Active True  Pred\n",
              "193655    Male   58       RG264  ...        No    0     1\n",
              "195952    Male   67       RG283  ...       Yes    1     0\n",
              "9277      Male   75       RG268  ...        No    0     1\n",
              "218985  Female   60       RG283  ...        No    0     1\n",
              "22306     Male   50       RG277  ...        No    1     0\n",
              "...        ...  ...         ...  ...       ...  ...   ...\n",
              "96844     Male   54       RG283  ...        No    0     1\n",
              "210902  Female   39       RG278  ...       Yes    1     0\n",
              "195212    Male   57       RG280  ...       Yes    1     0\n",
              "123152  Female   47       RG283  ...       Yes    1     0\n",
              "236899    Male   65       RG283  ...       Yes    0     1\n",
              "\n",
              "[14788 rows x 11 columns]"
            ]
          },
          "metadata": {
            "tags": []
          },
          "execution_count": 91
        }
      ]
    },
    {
      "cell_type": "code",
      "metadata": {
        "id": "tiNTGq4qreDe"
      },
      "source": [
        "# threshold = 0.45\n",
        "# predicted = (y_hat_rf_proba [:,1] >= threshold).astype('int')\n",
        "# metrics(predicted,clf_rforest)"
      ],
      "execution_count": 34,
      "outputs": []
    },
    {
      "cell_type": "code",
      "metadata": {
        "id": "IPSqyWEXS8h4",
        "colab": {
          "base_uri": "https://localhost:8080/",
          "height": 296
        },
        "outputId": "97d194a7-79ec-4310-ac67-94724298a1ed"
      },
      "source": [
        "plot_confusion_matrix(estimator= clf_rforest,X=x_test, y_true=y_test, values_format= '.3f')"
      ],
      "execution_count": null,
      "outputs": [
        {
          "output_type": "execute_result",
          "data": {
            "text/plain": [
              "<sklearn.metrics._plot.confusion_matrix.ConfusionMatrixDisplay at 0x7fc58dacf6d0>"
            ]
          },
          "metadata": {
            "tags": []
          },
          "execution_count": 176
        },
        {
          "output_type": "display_data",
          "data": {
            "image/png": "[encoded data removed]",
            "text/plain": [
              "<Figure size 432x288 with 2 Axes>"
            ]
          },
          "metadata": {
            "tags": [],
            "needs_background": "light"
          }
        }
      ]
    },
    {
      "cell_type": "code",
      "metadata": {
        "id": "NAG5fgiXUNtB",
        "colab": {
          "base_uri": "https://localhost:8080/"
        },
        "outputId": "a65a246f-d1a1-43c3-8e6f-25a726ce34df"
      },
      "source": [
        "roc_auc_score(y_true=y_test, y_score=y_hat_rf_proba[:,1])"
      ],
      "execution_count": 35,
      "outputs": [
        {
          "output_type": "execute_result",
          "data": {
            "text/plain": [
              "0.7303691495757472"
            ]
          },
          "metadata": {
            "tags": []
          },
          "execution_count": 35
        }
      ]
    },
    {
      "cell_type": "code",
      "metadata": {
        "id": "XKH0ycaoVLej",
        "colab": {
          "base_uri": "https://localhost:8080/",
          "height": 296
        },
        "outputId": "7c0c3843-8a98-4b0a-d6fb-ae120654f1ca"
      },
      "source": [
        "plot_roc_curve(clf_rforest, X=x_test, y=y_test)"
      ],
      "execution_count": 36,
      "outputs": [
        {
          "output_type": "execute_result",
          "data": {
            "text/plain": [
              "<sklearn.metrics._plot.roc_curve.RocCurveDisplay at 0x7f373e2bed90>"
            ]
          },
          "metadata": {
            "tags": []
          },
          "execution_count": 36
        },
        {
          "output_type": "display_data",
          "data": {
            "image/png": "[encoded data removed]",
            "text/plain": [
              "<Figure size 432x288 with 1 Axes>"
            ]
          },
          "metadata": {
            "tags": [],
            "needs_background": "light"
          }
        }
      ]
    },
    {
      "cell_type": "markdown",
      "metadata": {
        "id": "-kYkuW3nepGA"
      },
      "source": [
        "##XGBOOST"
      ]
    },
    {
      "cell_type": "code",
      "metadata": {
        "id": "MbjPiVzPeoDq",
        "outputId": "5a41d621-bb75-453d-cde7-235e35bb426d",
        "colab": {
          "base_uri": "https://localhost:8080/"
        }
      },
      "source": [
        "n_train = len(x_train)-1\n",
        "train = 1\n",
        "# (x_train[eval_ind:],y_train[eval_ind:])\n",
        "eval_ind = int(n_train*train)\n",
        "eval_set = [(x_train[0:eval_ind], y_train[0:eval_ind]),(x_test, y_test)]\n",
        "\n",
        "clf_xgb = XGBClassifier(max_depth = 6,\n",
        "                        n_estimators=100,                        \n",
        "                        learning_rate = 0.1,\n",
        "                        gamma = 0.1,\n",
        "                        random_state = 25)\n",
        "clf_xgb.fit(x_train,y_train,eval_set= eval_set,eval_metric=['auc','error'])\n",
        "y_hat_xgb = clf_xgb.predict(x_test)"
      ],
      "execution_count": 174,
      "outputs": [
        {
          "output_type": "stream",
          "text": [
            "[0]\tvalidation_0-auc:0.775441\tvalidation_0-error:0.213276\tvalidation_1-auc:0.771636\tvalidation_1-error:0.213488\n",
            "[1]\tvalidation_0-auc:0.775508\tvalidation_0-error:0.213276\tvalidation_1-auc:0.771687\tvalidation_1-error:0.213488\n",
            "[2]\tvalidation_0-auc:0.7755\tvalidation_0-error:0.213276\tvalidation_1-auc:0.771685\tvalidation_1-error:0.213488\n",
            "[3]\tvalidation_0-auc:0.775506\tvalidation_0-error:0.213287\tvalidation_1-auc:0.771703\tvalidation_1-error:0.213456\n",
            "[4]\tvalidation_0-auc:0.775505\tvalidation_0-error:0.213287\tvalidation_1-auc:0.771702\tvalidation_1-error:0.213456\n",
            "[5]\tvalidation_0-auc:0.775673\tvalidation_0-error:0.213276\tvalidation_1-auc:0.771831\tvalidation_1-error:0.213456\n",
            "[6]\tvalidation_0-auc:0.776567\tvalidation_0-error:0.210964\tvalidation_1-auc:0.771898\tvalidation_1-error:0.211632\n",
            "[7]\tvalidation_0-auc:0.776645\tvalidation_0-error:0.213938\tvalidation_1-auc:0.771852\tvalidation_1-error:0.213846\n",
            "[8]\tvalidation_0-auc:0.776768\tvalidation_0-error:0.213943\tvalidation_1-auc:0.771698\tvalidation_1-error:0.213846\n",
            "[9]\tvalidation_0-auc:0.776722\tvalidation_0-error:0.213943\tvalidation_1-auc:0.77158\tvalidation_1-error:0.213846\n",
            "[10]\tvalidation_0-auc:0.776844\tvalidation_0-error:0.213932\tvalidation_1-auc:0.771666\tvalidation_1-error:0.213846\n",
            "[11]\tvalidation_0-auc:0.776918\tvalidation_0-error:0.213938\tvalidation_1-auc:0.771731\tvalidation_1-error:0.213846\n",
            "[12]\tvalidation_0-auc:0.777051\tvalidation_0-error:0.21359\tvalidation_1-auc:0.772146\tvalidation_1-error:0.213537\n",
            "[13]\tvalidation_0-auc:0.777198\tvalidation_0-error:0.21359\tvalidation_1-auc:0.772183\tvalidation_1-error:0.213504\n",
            "[14]\tvalidation_0-auc:0.777284\tvalidation_0-error:0.213531\tvalidation_1-auc:0.772019\tvalidation_1-error:0.213456\n",
            "[15]\tvalidation_0-auc:0.777387\tvalidation_0-error:0.213531\tvalidation_1-auc:0.77208\tvalidation_1-error:0.213456\n",
            "[16]\tvalidation_0-auc:0.777246\tvalidation_0-error:0.213525\tvalidation_1-auc:0.772064\tvalidation_1-error:0.213407\n",
            "[17]\tvalidation_0-auc:0.777216\tvalidation_0-error:0.213525\tvalidation_1-auc:0.772002\tvalidation_1-error:0.213439\n",
            "[18]\tvalidation_0-auc:0.777853\tvalidation_0-error:0.21352\tvalidation_1-auc:0.772485\tvalidation_1-error:0.213439\n",
            "[19]\tvalidation_0-auc:0.777811\tvalidation_0-error:0.213504\tvalidation_1-auc:0.772655\tvalidation_1-error:0.21339\n",
            "[20]\tvalidation_0-auc:0.777869\tvalidation_0-error:0.213509\tvalidation_1-auc:0.772814\tvalidation_1-error:0.21339\n",
            "[21]\tvalidation_0-auc:0.777916\tvalidation_0-error:0.213504\tvalidation_1-auc:0.772948\tvalidation_1-error:0.21339\n",
            "[22]\tvalidation_0-auc:0.777999\tvalidation_0-error:0.213411\tvalidation_1-auc:0.77274\tvalidation_1-error:0.213342\n",
            "[23]\tvalidation_0-auc:0.777996\tvalidation_0-error:0.213411\tvalidation_1-auc:0.772659\tvalidation_1-error:0.213342\n",
            "[24]\tvalidation_0-auc:0.777754\tvalidation_0-error:0.213406\tvalidation_1-auc:0.772379\tvalidation_1-error:0.213293\n",
            "[25]\tvalidation_0-auc:0.777809\tvalidation_0-error:0.213346\tvalidation_1-auc:0.772474\tvalidation_1-error:0.213244\n",
            "[26]\tvalidation_0-auc:0.778226\tvalidation_0-error:0.213194\tvalidation_1-auc:0.773027\tvalidation_1-error:0.213016\n",
            "[27]\tvalidation_0-auc:0.778282\tvalidation_0-error:0.2132\tvalidation_1-auc:0.772964\tvalidation_1-error:0.213016\n",
            "[28]\tvalidation_0-auc:0.778427\tvalidation_0-error:0.213145\tvalidation_1-auc:0.772956\tvalidation_1-error:0.212967\n",
            "[29]\tvalidation_0-auc:0.778519\tvalidation_0-error:0.213037\tvalidation_1-auc:0.773028\tvalidation_1-error:0.213016\n",
            "[30]\tvalidation_0-auc:0.77925\tvalidation_0-error:0.213135\tvalidation_1-auc:0.773784\tvalidation_1-error:0.212967\n",
            "[31]\tvalidation_0-auc:0.77939\tvalidation_0-error:0.213032\tvalidation_1-auc:0.773906\tvalidation_1-error:0.213\n",
            "[32]\tvalidation_0-auc:0.779579\tvalidation_0-error:0.212988\tvalidation_1-auc:0.773909\tvalidation_1-error:0.213016\n",
            "[33]\tvalidation_0-auc:0.779889\tvalidation_0-error:0.212961\tvalidation_1-auc:0.774214\tvalidation_1-error:0.213\n",
            "[34]\tvalidation_0-auc:0.780422\tvalidation_0-error:0.212738\tvalidation_1-auc:0.77436\tvalidation_1-error:0.212837\n",
            "[35]\tvalidation_0-auc:0.780656\tvalidation_0-error:0.212744\tvalidation_1-auc:0.774541\tvalidation_1-error:0.212837\n",
            "[36]\tvalidation_0-auc:0.781001\tvalidation_0-error:0.212738\tvalidation_1-auc:0.774719\tvalidation_1-error:0.212853\n",
            "[37]\tvalidation_0-auc:0.781209\tvalidation_0-error:0.212695\tvalidation_1-auc:0.77481\tvalidation_1-error:0.212821\n",
            "[38]\tvalidation_0-auc:0.781395\tvalidation_0-error:0.212706\tvalidation_1-auc:0.775027\tvalidation_1-error:0.212837\n",
            "[39]\tvalidation_0-auc:0.781679\tvalidation_0-error:0.212131\tvalidation_1-auc:0.775141\tvalidation_1-error:0.212723\n",
            "[40]\tvalidation_0-auc:0.782008\tvalidation_0-error:0.211838\tvalidation_1-auc:0.775272\tvalidation_1-error:0.212511\n",
            "[41]\tvalidation_0-auc:0.782224\tvalidation_0-error:0.211724\tvalidation_1-auc:0.775365\tvalidation_1-error:0.212446\n",
            "[42]\tvalidation_0-auc:0.782436\tvalidation_0-error:0.211729\tvalidation_1-auc:0.775491\tvalidation_1-error:0.212446\n",
            "[43]\tvalidation_0-auc:0.782653\tvalidation_0-error:0.211664\tvalidation_1-auc:0.775787\tvalidation_1-error:0.212577\n",
            "[44]\tvalidation_0-auc:0.782782\tvalidation_0-error:0.211664\tvalidation_1-auc:0.775865\tvalidation_1-error:0.212609\n",
            "[45]\tvalidation_0-auc:0.783043\tvalidation_0-error:0.210856\tvalidation_1-auc:0.776002\tvalidation_1-error:0.211925\n",
            "[46]\tvalidation_0-auc:0.783136\tvalidation_0-error:0.210861\tvalidation_1-auc:0.776155\tvalidation_1-error:0.211942\n",
            "[47]\tvalidation_0-auc:0.783244\tvalidation_0-error:0.210839\tvalidation_1-auc:0.776307\tvalidation_1-error:0.211909\n",
            "[48]\tvalidation_0-auc:0.783383\tvalidation_0-error:0.210823\tvalidation_1-auc:0.77637\tvalidation_1-error:0.211779\n",
            "[49]\tvalidation_0-auc:0.783587\tvalidation_0-error:0.210677\tvalidation_1-auc:0.776464\tvalidation_1-error:0.211746\n",
            "[50]\tvalidation_0-auc:0.783687\tvalidation_0-error:0.210682\tvalidation_1-auc:0.776468\tvalidation_1-error:0.211746\n",
            "[51]\tvalidation_0-auc:0.783716\tvalidation_0-error:0.210432\tvalidation_1-auc:0.776479\tvalidation_1-error:0.211421\n",
            "[52]\tvalidation_0-auc:0.78376\tvalidation_0-error:0.210454\tvalidation_1-auc:0.776533\tvalidation_1-error:0.211388\n",
            "[53]\tvalidation_0-auc:0.783774\tvalidation_0-error:0.210416\tvalidation_1-auc:0.776526\tvalidation_1-error:0.211404\n",
            "[54]\tvalidation_0-auc:0.783848\tvalidation_0-error:0.2104\tvalidation_1-auc:0.776637\tvalidation_1-error:0.211453\n",
            "[55]\tvalidation_0-auc:0.783907\tvalidation_0-error:0.210286\tvalidation_1-auc:0.776648\tvalidation_1-error:0.21147\n",
            "[56]\tvalidation_0-auc:0.78395\tvalidation_0-error:0.210112\tvalidation_1-auc:0.776687\tvalidation_1-error:0.211502\n",
            "[57]\tvalidation_0-auc:0.783979\tvalidation_0-error:0.210145\tvalidation_1-auc:0.776714\tvalidation_1-error:0.211502\n",
            "[58]\tvalidation_0-auc:0.78426\tvalidation_0-error:0.210101\tvalidation_1-auc:0.776951\tvalidation_1-error:0.211486\n",
            "[59]\tvalidation_0-auc:0.784547\tvalidation_0-error:0.210139\tvalidation_1-auc:0.777236\tvalidation_1-error:0.211502\n",
            "[60]\tvalidation_0-auc:0.784885\tvalidation_0-error:0.210134\tvalidation_1-auc:0.777289\tvalidation_1-error:0.211502\n",
            "[61]\tvalidation_0-auc:0.784952\tvalidation_0-error:0.210118\tvalidation_1-auc:0.777192\tvalidation_1-error:0.211502\n",
            "[62]\tvalidation_0-auc:0.785075\tvalidation_0-error:0.210063\tvalidation_1-auc:0.777204\tvalidation_1-error:0.211437\n",
            "[63]\tvalidation_0-auc:0.785387\tvalidation_0-error:0.210085\tvalidation_1-auc:0.7773\tvalidation_1-error:0.211453\n",
            "[64]\tvalidation_0-auc:0.785607\tvalidation_0-error:0.209977\tvalidation_1-auc:0.77752\tvalidation_1-error:0.211372\n",
            "[65]\tvalidation_0-auc:0.785677\tvalidation_0-error:0.209977\tvalidation_1-auc:0.777482\tvalidation_1-error:0.211372\n",
            "[66]\tvalidation_0-auc:0.785778\tvalidation_0-error:0.209949\tvalidation_1-auc:0.777518\tvalidation_1-error:0.211388\n",
            "[67]\tvalidation_0-auc:0.785974\tvalidation_0-error:0.209955\tvalidation_1-auc:0.777686\tvalidation_1-error:0.211372\n",
            "[68]\tvalidation_0-auc:0.786033\tvalidation_0-error:0.209977\tvalidation_1-auc:0.777699\tvalidation_1-error:0.211323\n",
            "[69]\tvalidation_0-auc:0.786144\tvalidation_0-error:0.209949\tvalidation_1-auc:0.777784\tvalidation_1-error:0.211404\n",
            "[70]\tvalidation_0-auc:0.786232\tvalidation_0-error:0.209922\tvalidation_1-auc:0.77779\tvalidation_1-error:0.211274\n",
            "[71]\tvalidation_0-auc:0.786364\tvalidation_0-error:0.209879\tvalidation_1-auc:0.777836\tvalidation_1-error:0.211291\n",
            "[72]\tvalidation_0-auc:0.786384\tvalidation_0-error:0.209901\tvalidation_1-auc:0.777803\tvalidation_1-error:0.21116\n",
            "[73]\tvalidation_0-auc:0.786503\tvalidation_0-error:0.209819\tvalidation_1-auc:0.777902\tvalidation_1-error:0.211144\n",
            "[74]\tvalidation_0-auc:0.786519\tvalidation_0-error:0.208468\tvalidation_1-auc:0.777799\tvalidation_1-error:0.210412\n",
            "[75]\tvalidation_0-auc:0.786569\tvalidation_0-error:0.208615\tvalidation_1-auc:0.777768\tvalidation_1-error:0.210298\n",
            "[76]\tvalidation_0-auc:0.78666\tvalidation_0-error:0.208566\tvalidation_1-auc:0.777829\tvalidation_1-error:0.210167\n",
            "[77]\tvalidation_0-auc:0.786696\tvalidation_0-error:0.208408\tvalidation_1-auc:0.777785\tvalidation_1-error:0.210265\n",
            "[78]\tvalidation_0-auc:0.78674\tvalidation_0-error:0.20837\tvalidation_1-auc:0.777849\tvalidation_1-error:0.210298\n",
            "[79]\tvalidation_0-auc:0.786773\tvalidation_0-error:0.208349\tvalidation_1-auc:0.777837\tvalidation_1-error:0.210281\n",
            "[80]\tvalidation_0-auc:0.786881\tvalidation_0-error:0.208191\tvalidation_1-auc:0.777853\tvalidation_1-error:0.210119\n",
            "[81]\tvalidation_0-auc:0.786951\tvalidation_0-error:0.208181\tvalidation_1-auc:0.77791\tvalidation_1-error:0.210151\n",
            "[82]\tvalidation_0-auc:0.787011\tvalidation_0-error:0.20817\tvalidation_1-auc:0.77789\tvalidation_1-error:0.209858\n",
            "[83]\tvalidation_0-auc:0.787077\tvalidation_0-error:0.208105\tvalidation_1-auc:0.777974\tvalidation_1-error:0.209744\n",
            "[84]\tvalidation_0-auc:0.787102\tvalidation_0-error:0.207866\tvalidation_1-auc:0.777976\tvalidation_1-error:0.209598\n",
            "[85]\tvalidation_0-auc:0.787161\tvalidation_0-error:0.207795\tvalidation_1-auc:0.777957\tvalidation_1-error:0.209565\n",
            "[86]\tvalidation_0-auc:0.787292\tvalidation_0-error:0.207812\tvalidation_1-auc:0.778086\tvalidation_1-error:0.2095\n",
            "[87]\tvalidation_0-auc:0.787336\tvalidation_0-error:0.207757\tvalidation_1-auc:0.778059\tvalidation_1-error:0.209484\n",
            "[88]\tvalidation_0-auc:0.787396\tvalidation_0-error:0.207763\tvalidation_1-auc:0.778068\tvalidation_1-error:0.209337\n",
            "[89]\tvalidation_0-auc:0.787447\tvalidation_0-error:0.207698\tvalidation_1-auc:0.778137\tvalidation_1-error:0.209419\n",
            "[90]\tvalidation_0-auc:0.787487\tvalidation_0-error:0.207774\tvalidation_1-auc:0.778118\tvalidation_1-error:0.209386\n",
            "[91]\tvalidation_0-auc:0.787567\tvalidation_0-error:0.207774\tvalidation_1-auc:0.778183\tvalidation_1-error:0.209305\n",
            "[92]\tvalidation_0-auc:0.78758\tvalidation_0-error:0.207665\tvalidation_1-auc:0.778119\tvalidation_1-error:0.209532\n",
            "[93]\tvalidation_0-auc:0.787612\tvalidation_0-error:0.207703\tvalidation_1-auc:0.778073\tvalidation_1-error:0.210412\n",
            "[94]\tvalidation_0-auc:0.787689\tvalidation_0-error:0.207627\tvalidation_1-auc:0.77813\tvalidation_1-error:0.209728\n",
            "[95]\tvalidation_0-auc:0.787905\tvalidation_0-error:0.207698\tvalidation_1-auc:0.778313\tvalidation_1-error:0.209565\n",
            "[96]\tvalidation_0-auc:0.788011\tvalidation_0-error:0.207676\tvalidation_1-auc:0.778439\tvalidation_1-error:0.209663\n",
            "[97]\tvalidation_0-auc:0.788212\tvalidation_0-error:0.207627\tvalidation_1-auc:0.778646\tvalidation_1-error:0.209516\n",
            "[98]\tvalidation_0-auc:0.78828\tvalidation_0-error:0.20703\tvalidation_1-auc:0.778649\tvalidation_1-error:0.209956\n",
            "[99]\tvalidation_0-auc:0.788344\tvalidation_0-error:0.207019\tvalidation_1-auc:0.778674\tvalidation_1-error:0.209907\n"
          ],
          "name": "stdout"
        }
      ]
    },
    {
      "cell_type": "code",
      "metadata": {
        "id": "5R8uS-BZKklD",
        "outputId": "b7154f2a-e85e-4aa1-f31f-d37a6159aa81",
        "colab": {
          "base_uri": "https://localhost:8080/",
          "height": 281
        }
      },
      "source": [
        "results = clf_xgb.evals_result()\n",
        "epochs = len(results['validation_0']['error'])\n",
        "x_axis = range(0, epochs)\n",
        "fig, ax = plt.subplots()\n",
        "\n",
        "ax.plot(x_axis, results['validation_0']['auc'], label='Train')\n",
        "ax.plot(x_axis, results['validation_1']['auc'], label='Test')\n",
        "ax.legend()\n",
        "plt.ylabel('AUC')\n",
        "plt.title('XGBoost AUC')\n",
        "plt.show()"
      ],
      "execution_count": 175,
      "outputs": [
        {
          "output_type": "display_data",
          "data": {
            "image/png": "[encoded data removed]",
            "text/plain": [
              "<Figure size 432x288 with 1 Axes>"
            ]
          },
          "metadata": {
            "tags": [],
            "needs_background": "light"
          }
        }
      ]
    },
    {
      "cell_type": "code",
      "metadata": {
        "id": "DpcRXT8Ob3tI",
        "outputId": "69ab41b2-a2a0-4a8d-d40d-8d111078adfd",
        "colab": {
          "base_uri": "https://localhost:8080/",
          "height": 78
        }
      },
      "source": [
        "fig, ax = plt.subplots(figsize=(60, 30))\n",
        "plot_tree(clf_xgb, num_trees=1, ax = ax)\n",
        "plt.savefig('1.png')"
      ],
      "execution_count": 185,
      "outputs": [
        {
          "output_type": "display_data",
          "data": {
            "image/png": "[encoded data removed]",
            "text/plain": [
              "<Figure size 4320x2160 with 1 Axes>"
            ]
          },
          "metadata": {
            "tags": [],
            "needs_background": "light"
          }
        }
      ]
    },
    {
      "cell_type": "code",
      "metadata": {
        "id": "SLb1kmFIuLh6",
        "outputId": "32ae277b-9663-48cc-89eb-14a7dbe13017",
        "colab": {
          "base_uri": "https://localhost:8080/",
          "height": 595
        }
      },
      "source": [
        "metrics(y_hat_xgb,clf_xgb)"
      ],
      "execution_count": 176,
      "outputs": [
        {
          "output_type": "stream",
          "text": [
            "Accuracy: 0.7900931110821722 \n",
            " ROC_AUC_Score: 0.5932005953878731\n"
          ],
          "name": "stdout"
        },
        {
          "output_type": "execute_result",
          "data": {
            "text/plain": [
              "(0.7900931110821722, <function sklearn.metrics._ranking.roc_auc_score>)"
            ]
          },
          "metadata": {
            "tags": []
          },
          "execution_count": 176
        },
        {
          "output_type": "display_data",
          "data": {
            "image/png": "[encoded data removed]",
            "text/plain": [
              "<Figure size 432x288 with 2 Axes>"
            ]
          },
          "metadata": {
            "tags": [],
            "needs_background": "light"
          }
        },
        {
          "output_type": "display_data",
          "data": {
            "image/png": "[encoded data removed]",
            "text/plain": [
              "<Figure size 432x288 with 1 Axes>"
            ]
          },
          "metadata": {
            "tags": [],
            "needs_background": "light"
          }
        }
      ]
    },
    {
      "cell_type": "code",
      "metadata": {
        "id": "KacBKn7RyjMW",
        "outputId": "b5695bf9-e316-496f-c04d-cd2e2a89a685",
        "colab": {
          "base_uri": "https://localhost:8080/"
        }
      },
      "source": [
        "clf_xgb.feature_importances_"
      ],
      "execution_count": 110,
      "outputs": [
        {
          "output_type": "execute_result",
          "data": {
            "text/plain": [
              "array([0.32828802, 0.02816099, 0.00607271, 0.00418621, 0.00653521,\n",
              "       0.        , 0.05087006, 0.01950103, 0.119385  , 0.06145964,\n",
              "       0.04347147, 0.        , 0.02252308, 0.        , 0.01970419,\n",
              "       0.05902859, 0.        , 0.11538931, 0.0048695 , 0.1105551 ],\n",
              "      dtype=float32)"
            ]
          },
          "metadata": {
            "tags": []
          },
          "execution_count": 110
        }
      ]
    },
    {
      "cell_type": "code",
      "metadata": {
        "id": "G2ttDuRs0q36"
      },
      "source": [
        "gender_dic = {'Male': 0,\n",
        "              'Female': 1}\n",
        "\n",
        "is_active_dic = {'Yes': 1,\n",
        "                 'No': 0}\n",
        "\n",
        "occupation_dic = {'Self_Employed': 1,\n",
        "                    'Other': 2,\n",
        "                    'Salaried': 3,\n",
        "                    'Entrepreneur': 4}\n"
      ],
      "execution_count": null,
      "outputs": []
    },
    {
      "cell_type": "code",
      "metadata": {
        "id": "PDkVovk8zuIW",
        "outputId": "f0586c54-ad52-4e4a-ce29-76d8da40cb87",
        "colab": {
          "base_uri": "https://localhost:8080/"
        }
      },
      "source": [
        "feature_list = x_train.columns\n",
        "imp_feature = {}\n",
        "for feat_name, weight in zip(feature_list, clf_xgb.feature_importances_):\n",
        "    imp_feature[feat_name] = weight\n",
        "\n",
        "\n",
        "for key in imp_feature:\n",
        "    value = round(imp_feature[key],3)*100\n",
        "    print(f'{key} : {value} %')"
      ],
      "execution_count": 177,
      "outputs": [
        {
          "output_type": "stream",
          "text": [
            "Channel_Code_proc_0 : 45.100000500679016 %\n",
            "Channel_Code_proc_1 : 0.800000037997961 %\n",
            "Channel_Code_proc_2 : 0.8999999612569809 %\n",
            "Channel_Code_proc_3 : 1.4000000432133675 %\n",
            "Gender_proc_0 : 0.4000000189989805 %\n",
            "Gender_proc_1 : 0.0 %\n",
            "Occupation_proc_0 : 2.800000086426735 %\n",
            "Occupation_proc_1 : 1.899999938905239 %\n",
            "Occupation_proc_2 : 14.900000393390656 %\n",
            "Occupation_proc_3 : 4.1999999433755875 %\n",
            "Is_Active_proc_0 : 2.199999988079071 %\n",
            "Is_Active_proc_1 : 0.0 %\n",
            "Credit_Product_proc_0 : 1.899999938905239 %\n",
            "Credit_Product_proc_1 : 0.0 %\n",
            "Age_Binned_0 : 1.0999999940395355 %\n",
            "Age_Binned_1 : 1.2000000104308128 %\n",
            "Age_Binned_2 : 4.399999976158142 %\n",
            "Age_box : 7.100000232458115 %\n",
            "Avg_Account_Balance_log : 0.3000000026077032 %\n",
            "Vintage_max : 9.399999678134918 %\n"
          ],
          "name": "stdout"
        }
      ]
    },
    {
      "cell_type": "markdown",
      "metadata": {
        "id": "MZW7ygOgr_eu"
      },
      "source": [
        "# Debugg"
      ]
    },
    {
      "cell_type": "code",
      "metadata": {
        "id": "ZP9uobGDuoad",
        "outputId": "3a8bd0d9-d6a6-49bd-c441-d097a5e37c33",
        "colab": {
          "base_uri": "https://localhost:8080/",
          "height": 524
        }
      },
      "source": [
        "x_test_check = process(x_test_check)\n",
        "x_test_check = transform(x_test_check)\n",
        "x_test"
      ],
      "execution_count": 96,
      "outputs": [
        {
          "output_type": "stream",
          "text": [
            "Region Code Processed Successfully\n",
            "Channel Code Processed Successfully\n",
            "Gender Processed Successfully\n",
            "Occupation Processed Successfully\n",
            "Is Active Processed Successfully\n"
          ],
          "name": "stdout"
        },
        {
          "output_type": "execute_result",
          "data": {
            "text/html": [
              "<div>\n",
              "<style scoped>\n",
              "    .dataframe tbody tr th:only-of-type {\n",
              "        vertical-align: middle;\n",
              "    }\n",
              "\n",
              "    .dataframe tbody tr th {\n",
              "        vertical-align: top;\n",
              "    }\n",
              "\n",
              "    .dataframe thead th {\n",
              "        text-align: right;\n",
              "    }\n",
              "</style>\n",
              "<table border=\"1\" class=\"dataframe\">\n",
              "  <thead>\n",
              "    <tr style=\"text-align: right;\">\n",
              "      <th></th>\n",
              "      <th>Channel_Code_proc_0</th>\n",
              "      <th>Channel_Code_proc_1</th>\n",
              "      <th>Channel_Code_proc_2</th>\n",
              "      <th>Channel_Code_proc_3</th>\n",
              "      <th>Gender_proc_0</th>\n",
              "      <th>Gender_proc_1</th>\n",
              "      <th>Occupation_proc_0</th>\n",
              "      <th>Occupation_proc_1</th>\n",
              "      <th>Occupation_proc_2</th>\n",
              "      <th>Occupation_proc_3</th>\n",
              "      <th>Is_Active_proc_0</th>\n",
              "      <th>Is_Active_proc_1</th>\n",
              "      <th>Credit_Product_proc_0</th>\n",
              "      <th>Credit_Product_proc_1</th>\n",
              "      <th>Age_Binned_0</th>\n",
              "      <th>Age_Binned_1</th>\n",
              "      <th>Age_Binned_2</th>\n",
              "      <th>Age_box</th>\n",
              "      <th>Avg_Account_Balance_log</th>\n",
              "      <th>Vintage_max</th>\n",
              "    </tr>\n",
              "  </thead>\n",
              "  <tbody>\n",
              "    <tr>\n",
              "      <th>171739</th>\n",
              "      <td>1.0</td>\n",
              "      <td>0.0</td>\n",
              "      <td>0.0</td>\n",
              "      <td>0.0</td>\n",
              "      <td>0.0</td>\n",
              "      <td>1.0</td>\n",
              "      <td>0.0</td>\n",
              "      <td>1.0</td>\n",
              "      <td>0.0</td>\n",
              "      <td>0.0</td>\n",
              "      <td>1.0</td>\n",
              "      <td>0.0</td>\n",
              "      <td>1.0</td>\n",
              "      <td>0.0</td>\n",
              "      <td>1.0</td>\n",
              "      <td>0.0</td>\n",
              "      <td>0.0</td>\n",
              "      <td>2.274161</td>\n",
              "      <td>14.028877</td>\n",
              "      <td>0.558235</td>\n",
              "    </tr>\n",
              "    <tr>\n",
              "      <th>98848</th>\n",
              "      <td>1.0</td>\n",
              "      <td>0.0</td>\n",
              "      <td>0.0</td>\n",
              "      <td>0.0</td>\n",
              "      <td>1.0</td>\n",
              "      <td>0.0</td>\n",
              "      <td>0.0</td>\n",
              "      <td>0.0</td>\n",
              "      <td>1.0</td>\n",
              "      <td>0.0</td>\n",
              "      <td>0.0</td>\n",
              "      <td>1.0</td>\n",
              "      <td>1.0</td>\n",
              "      <td>0.0</td>\n",
              "      <td>1.0</td>\n",
              "      <td>0.0</td>\n",
              "      <td>0.0</td>\n",
              "      <td>2.259858</td>\n",
              "      <td>13.427141</td>\n",
              "      <td>0.259535</td>\n",
              "    </tr>\n",
              "    <tr>\n",
              "      <th>184607</th>\n",
              "      <td>1.0</td>\n",
              "      <td>0.0</td>\n",
              "      <td>0.0</td>\n",
              "      <td>0.0</td>\n",
              "      <td>0.0</td>\n",
              "      <td>1.0</td>\n",
              "      <td>0.0</td>\n",
              "      <td>0.0</td>\n",
              "      <td>1.0</td>\n",
              "      <td>0.0</td>\n",
              "      <td>1.0</td>\n",
              "      <td>0.0</td>\n",
              "      <td>0.0</td>\n",
              "      <td>1.0</td>\n",
              "      <td>1.0</td>\n",
              "      <td>0.0</td>\n",
              "      <td>0.0</td>\n",
              "      <td>2.259858</td>\n",
              "      <td>12.747213</td>\n",
              "      <td>0.386691</td>\n",
              "    </tr>\n",
              "    <tr>\n",
              "      <th>61725</th>\n",
              "      <td>1.0</td>\n",
              "      <td>0.0</td>\n",
              "      <td>0.0</td>\n",
              "      <td>0.0</td>\n",
              "      <td>1.0</td>\n",
              "      <td>0.0</td>\n",
              "      <td>0.0</td>\n",
              "      <td>0.0</td>\n",
              "      <td>1.0</td>\n",
              "      <td>0.0</td>\n",
              "      <td>0.0</td>\n",
              "      <td>1.0</td>\n",
              "      <td>1.0</td>\n",
              "      <td>0.0</td>\n",
              "      <td>1.0</td>\n",
              "      <td>0.0</td>\n",
              "      <td>0.0</td>\n",
              "      <td>2.244923</td>\n",
              "      <td>13.775419</td>\n",
              "      <td>0.284462</td>\n",
              "    </tr>\n",
              "    <tr>\n",
              "      <th>48107</th>\n",
              "      <td>0.0</td>\n",
              "      <td>1.0</td>\n",
              "      <td>0.0</td>\n",
              "      <td>0.0</td>\n",
              "      <td>1.0</td>\n",
              "      <td>0.0</td>\n",
              "      <td>0.0</td>\n",
              "      <td>0.0</td>\n",
              "      <td>1.0</td>\n",
              "      <td>0.0</td>\n",
              "      <td>1.0</td>\n",
              "      <td>0.0</td>\n",
              "      <td>1.0</td>\n",
              "      <td>0.0</td>\n",
              "      <td>0.0</td>\n",
              "      <td>1.0</td>\n",
              "      <td>0.0</td>\n",
              "      <td>2.522875</td>\n",
              "      <td>14.608174</td>\n",
              "      <td>0.694617</td>\n",
              "    </tr>\n",
              "    <tr>\n",
              "      <th>...</th>\n",
              "      <td>...</td>\n",
              "      <td>...</td>\n",
              "      <td>...</td>\n",
              "      <td>...</td>\n",
              "      <td>...</td>\n",
              "      <td>...</td>\n",
              "      <td>...</td>\n",
              "      <td>...</td>\n",
              "      <td>...</td>\n",
              "      <td>...</td>\n",
              "      <td>...</td>\n",
              "      <td>...</td>\n",
              "      <td>...</td>\n",
              "      <td>...</td>\n",
              "      <td>...</td>\n",
              "      <td>...</td>\n",
              "      <td>...</td>\n",
              "      <td>...</td>\n",
              "      <td>...</td>\n",
              "      <td>...</td>\n",
              "    </tr>\n",
              "    <tr>\n",
              "      <th>236899</th>\n",
              "      <td>0.0</td>\n",
              "      <td>0.0</td>\n",
              "      <td>1.0</td>\n",
              "      <td>0.0</td>\n",
              "      <td>1.0</td>\n",
              "      <td>0.0</td>\n",
              "      <td>0.0</td>\n",
              "      <td>1.0</td>\n",
              "      <td>0.0</td>\n",
              "      <td>0.0</td>\n",
              "      <td>0.0</td>\n",
              "      <td>1.0</td>\n",
              "      <td>1.0</td>\n",
              "      <td>0.0</td>\n",
              "      <td>0.0</td>\n",
              "      <td>0.0</td>\n",
              "      <td>1.0</td>\n",
              "      <td>2.568940</td>\n",
              "      <td>14.465202</td>\n",
              "      <td>0.882107</td>\n",
              "    </tr>\n",
              "    <tr>\n",
              "      <th>65610</th>\n",
              "      <td>1.0</td>\n",
              "      <td>0.0</td>\n",
              "      <td>0.0</td>\n",
              "      <td>0.0</td>\n",
              "      <td>0.0</td>\n",
              "      <td>1.0</td>\n",
              "      <td>0.0</td>\n",
              "      <td>0.0</td>\n",
              "      <td>1.0</td>\n",
              "      <td>0.0</td>\n",
              "      <td>1.0</td>\n",
              "      <td>0.0</td>\n",
              "      <td>0.0</td>\n",
              "      <td>1.0</td>\n",
              "      <td>1.0</td>\n",
              "      <td>0.0</td>\n",
              "      <td>0.0</td>\n",
              "      <td>2.244923</td>\n",
              "      <td>13.866489</td>\n",
              "      <td>0.232581</td>\n",
              "    </tr>\n",
              "    <tr>\n",
              "      <th>42881</th>\n",
              "      <td>1.0</td>\n",
              "      <td>0.0</td>\n",
              "      <td>0.0</td>\n",
              "      <td>0.0</td>\n",
              "      <td>0.0</td>\n",
              "      <td>1.0</td>\n",
              "      <td>0.0</td>\n",
              "      <td>0.0</td>\n",
              "      <td>1.0</td>\n",
              "      <td>0.0</td>\n",
              "      <td>1.0</td>\n",
              "      <td>0.0</td>\n",
              "      <td>1.0</td>\n",
              "      <td>0.0</td>\n",
              "      <td>1.0</td>\n",
              "      <td>0.0</td>\n",
              "      <td>0.0</td>\n",
              "      <td>2.229302</td>\n",
              "      <td>12.866498</td>\n",
              "      <td>0.368664</td>\n",
              "    </tr>\n",
              "    <tr>\n",
              "      <th>199081</th>\n",
              "      <td>0.0</td>\n",
              "      <td>1.0</td>\n",
              "      <td>0.0</td>\n",
              "      <td>0.0</td>\n",
              "      <td>1.0</td>\n",
              "      <td>0.0</td>\n",
              "      <td>1.0</td>\n",
              "      <td>0.0</td>\n",
              "      <td>0.0</td>\n",
              "      <td>0.0</td>\n",
              "      <td>0.0</td>\n",
              "      <td>1.0</td>\n",
              "      <td>1.0</td>\n",
              "      <td>0.0</td>\n",
              "      <td>0.0</td>\n",
              "      <td>1.0</td>\n",
              "      <td>0.0</td>\n",
              "      <td>2.418653</td>\n",
              "      <td>13.354089</td>\n",
              "      <td>0.792194</td>\n",
              "    </tr>\n",
              "    <tr>\n",
              "      <th>104851</th>\n",
              "      <td>0.0</td>\n",
              "      <td>0.0</td>\n",
              "      <td>0.0</td>\n",
              "      <td>1.0</td>\n",
              "      <td>1.0</td>\n",
              "      <td>0.0</td>\n",
              "      <td>1.0</td>\n",
              "      <td>0.0</td>\n",
              "      <td>0.0</td>\n",
              "      <td>0.0</td>\n",
              "      <td>0.0</td>\n",
              "      <td>1.0</td>\n",
              "      <td>1.0</td>\n",
              "      <td>0.0</td>\n",
              "      <td>1.0</td>\n",
              "      <td>0.0</td>\n",
              "      <td>0.0</td>\n",
              "      <td>2.370527</td>\n",
              "      <td>12.725479</td>\n",
              "      <td>0.284462</td>\n",
              "    </tr>\n",
              "  </tbody>\n",
              "</table>\n",
              "<p>61432 rows × 20 columns</p>\n",
              "</div>"
            ],
            "text/plain": [
              "        Channel_Code_proc_0  ...  Vintage_max\n",
              "171739                  1.0  ...     0.558235\n",
              "98848                   1.0  ...     0.259535\n",
              "184607                  1.0  ...     0.386691\n",
              "61725                   1.0  ...     0.284462\n",
              "48107                   0.0  ...     0.694617\n",
              "...                     ...  ...          ...\n",
              "236899                  0.0  ...     0.882107\n",
              "65610                   1.0  ...     0.232581\n",
              "42881                   1.0  ...     0.368664\n",
              "199081                  0.0  ...     0.792194\n",
              "104851                  0.0  ...     0.284462\n",
              "\n",
              "[61432 rows x 20 columns]"
            ]
          },
          "metadata": {
            "tags": []
          },
          "execution_count": 96
        }
      ]
    },
    {
      "cell_type": "code",
      "metadata": {
        "id": "t0Ewmmus8TCY",
        "outputId": "1f9c9cbc-b6af-469c-b934-0b64798902b7",
        "colab": {
          "base_uri": "https://localhost:8080/"
        }
      },
      "source": [
        "# x_test_check['Channel_Code'].loc[x_test_check['Channel_Code']=='X1'].count()"
      ],
      "execution_count": 129,
      "outputs": [
        {
          "output_type": "execute_result",
          "data": {
            "text/plain": [
              "26024"
            ]
          },
          "metadata": {
            "tags": []
          },
          "execution_count": 129
        }
      ]
    },
    {
      "cell_type": "code",
      "metadata": {
        "id": "Jt4LfjAz8_Do",
        "outputId": "193327fc-171a-4b23-eda9-b39e8ecc3653",
        "colab": {
          "base_uri": "https://localhost:8080/"
        }
      },
      "source": [
        "# x_test_check['Channel_Code_proc_1'].loc[x_test_check['Channel_Code_proc_1']==1].count()"
      ],
      "execution_count": 124,
      "outputs": [
        {
          "output_type": "execute_result",
          "data": {
            "text/plain": [
              "16931"
            ]
          },
          "metadata": {
            "tags": []
          },
          "execution_count": 124
        }
      ]
    },
    {
      "cell_type": "code",
      "metadata": {
        "id": "CaacCA3KfvLB"
      },
      "source": [
        "x_test_check['Pred'] = y_hat_xgb"
      ],
      "execution_count": 130,
      "outputs": []
    },
    {
      "cell_type": "code",
      "metadata": {
        "id": "U3ximZvzjMqL",
        "outputId": "71931ba0-f8be-49b5-e411-d24300aa4f88",
        "colab": {
          "base_uri": "https://localhost:8080/",
          "height": 439
        }
      },
      "source": [
        "check_df = x_test_check.loc[((x_test_check['True']==1) & (x_test_check['Pred'] == 0))]\n",
        "check_df"
      ],
      "execution_count": 131,
      "outputs": [
        {
          "output_type": "execute_result",
          "data": {
            "text/html": [
              "<div>\n",
              "<style scoped>\n",
              "    .dataframe tbody tr th:only-of-type {\n",
              "        vertical-align: middle;\n",
              "    }\n",
              "\n",
              "    .dataframe tbody tr th {\n",
              "        vertical-align: top;\n",
              "    }\n",
              "\n",
              "    .dataframe thead th {\n",
              "        text-align: right;\n",
              "    }\n",
              "</style>\n",
              "<table border=\"1\" class=\"dataframe\">\n",
              "  <thead>\n",
              "    <tr style=\"text-align: right;\">\n",
              "      <th></th>\n",
              "      <th>Gender</th>\n",
              "      <th>Age</th>\n",
              "      <th>Region_Code</th>\n",
              "      <th>Occupation</th>\n",
              "      <th>Channel_Code</th>\n",
              "      <th>Vintage</th>\n",
              "      <th>Credit_Product</th>\n",
              "      <th>Avg_Account_Balance</th>\n",
              "      <th>Is_Active</th>\n",
              "      <th>True</th>\n",
              "      <th>Pred</th>\n",
              "      <th>Region_Code_proc</th>\n",
              "      <th>Channel_Code_proc</th>\n",
              "      <th>Channel_Code_proc_0</th>\n",
              "      <th>Channel_Code_proc_1</th>\n",
              "      <th>Channel_Code_proc_2</th>\n",
              "      <th>Channel_Code_proc_3</th>\n",
              "      <th>Gender_proc</th>\n",
              "      <th>Gender_proc_0</th>\n",
              "      <th>Gender_proc_1</th>\n",
              "      <th>Occupation_proc</th>\n",
              "      <th>Occupation_proc_0</th>\n",
              "      <th>Occupation_proc_1</th>\n",
              "      <th>Occupation_proc_2</th>\n",
              "      <th>Occupation_proc_3</th>\n",
              "      <th>Is_Active_proc</th>\n",
              "      <th>Is_Active_proc_0</th>\n",
              "      <th>Is_Active_proc_1</th>\n",
              "      <th>Credit_Product_proc</th>\n",
              "      <th>Credit_Product_proc_0</th>\n",
              "      <th>Credit_Product_proc_1</th>\n",
              "      <th>Age_Binned</th>\n",
              "      <th>Age_Binned_0</th>\n",
              "      <th>Age_Binned_1</th>\n",
              "      <th>Age_Binned_2</th>\n",
              "      <th>Age_box</th>\n",
              "      <th>Avg_Account_Balance_log</th>\n",
              "      <th>Vintage_box</th>\n",
              "      <th>Vintage_max</th>\n",
              "    </tr>\n",
              "  </thead>\n",
              "  <tbody>\n",
              "    <tr>\n",
              "      <th>195952</th>\n",
              "      <td>Male</td>\n",
              "      <td>67</td>\n",
              "      <td>RG283</td>\n",
              "      <td>Other</td>\n",
              "      <td>X3</td>\n",
              "      <td>38</td>\n",
              "      <td>No</td>\n",
              "      <td>1126028</td>\n",
              "      <td>Yes</td>\n",
              "      <td>1</td>\n",
              "      <td>0</td>\n",
              "      <td>283</td>\n",
              "      <td>3</td>\n",
              "      <td>0.0</td>\n",
              "      <td>0.0</td>\n",
              "      <td>1.0</td>\n",
              "      <td>0.0</td>\n",
              "      <td>0</td>\n",
              "      <td>1.0</td>\n",
              "      <td>0.0</td>\n",
              "      <td>2</td>\n",
              "      <td>0.0</td>\n",
              "      <td>1.0</td>\n",
              "      <td>0.0</td>\n",
              "      <td>0.0</td>\n",
              "      <td>1</td>\n",
              "      <td>0.0</td>\n",
              "      <td>1.0</td>\n",
              "      <td>0</td>\n",
              "      <td>1.0</td>\n",
              "      <td>0.0</td>\n",
              "      <td>60+</td>\n",
              "      <td>0.0</td>\n",
              "      <td>0.0</td>\n",
              "      <td>1.0</td>\n",
              "      <td>2.579352</td>\n",
              "      <td>13.934207</td>\n",
              "      <td>3.085070</td>\n",
              "      <td>0.605134</td>\n",
              "    </tr>\n",
              "    <tr>\n",
              "      <th>124385</th>\n",
              "      <td>Male</td>\n",
              "      <td>33</td>\n",
              "      <td>RG268</td>\n",
              "      <td>Salaried</td>\n",
              "      <td>X3</td>\n",
              "      <td>45</td>\n",
              "      <td>No</td>\n",
              "      <td>844031</td>\n",
              "      <td>Yes</td>\n",
              "      <td>1</td>\n",
              "      <td>0</td>\n",
              "      <td>268</td>\n",
              "      <td>3</td>\n",
              "      <td>0.0</td>\n",
              "      <td>0.0</td>\n",
              "      <td>1.0</td>\n",
              "      <td>0.0</td>\n",
              "      <td>0</td>\n",
              "      <td>1.0</td>\n",
              "      <td>0.0</td>\n",
              "      <td>3</td>\n",
              "      <td>0.0</td>\n",
              "      <td>0.0</td>\n",
              "      <td>1.0</td>\n",
              "      <td>0.0</td>\n",
              "      <td>1</td>\n",
              "      <td>0.0</td>\n",
              "      <td>1.0</td>\n",
              "      <td>0</td>\n",
              "      <td>1.0</td>\n",
              "      <td>0.0</td>\n",
              "      <td>20-40</td>\n",
              "      <td>1.0</td>\n",
              "      <td>0.0</td>\n",
              "      <td>0.0</td>\n",
              "      <td>2.313715</td>\n",
              "      <td>13.645945</td>\n",
              "      <td>3.204582</td>\n",
              "      <td>0.660533</td>\n",
              "    </tr>\n",
              "    <tr>\n",
              "      <th>113088</th>\n",
              "      <td>Male</td>\n",
              "      <td>48</td>\n",
              "      <td>RG283</td>\n",
              "      <td>Entrepreneur</td>\n",
              "      <td>X2</td>\n",
              "      <td>55</td>\n",
              "      <td>No</td>\n",
              "      <td>1395582</td>\n",
              "      <td>Yes</td>\n",
              "      <td>1</td>\n",
              "      <td>0</td>\n",
              "      <td>283</td>\n",
              "      <td>2</td>\n",
              "      <td>0.0</td>\n",
              "      <td>1.0</td>\n",
              "      <td>0.0</td>\n",
              "      <td>0.0</td>\n",
              "      <td>0</td>\n",
              "      <td>1.0</td>\n",
              "      <td>0.0</td>\n",
              "      <td>4</td>\n",
              "      <td>0.0</td>\n",
              "      <td>0.0</td>\n",
              "      <td>0.0</td>\n",
              "      <td>1.0</td>\n",
              "      <td>1</td>\n",
              "      <td>0.0</td>\n",
              "      <td>1.0</td>\n",
              "      <td>0</td>\n",
              "      <td>1.0</td>\n",
              "      <td>0.0</td>\n",
              "      <td>40-60</td>\n",
              "      <td>0.0</td>\n",
              "      <td>1.0</td>\n",
              "      <td>0.0</td>\n",
              "      <td>2.460223</td>\n",
              "      <td>14.148822</td>\n",
              "      <td>3.344004</td>\n",
              "      <td>0.725162</td>\n",
              "    </tr>\n",
              "    <tr>\n",
              "      <th>22306</th>\n",
              "      <td>Male</td>\n",
              "      <td>50</td>\n",
              "      <td>RG277</td>\n",
              "      <td>Entrepreneur</td>\n",
              "      <td>X4</td>\n",
              "      <td>13</td>\n",
              "      <td>Yes</td>\n",
              "      <td>862935</td>\n",
              "      <td>No</td>\n",
              "      <td>1</td>\n",
              "      <td>0</td>\n",
              "      <td>277</td>\n",
              "      <td>4</td>\n",
              "      <td>0.0</td>\n",
              "      <td>0.0</td>\n",
              "      <td>0.0</td>\n",
              "      <td>1.0</td>\n",
              "      <td>0</td>\n",
              "      <td>1.0</td>\n",
              "      <td>0.0</td>\n",
              "      <td>4</td>\n",
              "      <td>0.0</td>\n",
              "      <td>0.0</td>\n",
              "      <td>0.0</td>\n",
              "      <td>1.0</td>\n",
              "      <td>0</td>\n",
              "      <td>1.0</td>\n",
              "      <td>0.0</td>\n",
              "      <td>1</td>\n",
              "      <td>0.0</td>\n",
              "      <td>1.0</td>\n",
              "      <td>40-60</td>\n",
              "      <td>0.0</td>\n",
              "      <td>1.0</td>\n",
              "      <td>0.0</td>\n",
              "      <td>2.475355</td>\n",
              "      <td>13.668095</td>\n",
              "      <td>2.281375</td>\n",
              "      <td>0.232581</td>\n",
              "    </tr>\n",
              "    <tr>\n",
              "      <th>178812</th>\n",
              "      <td>Male</td>\n",
              "      <td>55</td>\n",
              "      <td>RG251</td>\n",
              "      <td>Self_Employed</td>\n",
              "      <td>X3</td>\n",
              "      <td>104</td>\n",
              "      <td>No</td>\n",
              "      <td>552930</td>\n",
              "      <td>No</td>\n",
              "      <td>1</td>\n",
              "      <td>0</td>\n",
              "      <td>251</td>\n",
              "      <td>3</td>\n",
              "      <td>0.0</td>\n",
              "      <td>0.0</td>\n",
              "      <td>1.0</td>\n",
              "      <td>0.0</td>\n",
              "      <td>0</td>\n",
              "      <td>1.0</td>\n",
              "      <td>0.0</td>\n",
              "      <td>1</td>\n",
              "      <td>1.0</td>\n",
              "      <td>0.0</td>\n",
              "      <td>0.0</td>\n",
              "      <td>0.0</td>\n",
              "      <td>0</td>\n",
              "      <td>1.0</td>\n",
              "      <td>0.0</td>\n",
              "      <td>0</td>\n",
              "      <td>1.0</td>\n",
              "      <td>0.0</td>\n",
              "      <td>40-60</td>\n",
              "      <td>0.0</td>\n",
              "      <td>1.0</td>\n",
              "      <td>0.0</td>\n",
              "      <td>2.510078</td>\n",
              "      <td>13.222987</td>\n",
              "      <td>3.769727</td>\n",
              "      <td>0.922507</td>\n",
              "    </tr>\n",
              "    <tr>\n",
              "      <th>...</th>\n",
              "      <td>...</td>\n",
              "      <td>...</td>\n",
              "      <td>...</td>\n",
              "      <td>...</td>\n",
              "      <td>...</td>\n",
              "      <td>...</td>\n",
              "      <td>...</td>\n",
              "      <td>...</td>\n",
              "      <td>...</td>\n",
              "      <td>...</td>\n",
              "      <td>...</td>\n",
              "      <td>...</td>\n",
              "      <td>...</td>\n",
              "      <td>...</td>\n",
              "      <td>...</td>\n",
              "      <td>...</td>\n",
              "      <td>...</td>\n",
              "      <td>...</td>\n",
              "      <td>...</td>\n",
              "      <td>...</td>\n",
              "      <td>...</td>\n",
              "      <td>...</td>\n",
              "      <td>...</td>\n",
              "      <td>...</td>\n",
              "      <td>...</td>\n",
              "      <td>...</td>\n",
              "      <td>...</td>\n",
              "      <td>...</td>\n",
              "      <td>...</td>\n",
              "      <td>...</td>\n",
              "      <td>...</td>\n",
              "      <td>...</td>\n",
              "      <td>...</td>\n",
              "      <td>...</td>\n",
              "      <td>...</td>\n",
              "      <td>...</td>\n",
              "      <td>...</td>\n",
              "      <td>...</td>\n",
              "      <td>...</td>\n",
              "    </tr>\n",
              "    <tr>\n",
              "      <th>128193</th>\n",
              "      <td>Female</td>\n",
              "      <td>31</td>\n",
              "      <td>RG264</td>\n",
              "      <td>Salaried</td>\n",
              "      <td>X1</td>\n",
              "      <td>31</td>\n",
              "      <td>Yes</td>\n",
              "      <td>536429</td>\n",
              "      <td>Yes</td>\n",
              "      <td>1</td>\n",
              "      <td>0</td>\n",
              "      <td>264</td>\n",
              "      <td>1</td>\n",
              "      <td>1.0</td>\n",
              "      <td>0.0</td>\n",
              "      <td>0.0</td>\n",
              "      <td>0.0</td>\n",
              "      <td>1</td>\n",
              "      <td>0.0</td>\n",
              "      <td>1.0</td>\n",
              "      <td>3</td>\n",
              "      <td>0.0</td>\n",
              "      <td>0.0</td>\n",
              "      <td>1.0</td>\n",
              "      <td>0.0</td>\n",
              "      <td>1</td>\n",
              "      <td>0.0</td>\n",
              "      <td>1.0</td>\n",
              "      <td>1</td>\n",
              "      <td>0.0</td>\n",
              "      <td>1.0</td>\n",
              "      <td>20-40</td>\n",
              "      <td>1.0</td>\n",
              "      <td>0.0</td>\n",
              "      <td>0.0</td>\n",
              "      <td>2.287878</td>\n",
              "      <td>13.192689</td>\n",
              "      <td>2.938633</td>\n",
              "      <td>0.537253</td>\n",
              "    </tr>\n",
              "    <tr>\n",
              "      <th>230906</th>\n",
              "      <td>Male</td>\n",
              "      <td>41</td>\n",
              "      <td>RG283</td>\n",
              "      <td>Self_Employed</td>\n",
              "      <td>X3</td>\n",
              "      <td>73</td>\n",
              "      <td>No</td>\n",
              "      <td>751453</td>\n",
              "      <td>No</td>\n",
              "      <td>1</td>\n",
              "      <td>0</td>\n",
              "      <td>283</td>\n",
              "      <td>3</td>\n",
              "      <td>0.0</td>\n",
              "      <td>0.0</td>\n",
              "      <td>1.0</td>\n",
              "      <td>0.0</td>\n",
              "      <td>0</td>\n",
              "      <td>1.0</td>\n",
              "      <td>0.0</td>\n",
              "      <td>1</td>\n",
              "      <td>1.0</td>\n",
              "      <td>0.0</td>\n",
              "      <td>0.0</td>\n",
              "      <td>0.0</td>\n",
              "      <td>0</td>\n",
              "      <td>1.0</td>\n",
              "      <td>0.0</td>\n",
              "      <td>0</td>\n",
              "      <td>1.0</td>\n",
              "      <td>0.0</td>\n",
              "      <td>40-60</td>\n",
              "      <td>0.0</td>\n",
              "      <td>1.0</td>\n",
              "      <td>0.0</td>\n",
              "      <td>2.400290</td>\n",
              "      <td>13.529764</td>\n",
              "      <td>3.536331</td>\n",
              "      <td>0.814316</td>\n",
              "    </tr>\n",
              "    <tr>\n",
              "      <th>210902</th>\n",
              "      <td>Female</td>\n",
              "      <td>39</td>\n",
              "      <td>RG278</td>\n",
              "      <td>Self_Employed</td>\n",
              "      <td>X2</td>\n",
              "      <td>14</td>\n",
              "      <td>No</td>\n",
              "      <td>403810</td>\n",
              "      <td>Yes</td>\n",
              "      <td>1</td>\n",
              "      <td>0</td>\n",
              "      <td>278</td>\n",
              "      <td>2</td>\n",
              "      <td>0.0</td>\n",
              "      <td>1.0</td>\n",
              "      <td>0.0</td>\n",
              "      <td>0.0</td>\n",
              "      <td>1</td>\n",
              "      <td>0.0</td>\n",
              "      <td>1.0</td>\n",
              "      <td>1</td>\n",
              "      <td>1.0</td>\n",
              "      <td>0.0</td>\n",
              "      <td>0.0</td>\n",
              "      <td>0.0</td>\n",
              "      <td>1</td>\n",
              "      <td>0.0</td>\n",
              "      <td>1.0</td>\n",
              "      <td>0</td>\n",
              "      <td>1.0</td>\n",
              "      <td>0.0</td>\n",
              "      <td>20-40</td>\n",
              "      <td>1.0</td>\n",
              "      <td>0.0</td>\n",
              "      <td>0.0</td>\n",
              "      <td>2.380766</td>\n",
              "      <td>12.908700</td>\n",
              "      <td>2.339523</td>\n",
              "      <td>0.259535</td>\n",
              "    </tr>\n",
              "    <tr>\n",
              "      <th>195212</th>\n",
              "      <td>Male</td>\n",
              "      <td>57</td>\n",
              "      <td>RG280</td>\n",
              "      <td>Self_Employed</td>\n",
              "      <td>X2</td>\n",
              "      <td>91</td>\n",
              "      <td>No</td>\n",
              "      <td>486678</td>\n",
              "      <td>Yes</td>\n",
              "      <td>1</td>\n",
              "      <td>0</td>\n",
              "      <td>280</td>\n",
              "      <td>2</td>\n",
              "      <td>0.0</td>\n",
              "      <td>1.0</td>\n",
              "      <td>0.0</td>\n",
              "      <td>0.0</td>\n",
              "      <td>0</td>\n",
              "      <td>1.0</td>\n",
              "      <td>0.0</td>\n",
              "      <td>1</td>\n",
              "      <td>1.0</td>\n",
              "      <td>0.0</td>\n",
              "      <td>0.0</td>\n",
              "      <td>0.0</td>\n",
              "      <td>1</td>\n",
              "      <td>0.0</td>\n",
              "      <td>1.0</td>\n",
              "      <td>0</td>\n",
              "      <td>1.0</td>\n",
              "      <td>0.0</td>\n",
              "      <td>40-60</td>\n",
              "      <td>0.0</td>\n",
              "      <td>1.0</td>\n",
              "      <td>0.0</td>\n",
              "      <td>2.522875</td>\n",
              "      <td>13.095358</td>\n",
              "      <td>3.682574</td>\n",
              "      <td>0.882107</td>\n",
              "    </tr>\n",
              "    <tr>\n",
              "      <th>123152</th>\n",
              "      <td>Female</td>\n",
              "      <td>47</td>\n",
              "      <td>RG283</td>\n",
              "      <td>Self_Employed</td>\n",
              "      <td>X2</td>\n",
              "      <td>73</td>\n",
              "      <td>Yes</td>\n",
              "      <td>1275645</td>\n",
              "      <td>Yes</td>\n",
              "      <td>1</td>\n",
              "      <td>0</td>\n",
              "      <td>283</td>\n",
              "      <td>2</td>\n",
              "      <td>0.0</td>\n",
              "      <td>1.0</td>\n",
              "      <td>0.0</td>\n",
              "      <td>0.0</td>\n",
              "      <td>1</td>\n",
              "      <td>0.0</td>\n",
              "      <td>1.0</td>\n",
              "      <td>1</td>\n",
              "      <td>1.0</td>\n",
              "      <td>0.0</td>\n",
              "      <td>0.0</td>\n",
              "      <td>0.0</td>\n",
              "      <td>1</td>\n",
              "      <td>0.0</td>\n",
              "      <td>1.0</td>\n",
              "      <td>1</td>\n",
              "      <td>0.0</td>\n",
              "      <td>1.0</td>\n",
              "      <td>40-60</td>\n",
              "      <td>0.0</td>\n",
              "      <td>1.0</td>\n",
              "      <td>0.0</td>\n",
              "      <td>2.452357</td>\n",
              "      <td>14.058962</td>\n",
              "      <td>3.536331</td>\n",
              "      <td>0.814316</td>\n",
              "    </tr>\n",
              "  </tbody>\n",
              "</table>\n",
              "<p>12940 rows × 39 columns</p>\n",
              "</div>"
            ],
            "text/plain": [
              "        Gender  Age  ... Vintage_box Vintage_max\n",
              "195952    Male   67  ...    3.085070    0.605134\n",
              "124385    Male   33  ...    3.204582    0.660533\n",
              "113088    Male   48  ...    3.344004    0.725162\n",
              "22306     Male   50  ...    2.281375    0.232581\n",
              "178812    Male   55  ...    3.769727    0.922507\n",
              "...        ...  ...  ...         ...         ...\n",
              "128193  Female   31  ...    2.938633    0.537253\n",
              "230906    Male   41  ...    3.536331    0.814316\n",
              "210902  Female   39  ...    2.339523    0.259535\n",
              "195212    Male   57  ...    3.682574    0.882107\n",
              "123152  Female   47  ...    3.536331    0.814316\n",
              "\n",
              "[12940 rows x 39 columns]"
            ]
          },
          "metadata": {
            "tags": []
          },
          "execution_count": 131
        }
      ]
    },
    {
      "cell_type": "code",
      "metadata": {
        "id": "H2oKJrCVlm_x",
        "outputId": "d8af0f72-54e2-4d38-890b-28d21d4a0315",
        "colab": {
          "base_uri": "https://localhost:8080/",
          "height": 401
        }
      },
      "source": [
        "sns.catplot(x='Channel_Code',kind = 'count', data=check_df)"
      ],
      "execution_count": 112,
      "outputs": [
        {
          "output_type": "execute_result",
          "data": {
            "text/plain": [
              "<seaborn.axisgrid.FacetGrid at 0x7f373927ee90>"
            ]
          },
          "metadata": {
            "tags": []
          },
          "execution_count": 112
        },
        {
          "output_type": "display_data",
          "data": {
            "image/png": "[encoded data removed]",
            "text/plain": [
              "<Figure size 360x360 with 1 Axes>"
            ]
          },
          "metadata": {
            "tags": [],
            "needs_background": "light"
          }
        }
      ]
    },
    {
      "cell_type": "code",
      "metadata": {
        "id": "ekKTHtM5qzTs",
        "outputId": "df135c99-ae21-48aa-df55-c96d888f6071",
        "colab": {
          "base_uri": "https://localhost:8080/",
          "height": 400
        }
      },
      "source": [
        "sns.catplot(x='Gender',kind = 'count', data=check_df)"
      ],
      "execution_count": 113,
      "outputs": [
        {
          "output_type": "execute_result",
          "data": {
            "text/plain": [
              "<seaborn.axisgrid.FacetGrid at 0x7f373909ead0>"
            ]
          },
          "metadata": {
            "tags": []
          },
          "execution_count": 113
        },
        {
          "output_type": "display_data",
          "data": {
            "image/png": "[encoded data removed]",
            "text/plain": [
              "<Figure size 360x360 with 1 Axes>"
            ]
          },
          "metadata": {
            "tags": [],
            "needs_background": "light"
          }
        }
      ]
    },
    {
      "cell_type": "code",
      "metadata": {
        "id": "eDr0osmTrAaU",
        "outputId": "3d7839a2-5adf-4fa9-fc80-d952a5e121e9",
        "colab": {
          "base_uri": "https://localhost:8080/",
          "height": 401
        }
      },
      "source": [
        "sns.catplot(x='Age_Binned', kind = 'count', data = check_df)"
      ],
      "execution_count": 114,
      "outputs": [
        {
          "output_type": "execute_result",
          "data": {
            "text/plain": [
              "<seaborn.axisgrid.FacetGrid at 0x7f373914d210>"
            ]
          },
          "metadata": {
            "tags": []
          },
          "execution_count": 114
        },
        {
          "output_type": "display_data",
          "data": {
            "image/png": "[encoded data removed]",
            "text/plain": [
              "<Figure size 360x360 with 1 Axes>"
            ]
          },
          "metadata": {
            "tags": [],
            "needs_background": "light"
          }
        }
      ]
    },
    {
      "cell_type": "code",
      "metadata": {
        "id": "QwkbdW1KrVK0",
        "outputId": "3f6af193-462d-4c6d-b595-0fe2475be660",
        "colab": {
          "base_uri": "https://localhost:8080/",
          "height": 400
        }
      },
      "source": [
        "sns.catplot(x='Occupation',kind = 'count', data=check_df)"
      ],
      "execution_count": 115,
      "outputs": [
        {
          "output_type": "execute_result",
          "data": {
            "text/plain": [
              "<seaborn.axisgrid.FacetGrid at 0x7f373974ff50>"
            ]
          },
          "metadata": {
            "tags": []
          },
          "execution_count": 115
        },
        {
          "output_type": "display_data",
          "data": {
            "image/png": "[encoded data removed]",
            "text/plain": [
              "<Figure size 360x360 with 1 Axes>"
            ]
          },
          "metadata": {
            "tags": [],
            "needs_background": "light"
          }
        }
      ]
    },
    {
      "cell_type": "code",
      "metadata": {
        "id": "Gyo9FKMNrpMy",
        "outputId": "de436bc3-a4eb-401d-8945-be89e26128d3",
        "colab": {
          "base_uri": "https://localhost:8080/",
          "height": 401
        }
      },
      "source": [
        "# fig = plt.figure(figsize=(30,30))\n",
        "sns.catplot(x='Region_Code_proc',kind = 'count', data=check_df)"
      ],
      "execution_count": 116,
      "outputs": [
        {
          "output_type": "execute_result",
          "data": {
            "text/plain": [
              "<seaborn.axisgrid.FacetGrid at 0x7f373917ea50>"
            ]
          },
          "metadata": {
            "tags": []
          },
          "execution_count": 116
        },
        {
          "output_type": "display_data",
          "data": {
            "image/png": "[encoded data removed]",
            "text/plain": [
              "<Figure size 360x360 with 1 Axes>"
            ]
          },
          "metadata": {
            "tags": [],
            "needs_background": "light"
          }
        }
      ]
    },
    {
      "cell_type": "code",
      "metadata": {
        "id": "3slAW0mzf6vz",
        "outputId": "ac3d718f-cb76-4096-fde4-abe54bb5d9d6",
        "colab": {
          "base_uri": "https://localhost:8080/"
        }
      },
      "source": [
        "# calculate fpr and tpr\n",
        "fp = x_test_check['Pred'].loc[((x_test_check['True']==0) & (x_test_check['Pred']==1))].count()\n",
        "fpn = x_test_check['Pred'].loc[((x_test_check['True']==0))].count()\n",
        "\n",
        "tp = x_test_check['Pred'].loc[((x_test_check['True']==1) & (x_test_check['Pred']==1))].count()\n",
        "tpn = x_test_check['Pred'].loc[((x_test_check['True']==1))].count()\n",
        "\n",
        "fpr = fp/fpn\n",
        "tpr = tp/tpn\n",
        "\n",
        "print(f'TP:{tp}, TPN:{tpn}',\n",
        "      f'\\n FP:{fp},FPN:{fpn}')\n",
        "print(f'tpr: {tpr}, fpr:{fpr}')"
      ],
      "execution_count": 117,
      "outputs": [
        {
          "output_type": "stream",
          "text": [
            "TP:4202, TPN:14599 \n",
            " FP:2729,FPN:46833\n",
            "tpr: 0.28782793342009727, fpr:0.05827087737279269\n"
          ],
          "name": "stdout"
        }
      ]
    }
  ]
}