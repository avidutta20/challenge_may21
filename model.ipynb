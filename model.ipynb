{
  "nbformat": 4,
  "nbformat_minor": 0,
  "metadata": {
    "colab": {
      "name": "model.ipynb",
      "provenance": [],
      "authorship_tag": "ABX9TyNtT+KmU4HoFlBd6arBYPBA"
    },
    "kernelspec": {
      "name": "python3",
      "display_name": "Python 3"
    },
    "language_info": {
      "name": "python"
    }
  },
  "cells": [
    {
      "cell_type": "code",
      "metadata": {
        "id": "nMZwLWfkdGJM"
      },
      "source": [
        "import pandas as pd\n",
        "import numpy as np\n",
        "from sklearn.model_selection import train_test_split\n",
        "from sklearn.preprocessing import StandardScaler, MinMaxScaler, OneHotEncoder, LabelEncoder\n",
        "from sklearn.compose import ColumnTransformer\n",
        "\n",
        "from sklearn.ensemble import RandomForestClassifier\n",
        "import os, sys\n",
        "from collections import defaultdict\n",
        "from sklearn.metrics import accuracy_score, roc_auc_score, confusion_matrix, plot_roc_curve,plot_confusion_matrix\n",
        "import matplotlib\n",
        "from matplotlib import pyplot as plt\n",
        "import seaborn as sns\n",
        "import scipy"
      ],
      "execution_count": 86,
      "outputs": []
    },
    {
      "cell_type": "code",
      "metadata": {
        "id": "HcQMmj29dK9a",
        "colab": {
          "base_uri": "https://localhost:8080/"
        },
        "outputId": "240a89b3-58f2-4c5c-94f9-49bc162be2f2"
      },
      "source": [
        "!git clone https://github.com/avidutta20/challenge_may21"
      ],
      "execution_count": 3,
      "outputs": [
        {
          "output_type": "stream",
          "text": [
            "Cloning into 'challenge_may21'...\n",
            "remote: Enumerating objects: 55, done.\u001b[K\n",
            "remote: Counting objects: 100% (55/55), done.\u001b[K\n",
            "remote: Compressing objects: 100% (47/47), done.\u001b[K\n",
            "remote: Total 55 (delta 21), reused 26 (delta 6), pack-reused 0\u001b[K\n",
            "Unpacking objects: 100% (55/55), done.\n"
          ],
          "name": "stdout"
        }
      ]
    },
    {
      "cell_type": "code",
      "metadata": {
        "id": "haRwSb0mPy_G"
      },
      "source": [
        "os.chdir('/content/challenge_may21/')"
      ],
      "execution_count": 4,
      "outputs": []
    },
    {
      "cell_type": "code",
      "metadata": {
        "id": "plg9bXaRehuG"
      },
      "source": [
        "def load_data():\n",
        "    pass\n",
        "df = pd.read_csv('dataset/av_jobathon_may21_train.csv')\n",
        "\n",
        "# creating a list of all trainable features name\n",
        "feature_list = df.columns[1:10]\n",
        "target = df.columns[10]  # 'Is_Lead' column name\n",
        "\n",
        "# splitting into train & test\n",
        "x_train, x_test, y_train, y_test = train_test_split(df[feature_list], df[target], test_size=0.25, random_state=25)\n"
      ],
      "execution_count": 99,
      "outputs": []
    },
    {
      "cell_type": "code",
      "metadata": {
        "id": "KgWMVpZz5KxF"
      },
      "source": [
        "def get_raw_train_data(with_labels = False):\n",
        "  # splitting into train & test\n",
        "  x_train, x_test, y_train, y_test = train_test_split(df[feature_list], df[target], test_size=0.25, random_state=25)\n",
        "    \n",
        "  if with_labels:\n",
        "    x_train['Is_Lead'] = y_train\n",
        "\n",
        "  return x_train"
      ],
      "execution_count": 88,
      "outputs": []
    },
    {
      "cell_type": "code",
      "metadata": {
        "id": "FwCBU0pJ3Ms6"
      },
      "source": [
        "# creating a x_train_complete x_train_df copy\n",
        "x_train_df = x_train.copy()\n",
        "x_train_df['Is_Lead'] = y_train\n",
        "\n",
        "# creating a x_train processing_experimenting copy\n",
        "x_train_raw = x_train_df.copy()"
      ],
      "execution_count": 100,
      "outputs": []
    },
    {
      "cell_type": "markdown",
      "metadata": {
        "id": "wjvAeNJzuHAZ"
      },
      "source": [
        "#Data Processing"
      ]
    },
    {
      "cell_type": "code",
      "metadata": {
        "id": "99SYb_kcr7bo",
        "colab": {
          "base_uri": "https://localhost:8080/"
        },
        "outputId": "28773569-2559-4ed5-e78c-da9ee831df2a"
      },
      "source": [
        "def checking_dataset_balance(df,feature_name, target):\n",
        "  \n",
        "  class_labels = df[target].unique()\n",
        "  total_rows = df[target].count()\n",
        "  class_dict={}\n",
        "  for label in class_labels:\n",
        "    class_dict[label] = {'value': df[target].loc[df[target]==label].count()}\n",
        "    class_dict[label]['perc'] = (df[target].loc[df[target]==label].count())/total_rows\n",
        "  return class_dict\n",
        "\n",
        "# checking dataset imbalance\n",
        "checking_dataset_balance(df,feature_list,target)\n",
        "\n",
        "# dataset is not imbalanced."
      ],
      "execution_count": 101,
      "outputs": [
        {
          "output_type": "execute_result",
          "data": {
            "text/plain": [
              "{0: {'perc': 0.7627917387323228, 'value': 187437},\n",
              " 1: {'perc': 0.23720826126767727, 'value': 58288}}"
            ]
          },
          "metadata": {
            "tags": []
          },
          "execution_count": 101
        }
      ]
    },
    {
      "cell_type": "markdown",
      "metadata": {
        "id": "x4b32jjQuk1v"
      },
      "source": [
        "## Processing Catagorical Values"
      ]
    },
    {
      "cell_type": "code",
      "metadata": {
        "id": "3fMBaZ_khDH5"
      },
      "source": [
        "def execute_process(dframe, colname,func,arg1):\n",
        "    colname_new = colname + '_proc'\n",
        "    dframe[colname_new] = dframe[colname].apply(lambda x: func(x,arg1))\n",
        "    return dframe\n",
        "def extract_process(value,index):\n",
        "    value = int(value[index:])\n",
        "    return value\n",
        "\n",
        "def replace_values(value, value_dic):\n",
        "    # replaces any value in the dframe colname with given dict\n",
        "    return value_dic[value]\n",
        "\n",
        "def default_value():\n",
        "    return 0\n",
        "\n",
        "def one_hot(dframe, colname):\n",
        "  onehotencoder = OneHotEncoder()\n",
        "  #reshape the 1-D country array to 2-D as fit_transform expects 2-D and finally fit the object \n",
        "  X = onehotencoder.fit_transform(dframe[colname].values.reshape(-1,1)).toarray()\n",
        "  # creating a dataframe \n",
        "  dfOneHotx = pd.DataFrame(X, columns = [colname+\"_\"+str(int(i)) for i in range(len(dframe[colname].unique()))])\n",
        "  # adding index to the dataframe as dframe for joining\n",
        "  dfOneHotx.set_index(dframe.index, inplace=True)\n",
        "  # concatinating the two\n",
        "  df2 = pd.concat([dframe, dfOneHotx], axis = 1)\n",
        "  \n",
        "  return df2"
      ],
      "execution_count": 233,
      "outputs": []
    },
    {
      "cell_type": "code",
      "metadata": {
        "id": "lexy3zOyikaM"
      },
      "source": [
        "def process(dframe, default_func = default_value):\n",
        "  gender_dic = is_active_dic = occupation_dic = defaultdict(default_value)\n",
        "\n",
        "\n",
        "  gender_dic = is_active_dic = occupation_dic = defaultdict(default_value)\n",
        "  \n",
        "  gender_dic = {'Male': 0,\n",
        "                  'Female': 1}\n",
        "  is_active_dic = {'Yes': 1,\n",
        "                  'No': 0}\n",
        "\n",
        "  occupation_dic = {'Self_Employed': 1,\n",
        "                      'Other': 2,\n",
        "                      'Salaried': 3,\n",
        "                      'Entrepreneur': 4}\n",
        "\n",
        "  execute_process(dframe,'Region_Code', extract_process, 2)\n",
        "  print('Region Code Processed Successfully')\n",
        "\n",
        "  execute_process(dframe,'Channel_Code', extract_process, 1)\n",
        "  print('Channel Code Processed Successfully')\n",
        "  dframe = one_hot(dframe, 'Channel_Code_proc')\n",
        "\n",
        "  dframe = execute_process(dframe,'Gender', replace_values, gender_dic)\n",
        "  print('Gender Processed Successfully')\n",
        "  dframe = one_hot(dframe, 'Gender_proc')\n",
        "\n",
        "  execute_process(dframe,'Occupation', replace_values, occupation_dic)\n",
        "  print('Occupation Processed Successfully')\n",
        "  dframe = one_hot(dframe, 'Occupation_proc')\n",
        "\n",
        "  execute_process(dframe,'Is_Active',replace_values, is_active_dic)\n",
        "  print('Is Active Processed Successfully')\n",
        "  dframe = one_hot(dframe, 'Is_Active_proc')\n",
        "\n",
        "  dframe['Credit_Product'] = dframe['Credit_Product'].fillna('No')\n",
        "  execute_process(dframe,'Credit_Product',replace_values, is_active_dic)\n",
        "  dframe = one_hot(dframe, 'Credit_Product_proc')\n",
        "  return dframe"
      ],
      "execution_count": 234,
      "outputs": []
    },
    {
      "cell_type": "markdown",
      "metadata": {
        "id": "xmgiuL1KvGBs"
      },
      "source": [
        "## Cheking SkewNess"
      ]
    },
    {
      "cell_type": "code",
      "metadata": {
        "id": "tQDpbNc7_zVe",
        "colab": {
          "base_uri": "https://localhost:8080/"
        },
        "outputId": "31fdc3e8-43da-4b5d-e07f-0cc755280e21"
      },
      "source": [
        "# # checking skewness\n",
        "# scipy.stats.skew(x_train_df['Avg_Account_Balance'])"
      ],
      "execution_count": 10,
      "outputs": [
        {
          "output_type": "execute_result",
          "data": {
            "text/plain": [
              "2.9757408570525747"
            ]
          },
          "metadata": {
            "tags": []
          },
          "execution_count": 10
        }
      ]
    },
    {
      "cell_type": "code",
      "metadata": {
        "id": "XuyAztar8dtW"
      },
      "source": [
        "x_train_df = get_raw_train_data(with_labels=True)"
      ],
      "execution_count": 235,
      "outputs": []
    },
    {
      "cell_type": "code",
      "metadata": {
        "colab": {
          "base_uri": "https://localhost:8080/"
        },
        "id": "frXjrYF28DT7",
        "outputId": "2f77981e-b6f6-4413-f3ff-c5fb36c558fb"
      },
      "source": [
        "# processing x_train_df\n",
        "x_train_df = process(x_train_df)"
      ],
      "execution_count": 236,
      "outputs": [
        {
          "output_type": "stream",
          "text": [
            "Region Code Processed Successfully\n",
            "Channel Code Processed Successfully\n",
            "Gender Processed Successfully\n",
            "Occupation Processed Successfully\n",
            "Is Active Processed Successfully\n"
          ],
          "name": "stdout"
        }
      ]
    },
    {
      "cell_type": "code",
      "metadata": {
        "colab": {
          "base_uri": "https://localhost:8080/"
        },
        "id": "ksp9komq8WCe",
        "outputId": "85139228-87d7-401d-f9a4-3ee13e49785e"
      },
      "source": [
        "x_train_df.info()"
      ],
      "execution_count": 237,
      "outputs": [
        {
          "output_type": "stream",
          "text": [
            "<class 'pandas.core.frame.DataFrame'>\n",
            "Int64Index: 184293 entries, 188708 to 29828\n",
            "Data columns (total 30 columns):\n",
            " #   Column                 Non-Null Count   Dtype  \n",
            "---  ------                 --------------   -----  \n",
            " 0   Gender                 184293 non-null  object \n",
            " 1   Age                    184293 non-null  int64  \n",
            " 2   Region_Code            184293 non-null  object \n",
            " 3   Occupation             184293 non-null  object \n",
            " 4   Channel_Code           184293 non-null  object \n",
            " 5   Vintage                184293 non-null  int64  \n",
            " 6   Credit_Product         184293 non-null  object \n",
            " 7   Avg_Account_Balance    184293 non-null  int64  \n",
            " 8   Is_Active              184293 non-null  object \n",
            " 9   Is_Lead                184293 non-null  int64  \n",
            " 10  Region_Code_proc       184293 non-null  int64  \n",
            " 11  Channel_Code_proc      184293 non-null  int64  \n",
            " 12  Channel_Code_proc_0    184293 non-null  float64\n",
            " 13  Channel_Code_proc_1    184293 non-null  float64\n",
            " 14  Channel_Code_proc_2    184293 non-null  float64\n",
            " 15  Channel_Code_proc_3    184293 non-null  float64\n",
            " 16  Gender_proc            184293 non-null  int64  \n",
            " 17  Gender_proc_0          184293 non-null  float64\n",
            " 18  Gender_proc_1          184293 non-null  float64\n",
            " 19  Occupation_proc        184293 non-null  int64  \n",
            " 20  Occupation_proc_0      184293 non-null  float64\n",
            " 21  Occupation_proc_1      184293 non-null  float64\n",
            " 22  Occupation_proc_2      184293 non-null  float64\n",
            " 23  Occupation_proc_3      184293 non-null  float64\n",
            " 24  Is_Active_proc         184293 non-null  int64  \n",
            " 25  Is_Active_proc_0       184293 non-null  float64\n",
            " 26  Is_Active_proc_1       184293 non-null  float64\n",
            " 27  Credit_Product_proc    184293 non-null  int64  \n",
            " 28  Credit_Product_proc_0  184293 non-null  float64\n",
            " 29  Credit_Product_proc_1  184293 non-null  float64\n",
            "dtypes: float64(14), int64(10), object(6)\n",
            "memory usage: 43.6+ MB\n"
          ],
          "name": "stdout"
        }
      ]
    },
    {
      "cell_type": "code",
      "metadata": {
        "colab": {
          "base_uri": "https://localhost:8080/",
          "height": 401
        },
        "id": "NtcudZVq7E9T",
        "outputId": "3342703b-5a10-46bf-f1f6-e683e82441f0"
      },
      "source": [
        "sns.catplot(x='Channel_Code', hue = 'Is_Lead', kind=\"count\", palette=\"ch:.25\", data=x_train_df)"
      ],
      "execution_count": 14,
      "outputs": [
        {
          "output_type": "execute_result",
          "data": {
            "text/plain": [
              "<seaborn.axisgrid.FacetGrid at 0x7f544875f850>"
            ]
          },
          "metadata": {
            "tags": []
          },
          "execution_count": 14
        },
        {
          "output_type": "display_data",
          "data": {
            "image/png": "[encoded data removed]",
            "text/plain": [
              "<Figure size 405.125x360 with 1 Axes>"
            ]
          },
          "metadata": {
            "tags": [],
            "needs_background": "light"
          }
        }
      ]
    },
    {
      "cell_type": "code",
      "metadata": {
        "id": "Q4Ybx9XXG6zJ",
        "colab": {
          "base_uri": "https://localhost:8080/",
          "height": 282
        },
        "outputId": "d8b26fe0-5e6b-4dfc-afcf-33d0cc8b97af"
      },
      "source": [
        "x_train_df['Channel_Code_proc'].plot.kde()"
      ],
      "execution_count": 15,
      "outputs": [
        {
          "output_type": "execute_result",
          "data": {
            "text/plain": [
              "<matplotlib.axes._subplots.AxesSubplot at 0x7f543d9f1190>"
            ]
          },
          "metadata": {
            "tags": []
          },
          "execution_count": 15
        },
        {
          "output_type": "display_data",
          "data": {
            "image/png": "[encoded data removed]",
            "text/plain": [
              "<Figure size 432x288 with 1 Axes>"
            ]
          },
          "metadata": {
            "tags": [],
            "needs_background": "light"
          }
        }
      ]
    },
    {
      "cell_type": "code",
      "metadata": {
        "colab": {
          "base_uri": "https://localhost:8080/",
          "height": 401
        },
        "id": "8LzXnrhU808g",
        "outputId": "0a7cbee6-60a2-4d20-d433-5cb6f32b46db"
      },
      "source": [
        "sns.catplot(x='Region_Code', hue = 'Is_Lead', kind=\"count\", palette=\"ch:.25\", data=x_train_df)"
      ],
      "execution_count": 16,
      "outputs": [
        {
          "output_type": "execute_result",
          "data": {
            "text/plain": [
              "<seaborn.axisgrid.FacetGrid at 0x7f543d94b9d0>"
            ]
          },
          "metadata": {
            "tags": []
          },
          "execution_count": 16
        },
        {
          "output_type": "display_data",
          "data": {
            "image/png": "[encoded data removed]",
            "text/plain": [
              "<Figure size 405.125x360 with 1 Axes>"
            ]
          },
          "metadata": {
            "tags": [],
            "needs_background": "light"
          }
        }
      ]
    },
    {
      "cell_type": "code",
      "metadata": {
        "id": "dvhJBDRzGKex",
        "colab": {
          "base_uri": "https://localhost:8080/",
          "height": 284
        },
        "outputId": "d366c70a-d90b-42a0-b3da-07a2f7ffb5a2"
      },
      "source": [
        "x_train_df['Region_Code_proc'].plot.kde()"
      ],
      "execution_count": 17,
      "outputs": [
        {
          "output_type": "execute_result",
          "data": {
            "text/plain": [
              "<matplotlib.axes._subplots.AxesSubplot at 0x7f543d97ac10>"
            ]
          },
          "metadata": {
            "tags": []
          },
          "execution_count": 17
        },
        {
          "output_type": "display_data",
          "data": {
            "image/png": "[encoded data removed]",
            "text/plain": [
              "<Figure size 432x288 with 1 Axes>"
            ]
          },
          "metadata": {
            "tags": [],
            "needs_background": "light"
          }
        }
      ]
    },
    {
      "cell_type": "code",
      "metadata": {
        "id": "ZRqfy9or9Dg-"
      },
      "source": [
        "# Checking Integral datas\n",
        "# columns are:Age, Vintage, Account_Balance"
      ],
      "execution_count": null,
      "outputs": []
    },
    {
      "cell_type": "code",
      "metadata": {
        "colab": {
          "base_uri": "https://localhost:8080/",
          "height": 306
        },
        "id": "fWdsiLNoL83x",
        "outputId": "fa3ab1cd-597b-4460-b455-874ce17f5da2"
      },
      "source": [
        "x_train_df['Avg_Account_Balance'].plot.kde()"
      ],
      "execution_count": 18,
      "outputs": [
        {
          "output_type": "execute_result",
          "data": {
            "text/plain": [
              "<matplotlib.axes._subplots.AxesSubplot at 0x7f543d7a5190>"
            ]
          },
          "metadata": {
            "tags": []
          },
          "execution_count": 18
        },
        {
          "output_type": "display_data",
          "data": {
            "image/png": "[encoded data removed]",
            "text/plain": [
              "<Figure size 432x288 with 1 Axes>"
            ]
          },
          "metadata": {
            "tags": [],
            "needs_background": "light"
          }
        }
      ]
    },
    {
      "cell_type": "code",
      "metadata": {
        "colab": {
          "base_uri": "https://localhost:8080/"
        },
        "id": "xRVYjkeYMHs0",
        "outputId": "33d73087-86eb-49c5-ad24-86241b96f584"
      },
      "source": [
        "# the graph shows the average balance is highly right skewed.\n",
        "# calculating skewness\n",
        "skew_ac_bal = scipy.stats.skew(x_train_df['Avg_Account_Balance'])\n",
        "# a +ve high value as expected\n",
        "skew_ac_bal"
      ],
      "execution_count": 19,
      "outputs": [
        {
          "output_type": "execute_result",
          "data": {
            "text/plain": [
              "2.9757408570525747"
            ]
          },
          "metadata": {
            "tags": []
          },
          "execution_count": 19
        }
      ]
    },
    {
      "cell_type": "markdown",
      "metadata": {
        "id": "MDGCqJIi0loi"
      },
      "source": [
        "## log transform"
      ]
    },
    {
      "cell_type": "code",
      "metadata": {
        "id": "o06JDt3LEKrp",
        "colab": {
          "base_uri": "https://localhost:8080/",
          "height": 282
        },
        "outputId": "acabbc81-2966-4eaf-d3cc-0739717913b4"
      },
      "source": [
        "# let's log transform it reduce to reduce it's skewness\n",
        "#log_transforming\n",
        "def log_transform(x):\n",
        "  result = 0.0\n",
        "  if x!=0:\n",
        "    result = np.log(x)\n",
        "  else:\n",
        "    result = np.log(0.00001)\n",
        "  return result\n",
        "\n",
        "x_train_df['Avg_Account_Balance_log'] = x_train_df['Avg_Account_Balance'].apply(lambda x: log_transform(x))\n",
        "x_train_df['Avg_Account_Balance_log'].plot.kde()"
      ],
      "execution_count": 20,
      "outputs": [
        {
          "output_type": "execute_result",
          "data": {
            "text/plain": [
              "<matplotlib.axes._subplots.AxesSubplot at 0x7f543d6bc310>"
            ]
          },
          "metadata": {
            "tags": []
          },
          "execution_count": 20
        },
        {
          "output_type": "display_data",
          "data": {
            "image/png": "[encoded data removed]",
            "text/plain": [
              "<Figure size 432x288 with 1 Axes>"
            ]
          },
          "metadata": {
            "tags": [],
            "needs_background": "light"
          }
        }
      ]
    },
    {
      "cell_type": "code",
      "metadata": {
        "id": "V3Ol6u8qFfe5",
        "colab": {
          "base_uri": "https://localhost:8080/"
        },
        "outputId": "e88bfbdc-d9e7-4a51-939a-8a2c01c27fe8"
      },
      "source": [
        "# checking new skew\n",
        "skew_ac_bal_log = scipy.stats.skew(x_train_df['Avg_Account_Balance_log'])\n",
        "print(f'Skew after applying log_transform to \"Avg_Account_Balance_log is {skew_ac_bal_log}\"')\n",
        "# which is less than +0.5 showing a good normal curve as we wanted"
      ],
      "execution_count": 21,
      "outputs": [
        {
          "output_type": "stream",
          "text": [
            "Skew after applying log_transform to \"Avg_Account_Balance_log is 0.23654555482098255\"\n"
          ],
          "name": "stdout"
        }
      ]
    },
    {
      "cell_type": "code",
      "metadata": {
        "id": "rgfph7rACpM1",
        "colab": {
          "base_uri": "https://localhost:8080/",
          "height": 282
        },
        "outputId": "44bfea16-bfc2-4431-f411-b3003800638b"
      },
      "source": [
        "# Age\n",
        "x_train_df['Age'].plot.kde()"
      ],
      "execution_count": 22,
      "outputs": [
        {
          "output_type": "execute_result",
          "data": {
            "text/plain": [
              "<matplotlib.axes._subplots.AxesSubplot at 0x7f543cd8f710>"
            ]
          },
          "metadata": {
            "tags": []
          },
          "execution_count": 22
        },
        {
          "output_type": "display_data",
          "data": {
            "image/png": "[encoded data removed]",
            "text/plain": [
              "<Figure size 432x288 with 1 Axes>"
            ]
          },
          "metadata": {
            "tags": [],
            "needs_background": "light"
          }
        }
      ]
    },
    {
      "cell_type": "code",
      "metadata": {
        "id": "_TD8ZHa7N5zG"
      },
      "source": [
        "# the graph shows the age is also not normal.\n",
        "# based on inspecting we will break the age into three groups based on the local minimas in graph\n",
        "# 0-20, 20-40,40-60, 60 and up\n",
        "def bin_age(x):\n",
        "  # catagories = ['0-20','20-40','40-60','60+']\n",
        "  cat = ''\n",
        "  \n",
        "  if x>20 and x<=40:\n",
        "    cat = '20-40'\n",
        "  elif x>40 and x<=60:\n",
        "    cat = '40-60'\n",
        "  elif x>60 :\n",
        "    cat = '60+'\n",
        "  else :\n",
        "    cat = '0-20'\n",
        "  return cat\n",
        "\n"
      ],
      "execution_count": 23,
      "outputs": []
    },
    {
      "cell_type": "code",
      "metadata": {
        "colab": {
          "base_uri": "https://localhost:8080/",
          "height": 439
        },
        "id": "G2lJZDzPw_yn",
        "outputId": "39a138ea-41d0-478c-fba1-65351b1fd1ae"
      },
      "source": [
        "x_train_df['Age_Binned'] = x_train_df['Age'].apply(lambda x: bin_age(x))\n",
        "x_train_df"
      ],
      "execution_count": 24,
      "outputs": [
        {
          "output_type": "execute_result",
          "data": {
            "text/html": [
              "<div>\n",
              "<style scoped>\n",
              "    .dataframe tbody tr th:only-of-type {\n",
              "        vertical-align: middle;\n",
              "    }\n",
              "\n",
              "    .dataframe tbody tr th {\n",
              "        vertical-align: top;\n",
              "    }\n",
              "\n",
              "    .dataframe thead th {\n",
              "        text-align: right;\n",
              "    }\n",
              "</style>\n",
              "<table border=\"1\" class=\"dataframe\">\n",
              "  <thead>\n",
              "    <tr style=\"text-align: right;\">\n",
              "      <th></th>\n",
              "      <th>Gender</th>\n",
              "      <th>Age</th>\n",
              "      <th>Region_Code</th>\n",
              "      <th>Occupation</th>\n",
              "      <th>Channel_Code</th>\n",
              "      <th>Vintage</th>\n",
              "      <th>Credit_Product</th>\n",
              "      <th>Avg_Account_Balance</th>\n",
              "      <th>Is_Active</th>\n",
              "      <th>Is_Lead</th>\n",
              "      <th>Region_Code_proc</th>\n",
              "      <th>Channel_Code_proc</th>\n",
              "      <th>Gender_proc</th>\n",
              "      <th>Occupation_proc</th>\n",
              "      <th>Is_Active_proc</th>\n",
              "      <th>Credit_Product_proc</th>\n",
              "      <th>Avg_Account_Balance_log</th>\n",
              "      <th>Age_Binned</th>\n",
              "    </tr>\n",
              "  </thead>\n",
              "  <tbody>\n",
              "    <tr>\n",
              "      <th>188708</th>\n",
              "      <td>Male</td>\n",
              "      <td>44</td>\n",
              "      <td>RG268</td>\n",
              "      <td>Self_Employed</td>\n",
              "      <td>X3</td>\n",
              "      <td>87</td>\n",
              "      <td>No</td>\n",
              "      <td>543460</td>\n",
              "      <td>No</td>\n",
              "      <td>0</td>\n",
              "      <td>268</td>\n",
              "      <td>3</td>\n",
              "      <td>0</td>\n",
              "      <td>1</td>\n",
              "      <td>0</td>\n",
              "      <td>0</td>\n",
              "      <td>13.205711</td>\n",
              "      <td>40-60</td>\n",
              "    </tr>\n",
              "    <tr>\n",
              "      <th>17007</th>\n",
              "      <td>Female</td>\n",
              "      <td>50</td>\n",
              "      <td>RG252</td>\n",
              "      <td>Self_Employed</td>\n",
              "      <td>X2</td>\n",
              "      <td>69</td>\n",
              "      <td>No</td>\n",
              "      <td>891895</td>\n",
              "      <td>Yes</td>\n",
              "      <td>0</td>\n",
              "      <td>252</td>\n",
              "      <td>2</td>\n",
              "      <td>1</td>\n",
              "      <td>1</td>\n",
              "      <td>1</td>\n",
              "      <td>0</td>\n",
              "      <td>13.701104</td>\n",
              "      <td>40-60</td>\n",
              "    </tr>\n",
              "    <tr>\n",
              "      <th>109929</th>\n",
              "      <td>Male</td>\n",
              "      <td>77</td>\n",
              "      <td>RG284</td>\n",
              "      <td>Other</td>\n",
              "      <td>X3</td>\n",
              "      <td>81</td>\n",
              "      <td>No</td>\n",
              "      <td>1163416</td>\n",
              "      <td>No</td>\n",
              "      <td>0</td>\n",
              "      <td>284</td>\n",
              "      <td>3</td>\n",
              "      <td>0</td>\n",
              "      <td>2</td>\n",
              "      <td>0</td>\n",
              "      <td>0</td>\n",
              "      <td>13.966871</td>\n",
              "      <td>60+</td>\n",
              "    </tr>\n",
              "    <tr>\n",
              "      <th>81455</th>\n",
              "      <td>Male</td>\n",
              "      <td>74</td>\n",
              "      <td>RG283</td>\n",
              "      <td>Other</td>\n",
              "      <td>X1</td>\n",
              "      <td>14</td>\n",
              "      <td>No</td>\n",
              "      <td>1720031</td>\n",
              "      <td>No</td>\n",
              "      <td>0</td>\n",
              "      <td>283</td>\n",
              "      <td>1</td>\n",
              "      <td>0</td>\n",
              "      <td>2</td>\n",
              "      <td>0</td>\n",
              "      <td>0</td>\n",
              "      <td>14.357853</td>\n",
              "      <td>60+</td>\n",
              "    </tr>\n",
              "    <tr>\n",
              "      <th>77866</th>\n",
              "      <td>Female</td>\n",
              "      <td>25</td>\n",
              "      <td>RG283</td>\n",
              "      <td>Other</td>\n",
              "      <td>X1</td>\n",
              "      <td>21</td>\n",
              "      <td>No</td>\n",
              "      <td>1489690</td>\n",
              "      <td>Yes</td>\n",
              "      <td>0</td>\n",
              "      <td>283</td>\n",
              "      <td>1</td>\n",
              "      <td>1</td>\n",
              "      <td>2</td>\n",
              "      <td>1</td>\n",
              "      <td>0</td>\n",
              "      <td>14.214079</td>\n",
              "      <td>20-40</td>\n",
              "    </tr>\n",
              "    <tr>\n",
              "      <th>...</th>\n",
              "      <td>...</td>\n",
              "      <td>...</td>\n",
              "      <td>...</td>\n",
              "      <td>...</td>\n",
              "      <td>...</td>\n",
              "      <td>...</td>\n",
              "      <td>...</td>\n",
              "      <td>...</td>\n",
              "      <td>...</td>\n",
              "      <td>...</td>\n",
              "      <td>...</td>\n",
              "      <td>...</td>\n",
              "      <td>...</td>\n",
              "      <td>...</td>\n",
              "      <td>...</td>\n",
              "      <td>...</td>\n",
              "      <td>...</td>\n",
              "      <td>...</td>\n",
              "    </tr>\n",
              "    <tr>\n",
              "      <th>130365</th>\n",
              "      <td>Female</td>\n",
              "      <td>68</td>\n",
              "      <td>RG254</td>\n",
              "      <td>Other</td>\n",
              "      <td>X3</td>\n",
              "      <td>93</td>\n",
              "      <td>No</td>\n",
              "      <td>2039817</td>\n",
              "      <td>Yes</td>\n",
              "      <td>0</td>\n",
              "      <td>254</td>\n",
              "      <td>3</td>\n",
              "      <td>1</td>\n",
              "      <td>2</td>\n",
              "      <td>1</td>\n",
              "      <td>0</td>\n",
              "      <td>14.528371</td>\n",
              "      <td>60+</td>\n",
              "    </tr>\n",
              "    <tr>\n",
              "      <th>92303</th>\n",
              "      <td>Female</td>\n",
              "      <td>34</td>\n",
              "      <td>RG284</td>\n",
              "      <td>Salaried</td>\n",
              "      <td>X1</td>\n",
              "      <td>20</td>\n",
              "      <td>No</td>\n",
              "      <td>873268</td>\n",
              "      <td>Yes</td>\n",
              "      <td>0</td>\n",
              "      <td>284</td>\n",
              "      <td>1</td>\n",
              "      <td>1</td>\n",
              "      <td>3</td>\n",
              "      <td>1</td>\n",
              "      <td>0</td>\n",
              "      <td>13.679998</td>\n",
              "      <td>20-40</td>\n",
              "    </tr>\n",
              "    <tr>\n",
              "      <th>6618</th>\n",
              "      <td>Male</td>\n",
              "      <td>28</td>\n",
              "      <td>RG253</td>\n",
              "      <td>Other</td>\n",
              "      <td>X1</td>\n",
              "      <td>26</td>\n",
              "      <td>No</td>\n",
              "      <td>1186040</td>\n",
              "      <td>Yes</td>\n",
              "      <td>0</td>\n",
              "      <td>253</td>\n",
              "      <td>1</td>\n",
              "      <td>0</td>\n",
              "      <td>2</td>\n",
              "      <td>1</td>\n",
              "      <td>0</td>\n",
              "      <td>13.986131</td>\n",
              "      <td>20-40</td>\n",
              "    </tr>\n",
              "    <tr>\n",
              "      <th>90430</th>\n",
              "      <td>Female</td>\n",
              "      <td>50</td>\n",
              "      <td>RG284</td>\n",
              "      <td>Salaried</td>\n",
              "      <td>X2</td>\n",
              "      <td>55</td>\n",
              "      <td>No</td>\n",
              "      <td>1649000</td>\n",
              "      <td>Yes</td>\n",
              "      <td>1</td>\n",
              "      <td>284</td>\n",
              "      <td>2</td>\n",
              "      <td>1</td>\n",
              "      <td>3</td>\n",
              "      <td>1</td>\n",
              "      <td>0</td>\n",
              "      <td>14.315680</td>\n",
              "      <td>40-60</td>\n",
              "    </tr>\n",
              "    <tr>\n",
              "      <th>29828</th>\n",
              "      <td>Female</td>\n",
              "      <td>31</td>\n",
              "      <td>RG255</td>\n",
              "      <td>Salaried</td>\n",
              "      <td>X1</td>\n",
              "      <td>25</td>\n",
              "      <td>No</td>\n",
              "      <td>1309430</td>\n",
              "      <td>No</td>\n",
              "      <td>0</td>\n",
              "      <td>255</td>\n",
              "      <td>1</td>\n",
              "      <td>1</td>\n",
              "      <td>3</td>\n",
              "      <td>0</td>\n",
              "      <td>0</td>\n",
              "      <td>14.085102</td>\n",
              "      <td>20-40</td>\n",
              "    </tr>\n",
              "  </tbody>\n",
              "</table>\n",
              "<p>184293 rows × 18 columns</p>\n",
              "</div>"
            ],
            "text/plain": [
              "        Gender  Age  ... Avg_Account_Balance_log Age_Binned\n",
              "188708    Male   44  ...               13.205711      40-60\n",
              "17007   Female   50  ...               13.701104      40-60\n",
              "109929    Male   77  ...               13.966871        60+\n",
              "81455     Male   74  ...               14.357853        60+\n",
              "77866   Female   25  ...               14.214079      20-40\n",
              "...        ...  ...  ...                     ...        ...\n",
              "130365  Female   68  ...               14.528371        60+\n",
              "92303   Female   34  ...               13.679998      20-40\n",
              "6618      Male   28  ...               13.986131      20-40\n",
              "90430   Female   50  ...               14.315680      40-60\n",
              "29828   Female   31  ...               14.085102      20-40\n",
              "\n",
              "[184293 rows x 18 columns]"
            ]
          },
          "metadata": {
            "tags": []
          },
          "execution_count": 24
        }
      ]
    },
    {
      "cell_type": "code",
      "metadata": {
        "colab": {
          "base_uri": "https://localhost:8080/",
          "height": 401
        },
        "id": "hOMWT0gqW8xO",
        "outputId": "af1df2d7-d0fa-49bc-8e5a-f684fccef404"
      },
      "source": [
        "sns.catplot(x='Age_Binned', kind=\"count\", palette=\"ch:.25\", data=x_train_df)"
      ],
      "execution_count": 25,
      "outputs": [
        {
          "output_type": "execute_result",
          "data": {
            "text/plain": [
              "<seaborn.axisgrid.FacetGrid at 0x7f543cdd6bd0>"
            ]
          },
          "metadata": {
            "tags": []
          },
          "execution_count": 25
        },
        {
          "output_type": "display_data",
          "data": {
            "image/png": "[encoded data removed]",
            "text/plain": [
              "<Figure size 360x360 with 1 Axes>"
            ]
          },
          "metadata": {
            "tags": [],
            "needs_background": "light"
          }
        }
      ]
    },
    {
      "cell_type": "code",
      "metadata": {
        "colab": {
          "base_uri": "https://localhost:8080/",
          "height": 392
        },
        "id": "N64BuwMqYxaj",
        "outputId": "deb764aa-ed0d-41f0-c4e7-6b6e01ed781c"
      },
      "source": [
        "# Converting to wide dataframe\n",
        "data_wide = x_train_df.pivot(columns = 'Age_Binned',\n",
        "                     values = 'Age')\n",
        "  \n",
        "# plotting multiple density plot\n",
        "data_wide.plot.kde(figsize = (8, 6),\n",
        "                   linewidth = 4)"
      ],
      "execution_count": 26,
      "outputs": [
        {
          "output_type": "execute_result",
          "data": {
            "text/plain": [
              "<matplotlib.axes._subplots.AxesSubplot at 0x7f543d0a4a50>"
            ]
          },
          "metadata": {
            "tags": []
          },
          "execution_count": 26
        },
        {
          "output_type": "display_data",
          "data": {
            "image/png": "[encoded data removed]",
            "text/plain": [
              "<Figure size 576x432 with 1 Axes>"
            ]
          },
          "metadata": {
            "tags": [],
            "needs_background": "light"
          }
        }
      ]
    },
    {
      "cell_type": "markdown",
      "metadata": {
        "id": "feuAhHr2xRxw"
      },
      "source": [
        "## age next transform"
      ]
    },
    {
      "cell_type": "code",
      "metadata": {
        "id": "BFX7wdU2aQ1p"
      },
      "source": [
        "# We see that the graph are normal in their group"
      ],
      "execution_count": null,
      "outputs": []
    },
    {
      "cell_type": "code",
      "metadata": {
        "id": "l514qp4LZMhf"
      },
      "source": [
        "# x_train['Age_log'] = x_train['Age'].apply(lambda x: log_transform(np.exp(x)))\n",
        "# x_train['Age_Binned_log'] = x_train['Age_log'].apply(lambda x: bin_age(x))\n",
        "# using box_cox transform\n",
        "# transform training data & save lambda value\n",
        "x_train_df['Age_box'], fitted_lambda = scipy.stats.boxcox(x_train_df['Age'])"
      ],
      "execution_count": 27,
      "outputs": []
    },
    {
      "cell_type": "code",
      "metadata": {
        "colab": {
          "base_uri": "https://localhost:8080/",
          "height": 386
        },
        "id": "sKDRsMvSi6uS",
        "outputId": "b6aa6df3-ccf4-4a00-eb7c-96a2310a3f3c"
      },
      "source": [
        "sns.displot(x='Age_box',kind='kde',data=x_train_df)"
      ],
      "execution_count": 28,
      "outputs": [
        {
          "output_type": "execute_result",
          "data": {
            "text/plain": [
              "<seaborn.axisgrid.FacetGrid at 0x7f543c578390>"
            ]
          },
          "metadata": {
            "tags": []
          },
          "execution_count": 28
        },
        {
          "output_type": "display_data",
          "data": {
            "image/png": "[encoded data removed]",
            "text/plain": [
              "<Figure size 360x360 with 1 Axes>"
            ]
          },
          "metadata": {
            "tags": [],
            "needs_background": "light"
          }
        }
      ]
    },
    {
      "cell_type": "code",
      "metadata": {
        "id": "A3Eu6qD9Zxl_"
      },
      "source": [
        "# # Converting to wide dataframe\n",
        "# data_wide = x_train_df.pivot(columns = 'Age_Binned_log',\n",
        "#                      values = 'Age_box')\n",
        "  \n",
        "# # plotting multiple density plot\n",
        "# data_wide.plot.kde(figsize = (8, 6),\n",
        "#                    linewidth = 4)"
      ],
      "execution_count": 44,
      "outputs": []
    },
    {
      "cell_type": "code",
      "metadata": {
        "colab": {
          "base_uri": "https://localhost:8080/",
          "height": 282
        },
        "id": "5g2y7JvOoPce",
        "outputId": "568572ca-fa8e-4b11-ea35-c8bd75eab966"
      },
      "source": [
        "# Vintage\n",
        "x_train_df['Vintage'].plot.kde()"
      ],
      "execution_count": 29,
      "outputs": [
        {
          "output_type": "execute_result",
          "data": {
            "text/plain": [
              "<matplotlib.axes._subplots.AxesSubplot at 0x7f543d599890>"
            ]
          },
          "metadata": {
            "tags": []
          },
          "execution_count": 29
        },
        {
          "output_type": "display_data",
          "data": {
            "image/png": "[encoded data removed]",
            "text/plain": [
              "<Figure size 432x288 with 1 Axes>"
            ]
          },
          "metadata": {
            "tags": [],
            "needs_background": "light"
          }
        }
      ]
    },
    {
      "cell_type": "code",
      "metadata": {
        "colab": {
          "base_uri": "https://localhost:8080/",
          "height": 282
        },
        "id": "oWr22JWzohrF",
        "outputId": "2add59b6-a215-4c22-8928-0d55d2b4583e"
      },
      "source": [
        "x_train_df['Vintage_sqrt'] = x_train_df['Vintage'].apply(lambda x: np.sqrt(x))\n",
        "x_train_df['Vintage_sqrt'].plot.kde()"
      ],
      "execution_count": 30,
      "outputs": [
        {
          "output_type": "execute_result",
          "data": {
            "text/plain": [
              "<matplotlib.axes._subplots.AxesSubplot at 0x7f543d53d310>"
            ]
          },
          "metadata": {
            "tags": []
          },
          "execution_count": 30
        },
        {
          "output_type": "display_data",
          "data": {
            "image/png": "[encoded data removed]",
            "text/plain": [
              "<Figure size 432x288 with 1 Axes>"
            ]
          },
          "metadata": {
            "tags": [],
            "needs_background": "light"
          }
        }
      ]
    },
    {
      "cell_type": "code",
      "metadata": {
        "colab": {
          "base_uri": "https://localhost:8080/",
          "height": 296
        },
        "id": "K1R8uHc5pDbs",
        "outputId": "7c87652e-f4e8-45a0-fa36-8c0d9238efee"
      },
      "source": [
        "sns.boxplot(x='Vintage',data=x_train_df)"
      ],
      "execution_count": 31,
      "outputs": [
        {
          "output_type": "execute_result",
          "data": {
            "text/plain": [
              "<matplotlib.axes._subplots.AxesSubplot at 0x7f543d495cd0>"
            ]
          },
          "metadata": {
            "tags": []
          },
          "execution_count": 31
        },
        {
          "output_type": "display_data",
          "data": {
            "image/png": "[encoded data removed]",
            "text/plain": [
              "<Figure size 432x288 with 1 Axes>"
            ]
          },
          "metadata": {
            "tags": [],
            "needs_background": "light"
          }
        }
      ]
    },
    {
      "cell_type": "code",
      "metadata": {
        "colab": {
          "base_uri": "https://localhost:8080/",
          "height": 297
        },
        "id": "xEyuRhYFpxFN",
        "outputId": "00726b56-679b-4e5f-9510-50a714a7c44e"
      },
      "source": [
        "sns.boxplot(x='Vintage_sqrt',data=x_train_df)"
      ],
      "execution_count": 32,
      "outputs": [
        {
          "output_type": "execute_result",
          "data": {
            "text/plain": [
              "<matplotlib.axes._subplots.AxesSubplot at 0x7f543d795890>"
            ]
          },
          "metadata": {
            "tags": []
          },
          "execution_count": 32
        },
        {
          "output_type": "display_data",
          "data": {
            "image/png": "[encoded data removed]",
            "text/plain": [
              "<Figure size 432x288 with 1 Axes>"
            ]
          },
          "metadata": {
            "tags": [],
            "needs_background": "light"
          }
        }
      ]
    },
    {
      "cell_type": "code",
      "metadata": {
        "colab": {
          "base_uri": "https://localhost:8080/",
          "height": 297
        },
        "id": "Ier2wLWNploL",
        "outputId": "145ea3d4-557d-43a6-ae50-4c6df9604004"
      },
      "source": [
        "x_train_df['Vintage_box'], fitted_lambda = scipy.stats.boxcox(x_train_df['Vintage'])\n",
        "sns.boxplot(x='Vintage_box',data=x_train_df)"
      ],
      "execution_count": 33,
      "outputs": [
        {
          "output_type": "execute_result",
          "data": {
            "text/plain": [
              "<matplotlib.axes._subplots.AxesSubplot at 0x7f543d7a8a90>"
            ]
          },
          "metadata": {
            "tags": []
          },
          "execution_count": 33
        },
        {
          "output_type": "display_data",
          "data": {
            "image/png": "[encoded data removed]",
            "text/plain": [
              "<Figure size 432x288 with 1 Axes>"
            ]
          },
          "metadata": {
            "tags": [],
            "needs_background": "light"
          }
        }
      ]
    },
    {
      "cell_type": "code",
      "metadata": {
        "colab": {
          "base_uri": "https://localhost:8080/"
        },
        "id": "IpCUcV6hBcLU",
        "outputId": "d9e6a710-8dea-4194-dea8-6c4a974626fe"
      },
      "source": [
        "x_train['Vintage']"
      ],
      "execution_count": 34,
      "outputs": [
        {
          "output_type": "execute_result",
          "data": {
            "text/plain": [
              "188708    87\n",
              "17007     69\n",
              "109929    81\n",
              "81455     14\n",
              "77866     21\n",
              "          ..\n",
              "130365    93\n",
              "92303     20\n",
              "6618      26\n",
              "90430     55\n",
              "29828     25\n",
              "Name: Vintage, Length: 184293, dtype: int64"
            ]
          },
          "metadata": {
            "tags": []
          },
          "execution_count": 34
        }
      ]
    },
    {
      "cell_type": "code",
      "metadata": {
        "colab": {
          "base_uri": "https://localhost:8080/",
          "height": 297
        },
        "id": "nGMFBFFdqasD",
        "outputId": "2bb9fde4-b73b-4882-c93b-a9d4ef5d3a90"
      },
      "source": [
        "normalize = MinMaxScaler()\n",
        "array = np.asanyarray(x_train_df['Vintage_box'])\n",
        "array = array.reshape(-1,1)\n",
        "\n",
        "array_norm = normalize.fit_transform(array)\n",
        "\n",
        "std_scaler = StandardScaler()\n",
        "array_std = std_scaler.fit_transform(array_norm)\n",
        "\n",
        "# applying both the functions\n",
        "x_train_df['Vintage_max'] = array_norm\n",
        "# x_train['Vintage_std'] = array_std\n",
        "\n",
        "sns.boxplot(x='Vintage_max',data=x_train_df)\n"
      ],
      "execution_count": 35,
      "outputs": [
        {
          "output_type": "execute_result",
          "data": {
            "text/plain": [
              "<matplotlib.axes._subplots.AxesSubplot at 0x7f543d38e090>"
            ]
          },
          "metadata": {
            "tags": []
          },
          "execution_count": 35
        },
        {
          "output_type": "display_data",
          "data": {
            "image/png": "[encoded data removed]",
            "text/plain": [
              "<Figure size 432x288 with 1 Axes>"
            ]
          },
          "metadata": {
            "tags": [],
            "needs_background": "light"
          }
        }
      ]
    },
    {
      "cell_type": "code",
      "metadata": {
        "colab": {
          "base_uri": "https://localhost:8080/",
          "height": 282
        },
        "id": "H7YJqIOurR2n",
        "outputId": "58e057a7-aee4-40b5-c54d-54fbb12de007"
      },
      "source": [
        "x_train_df['Vintage_max'].plot.kde()"
      ],
      "execution_count": 36,
      "outputs": [
        {
          "output_type": "execute_result",
          "data": {
            "text/plain": [
              "<matplotlib.axes._subplots.AxesSubplot at 0x7f543d34c2d0>"
            ]
          },
          "metadata": {
            "tags": []
          },
          "execution_count": 0
        },
        {
          "output_type": "display_data",
          "data": {
            "image/png": "[encoded data removed]",
            "text/plain": [
              "<Figure size 432x288 with 1 Axes>"
            ]
          },
          "metadata": {
            "tags": []
          }
        }
      ]
    },
    {
      "cell_type": "code",
      "metadata": {
        "colab": {
          "base_uri": "https://localhost:8080/",
          "height": 439
        },
        "id": "sb1Cvrj1DNv4",
        "outputId": "8def83bc-2e2e-4cc0-f4df-20edeb14b1aa"
      },
      "source": [
        "# reshaping the column to apply minmax scaler\n",
        "array = np.asanyarray(x_train_df['Age_Binned'])\n",
        "array = array.reshape(-1,1)\n",
        "\n",
        "# normalizing using minmax scaler\n",
        "enc = OneHotEncoder()\n",
        "array_enc = enc.fit_transform(array)\n",
        "\n",
        "x_train_df"
      ],
      "execution_count": 38,
      "outputs": [
        {
          "output_type": "execute_result",
          "data": {
            "text/html": [
              "<div>\n",
              "<style scoped>\n",
              "    .dataframe tbody tr th:only-of-type {\n",
              "        vertical-align: middle;\n",
              "    }\n",
              "\n",
              "    .dataframe tbody tr th {\n",
              "        vertical-align: top;\n",
              "    }\n",
              "\n",
              "    .dataframe thead th {\n",
              "        text-align: right;\n",
              "    }\n",
              "</style>\n",
              "<table border=\"1\" class=\"dataframe\">\n",
              "  <thead>\n",
              "    <tr style=\"text-align: right;\">\n",
              "      <th></th>\n",
              "      <th>Gender</th>\n",
              "      <th>Age</th>\n",
              "      <th>Region_Code</th>\n",
              "      <th>Occupation</th>\n",
              "      <th>Channel_Code</th>\n",
              "      <th>Vintage</th>\n",
              "      <th>Credit_Product</th>\n",
              "      <th>Avg_Account_Balance</th>\n",
              "      <th>Is_Active</th>\n",
              "      <th>Is_Lead</th>\n",
              "      <th>Region_Code_proc</th>\n",
              "      <th>Channel_Code_proc</th>\n",
              "      <th>Gender_proc</th>\n",
              "      <th>Occupation_proc</th>\n",
              "      <th>Is_Active_proc</th>\n",
              "      <th>Credit_Product_proc</th>\n",
              "      <th>Avg_Account_Balance_log</th>\n",
              "      <th>Age_Binned</th>\n",
              "      <th>Age_box</th>\n",
              "      <th>Vintage_sqrt</th>\n",
              "      <th>Vintage_box</th>\n",
              "      <th>Vintage_max</th>\n",
              "    </tr>\n",
              "  </thead>\n",
              "  <tbody>\n",
              "    <tr>\n",
              "      <th>188708</th>\n",
              "      <td>Male</td>\n",
              "      <td>44</td>\n",
              "      <td>RG268</td>\n",
              "      <td>Self_Employed</td>\n",
              "      <td>X3</td>\n",
              "      <td>87</td>\n",
              "      <td>No</td>\n",
              "      <td>543460</td>\n",
              "      <td>No</td>\n",
              "      <td>0</td>\n",
              "      <td>268</td>\n",
              "      <td>3</td>\n",
              "      <td>0</td>\n",
              "      <td>1</td>\n",
              "      <td>0</td>\n",
              "      <td>0</td>\n",
              "      <td>13.205711</td>\n",
              "      <td>40-60</td>\n",
              "      <td>2.382262</td>\n",
              "      <td>9.327379</td>\n",
              "      <td>3.595466</td>\n",
              "      <td>0.869727</td>\n",
              "    </tr>\n",
              "    <tr>\n",
              "      <th>17007</th>\n",
              "      <td>Female</td>\n",
              "      <td>50</td>\n",
              "      <td>RG252</td>\n",
              "      <td>Self_Employed</td>\n",
              "      <td>X2</td>\n",
              "      <td>69</td>\n",
              "      <td>No</td>\n",
              "      <td>891895</td>\n",
              "      <td>Yes</td>\n",
              "      <td>0</td>\n",
              "      <td>252</td>\n",
              "      <td>2</td>\n",
              "      <td>1</td>\n",
              "      <td>1</td>\n",
              "      <td>1</td>\n",
              "      <td>0</td>\n",
              "      <td>13.701104</td>\n",
              "      <td>40-60</td>\n",
              "      <td>2.428043</td>\n",
              "      <td>8.306624</td>\n",
              "      <td>3.445993</td>\n",
              "      <td>0.798635</td>\n",
              "    </tr>\n",
              "    <tr>\n",
              "      <th>109929</th>\n",
              "      <td>Male</td>\n",
              "      <td>77</td>\n",
              "      <td>RG284</td>\n",
              "      <td>Other</td>\n",
              "      <td>X3</td>\n",
              "      <td>81</td>\n",
              "      <td>No</td>\n",
              "      <td>1163416</td>\n",
              "      <td>No</td>\n",
              "      <td>0</td>\n",
              "      <td>284</td>\n",
              "      <td>3</td>\n",
              "      <td>0</td>\n",
              "      <td>2</td>\n",
              "      <td>0</td>\n",
              "      <td>0</td>\n",
              "      <td>13.966871</td>\n",
              "      <td>60+</td>\n",
              "      <td>2.571627</td>\n",
              "      <td>9.000000</td>\n",
              "      <td>3.549759</td>\n",
              "      <td>0.847988</td>\n",
              "    </tr>\n",
              "    <tr>\n",
              "      <th>81455</th>\n",
              "      <td>Male</td>\n",
              "      <td>74</td>\n",
              "      <td>RG283</td>\n",
              "      <td>Other</td>\n",
              "      <td>X1</td>\n",
              "      <td>14</td>\n",
              "      <td>No</td>\n",
              "      <td>1720031</td>\n",
              "      <td>No</td>\n",
              "      <td>0</td>\n",
              "      <td>283</td>\n",
              "      <td>1</td>\n",
              "      <td>0</td>\n",
              "      <td>2</td>\n",
              "      <td>0</td>\n",
              "      <td>0</td>\n",
              "      <td>14.357853</td>\n",
              "      <td>60+</td>\n",
              "      <td>2.559092</td>\n",
              "      <td>3.741657</td>\n",
              "      <td>2.316994</td>\n",
              "      <td>0.261663</td>\n",
              "    </tr>\n",
              "    <tr>\n",
              "      <th>77866</th>\n",
              "      <td>Female</td>\n",
              "      <td>25</td>\n",
              "      <td>RG283</td>\n",
              "      <td>Other</td>\n",
              "      <td>X1</td>\n",
              "      <td>21</td>\n",
              "      <td>No</td>\n",
              "      <td>1489690</td>\n",
              "      <td>Yes</td>\n",
              "      <td>0</td>\n",
              "      <td>283</td>\n",
              "      <td>1</td>\n",
              "      <td>1</td>\n",
              "      <td>2</td>\n",
              "      <td>1</td>\n",
              "      <td>0</td>\n",
              "      <td>14.214079</td>\n",
              "      <td>20-40</td>\n",
              "      <td>2.159984</td>\n",
              "      <td>4.582576</td>\n",
              "      <td>2.621427</td>\n",
              "      <td>0.406457</td>\n",
              "    </tr>\n",
              "    <tr>\n",
              "      <th>...</th>\n",
              "      <td>...</td>\n",
              "      <td>...</td>\n",
              "      <td>...</td>\n",
              "      <td>...</td>\n",
              "      <td>...</td>\n",
              "      <td>...</td>\n",
              "      <td>...</td>\n",
              "      <td>...</td>\n",
              "      <td>...</td>\n",
              "      <td>...</td>\n",
              "      <td>...</td>\n",
              "      <td>...</td>\n",
              "      <td>...</td>\n",
              "      <td>...</td>\n",
              "      <td>...</td>\n",
              "      <td>...</td>\n",
              "      <td>...</td>\n",
              "      <td>...</td>\n",
              "      <td>...</td>\n",
              "      <td>...</td>\n",
              "      <td>...</td>\n",
              "      <td>...</td>\n",
              "    </tr>\n",
              "    <tr>\n",
              "      <th>130365</th>\n",
              "      <td>Female</td>\n",
              "      <td>68</td>\n",
              "      <td>RG254</td>\n",
              "      <td>Other</td>\n",
              "      <td>X3</td>\n",
              "      <td>93</td>\n",
              "      <td>No</td>\n",
              "      <td>2039817</td>\n",
              "      <td>Yes</td>\n",
              "      <td>0</td>\n",
              "      <td>254</td>\n",
              "      <td>3</td>\n",
              "      <td>1</td>\n",
              "      <td>2</td>\n",
              "      <td>1</td>\n",
              "      <td>0</td>\n",
              "      <td>14.528371</td>\n",
              "      <td>60+</td>\n",
              "      <td>2.531975</td>\n",
              "      <td>9.643651</td>\n",
              "      <td>3.637827</td>\n",
              "      <td>0.889875</td>\n",
              "    </tr>\n",
              "    <tr>\n",
              "      <th>92303</th>\n",
              "      <td>Female</td>\n",
              "      <td>34</td>\n",
              "      <td>RG284</td>\n",
              "      <td>Salaried</td>\n",
              "      <td>X1</td>\n",
              "      <td>20</td>\n",
              "      <td>No</td>\n",
              "      <td>873268</td>\n",
              "      <td>Yes</td>\n",
              "      <td>0</td>\n",
              "      <td>284</td>\n",
              "      <td>1</td>\n",
              "      <td>1</td>\n",
              "      <td>3</td>\n",
              "      <td>1</td>\n",
              "      <td>0</td>\n",
              "      <td>13.679998</td>\n",
              "      <td>20-40</td>\n",
              "      <td>2.285033</td>\n",
              "      <td>4.472136</td>\n",
              "      <td>2.585449</td>\n",
              "      <td>0.389346</td>\n",
              "    </tr>\n",
              "    <tr>\n",
              "      <th>6618</th>\n",
              "      <td>Male</td>\n",
              "      <td>28</td>\n",
              "      <td>RG253</td>\n",
              "      <td>Other</td>\n",
              "      <td>X1</td>\n",
              "      <td>26</td>\n",
              "      <td>No</td>\n",
              "      <td>1186040</td>\n",
              "      <td>Yes</td>\n",
              "      <td>0</td>\n",
              "      <td>253</td>\n",
              "      <td>1</td>\n",
              "      <td>0</td>\n",
              "      <td>2</td>\n",
              "      <td>1</td>\n",
              "      <td>0</td>\n",
              "      <td>13.986131</td>\n",
              "      <td>20-40</td>\n",
              "      <td>2.207271</td>\n",
              "      <td>5.099020</td>\n",
              "      <td>2.776846</td>\n",
              "      <td>0.480377</td>\n",
              "    </tr>\n",
              "    <tr>\n",
              "      <th>90430</th>\n",
              "      <td>Female</td>\n",
              "      <td>50</td>\n",
              "      <td>RG284</td>\n",
              "      <td>Salaried</td>\n",
              "      <td>X2</td>\n",
              "      <td>55</td>\n",
              "      <td>No</td>\n",
              "      <td>1649000</td>\n",
              "      <td>Yes</td>\n",
              "      <td>1</td>\n",
              "      <td>284</td>\n",
              "      <td>2</td>\n",
              "      <td>1</td>\n",
              "      <td>3</td>\n",
              "      <td>1</td>\n",
              "      <td>0</td>\n",
              "      <td>14.315680</td>\n",
              "      <td>40-60</td>\n",
              "      <td>2.428043</td>\n",
              "      <td>7.416198</td>\n",
              "      <td>3.296341</td>\n",
              "      <td>0.727458</td>\n",
              "    </tr>\n",
              "    <tr>\n",
              "      <th>29828</th>\n",
              "      <td>Female</td>\n",
              "      <td>31</td>\n",
              "      <td>RG255</td>\n",
              "      <td>Salaried</td>\n",
              "      <td>X1</td>\n",
              "      <td>25</td>\n",
              "      <td>No</td>\n",
              "      <td>1309430</td>\n",
              "      <td>No</td>\n",
              "      <td>0</td>\n",
              "      <td>255</td>\n",
              "      <td>1</td>\n",
              "      <td>1</td>\n",
              "      <td>3</td>\n",
              "      <td>0</td>\n",
              "      <td>0</td>\n",
              "      <td>14.085102</td>\n",
              "      <td>20-40</td>\n",
              "      <td>2.248539</td>\n",
              "      <td>5.000000</td>\n",
              "      <td>2.748555</td>\n",
              "      <td>0.466921</td>\n",
              "    </tr>\n",
              "  </tbody>\n",
              "</table>\n",
              "<p>184293 rows × 22 columns</p>\n",
              "</div>"
            ],
            "text/plain": [
              "        Gender  Age Region_Code  ... Vintage_sqrt Vintage_box  Vintage_max\n",
              "188708    Male   44       RG268  ...     9.327379    3.595466     0.869727\n",
              "17007   Female   50       RG252  ...     8.306624    3.445993     0.798635\n",
              "109929    Male   77       RG284  ...     9.000000    3.549759     0.847988\n",
              "81455     Male   74       RG283  ...     3.741657    2.316994     0.261663\n",
              "77866   Female   25       RG283  ...     4.582576    2.621427     0.406457\n",
              "...        ...  ...         ...  ...          ...         ...          ...\n",
              "130365  Female   68       RG254  ...     9.643651    3.637827     0.889875\n",
              "92303   Female   34       RG284  ...     4.472136    2.585449     0.389346\n",
              "6618      Male   28       RG253  ...     5.099020    2.776846     0.480377\n",
              "90430   Female   50       RG284  ...     7.416198    3.296341     0.727458\n",
              "29828   Female   31       RG255  ...     5.000000    2.748555     0.466921\n",
              "\n",
              "[184293 rows x 22 columns]"
            ]
          },
          "metadata": {
            "tags": []
          },
          "execution_count": 38
        }
      ]
    },
    {
      "cell_type": "markdown",
      "metadata": {
        "id": "aeeVyW4TzqDB"
      },
      "source": [
        "## tranform function"
      ]
    },
    {
      "cell_type": "code",
      "metadata": {
        "id": "D08wQgOXzNZW"
      },
      "source": [
        "def transform(dframe):\n",
        "  # apply the transformations in dframe\n",
        "  \n",
        "  # ---------------------------- Functions -----------------------------------\n",
        "  \n",
        "  def bin_age(x):\n",
        "    # catagories = ['0-20','20-40','40-60','60+']\n",
        "    cat = ''\n",
        "    \n",
        "    if x>20 and x<=40:\n",
        "      cat = '20-40'\n",
        "    elif x>40 and x<=60:\n",
        "      cat = '40-60'\n",
        "    elif x>60 :\n",
        "      cat = '60+'\n",
        "    else :\n",
        "      cat = '0-20'\n",
        "    return cat\n",
        "\n",
        "  def log_transform(x):\n",
        "    # transforms x to log\n",
        "    result = 0.0\n",
        "    if x!=0:\n",
        "      result = np.log(x)\n",
        "    else:\n",
        "      result = np.log(0.00001)\n",
        "    return result\n",
        "\n",
        "  # ----------------------------------------------------------------------------\n",
        "  \n",
        "  # transforming age\n",
        "  # creating age bins\n",
        "  dframe['Age_Binned'] = dframe['Age'].apply(lambda x: bin_age(x))\n",
        "  dframe = one_hot(dframe, 'Age_Binned')\n",
        "  # applying boxcox transformation\n",
        "  dframe['Age_box'], fitted_lambda = scipy.stats.boxcox(dframe['Age'])\n",
        "\n",
        "  # transforming balance\n",
        "  dframe['Avg_Account_Balance_log'] = dframe['Avg_Account_Balance'].apply(lambda x: log_transform(x))\n",
        "\n",
        "  # transforming vintage\n",
        "  # applying boxcox transfrom\n",
        "  dframe['Vintage_box'], fitted_lambda = scipy.stats.boxcox(dframe['Vintage'])\n",
        "  # reshaping the column to apply minmax scaler\n",
        "  array = np.asanyarray(dframe['Vintage_box'])\n",
        "  array = array.reshape(-1,1)\n",
        "  \n",
        "  # normalizing using minmax scaler\n",
        "  normalize = MinMaxScaler()\n",
        "  array_norm = normalize.fit_transform(array)\n",
        "\n",
        "  # applying standard_scaler\n",
        "  std_scaler = StandardScaler()\n",
        "  array_std = std_scaler.fit_transform(array_norm)\n",
        "\n",
        "  # applying both the functions\n",
        "  dframe['Vintage_max'] = array_norm\n",
        "\n",
        "  return dframe"
      ],
      "execution_count": 243,
      "outputs": []
    },
    {
      "cell_type": "code",
      "metadata": {
        "id": "V58PthaEGbTo"
      },
      "source": [
        "def get_features(dframe):\n",
        "  feature_list_to_use = ['Channel_Code_proc_0','Channel_Code_proc_1', 'Channel_Code_proc_2', 'Channel_Code_proc_3',\n",
        "  'Gender_proc_0', 'Gender_proc_1',\n",
        "  'Occupation_proc_0', 'Occupation_proc_1', 'Occupation_proc_2','Occupation_proc_3',\n",
        "  'Is_Active_proc_0', 'Is_Active_proc_1', \n",
        "  'Credit_Product_proc_0', 'Credit_Product_proc_1',\n",
        "  'Age_Binned_0', 'Age_Binned_1','Age_Binned_2', \n",
        "  'Age_box', 'Avg_Account_Balance_log', 'Vintage_max']\n",
        "  return dframe[feature_list_to_use]"
      ],
      "execution_count": 251,
      "outputs": []
    },
    {
      "cell_type": "code",
      "metadata": {
        "colab": {
          "base_uri": "https://localhost:8080/"
        },
        "id": "7EAopiDF-1eB",
        "outputId": "ada05a9a-b510-44d1-879f-0ea1472f6a80"
      },
      "source": [
        "x_train_df.columns"
      ],
      "execution_count": 53,
      "outputs": [
        {
          "output_type": "execute_result",
          "data": {
            "text/plain": [
              "Index(['Gender', 'Age', 'Region_Code', 'Occupation', 'Channel_Code', 'Vintage',\n",
              "       'Credit_Product', 'Avg_Account_Balance', 'Is_Active', 'Is_Lead',\n",
              "       'Region_Code_proc', 'Channel_Code_proc', 'Gender_proc',\n",
              "       'Occupation_proc', 'Is_Active_proc', 'Credit_Product_proc',\n",
              "       'Avg_Account_Balance_log', 'Age_Binned', 'Age_box', 'Vintage_sqrt',\n",
              "       'Vintage_box', 'Vintage_max'],\n",
              "      dtype='object')"
            ]
          },
          "metadata": {
            "tags": []
          },
          "execution_count": 53
        }
      ]
    },
    {
      "cell_type": "code",
      "metadata": {
        "id": "1m46TwmdBDhM"
      },
      "source": [
        "x_train = get_raw_train_data()"
      ],
      "execution_count": 252,
      "outputs": []
    },
    {
      "cell_type": "code",
      "metadata": {
        "colab": {
          "base_uri": "https://localhost:8080/",
          "height": 419
        },
        "id": "q7j_JxOGBHw1",
        "outputId": "e772c00c-72d6-407b-f7d0-dde6cdda3050"
      },
      "source": [
        "x_train"
      ],
      "execution_count": 253,
      "outputs": [
        {
          "output_type": "execute_result",
          "data": {
            "text/html": [
              "<div>\n",
              "<style scoped>\n",
              "    .dataframe tbody tr th:only-of-type {\n",
              "        vertical-align: middle;\n",
              "    }\n",
              "\n",
              "    .dataframe tbody tr th {\n",
              "        vertical-align: top;\n",
              "    }\n",
              "\n",
              "    .dataframe thead th {\n",
              "        text-align: right;\n",
              "    }\n",
              "</style>\n",
              "<table border=\"1\" class=\"dataframe\">\n",
              "  <thead>\n",
              "    <tr style=\"text-align: right;\">\n",
              "      <th></th>\n",
              "      <th>Gender</th>\n",
              "      <th>Age</th>\n",
              "      <th>Region_Code</th>\n",
              "      <th>Occupation</th>\n",
              "      <th>Channel_Code</th>\n",
              "      <th>Vintage</th>\n",
              "      <th>Credit_Product</th>\n",
              "      <th>Avg_Account_Balance</th>\n",
              "      <th>Is_Active</th>\n",
              "    </tr>\n",
              "  </thead>\n",
              "  <tbody>\n",
              "    <tr>\n",
              "      <th>188708</th>\n",
              "      <td>Male</td>\n",
              "      <td>44</td>\n",
              "      <td>RG268</td>\n",
              "      <td>Self_Employed</td>\n",
              "      <td>X3</td>\n",
              "      <td>87</td>\n",
              "      <td>No</td>\n",
              "      <td>543460</td>\n",
              "      <td>No</td>\n",
              "    </tr>\n",
              "    <tr>\n",
              "      <th>17007</th>\n",
              "      <td>Female</td>\n",
              "      <td>50</td>\n",
              "      <td>RG252</td>\n",
              "      <td>Self_Employed</td>\n",
              "      <td>X2</td>\n",
              "      <td>69</td>\n",
              "      <td>No</td>\n",
              "      <td>891895</td>\n",
              "      <td>Yes</td>\n",
              "    </tr>\n",
              "    <tr>\n",
              "      <th>109929</th>\n",
              "      <td>Male</td>\n",
              "      <td>77</td>\n",
              "      <td>RG284</td>\n",
              "      <td>Other</td>\n",
              "      <td>X3</td>\n",
              "      <td>81</td>\n",
              "      <td>No</td>\n",
              "      <td>1163416</td>\n",
              "      <td>No</td>\n",
              "    </tr>\n",
              "    <tr>\n",
              "      <th>81455</th>\n",
              "      <td>Male</td>\n",
              "      <td>74</td>\n",
              "      <td>RG283</td>\n",
              "      <td>Other</td>\n",
              "      <td>X1</td>\n",
              "      <td>14</td>\n",
              "      <td>No</td>\n",
              "      <td>1720031</td>\n",
              "      <td>No</td>\n",
              "    </tr>\n",
              "    <tr>\n",
              "      <th>77866</th>\n",
              "      <td>Female</td>\n",
              "      <td>25</td>\n",
              "      <td>RG283</td>\n",
              "      <td>Other</td>\n",
              "      <td>X1</td>\n",
              "      <td>21</td>\n",
              "      <td>No</td>\n",
              "      <td>1489690</td>\n",
              "      <td>Yes</td>\n",
              "    </tr>\n",
              "    <tr>\n",
              "      <th>...</th>\n",
              "      <td>...</td>\n",
              "      <td>...</td>\n",
              "      <td>...</td>\n",
              "      <td>...</td>\n",
              "      <td>...</td>\n",
              "      <td>...</td>\n",
              "      <td>...</td>\n",
              "      <td>...</td>\n",
              "      <td>...</td>\n",
              "    </tr>\n",
              "    <tr>\n",
              "      <th>130365</th>\n",
              "      <td>Female</td>\n",
              "      <td>68</td>\n",
              "      <td>RG254</td>\n",
              "      <td>Other</td>\n",
              "      <td>X3</td>\n",
              "      <td>93</td>\n",
              "      <td>No</td>\n",
              "      <td>2039817</td>\n",
              "      <td>Yes</td>\n",
              "    </tr>\n",
              "    <tr>\n",
              "      <th>92303</th>\n",
              "      <td>Female</td>\n",
              "      <td>34</td>\n",
              "      <td>RG284</td>\n",
              "      <td>Salaried</td>\n",
              "      <td>X1</td>\n",
              "      <td>20</td>\n",
              "      <td>No</td>\n",
              "      <td>873268</td>\n",
              "      <td>Yes</td>\n",
              "    </tr>\n",
              "    <tr>\n",
              "      <th>6618</th>\n",
              "      <td>Male</td>\n",
              "      <td>28</td>\n",
              "      <td>RG253</td>\n",
              "      <td>Other</td>\n",
              "      <td>X1</td>\n",
              "      <td>26</td>\n",
              "      <td>No</td>\n",
              "      <td>1186040</td>\n",
              "      <td>Yes</td>\n",
              "    </tr>\n",
              "    <tr>\n",
              "      <th>90430</th>\n",
              "      <td>Female</td>\n",
              "      <td>50</td>\n",
              "      <td>RG284</td>\n",
              "      <td>Salaried</td>\n",
              "      <td>X2</td>\n",
              "      <td>55</td>\n",
              "      <td>NaN</td>\n",
              "      <td>1649000</td>\n",
              "      <td>Yes</td>\n",
              "    </tr>\n",
              "    <tr>\n",
              "      <th>29828</th>\n",
              "      <td>Female</td>\n",
              "      <td>31</td>\n",
              "      <td>RG255</td>\n",
              "      <td>Salaried</td>\n",
              "      <td>X1</td>\n",
              "      <td>25</td>\n",
              "      <td>No</td>\n",
              "      <td>1309430</td>\n",
              "      <td>No</td>\n",
              "    </tr>\n",
              "  </tbody>\n",
              "</table>\n",
              "<p>184293 rows × 9 columns</p>\n",
              "</div>"
            ],
            "text/plain": [
              "        Gender  Age Region_Code  ... Credit_Product Avg_Account_Balance  Is_Active\n",
              "188708    Male   44       RG268  ...             No              543460         No\n",
              "17007   Female   50       RG252  ...             No              891895        Yes\n",
              "109929    Male   77       RG284  ...             No             1163416         No\n",
              "81455     Male   74       RG283  ...             No             1720031         No\n",
              "77866   Female   25       RG283  ...             No             1489690        Yes\n",
              "...        ...  ...         ...  ...            ...                 ...        ...\n",
              "130365  Female   68       RG254  ...             No             2039817        Yes\n",
              "92303   Female   34       RG284  ...             No              873268        Yes\n",
              "6618      Male   28       RG253  ...             No             1186040        Yes\n",
              "90430   Female   50       RG284  ...            NaN             1649000        Yes\n",
              "29828   Female   31       RG255  ...             No             1309430         No\n",
              "\n",
              "[184293 rows x 9 columns]"
            ]
          },
          "metadata": {
            "tags": []
          },
          "execution_count": 253
        }
      ]
    },
    {
      "cell_type": "code",
      "metadata": {
        "id": "1sRefdYPpQ0u",
        "outputId": "cc907437-a61b-4769-fc36-d7a71f2b180c",
        "colab": {
          "base_uri": "https://localhost:8080/"
        }
      },
      "source": [
        "print(x_train.__doc__)"
      ],
      "execution_count": 267,
      "outputs": [
        {
          "output_type": "stream",
          "text": [
            "\n",
            "    Two-dimensional, size-mutable, potentially heterogeneous tabular data.\n",
            "\n",
            "    Data structure also contains labeled axes (rows and columns).\n",
            "    Arithmetic operations align on both row and column labels. Can be\n",
            "    thought of as a dict-like container for Series objects. The primary\n",
            "    pandas data structure.\n",
            "\n",
            "    Parameters\n",
            "    ----------\n",
            "    data : ndarray (structured or homogeneous), Iterable, dict, or DataFrame\n",
            "        Dict can contain Series, arrays, constants, or list-like objects.\n",
            "\n",
            "        .. versionchanged:: 0.23.0\n",
            "           If data is a dict, column order follows insertion-order for\n",
            "           Python 3.6 and later.\n",
            "\n",
            "        .. versionchanged:: 0.25.0\n",
            "           If data is a list of dicts, column order follows insertion-order\n",
            "           for Python 3.6 and later.\n",
            "\n",
            "    index : Index or array-like\n",
            "        Index to use for resulting frame. Will default to RangeIndex if\n",
            "        no indexing information part of input data and no index provided.\n",
            "    columns : Index or array-like\n",
            "        Column labels to use for resulting frame. Will default to\n",
            "        RangeIndex (0, 1, 2, ..., n) if no column labels are provided.\n",
            "    dtype : dtype, default None\n",
            "        Data type to force. Only a single dtype is allowed. If None, infer.\n",
            "    copy : bool, default False\n",
            "        Copy data from inputs. Only affects DataFrame / 2d ndarray input.\n",
            "\n",
            "    See Also\n",
            "    --------\n",
            "    DataFrame.from_records : Constructor from tuples, also record arrays.\n",
            "    DataFrame.from_dict : From dicts of Series, arrays, or dicts.\n",
            "    read_csv : Read a comma-separated values (csv) file into DataFrame.\n",
            "    read_table : Read general delimited file into DataFrame.\n",
            "    read_clipboard : Read text from clipboard into DataFrame.\n",
            "\n",
            "    Examples\n",
            "    --------\n",
            "    Constructing DataFrame from a dictionary.\n",
            "\n",
            "    >>> d = {'col1': [1, 2], 'col2': [3, 4]}\n",
            "    >>> df = pd.DataFrame(data=d)\n",
            "    >>> df\n",
            "       col1  col2\n",
            "    0     1     3\n",
            "    1     2     4\n",
            "\n",
            "    Notice that the inferred dtype is int64.\n",
            "\n",
            "    >>> df.dtypes\n",
            "    col1    int64\n",
            "    col2    int64\n",
            "    dtype: object\n",
            "\n",
            "    To enforce a single dtype:\n",
            "\n",
            "    >>> df = pd.DataFrame(data=d, dtype=np.int8)\n",
            "    >>> df.dtypes\n",
            "    col1    int8\n",
            "    col2    int8\n",
            "    dtype: object\n",
            "\n",
            "    Constructing DataFrame from numpy ndarray:\n",
            "\n",
            "    >>> df2 = pd.DataFrame(np.array([[1, 2, 3], [4, 5, 6], [7, 8, 9]]),\n",
            "    ...                    columns=['a', 'b', 'c'])\n",
            "    >>> df2\n",
            "       a  b  c\n",
            "    0  1  2  3\n",
            "    1  4  5  6\n",
            "    2  7  8  9\n",
            "    \n"
          ],
          "name": "stdout"
        }
      ]
    },
    {
      "cell_type": "code",
      "metadata": {
        "colab": {
          "base_uri": "https://localhost:8080/"
        },
        "id": "5LrpOflz-7zn",
        "outputId": "803fca98-5a95-457b-e5d3-4b4a311d0a2a"
      },
      "source": [
        "def process_all(dframe):\n",
        "  x_train = process(x_train)\n",
        "  x_train = transform(x_train)\n",
        "  print('x_train transformed successfully')\n",
        "  x_train = get_features(x_train)\n",
        "  print('x_train features engineered')\n",
        "  return dframe\n"
      ],
      "execution_count": 254,
      "outputs": [
        {
          "output_type": "stream",
          "text": [
            "Region Code Processed Successfully\n",
            "Channel Code Processed Successfully\n",
            "Gender Processed Successfully\n",
            "Occupation Processed Successfully\n",
            "Is Active Processed Successfully\n",
            "x_train transformed successfully\n",
            "x_train features engineered\n"
          ],
          "name": "stdout"
        }
      ]
    },
    {
      "cell_type": "code",
      "metadata": {
        "colab": {
          "base_uri": "https://localhost:8080/"
        },
        "id": "eF4OeAkSCdvI",
        "outputId": "9cdfe702-e34c-491a-ed87-7b961bf73f9c"
      },
      "source": [
        "x_train.info()"
      ],
      "execution_count": 256,
      "outputs": [
        {
          "output_type": "stream",
          "text": [
            "<class 'pandas.core.frame.DataFrame'>\n",
            "Int64Index: 184293 entries, 188708 to 29828\n",
            "Data columns (total 20 columns):\n",
            " #   Column                   Non-Null Count   Dtype  \n",
            "---  ------                   --------------   -----  \n",
            " 0   Channel_Code_proc_0      184293 non-null  float64\n",
            " 1   Channel_Code_proc_1      184293 non-null  float64\n",
            " 2   Channel_Code_proc_2      184293 non-null  float64\n",
            " 3   Channel_Code_proc_3      184293 non-null  float64\n",
            " 4   Gender_proc_0            184293 non-null  float64\n",
            " 5   Gender_proc_1            184293 non-null  float64\n",
            " 6   Occupation_proc_0        184293 non-null  float64\n",
            " 7   Occupation_proc_1        184293 non-null  float64\n",
            " 8   Occupation_proc_2        184293 non-null  float64\n",
            " 9   Occupation_proc_3        184293 non-null  float64\n",
            " 10  Is_Active_proc_0         184293 non-null  float64\n",
            " 11  Is_Active_proc_1         184293 non-null  float64\n",
            " 12  Credit_Product_proc_0    184293 non-null  float64\n",
            " 13  Credit_Product_proc_1    184293 non-null  float64\n",
            " 14  Age_Binned_0             184293 non-null  float64\n",
            " 15  Age_Binned_1             184293 non-null  float64\n",
            " 16  Age_Binned_2             184293 non-null  float64\n",
            " 17  Age_box                  184293 non-null  float64\n",
            " 18  Avg_Account_Balance_log  184293 non-null  float64\n",
            " 19  Vintage_max              184293 non-null  float64\n",
            "dtypes: float64(20)\n",
            "memory usage: 29.5 MB\n"
          ],
          "name": "stdout"
        }
      ]
    },
    {
      "cell_type": "code",
      "metadata": {
        "id": "ry41vEHKhtWW",
        "outputId": "f531491a-d8a7-4de9-f5ff-2a63185f59b1",
        "colab": {
          "base_uri": "https://localhost:8080/"
        }
      },
      "source": [
        "x_train.columns"
      ],
      "execution_count": 248,
      "outputs": [
        {
          "output_type": "execute_result",
          "data": {
            "text/plain": [
              "Index(['Gender', 'Age', 'Region_Code', 'Occupation', 'Channel_Code', 'Vintage',\n",
              "       'Credit_Product', 'Avg_Account_Balance', 'Is_Active',\n",
              "       'Region_Code_proc', 'Channel_Code_proc', 'Channel_Code_proc_0',\n",
              "       'Channel_Code_proc_1', 'Channel_Code_proc_2', 'Channel_Code_proc_3',\n",
              "       'Gender_proc', 'Gender_proc_0', 'Gender_proc_1', 'Occupation_proc',\n",
              "       'Occupation_proc_0', 'Occupation_proc_1', 'Occupation_proc_2',\n",
              "       'Occupation_proc_3', 'Is_Active_proc', 'Is_Active_proc_0',\n",
              "       'Is_Active_proc_1', 'Credit_Product_proc', 'Credit_Product_proc_0',\n",
              "       'Credit_Product_proc_1', 'Age_Binned', 'Age_Binned_0', 'Age_Binned_1',\n",
              "       'Age_Binned_2', 'Age_box', 'Avg_Account_Balance_log', 'Vintage_box',\n",
              "       'Vintage_max'],\n",
              "      dtype='object')"
            ]
          },
          "metadata": {
            "tags": []
          },
          "execution_count": 248
        }
      ]
    },
    {
      "cell_type": "code",
      "metadata": {
        "id": "EtSKO5Bgh1Ag"
      },
      "source": [
        "feature_list_to_use = ['Channel_Code_proc_0','Channel_Code_proc_1', 'Channel_Code_proc_2', 'Channel_Code_proc_3',\n",
        " 'Gender_proc_0', 'Gender_proc_1',\n",
        " 'Occupation_proc_0', 'Occupation_proc_1', 'Occupation_proc_2','Occupation_proc_3',\n",
        " 'Is_Active_proc_0', 'Is_Active_proc_1', \n",
        " 'Credit_Product_proc_0', 'Credit_Product_proc_1',\n",
        " 'Age_Binned_0', 'Age_Binned_1','Age_Binned_2', \n",
        " 'Age_box', 'Avg_Account_Balance_log', 'Vintage_max']"
      ],
      "execution_count": 249,
      "outputs": []
    },
    {
      "cell_type": "code",
      "metadata": {
        "id": "g2TgHB_vmCS_"
      },
      "source": [
        ""
      ],
      "execution_count": null,
      "outputs": []
    },
    {
      "cell_type": "code",
      "metadata": {
        "id": "vs7NH3sNApRY"
      },
      "source": [
        "x_train = x_train['Region_Code_proc', 'Channel_Code_proc', 'Gender_proc',\n",
        "       'Occupation_proc', 'Is_Active_proc', 'Credit_Product_proc',\n",
        "       'Avg_Account_Balance_log', 'Age_Binned', 'Age_box', 'Vintage_max']"
      ],
      "execution_count": null,
      "outputs": []
    },
    {
      "cell_type": "markdown",
      "metadata": {
        "id": "AE0LrY4NxtDb"
      },
      "source": [
        "## jump here"
      ]
    },
    {
      "cell_type": "code",
      "metadata": {
        "colab": {
          "base_uri": "https://localhost:8080/",
          "height": 401
        },
        "id": "zHTRuUh5OWQw",
        "outputId": "c3a547b6-2e15-4ce0-8973-6097f85d3643"
      },
      "source": [
        "# sns.catplot(x=\"Channel_Code\", kind=\"count\", hue = \"Is_Lead\", palette=\"ch:.25\", data=x_train_visual)\n",
        "# # df['Channel_Code'].plot.kde()"
      ],
      "execution_count": 24,
      "outputs": [
        {
          "output_type": "execute_result",
          "data": {
            "text/plain": [
              "<seaborn.axisgrid.FacetGrid at 0x7fba3704f610>"
            ]
          },
          "metadata": {
            "tags": []
          },
          "execution_count": 24
        },
        {
          "output_type": "display_data",
          "data": {
            "image/png": "[encoded data removed]",
            "text/plain": [
              "<Figure size 405.125x360 with 1 Axes>"
            ]
          },
          "metadata": {
            "tags": [],
            "needs_background": "light"
          }
        }
      ]
    },
    {
      "cell_type": "markdown",
      "metadata": {
        "id": "etbWHnQpwAro"
      },
      "source": [
        "# #jump Here"
      ]
    },
    {
      "cell_type": "code",
      "metadata": {
        "colab": {
          "base_uri": "https://localhost:8080/"
        },
        "id": "3Ktw6OiMs2oX",
        "outputId": "5b82d5ad-f72a-4c6b-cefa-63bb71afe9e5"
      },
      "source": [
        "x_train.columns"
      ],
      "execution_count": 99,
      "outputs": [
        {
          "output_type": "execute_result",
          "data": {
            "text/plain": [
              "Index(['Gender', 'Age', 'Region_Code', 'Occupation', 'Channel_Code',\n",
              "       'Vintage_max', 'Credit_Product', 'Is_Active',\n",
              "       'Avg_Account_Balance_log'],\n",
              "      dtype='object')"
            ]
          },
          "metadata": {
            "tags": []
          },
          "execution_count": 99
        }
      ]
    },
    {
      "cell_type": "code",
      "metadata": {
        "id": "LwpumISiboCm",
        "colab": {
          "base_uri": "https://localhost:8080/"
        },
        "outputId": "915eb276-c26b-4e81-834c-9398bef653d5"
      },
      "source": [
        "# # processing x_train\n",
        "# x_train = process(x_train)\n",
        "# print('X_Train processed successfully!')"
      ],
      "execution_count": 92,
      "outputs": [
        {
          "output_type": "stream",
          "text": [
            "/usr/local/lib/python3.7/dist-packages/ipykernel_launcher.py:2: SettingWithCopyWarning: \n",
            "A value is trying to be set on a copy of a slice from a DataFrame.\n",
            "Try using .loc[row_indexer,col_indexer] = value instead\n",
            "\n",
            "See the caveats in the documentation: https://pandas.pydata.org/pandas-docs/stable/user_guide/indexing.html#returning-a-view-versus-a-copy\n",
            "  \n"
          ],
          "name": "stderr"
        },
        {
          "output_type": "stream",
          "text": [
            "Region Code Processed Successfully\n",
            "Channel Code Processed Successfully\n",
            "Gender Processed Successfully\n",
            "Occupation Processed Successfully\n",
            "Is Active Processed Successfully\n",
            "X_Train processed successfully!\n"
          ],
          "name": "stdout"
        },
        {
          "output_type": "stream",
          "text": [
            "/usr/local/lib/python3.7/dist-packages/ipykernel_launcher.py:30: SettingWithCopyWarning: \n",
            "A value is trying to be set on a copy of a slice from a DataFrame.\n",
            "Try using .loc[row_indexer,col_indexer] = value instead\n",
            "\n",
            "See the caveats in the documentation: https://pandas.pydata.org/pandas-docs/stable/user_guide/indexing.html#returning-a-view-versus-a-copy\n"
          ],
          "name": "stderr"
        }
      ]
    },
    {
      "cell_type": "code",
      "metadata": {
        "id": "jslfO7l6xZOt"
      },
      "source": [
        "# processing df matrix\n",
        "# df_processed = process(df)"
      ],
      "execution_count": 97,
      "outputs": []
    },
    {
      "cell_type": "code",
      "metadata": {
        "id": "JHuroETwxmBC"
      },
      "source": [
        "# corr_mat_process = df_processed.corr(method = 'kendall')\n",
        "# corr_mat_process"
      ],
      "execution_count": 98,
      "outputs": []
    },
    {
      "cell_type": "code",
      "metadata": {
        "id": "k-R2nKikwQx2"
      },
      "source": [
        "# corr_mat = x_train.corr()\n",
        "# # corr_mat"
      ],
      "execution_count": 96,
      "outputs": []
    },
    {
      "cell_type": "code",
      "metadata": {
        "id": "Jk5BA2ZwxBET"
      },
      "source": [
        "# type(corr_mat)"
      ],
      "execution_count": 95,
      "outputs": []
    },
    {
      "cell_type": "markdown",
      "metadata": {
        "id": "mkIB3tuMwU4l"
      },
      "source": [
        "# Model Fitting"
      ]
    },
    {
      "cell_type": "code",
      "metadata": {
        "id": "3eCRcw27jkPi",
        "colab": {
          "base_uri": "https://localhost:8080/"
        },
        "outputId": "0d560ce9-46be-4425-9f10-bc52ad2163cb"
      },
      "source": [
        "# %% Implementing Random Forests\n",
        "\n",
        "clf_rforest = RandomForestClassifier(random_state= 10, max_features=\"log2\", oob_score= True)\n",
        "clf_rforest.fit(x_train, y_train)"
      ],
      "execution_count": 257,
      "outputs": [
        {
          "output_type": "execute_result",
          "data": {
            "text/plain": [
              "RandomForestClassifier(bootstrap=True, ccp_alpha=0.0, class_weight=None,\n",
              "                       criterion='gini', max_depth=None, max_features='log2',\n",
              "                       max_leaf_nodes=None, max_samples=None,\n",
              "                       min_impurity_decrease=0.0, min_impurity_split=None,\n",
              "                       min_samples_leaf=1, min_samples_split=2,\n",
              "                       min_weight_fraction_leaf=0.0, n_estimators=100,\n",
              "                       n_jobs=None, oob_score=True, random_state=10, verbose=0,\n",
              "                       warm_start=False)"
            ]
          },
          "metadata": {
            "tags": []
          },
          "execution_count": 257
        }
      ]
    },
    {
      "cell_type": "code",
      "metadata": {
        "id": "Tjswb5ALIy1-",
        "colab": {
          "base_uri": "https://localhost:8080/",
          "height": 419
        },
        "outputId": "c143da5e-af94-4202-eb02-9fb33599391b"
      },
      "source": [
        "x_train"
      ],
      "execution_count": null,
      "outputs": [
        {
          "output_type": "execute_result",
          "data": {
            "text/html": [
              "<div>\n",
              "<style scoped>\n",
              "    .dataframe tbody tr th:only-of-type {\n",
              "        vertical-align: middle;\n",
              "    }\n",
              "\n",
              "    .dataframe tbody tr th {\n",
              "        vertical-align: top;\n",
              "    }\n",
              "\n",
              "    .dataframe thead th {\n",
              "        text-align: right;\n",
              "    }\n",
              "</style>\n",
              "<table border=\"1\" class=\"dataframe\">\n",
              "  <thead>\n",
              "    <tr style=\"text-align: right;\">\n",
              "      <th></th>\n",
              "      <th>Gender</th>\n",
              "      <th>Age</th>\n",
              "      <th>Region_Code</th>\n",
              "      <th>Occupation</th>\n",
              "      <th>Channel_Code</th>\n",
              "      <th>Vintage</th>\n",
              "      <th>Credit_Product</th>\n",
              "      <th>Is_Active</th>\n",
              "      <th>Avg_Account_Balance_log</th>\n",
              "    </tr>\n",
              "  </thead>\n",
              "  <tbody>\n",
              "    <tr>\n",
              "      <th>188708</th>\n",
              "      <td>0</td>\n",
              "      <td>44</td>\n",
              "      <td>268</td>\n",
              "      <td>1</td>\n",
              "      <td>3</td>\n",
              "      <td>87</td>\n",
              "      <td>0</td>\n",
              "      <td>0</td>\n",
              "      <td>13.205711</td>\n",
              "    </tr>\n",
              "    <tr>\n",
              "      <th>17007</th>\n",
              "      <td>1</td>\n",
              "      <td>50</td>\n",
              "      <td>252</td>\n",
              "      <td>1</td>\n",
              "      <td>2</td>\n",
              "      <td>69</td>\n",
              "      <td>0</td>\n",
              "      <td>1</td>\n",
              "      <td>13.701104</td>\n",
              "    </tr>\n",
              "    <tr>\n",
              "      <th>109929</th>\n",
              "      <td>0</td>\n",
              "      <td>77</td>\n",
              "      <td>284</td>\n",
              "      <td>2</td>\n",
              "      <td>3</td>\n",
              "      <td>81</td>\n",
              "      <td>0</td>\n",
              "      <td>0</td>\n",
              "      <td>13.966871</td>\n",
              "    </tr>\n",
              "    <tr>\n",
              "      <th>81455</th>\n",
              "      <td>0</td>\n",
              "      <td>74</td>\n",
              "      <td>283</td>\n",
              "      <td>2</td>\n",
              "      <td>1</td>\n",
              "      <td>14</td>\n",
              "      <td>0</td>\n",
              "      <td>0</td>\n",
              "      <td>14.357853</td>\n",
              "    </tr>\n",
              "    <tr>\n",
              "      <th>77866</th>\n",
              "      <td>1</td>\n",
              "      <td>25</td>\n",
              "      <td>283</td>\n",
              "      <td>2</td>\n",
              "      <td>1</td>\n",
              "      <td>21</td>\n",
              "      <td>0</td>\n",
              "      <td>1</td>\n",
              "      <td>14.214079</td>\n",
              "    </tr>\n",
              "    <tr>\n",
              "      <th>...</th>\n",
              "      <td>...</td>\n",
              "      <td>...</td>\n",
              "      <td>...</td>\n",
              "      <td>...</td>\n",
              "      <td>...</td>\n",
              "      <td>...</td>\n",
              "      <td>...</td>\n",
              "      <td>...</td>\n",
              "      <td>...</td>\n",
              "    </tr>\n",
              "    <tr>\n",
              "      <th>130365</th>\n",
              "      <td>1</td>\n",
              "      <td>68</td>\n",
              "      <td>254</td>\n",
              "      <td>2</td>\n",
              "      <td>3</td>\n",
              "      <td>93</td>\n",
              "      <td>0</td>\n",
              "      <td>1</td>\n",
              "      <td>14.528371</td>\n",
              "    </tr>\n",
              "    <tr>\n",
              "      <th>92303</th>\n",
              "      <td>1</td>\n",
              "      <td>34</td>\n",
              "      <td>284</td>\n",
              "      <td>3</td>\n",
              "      <td>1</td>\n",
              "      <td>20</td>\n",
              "      <td>0</td>\n",
              "      <td>1</td>\n",
              "      <td>13.679998</td>\n",
              "    </tr>\n",
              "    <tr>\n",
              "      <th>6618</th>\n",
              "      <td>0</td>\n",
              "      <td>28</td>\n",
              "      <td>253</td>\n",
              "      <td>2</td>\n",
              "      <td>1</td>\n",
              "      <td>26</td>\n",
              "      <td>0</td>\n",
              "      <td>1</td>\n",
              "      <td>13.986131</td>\n",
              "    </tr>\n",
              "    <tr>\n",
              "      <th>90430</th>\n",
              "      <td>1</td>\n",
              "      <td>50</td>\n",
              "      <td>284</td>\n",
              "      <td>3</td>\n",
              "      <td>2</td>\n",
              "      <td>55</td>\n",
              "      <td>0</td>\n",
              "      <td>1</td>\n",
              "      <td>14.315680</td>\n",
              "    </tr>\n",
              "    <tr>\n",
              "      <th>29828</th>\n",
              "      <td>1</td>\n",
              "      <td>31</td>\n",
              "      <td>255</td>\n",
              "      <td>3</td>\n",
              "      <td>1</td>\n",
              "      <td>25</td>\n",
              "      <td>0</td>\n",
              "      <td>0</td>\n",
              "      <td>14.085102</td>\n",
              "    </tr>\n",
              "  </tbody>\n",
              "</table>\n",
              "<p>184293 rows × 9 columns</p>\n",
              "</div>"
            ],
            "text/plain": [
              "        Gender  Age  ...  Is_Active  Avg_Account_Balance_log\n",
              "188708       0   44  ...          0                13.205711\n",
              "17007        1   50  ...          1                13.701104\n",
              "109929       0   77  ...          0                13.966871\n",
              "81455        0   74  ...          0                14.357853\n",
              "77866        1   25  ...          1                14.214079\n",
              "...        ...  ...  ...        ...                      ...\n",
              "130365       1   68  ...          1                14.528371\n",
              "92303        1   34  ...          1                13.679998\n",
              "6618         0   28  ...          1                13.986131\n",
              "90430        1   50  ...          1                14.315680\n",
              "29828        1   31  ...          0                14.085102\n",
              "\n",
              "[184293 rows x 9 columns]"
            ]
          },
          "metadata": {
            "tags": []
          },
          "execution_count": 164
        }
      ]
    },
    {
      "cell_type": "code",
      "metadata": {
        "id": "8DoGHIrjPfD2",
        "colab": {
          "base_uri": "https://localhost:8080/"
        },
        "outputId": "a3255865-93a0-4f67-d1eb-b90fafe425a2"
      },
      "source": [
        "# %%\n",
        "# getting important features\n",
        "feature_list = x_train.columns\n",
        "imp_feature = {}\n",
        "for feat_name, weight in zip(feature_list, clf_rforest.feature_importances_):\n",
        "    imp_feature[feat_name] = weight\n",
        "\n",
        "\n",
        "for key in imp_feature:\n",
        "    value = round(imp_feature[key],3)*100\n",
        "    print(f'{key} : {value} %')"
      ],
      "execution_count": 264,
      "outputs": [
        {
          "output_type": "stream",
          "text": [
            "Channel_Code_proc_0 : 2.9000000000000004 %\n",
            "Channel_Code_proc_1 : 0.7000000000000001 %\n",
            "Channel_Code_proc_2 : 0.8999999999999999 %\n",
            "Channel_Code_proc_3 : 0.1 %\n",
            "Gender_proc_0 : 0.4 %\n",
            "Gender_proc_1 : 0.4 %\n",
            "Occupation_proc_0 : 0.8 %\n",
            "Occupation_proc_1 : 0.8999999999999999 %\n",
            "Occupation_proc_2 : 2.8000000000000003 %\n",
            "Occupation_proc_3 : 0.5 %\n",
            "Is_Active_proc_0 : 0.7000000000000001 %\n",
            "Is_Active_proc_1 : 0.7000000000000001 %\n",
            "Credit_Product_proc_0 : 0.6 %\n",
            "Credit_Product_proc_1 : 0.5 %\n",
            "Age_Binned_0 : 1.3 %\n",
            "Age_Binned_1 : 1.0 %\n",
            "Age_Binned_2 : 0.3 %\n",
            "Age_box : 18.0 %\n",
            "Avg_Account_Balance_log : 44.4 %\n",
            "Vintage_max : 22.3 %\n"
          ],
          "name": "stdout"
        }
      ]
    },
    {
      "cell_type": "code",
      "metadata": {
        "id": "R5LcthhFRXeJ",
        "colab": {
          "base_uri": "https://localhost:8080/"
        },
        "outputId": "b49ef15c-3a66-4f55-8b54-9a74a86f52a9"
      },
      "source": [
        "# processing x_test\n",
        "x_test = process(dframe= x_test)\n"
      ],
      "execution_count": null,
      "outputs": [
        {
          "output_type": "stream",
          "text": [
            "Region Code Processed Successfully\n",
            "Channel Code Processed Successfully\n",
            "Gender Processed Successfully\n",
            "Occupation Processed Successfully\n",
            "Is Active Processed Successfully\n"
          ],
          "name": "stdout"
        }
      ]
    },
    {
      "cell_type": "code",
      "metadata": {
        "id": "E5-kr0zfJG3E",
        "colab": {
          "base_uri": "https://localhost:8080/",
          "height": 282
        },
        "outputId": "31ab4a1d-9201-42e5-b4ab-2d88c85f107d"
      },
      "source": [
        "x_test['Avg_Account_Balance_log'] = x_test['Avg_Account_Balance'].apply(lambda x: log_transform(x))\n",
        "x_test['Avg_Account_Balance_log'].plot.kde()"
      ],
      "execution_count": null,
      "outputs": [
        {
          "output_type": "execute_result",
          "data": {
            "text/plain": [
              "<matplotlib.axes._subplots.AxesSubplot at 0x7fc58da49390>"
            ]
          },
          "metadata": {
            "tags": []
          },
          "execution_count": 169
        },
        {
          "output_type": "display_data",
          "data": {
            "image/png": "[encoded data removed]",
            "text/plain": [
              "<Figure size 432x288 with 1 Axes>"
            ]
          },
          "metadata": {
            "tags": [],
            "needs_background": "light"
          }
        }
      ]
    },
    {
      "cell_type": "code",
      "metadata": {
        "id": "VOsmPhLdJ0kb",
        "colab": {
          "base_uri": "https://localhost:8080/"
        },
        "outputId": "54aaf6eb-36d3-4611-d883-a7e4fdaabf65"
      },
      "source": [
        "x_test.pop('Avg_Account_Balance')"
      ],
      "execution_count": null,
      "outputs": [
        {
          "output_type": "execute_result",
          "data": {
            "text/plain": [
              "171739    1237838\n",
              "98848      678162\n",
              "184607     343593\n",
              "61725      960701\n",
              "48107     2209273\n",
              "           ...   \n",
              "236899    1914950\n",
              "65610     1052300\n",
              "42881      387123\n",
              "199081     630387\n",
              "104851     336206\n",
              "Name: Avg_Account_Balance, Length: 61432, dtype: int64"
            ]
          },
          "metadata": {
            "tags": []
          },
          "execution_count": 170
        }
      ]
    },
    {
      "cell_type": "code",
      "metadata": {
        "id": "upXTW6SWKCJN",
        "colab": {
          "base_uri": "https://localhost:8080/",
          "height": 419
        },
        "outputId": "0ba1a1d3-fe82-4f7b-fe0b-032becec0b22"
      },
      "source": [
        "x_test"
      ],
      "execution_count": null,
      "outputs": [
        {
          "output_type": "execute_result",
          "data": {
            "text/html": [
              "<div>\n",
              "<style scoped>\n",
              "    .dataframe tbody tr th:only-of-type {\n",
              "        vertical-align: middle;\n",
              "    }\n",
              "\n",
              "    .dataframe tbody tr th {\n",
              "        vertical-align: top;\n",
              "    }\n",
              "\n",
              "    .dataframe thead th {\n",
              "        text-align: right;\n",
              "    }\n",
              "</style>\n",
              "<table border=\"1\" class=\"dataframe\">\n",
              "  <thead>\n",
              "    <tr style=\"text-align: right;\">\n",
              "      <th></th>\n",
              "      <th>Gender</th>\n",
              "      <th>Age</th>\n",
              "      <th>Region_Code</th>\n",
              "      <th>Occupation</th>\n",
              "      <th>Channel_Code</th>\n",
              "      <th>Vintage</th>\n",
              "      <th>Credit_Product</th>\n",
              "      <th>Is_Active</th>\n",
              "      <th>Avg_Account_Balance_log</th>\n",
              "    </tr>\n",
              "  </thead>\n",
              "  <tbody>\n",
              "    <tr>\n",
              "      <th>171739</th>\n",
              "      <td>1</td>\n",
              "      <td>30</td>\n",
              "      <td>274</td>\n",
              "      <td>2</td>\n",
              "      <td>1</td>\n",
              "      <td>33</td>\n",
              "      <td>0</td>\n",
              "      <td>0</td>\n",
              "      <td>14.028877</td>\n",
              "    </tr>\n",
              "    <tr>\n",
              "      <th>98848</th>\n",
              "      <td>0</td>\n",
              "      <td>29</td>\n",
              "      <td>256</td>\n",
              "      <td>3</td>\n",
              "      <td>1</td>\n",
              "      <td>14</td>\n",
              "      <td>0</td>\n",
              "      <td>1</td>\n",
              "      <td>13.427141</td>\n",
              "    </tr>\n",
              "    <tr>\n",
              "      <th>184607</th>\n",
              "      <td>1</td>\n",
              "      <td>29</td>\n",
              "      <td>270</td>\n",
              "      <td>3</td>\n",
              "      <td>1</td>\n",
              "      <td>20</td>\n",
              "      <td>1</td>\n",
              "      <td>0</td>\n",
              "      <td>12.747213</td>\n",
              "    </tr>\n",
              "    <tr>\n",
              "      <th>61725</th>\n",
              "      <td>0</td>\n",
              "      <td>28</td>\n",
              "      <td>268</td>\n",
              "      <td>3</td>\n",
              "      <td>1</td>\n",
              "      <td>15</td>\n",
              "      <td>0</td>\n",
              "      <td>1</td>\n",
              "      <td>13.775419</td>\n",
              "    </tr>\n",
              "    <tr>\n",
              "      <th>48107</th>\n",
              "      <td>0</td>\n",
              "      <td>57</td>\n",
              "      <td>268</td>\n",
              "      <td>3</td>\n",
              "      <td>2</td>\n",
              "      <td>50</td>\n",
              "      <td>0</td>\n",
              "      <td>0</td>\n",
              "      <td>14.608174</td>\n",
              "    </tr>\n",
              "    <tr>\n",
              "      <th>...</th>\n",
              "      <td>...</td>\n",
              "      <td>...</td>\n",
              "      <td>...</td>\n",
              "      <td>...</td>\n",
              "      <td>...</td>\n",
              "      <td>...</td>\n",
              "      <td>...</td>\n",
              "      <td>...</td>\n",
              "      <td>...</td>\n",
              "    </tr>\n",
              "    <tr>\n",
              "      <th>236899</th>\n",
              "      <td>0</td>\n",
              "      <td>65</td>\n",
              "      <td>283</td>\n",
              "      <td>2</td>\n",
              "      <td>3</td>\n",
              "      <td>91</td>\n",
              "      <td>0</td>\n",
              "      <td>1</td>\n",
              "      <td>14.465202</td>\n",
              "    </tr>\n",
              "    <tr>\n",
              "      <th>65610</th>\n",
              "      <td>1</td>\n",
              "      <td>28</td>\n",
              "      <td>250</td>\n",
              "      <td>3</td>\n",
              "      <td>1</td>\n",
              "      <td>13</td>\n",
              "      <td>1</td>\n",
              "      <td>0</td>\n",
              "      <td>13.866489</td>\n",
              "    </tr>\n",
              "    <tr>\n",
              "      <th>42881</th>\n",
              "      <td>1</td>\n",
              "      <td>27</td>\n",
              "      <td>266</td>\n",
              "      <td>3</td>\n",
              "      <td>1</td>\n",
              "      <td>19</td>\n",
              "      <td>0</td>\n",
              "      <td>0</td>\n",
              "      <td>12.866498</td>\n",
              "    </tr>\n",
              "    <tr>\n",
              "      <th>199081</th>\n",
              "      <td>0</td>\n",
              "      <td>43</td>\n",
              "      <td>276</td>\n",
              "      <td>1</td>\n",
              "      <td>2</td>\n",
              "      <td>68</td>\n",
              "      <td>0</td>\n",
              "      <td>1</td>\n",
              "      <td>13.354089</td>\n",
              "    </tr>\n",
              "    <tr>\n",
              "      <th>104851</th>\n",
              "      <td>0</td>\n",
              "      <td>38</td>\n",
              "      <td>280</td>\n",
              "      <td>1</td>\n",
              "      <td>4</td>\n",
              "      <td>15</td>\n",
              "      <td>0</td>\n",
              "      <td>1</td>\n",
              "      <td>12.725479</td>\n",
              "    </tr>\n",
              "  </tbody>\n",
              "</table>\n",
              "<p>61432 rows × 9 columns</p>\n",
              "</div>"
            ],
            "text/plain": [
              "        Gender  Age  ...  Is_Active  Avg_Account_Balance_log\n",
              "171739       1   30  ...          0                14.028877\n",
              "98848        0   29  ...          1                13.427141\n",
              "184607       1   29  ...          0                12.747213\n",
              "61725        0   28  ...          1                13.775419\n",
              "48107        0   57  ...          0                14.608174\n",
              "...        ...  ...  ...        ...                      ...\n",
              "236899       0   65  ...          1                14.465202\n",
              "65610        1   28  ...          0                13.866489\n",
              "42881        1   27  ...          0                12.866498\n",
              "199081       0   43  ...          1                13.354089\n",
              "104851       0   38  ...          1                12.725479\n",
              "\n",
              "[61432 rows x 9 columns]"
            ]
          },
          "metadata": {
            "tags": []
          },
          "execution_count": 174
        }
      ]
    },
    {
      "cell_type": "code",
      "metadata": {
        "id": "czWQYu5LRMM7"
      },
      "source": [
        "y_hat_rforest = clf_rforest.predict(x_test)\n",
        "y_hat_rf_proba = clf_rforest.predict_proba(x_test)"
      ],
      "execution_count": null,
      "outputs": []
    },
    {
      "cell_type": "code",
      "metadata": {
        "id": "a6rvtj70SmAn",
        "colab": {
          "base_uri": "https://localhost:8080/"
        },
        "outputId": "6d82d7ee-4b35-4f1d-bdbb-590ad38ff6c4"
      },
      "source": [
        "accuracy = accuracy_score(y_true=y_test, y_pred=y_hat_rforest)\n",
        "print(accuracy)"
      ],
      "execution_count": null,
      "outputs": [
        {
          "output_type": "stream",
          "text": [
            "0.7775589269436124\n"
          ],
          "name": "stdout"
        }
      ]
    },
    {
      "cell_type": "code",
      "metadata": {
        "id": "IPSqyWEXS8h4",
        "colab": {
          "base_uri": "https://localhost:8080/",
          "height": 296
        },
        "outputId": "97d194a7-79ec-4310-ac67-94724298a1ed"
      },
      "source": [
        "plot_confusion_matrix(estimator= clf_rforest,X=x_test, y_true=y_test, values_format= '.3f')"
      ],
      "execution_count": null,
      "outputs": [
        {
          "output_type": "execute_result",
          "data": {
            "text/plain": [
              "<sklearn.metrics._plot.confusion_matrix.ConfusionMatrixDisplay at 0x7fc58dacf6d0>"
            ]
          },
          "metadata": {
            "tags": []
          },
          "execution_count": 176
        },
        {
          "output_type": "display_data",
          "data": {
            "image/png": "[encoded data removed]",
            "text/plain": [
              "<Figure size 432x288 with 2 Axes>"
            ]
          },
          "metadata": {
            "tags": [],
            "needs_background": "light"
          }
        }
      ]
    },
    {
      "cell_type": "code",
      "metadata": {
        "id": "NAG5fgiXUNtB",
        "colab": {
          "base_uri": "https://localhost:8080/"
        },
        "outputId": "7ebef670-b910-419f-88e1-d1fafb296cd7"
      },
      "source": [
        "roc_auc_score(y_true=y_test, y_score=y_hat_rf_proba[:,1])"
      ],
      "execution_count": null,
      "outputs": [
        {
          "output_type": "execute_result",
          "data": {
            "text/plain": [
              "0.7564351520185456"
            ]
          },
          "metadata": {
            "tags": []
          },
          "execution_count": 178
        }
      ]
    },
    {
      "cell_type": "code",
      "metadata": {
        "id": "XKH0ycaoVLej",
        "colab": {
          "base_uri": "https://localhost:8080/",
          "height": 296
        },
        "outputId": "314978f0-edb6-4ce5-f861-8b01b47970a7"
      },
      "source": [
        "plot_roc_curve(clf_rforest, X=x_test, y=y_test)"
      ],
      "execution_count": null,
      "outputs": [
        {
          "output_type": "execute_result",
          "data": {
            "text/plain": [
              "<sklearn.metrics._plot.roc_curve.RocCurveDisplay at 0x7f2151d2b590>"
            ]
          },
          "metadata": {
            "tags": []
          },
          "execution_count": 16
        },
        {
          "output_type": "display_data",
          "data": {
            "image/png": "[encoded data removed]",
            "text/plain": [
              "<Figure size 432x288 with 1 Axes>"
            ]
          },
          "metadata": {
            "tags": [],
            "needs_background": "light"
          }
        }
      ]
    },
    {
      "cell_type": "code",
      "metadata": {
        "id": "6Ho5N0s1ZOGS"
      },
      "source": [
        "from sklearn.linear_model import LogisticRegression"
      ],
      "execution_count": null,
      "outputs": []
    },
    {
      "cell_type": "code",
      "metadata": {
        "id": "-LyMeiUCYthB"
      },
      "source": [
        "\n",
        "# using logistic_regression\n",
        "clf_logistic = LogisticRegression()\n",
        "clf_logistic.fit(x_train, y_train)\n",
        "y_hat_logistic = clf_logistic.predict(x_test)"
      ],
      "execution_count": null,
      "outputs": []
    },
    {
      "cell_type": "code",
      "metadata": {
        "id": "hDPUHhsven15"
      },
      "source": [
        "import matplotlib\n",
        "from matplotlib import pyplot as plt"
      ],
      "execution_count": null,
      "outputs": []
    },
    {
      "cell_type": "code",
      "metadata": {
        "id": "pcJBfuVdZdOd"
      },
      "source": [
        "def metrics(Pred, Classifier, X_Test=x_test, labels=y_test):\n",
        "  # prints different metrics\n",
        "  accuracy = accuracy_score(y_true=labels, y_pred=Pred)\n",
        "  roc_auc = roc_auc_score(y_true=labels, y_score=Pred)\n",
        "  print(f'Accuracy: {accuracy} \\n ROC_AUC_Score: {roc_auc}')\n",
        "  \n",
        "  \n",
        "  \n",
        "  plot_confusion_matrix(estimator= Classifier,X=X_Test, y_true=labels, values_format= '.3f')\n",
        "\n",
        "  \n",
        "  plot_roc_curve(Classifier, X=X_Test, y=labels)\n",
        "\n",
        "  return accuracy, roc_auc_score\n",
        "\n"
      ],
      "execution_count": null,
      "outputs": []
    },
    {
      "cell_type": "code",
      "metadata": {
        "id": "Y7WWItKEhSqv",
        "colab": {
          "base_uri": "https://localhost:8080/",
          "height": 592
        },
        "outputId": "c1b53999-bdbf-4d19-e83e-e8b9d8a59f21"
      },
      "source": [
        "metrics(y_hat_rforest,clf_rforest)"
      ],
      "execution_count": null,
      "outputs": [
        {
          "output_type": "stream",
          "text": [
            "Accuracy: 0.7775589269436124 \n",
            " ROC_AUC_Score: 0.6171801889192811\n"
          ],
          "name": "stdout"
        },
        {
          "output_type": "execute_result",
          "data": {
            "text/plain": [
              "(0.7775589269436124, <function sklearn.metrics._ranking.roc_auc_score>)"
            ]
          },
          "metadata": {
            "tags": []
          },
          "execution_count": 79
        },
        {
          "output_type": "display_data",
          "data": {
            "image/png": "[encoded data removed]",
            "text/plain": [
              "<Figure size 432x288 with 2 Axes>"
            ]
          },
          "metadata": {
            "tags": [],
            "needs_background": "light"
          }
        },
        {
          "output_type": "display_data",
          "data": {
            "image/png": "[encoded data removed]",
            "text/plain": [
              "<Figure size 432x288 with 1 Axes>"
            ]
          },
          "metadata": {
            "tags": [],
            "needs_background": "light"
          }
        }
      ]
    },
    {
      "cell_type": "code",
      "metadata": {
        "id": "X685JF6mhuix",
        "colab": {
          "base_uri": "https://localhost:8080/",
          "height": 592
        },
        "outputId": "15259ac7-9f5b-4b40-9902-e97abf8ce1f7"
      },
      "source": [
        "threshold = 0.3\n",
        "predicted = (y_hat_rf_proba [:,1] >= threshold).astype('int')\n",
        "metrics(predicted,clf_rforest)"
      ],
      "execution_count": null,
      "outputs": [
        {
          "output_type": "stream",
          "text": [
            "Accuracy: 0.7177041281416852 \n",
            " ROC_AUC_Score: 0.6854151417165041\n"
          ],
          "name": "stdout"
        },
        {
          "output_type": "execute_result",
          "data": {
            "text/plain": [
              "(0.7177041281416852, <function sklearn.metrics._ranking.roc_auc_score>)"
            ]
          },
          "metadata": {
            "tags": []
          },
          "execution_count": 23
        },
        {
          "output_type": "display_data",
          "data": {
            "image/png": "[encoded data removed]",
            "text/plain": [
              "<Figure size 432x288 with 2 Axes>"
            ]
          },
          "metadata": {
            "tags": [],
            "needs_background": "light"
          }
        },
        {
          "output_type": "display_data",
          "data": {
            "image/png": "[encoded data removed]",
            "text/plain": [
              "<Figure size 432x288 with 1 Axes>"
            ]
          },
          "metadata": {
            "tags": [],
            "needs_background": "light"
          }
        }
      ]
    },
    {
      "cell_type": "code",
      "metadata": {
        "id": "9uU1xoN2kzQo"
      },
      "source": [
        "from sklearn.svm import SVC"
      ],
      "execution_count": null,
      "outputs": []
    },
    {
      "cell_type": "code",
      "metadata": {
        "id": "jyIsWwIqlCye"
      },
      "source": [
        "clf_svc = SVC(kernel='poly',degree=3 ,random_state= 25)\n",
        "clf_svc.fit(x_test, y_test)\n",
        "y_hat_svc = clf_svc.predict(x_test)\n"
      ],
      "execution_count": null,
      "outputs": []
    },
    {
      "cell_type": "code",
      "metadata": {
        "id": "AJ3ZoGUFnapw",
        "colab": {
          "base_uri": "https://localhost:8080/",
          "height": 592
        },
        "outputId": "422c07bf-07d2-4770-de3a-b093c0d8d256"
      },
      "source": [
        "metrics(y_hat_svc,clf_svc)"
      ],
      "execution_count": null,
      "outputs": [
        {
          "output_type": "stream",
          "text": [
            "Accuracy: 0.7623551243651517 \n",
            " ROC_AUC_Score: 0.5\n"
          ],
          "name": "stdout"
        },
        {
          "output_type": "execute_result",
          "data": {
            "text/plain": [
              "(0.7623551243651517, <function sklearn.metrics._ranking.roc_auc_score>)"
            ]
          },
          "metadata": {
            "tags": []
          },
          "execution_count": 26
        },
        {
          "output_type": "display_data",
          "data": {
            "image/png": "[encoded data removed]",
            "text/plain": [
              "<Figure size 432x288 with 2 Axes>"
            ]
          },
          "metadata": {
            "tags": [],
            "needs_background": "light"
          }
        },
        {
          "output_type": "display_data",
          "data": {
            "image/png": "[encoded data removed]",
            "text/plain": [
              "<Figure size 432x288 with 1 Axes>"
            ]
          },
          "metadata": {
            "tags": [],
            "needs_background": "light"
          }
        }
      ]
    },
    {
      "cell_type": "code",
      "metadata": {
        "id": "NqnzNZHcqgI6"
      },
      "source": [
        "\n",
        "label_name = [1,0]\n",
        "fig, axes = plt.subplots(nrows = 1,ncols = 1,figsize = (4,4), dpi=800)\n",
        "tree.plot_tree(clf_rforest.estimators_[0],\n",
        "               feature_names = feature_list, \n",
        "               class_names=label_name,\n",
        "               filled = True);\n",
        "\n",
        "fig.savefig('rf_individualtree.png')"
      ],
      "execution_count": null,
      "outputs": []
    }
  ]
}