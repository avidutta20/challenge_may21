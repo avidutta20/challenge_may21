{
  "nbformat": 4,
  "nbformat_minor": 0,
  "metadata": {
    "colab": {
      "name": "model.ipynb",
      "provenance": [],
      "authorship_tag": "ABX9TyOd7vliWtjh204qPtvwPhO+"
    },
    "kernelspec": {
      "name": "python3",
      "display_name": "Python 3"
    },
    "language_info": {
      "name": "python"
    }
  },
  "cells": [
    {
      "cell_type": "code",
      "metadata": {
        "id": "nMZwLWfkdGJM"
      },
      "source": [
        "import pandas as pd\n",
        "import numpy as np\n",
        "from sklearn.model_selection import train_test_split\n",
        "from sklearn.ensemble import RandomForestClassifier\n",
        "import os, sys\n",
        "from collections import defaultdict\n",
        "from sklearn.metrics import accuracy_score, roc_auc_score, confusion_matrix, plot_roc_curve,plot_confusion_matrix"
      ],
      "execution_count": 10,
      "outputs": []
    },
    {
      "cell_type": "code",
      "metadata": {
        "id": "HcQMmj29dK9a",
        "colab": {
          "base_uri": "https://localhost:8080/"
        },
        "outputId": "ae2679d1-ac56-4038-f231-845479007461"
      },
      "source": [
        "!git clone https://github.com/avidutta20/challenge_may21"
      ],
      "execution_count": 2,
      "outputs": [
        {
          "output_type": "stream",
          "text": [
            "Cloning into 'challenge_may21'...\n",
            "remote: Enumerating objects: 40, done.\u001b[K\n",
            "remote: Counting objects: 100% (40/40), done.\u001b[K\n",
            "remote: Compressing objects: 100% (32/32), done.\u001b[K\n",
            "remote: Total 40 (delta 13), reused 26 (delta 6), pack-reused 0\u001b[K\n",
            "Unpacking objects: 100% (40/40), done.\n"
          ],
          "name": "stdout"
        }
      ]
    },
    {
      "cell_type": "code",
      "metadata": {
        "id": "haRwSb0mPy_G"
      },
      "source": [
        "os.chdir('/content/challenge_may21/')"
      ],
      "execution_count": 3,
      "outputs": []
    },
    {
      "cell_type": "code",
      "metadata": {
        "id": "plg9bXaRehuG"
      },
      "source": [
        "def load_data():\n",
        "    pass\n",
        "df = pd.read_csv('dataset/av_jobathon_may21_train.csv')\n",
        "\n",
        "# creating a list of all trainable features name\n",
        "feature_list = df.columns[1:10]\n",
        "target = df.columns[10]  # 'Is_Lead' column name\n",
        "\n",
        "# splitting into train & test\n",
        "x_train, x_test, y_train, y_test = train_test_split(df[feature_list], df[target], test_size=0.25, random_state=25)\n"
      ],
      "execution_count": 4,
      "outputs": []
    },
    {
      "cell_type": "code",
      "metadata": {
        "id": "3fMBaZ_khDH5"
      },
      "source": [
        "def execute_process(dframe, colname,func,arg1):\n",
        "    dframe[colname] = dframe[colname].apply(lambda x: func(x,arg1))\n",
        "    return dframe\n",
        "def extract_process(value,index):\n",
        "    value = int(value[index:])\n",
        "    return value\n",
        "\n",
        "def replace_values(value, value_dic):\n",
        "    # replaces any value in the dframe colname with given dict\n",
        "    return value_dic[value]\n",
        "\n",
        "\n",
        "def default_value():\n",
        "    return 0"
      ],
      "execution_count": 5,
      "outputs": []
    },
    {
      "cell_type": "code",
      "metadata": {
        "id": "rYm1nJDjPReG"
      },
      "source": [
        "gender_dic = is_active_dic = occupation_dic = defaultdict(default_value)\n",
        "#%%\n",
        "gender_dic = {'Male': 0,\n",
        "                'Female': 1}\n",
        "is_active_dic = {'Yes': 1,\n",
        "                 'No': 0}\n",
        "\n",
        "occupation_dic = {'Self_Employed': 1,\n",
        "                     'Other': 2,\n",
        "                     'Salaried': 3,\n",
        "                     'Entrepreneur': 4}"
      ],
      "execution_count": 6,
      "outputs": []
    },
    {
      "cell_type": "code",
      "metadata": {
        "id": "g_OHHTtoRi_T"
      },
      "source": [
        ""
      ],
      "execution_count": null,
      "outputs": []
    },
    {
      "cell_type": "code",
      "metadata": {
        "id": "lexy3zOyikaM"
      },
      "source": [
        "def process(dframe, default_func = default_value):\n",
        "\n",
        "  gender_dic = is_active_dic = occupation_dic = defaultdict(default_value)\n",
        "  \n",
        "  gender_dic = {'Male': 0,\n",
        "                  'Female': 1}\n",
        "  is_active_dic = {'Yes': 1,\n",
        "                  'No': 0}\n",
        "\n",
        "  occupation_dic = {'Self_Employed': 1,\n",
        "                      'Other': 2,\n",
        "                      'Salaried': 3,\n",
        "                      'Entrepreneur': 4}\n",
        "\n",
        "  execute_process(dframe,'Region_Code', extract_process, 2)\n",
        "  print('Region Code Processed Successfully')\n",
        "\n",
        "  execute_process(dframe,'Channel_Code', extract_process, 1)\n",
        "  print('Channel Code Processed Successfully')\n",
        "\n",
        "  execute_process(dframe,'Gender', replace_values, gender_dic)\n",
        "  print('Gender Processed Successfully')\n",
        "\n",
        "  execute_process(dframe,'Occupation', replace_values, occupation_dic)\n",
        "  print('Occupation Processed Successfully')\n",
        "\n",
        "  execute_process(dframe,'Is_Active',replace_values, is_active_dic)\n",
        "  print('Is Active Processed Successfully')\n",
        "\n",
        "  dframe['Credit_Product'] = dframe['Credit_Product'].fillna('No')\n",
        "  execute_process(dframe,'Credit_Product',replace_values, is_active_dic)\n",
        "  return dframe"
      ],
      "execution_count": 11,
      "outputs": []
    },
    {
      "cell_type": "code",
      "metadata": {
        "id": "3eCRcw27jkPi",
        "outputId": "b6e7cada-8089-4ea5-8e07-8e0c528628e4",
        "colab": {
          "base_uri": "https://localhost:8080/"
        }
      },
      "source": [
        "# %% Implementing Random Forests\n",
        "\n",
        "clf_rforest = RandomForestClassifier(ccp_alpha)\n",
        "clf_rforest.fit(x_train, y_train)"
      ],
      "execution_count": 8,
      "outputs": [
        {
          "output_type": "execute_result",
          "data": {
            "text/plain": [
              "RandomForestClassifier(bootstrap=True, ccp_alpha=0.0, class_weight=None,\n",
              "                       criterion='gini', max_depth=None, max_features='auto',\n",
              "                       max_leaf_nodes=None, max_samples=None,\n",
              "                       min_impurity_decrease=0.0, min_impurity_split=None,\n",
              "                       min_samples_leaf=1, min_samples_split=2,\n",
              "                       min_weight_fraction_leaf=0.0, n_estimators=100,\n",
              "                       n_jobs=None, oob_score=False, random_state=None,\n",
              "                       verbose=0, warm_start=False)"
            ]
          },
          "metadata": {
            "tags": []
          },
          "execution_count": 8
        }
      ]
    },
    {
      "cell_type": "code",
      "metadata": {
        "id": "-GK1cXymXFKE"
      },
      "source": [
        ""
      ],
      "execution_count": null,
      "outputs": []
    },
    {
      "cell_type": "code",
      "metadata": {
        "id": "8DoGHIrjPfD2",
        "outputId": "67ce6a2c-3a4e-4447-f9a7-8a348d01a831",
        "colab": {
          "base_uri": "https://localhost:8080/"
        }
      },
      "source": [
        "# %%\n",
        "# getting important features\n",
        "imp_feature = {}\n",
        "for feat_name, weight in zip(feature_list, clf_rforest.feature_importances_):\n",
        "    imp_feature[feat_name] = weight\n",
        "\n",
        "\n",
        "for key in imp_feature:\n",
        "    print(f'{key} : {round(imp_feature[key],5)*100}')"
      ],
      "execution_count": 9,
      "outputs": [
        {
          "output_type": "stream",
          "text": [
            "Gender : 1.9349999999999998\n",
            "Age : 19.601\n",
            "Region_Code : 13.320000000000002\n",
            "Occupation : 5.315\n",
            "Channel_Code : 5.958\n",
            "Vintage : 19.691\n",
            "Credit_Product : 1.313\n",
            "Avg_Account_Balance : 31.137999999999998\n",
            "Is_Active : 1.729\n"
          ],
          "name": "stdout"
        }
      ]
    },
    {
      "cell_type": "code",
      "metadata": {
        "id": "R5LcthhFRXeJ",
        "outputId": "21e30491-e8ce-45a3-d9fb-f171e62991d0",
        "colab": {
          "base_uri": "https://localhost:8080/"
        }
      },
      "source": [
        "# processing x_test\n",
        "x_test = process(dframe= x_test)"
      ],
      "execution_count": 12,
      "outputs": [
        {
          "output_type": "stream",
          "text": [
            "Region Code Processed Successfully\n",
            "Channel Code Processed Successfully\n",
            "Gender Processed Successfully\n",
            "Occupation Processed Successfully\n",
            "Is Active Processed Successfully\n"
          ],
          "name": "stdout"
        }
      ]
    },
    {
      "cell_type": "code",
      "metadata": {
        "id": "czWQYu5LRMM7"
      },
      "source": [
        "y_pred = clf_rforest.predict(x_test)\n",
        "y_pred_proba = clf_rforest.predict_proba(x_test)"
      ],
      "execution_count": 26,
      "outputs": []
    },
    {
      "cell_type": "code",
      "metadata": {
        "id": "a6rvtj70SmAn",
        "outputId": "d927b1a3-6182-422f-d4d4-53ac28fd88e2",
        "colab": {
          "base_uri": "https://localhost:8080/"
        }
      },
      "source": [
        "accuracy = accuracy_score(y_true=y_test, y_pred=y_pred)\n",
        "print(accuracy)"
      ],
      "execution_count": 29,
      "outputs": [
        {
          "output_type": "stream",
          "text": [
            "0.7780472717801797\n"
          ],
          "name": "stdout"
        }
      ]
    },
    {
      "cell_type": "code",
      "metadata": {
        "id": "IPSqyWEXS8h4",
        "outputId": "cb522188-5c67-43ce-f40a-982c6124d112",
        "colab": {
          "base_uri": "https://localhost:8080/",
          "height": 297
        }
      },
      "source": [
        "plot_confusion_matrix(estimator= clf_rforest,X=x_test, y_true=y_test, values_format= '.3f')"
      ],
      "execution_count": 20,
      "outputs": [
        {
          "output_type": "execute_result",
          "data": {
            "text/plain": [
              "<sklearn.metrics._plot.confusion_matrix.ConfusionMatrixDisplay at 0x7fcc3af7cd50>"
            ]
          },
          "metadata": {
            "tags": []
          },
          "execution_count": 20
        },
        {
          "output_type": "display_data",
          "data": {
            "image/png": "[encoded data removed]",
            "text/plain": [
              "<Figure size 432x288 with 2 Axes>"
            ]
          },
          "metadata": {
            "tags": [],
            "needs_background": "light"
          }
        }
      ]
    },
    {
      "cell_type": "code",
      "metadata": {
        "id": "NAG5fgiXUNtB",
        "outputId": "7390cdba-0e56-4afd-b05b-fb038264bd98",
        "colab": {
          "base_uri": "https://localhost:8080/"
        }
      },
      "source": [
        "roc_auc_score(y_true=y_test, y_score=y_pred_proba[:,1])"
      ],
      "execution_count": 30,
      "outputs": [
        {
          "output_type": "execute_result",
          "data": {
            "text/plain": [
              "0.7557598676935209"
            ]
          },
          "metadata": {
            "tags": []
          },
          "execution_count": 30
        }
      ]
    },
    {
      "cell_type": "code",
      "metadata": {
        "id": "XKH0ycaoVLej",
        "outputId": "d0fe9a8c-c2cb-4067-8a92-498b10221dbf",
        "colab": {
          "base_uri": "https://localhost:8080/",
          "height": 297
        }
      },
      "source": [
        "plot_roc_curve(clf_rforest, X=x_test, y=y_test)"
      ],
      "execution_count": 32,
      "outputs": [
        {
          "output_type": "execute_result",
          "data": {
            "text/plain": [
              "<sklearn.metrics._plot.roc_curve.RocCurveDisplay at 0x7fcc221ec890>"
            ]
          },
          "metadata": {
            "tags": []
          },
          "execution_count": 32
        },
        {
          "output_type": "display_data",
          "data": {
            "image/png": "[encoded data removed]",
            "text/plain": [
              "<Figure size 432x288 with 1 Axes>"
            ]
          },
          "metadata": {
            "tags": [],
            "needs_background": "light"
          }
        }
      ]
    },
    {
      "cell_type": "code",
      "metadata": {
        "id": "6Ho5N0s1ZOGS"
      },
      "source": [
        "from sklearn.linear_model import LogisticRegression"
      ],
      "execution_count": 33,
      "outputs": []
    },
    {
      "cell_type": "code",
      "metadata": {
        "id": "-LyMeiUCYthB",
        "outputId": "76ff01c5-9090-4122-a974-1e172c939a54",
        "colab": {
          "base_uri": "https://localhost:8080/"
        }
      },
      "source": [
        "\n",
        "# using logistic_regression\n",
        "clf_logistic = LogisticRegression()\n",
        "clf_logistic.fit(x_train, y_train)\n",
        "y_hat_logistic = "
      ],
      "execution_count": 34,
      "outputs": [
        {
          "output_type": "execute_result",
          "data": {
            "text/plain": [
              "LogisticRegression(C=1.0, class_weight=None, dual=False, fit_intercept=True,\n",
              "                   intercept_scaling=1, l1_ratio=None, max_iter=100,\n",
              "                   multi_class='auto', n_jobs=None, penalty='l2',\n",
              "                   random_state=None, solver='lbfgs', tol=0.0001, verbose=0,\n",
              "                   warm_start=False)"
            ]
          },
          "metadata": {
            "tags": []
          },
          "execution_count": 34
        }
      ]
    },
    {
      "cell_type": "code",
      "metadata": {
        "id": "pcJBfuVdZdOd"
      },
      "source": [
        ""
      ],
      "execution_count": null,
      "outputs": []
    }
  ]
}